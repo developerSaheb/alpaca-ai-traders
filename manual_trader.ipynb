{
 "cells": [
  {
   "cell_type": "code",
   "execution_count": null,
   "metadata": {
    "pycharm": {
     "is_executing": false,
     "name": "#%%\n"
    },
    "scrolled": false
   },
   "outputs": [],
   "source": [
    "# start here by entering a ticker symbol\n",
    "ticker = \"XXII\"\n",
    "# number of weeks to look back\n",
    "weeks = 13\n",
    "# and watch the magic happen below...\n",
    "from nltk.sentiment.vader import SentimentIntensityAnalyzer\n",
    "from empyrical import roll_max_drawdown, alpha, beta\n",
    "from sklearn.preprocessing import MinMaxScaler\n",
    "from src.asset_selector import AssetSelector\n",
    "from src.indicators import Indicators\n",
    "from util import time_formatter, df2csv\n",
    "from src.predictor import Predictor\n",
    "from sklearn.cluster import KMeans\n",
    "import alpaca_trade_api as tradeapi\n",
    "import matplotlib.pyplot as plt\n",
    "import plotly.graph_objs as go\n",
    "import plotly.offline as py\n",
    "import pandas as pd\n",
    "import numpy as np\n",
    "import configparser\n",
    "import requests\n",
    "import json\n",
    "import time\n",
    "import sys\n",
    "import os\n",
    "backdate = time_formatter(time.time() - (604800 * weeks))\n",
    "config = configparser.ConfigParser()\n",
    "try:\n",
    "    config.read(os.path.relpath(\"config.ini\"))\n",
    "except FileExistsError as e:\n",
    "    print(\"FileExistsError: {}\".format(e))\n",
    "    sys.exit(1)\n",
    "alpaca_api = tradeapi.REST(\n",
    "    base_url    = config[\"alpaca\"][\"APCA_API_BASE_URL\"],\n",
    "    key_id      = config[\"alpaca\"][\"APCA_API_KEY_ID\"],\n",
    "    secret_key  = config[\"alpaca\"][\"APCA_API_SECRET_KEY\"],\n",
    "    api_version = config[\"alpaca\"][\"VERSION\"]\n",
    ")\n",
    "trading_account = alpaca_api.get_account()\n",
    "\n",
    "selector            = AssetSelector(alpaca_api, edgar_token=None)\n",
    "indicators          = Indicators(alpaca_api)\n",
    "scaler              = MinMaxScaler()\n",
    "day_bars            = selector.get_barset(ticker, \"day\", backdate)\n",
    "day_bars            = selector.extract_bar_data(day_bars, ticker)\n",
    "minute_bars         = selector.get_barset(ticker, \"minute\", backdate)\n",
    "minute_bars         = selector.extract_bar_data(minute_bars, ticker)\n",
    "day_spy_bars        = selector.get_barset(\"SPY\", \"1D\", backdate)\n",
    "day_spy_bars        = selector.extract_bar_data(day_spy_bars, \"SPY\")\n",
    "minute_spy_bars     = selector.get_barset(\"SPY\", \"minute\", backdate)\n",
    "minute_spy_bars     = selector.extract_bar_data(minute_spy_bars, \"SPY\")\n",
    "ticker_cluster      = indicators.cluster_prep(ticker)\n",
    "ticker_cluster[\"spy_day_close\"] = day_spy_bars[\"close\"]"
   ]
  },
  {
   "cell_type": "code",
   "execution_count": null,
   "metadata": {},
   "outputs": [],
   "source": [
    "# testing csv output function\n",
    "df2csv(day_bars, ticker)"
   ]
  },
  {
   "cell_type": "code",
   "execution_count": null,
   "metadata": {},
   "outputs": [],
   "source": [
    "df2csv(day_spy_bars, \"SPY\")"
   ]
  },
  {
   "cell_type": "code",
   "execution_count": null,
   "metadata": {},
   "outputs": [],
   "source": [
    "df2csv(minute_bars, ticker)"
   ]
  },
  {
   "cell_type": "code",
   "execution_count": null,
   "outputs": [],
   "source": [
    "ticker_cluster.iloc[-1]"
   ],
   "metadata": {
    "collapsed": false,
    "pycharm": {
     "name": "#%%\n"
    }
   }
  },
  {
   "cell_type": "markdown",
   "metadata": {
    "pycharm": {
     "name": "#%% md\n"
    }
   },
   "source": [
    "# Time to start using the most recent values of these indicators to make some trade decisions!!!!"
   ]
  },
  {
   "cell_type": "code",
   "execution_count": null,
   "metadata": {},
   "outputs": [],
   "source": [
    "# Normalizing, reshaping and scaling the dataframe \n",
    "# TODO: factor this out into a util function\n",
    "open = np.array(ticker_cluster[\"open\"])\n",
    "open = open.reshape(-1,1)\n",
    "ticker_cluster[\"open\"] = scaler.fit_transform(open)\n",
    "\n",
    "high = np.array(ticker_cluster[\"high\"])\n",
    "high = high.reshape(-1,1)\n",
    "ticker_cluster[\"high\"] = scaler.fit_transform(high)\n",
    "\n",
    "low = np.array(ticker_cluster[\"low\"])\n",
    "low = low.reshape(-1,1)\n",
    "ticker_cluster[\"low\"] = scaler.fit_transform(low)\n",
    "\n",
    "close = np.array(ticker_cluster[\"close\"])\n",
    "close = close.reshape(-1,1)\n",
    "ticker_cluster[\"close\"] = scaler.fit_transform(close)\n",
    "\n",
    "volume = np.array(ticker_cluster[\"volume\"])\n",
    "volume = volume.reshape(-1,1)\n",
    "ticker_cluster[\"volume\"] = scaler.fit_transform(volume)\n",
    "\n",
    "macd = np.array(ticker_cluster[\"macd\"])\n",
    "macd = macd.reshape(-1,1)\n",
    "ticker_cluster[\"macd\"] = scaler.fit_transform(macd)\n",
    "\n",
    "signal = np.array(ticker_cluster[\"signal\"])\n",
    "signal = signal.reshape(-1,1)\n",
    "ticker_cluster[\"signal\"] = scaler.fit_transform(signal)\n",
    "\n",
    "vzo = np.array(ticker_cluster[\"vzo\"])\n",
    "vzo = vzo.reshape(-1, 1)\n",
    "ticker_cluster[\"vzo\"] = scaler.fit_transform(vzo)\n",
    "\n",
    "mfi = np.array(ticker_cluster[\"mfi\"])\n",
    "mfi = mfi.reshape(-1, 1)\n",
    "ticker_cluster[\"mfi\"] = scaler.fit_transform(mfi)\n",
    "\n",
    "vzo = np.array(ticker_cluster[\"vzo\"])\n",
    "vzo = vzo.reshape(-1, 1)\n",
    "ticker_cluster[\"vzo\"] = scaler.fit_transform(vzo)\n",
    "\n",
    "dmp = np.array(ticker_cluster[\"DMp\"])\n",
    "dmp = dmp.reshape(-1, 1)\n",
    "ticker_cluster[\"DMp\"] = scaler.fit_transform(dmp)\n",
    "\n",
    "dmm = np.array(ticker_cluster[\"DMm\"])\n",
    "dmm = dmm.reshape(-1, 1)\n",
    "ticker_cluster[\"DMm\"] = scaler.fit_transform(dmm)\n",
    "\n",
    "bb_up = np.array(ticker_cluster[\"bb_up\"])\n",
    "bb_up = bb_up.reshape(-1, 1)\n",
    "ticker_cluster[\"bb_up\"] = scaler.fit_transform(bb_up)\n",
    "\n",
    "bb_mid = np.array(ticker_cluster[\"bb_mid\"])\n",
    "bb_mid = bb_mid.reshape(-1, 1)\n",
    "ticker_cluster[\"bb_mid\"] = scaler.fit_transform(bb_mid)\n",
    "\n",
    "bb_low = np.array(ticker_cluster[\"bb_low\"])\n",
    "bb_low = bb_low.reshape(-1, 1)\n",
    "ticker_cluster[\"bb_low\"] = scaler.fit_transform(bb_low)\n",
    "\n",
    "apz_u = np.array(ticker_cluster[\"apz_u\"])\n",
    "apz_u = apz_u.reshape(-1, 1)\n",
    "ticker_cluster[\"apz_u\"] = scaler.fit_transform(apz_u)\n",
    "\n",
    "apz_l = np.array(ticker_cluster[\"apz_l\"])\n",
    "apz_l = apz_l.reshape(-1, 1)\n",
    "ticker_cluster[\"apz_l\"] = scaler.fit_transform(apz_l)\n",
    "\n",
    "stoch = np.array(ticker_cluster[\"stoch\"])\n",
    "stoch = stoch.reshape(-1, 1)\n",
    "ticker_cluster[\"stoch\"] = scaler.fit_transform(stoch)\n",
    "\n",
    "spy_day_close = np.array(ticker_cluster[\"spy_day_close\"])\n",
    "spy_day_close = spy_day_close.reshape(-1,1)\n",
    "ticker_cluster[\"spy_day_close\"] = scaler.fit_transform(spy_day_close)"
   ]
  },
  {
   "cell_type": "markdown",
   "metadata": {
    "pycharm": {
     "name": "#%% md\n"
    }
   },
   "source": [
    "# Exploratory graphs (using day bars)"
   ]
  },
  {
   "cell_type": "code",
   "execution_count": null,
   "metadata": {},
   "outputs": [],
   "source": [
    "fig = plt.figure(figsize=(10,4), dpi=100)\n",
    "fig.suptitle(\"Open, high, low, close for {} vs SPY\".format(ticker), fontsize=10)\n",
    "plt.plot(ticker_cluster[\"open\"], color=\"orange\")\n",
    "plt.plot(ticker_cluster[\"high\"], color=\"blue\")\n",
    "plt.plot(ticker_cluster[\"low\"], color=\"brown\")\n",
    "plt.plot(ticker_cluster[\"close\"], color=\"green\")\n",
    "plt.plot(ticker_cluster[\"spy_day_close\"], color=\"black\")\n",
    "\n",
    "fig = plt.figure(figsize=(10,4), dpi=100)\n",
    "fig.suptitle(\"Close MACD vs signal for {}\".format(ticker), fontsize=10)\n",
    "plt.plot(ticker_cluster[\"close\"], color=\"green\")\n",
    "plt.plot(ticker_cluster[\"macd\"], color=\"purple\")\n",
    "plt.plot(ticker_cluster[\"signal\"], color=\"pink\")\n",
    "\n",
    "fig = plt.figure(figsize=(10,4), dpi=100)\n",
    "fig.suptitle(\"Close price vs mfi for {}\".format(ticker), fontsize=10)\n",
    "plt.plot(ticker_cluster[\"close\"], color=\"green\")\n",
    "plt.plot(ticker_cluster[\"mfi\"], color=\"blue\")\n",
    "\n",
    "fig = plt.figure(figsize=(10,4), dpi=100)\n",
    "fig.suptitle(\"Adaptive price zone for {}\".format(ticker), fontsize=10)\n",
    "plt.plot(ticker_cluster[\"close\"], color=\"green\")\n",
    "plt.plot(ticker_cluster[\"apz_u\"], color=\"grey\")\n",
    "plt.plot(ticker_cluster[\"apz_l\"], color=\"grey\")\n",
    "\n",
    "fig = plt.figure(figsize=(10,4), dpi=100)\n",
    "fig.suptitle(\"Stochastic oscillator vs close price for {}\".format(ticker), fontsize=10)\n",
    "plt.plot(ticker_cluster[\"close\"], color=\"green\")\n",
    "plt.plot(ticker_cluster[\"stoch\"], color=\"orange\")\n",
    "\n",
    "fig = plt.figure(figsize=(10,4), dpi=100)\n",
    "fig.suptitle(\"Volume zone oscillator for {}\".format(ticker), fontsize=10)\n",
    "plt.plot(ticker_cluster[\"close\"], color=\"green\")\n",
    "plt.plot(ticker_cluster[\"vzo\"], color=\"orange\")"
   ]
  },
  {
   "cell_type": "code",
   "execution_count": null,
   "metadata": {
    "pycharm": {
     "name": "#%% \n"
    }
   },
   "outputs": [],
   "source": [
    "minute_close = minute_bars[\"close\"]\n",
    "minute_vwap = indicators.get_vwap(minute_bars)\n",
    "minute_macd = indicators.get_macd(minute_bars)\n",
    "\n",
    "min_close = np.array(minute_close)\n",
    "min_close = min_close.reshape(-1, 1)\n",
    "min_close = scaler.fit_transform(min_close)\n",
    "\n",
    "min_vwap = np.array(minute_vwap)\n",
    "min_vwap = min_vwap.reshape(-1, 1)\n",
    "min_vwap = scaler.fit_transform(min_vwap)\n",
    "\n",
    "min_macd = np.array(minute_macd[\"MACD\"])\n",
    "min_macd = min_macd.reshape(-1, 1)\n",
    "min_macd = scaler.fit_transform(min_macd)\n",
    "\n",
    "min_signal = np.array(minute_macd[\"SIGNAL\"])\n",
    "min_signal = min_signal.reshape(-1, 1)\n",
    "min_signal = scaler.fit_transform(min_signal)"
   ]
  },
  {
   "cell_type": "code",
   "execution_count": null,
   "metadata": {},
   "outputs": [],
   "source": [
    "fig = plt.figure(figsize=(10,4), dpi=100)\n",
    "fig.suptitle(\"VWAP vs close for {}\".format(ticker), fontsize=10)\n",
    "plt.plot(min_vwap[-100:], color=\"blue\")\n",
    "plt.plot(min_close[-100:], color=\"orange\")\n",
    "\n",
    "fig = plt.figure(figsize=(10,4), dpi=100)\n",
    "fig.suptitle(\"Close vs MACD + signal -- minute bars (last 50 periods) for {}\".format(ticker), fontsize=10)\n",
    "plt.plot(min_close[-100:], color=\"orange\")\n",
    "plt.plot(min_macd[-100:], color=\"red\")\n",
    "plt.plot(min_signal[-100:], color=\"green\")\n",
    "\n",
    "fig = plt.figure(figsize=(10,4), dpi=100)\n",
    "fig.suptitle(\"Close vs VWAP -- minute bars (last 50 periods) for {}\".format(ticker), fontsize=10)\n",
    "plt.plot(min_close[-100:], color=\"orange\")\n",
    "plt.plot(min_vwap[-100:], color=\"blue\")"
   ]
  },
  {
   "cell_type": "code",
   "execution_count": null,
   "metadata": {},
   "outputs": [],
   "source": [
    "# Heatmap time -- had to create a separate dataframe sans date index column for this \n",
    "nd = pd.DataFrame()\n",
    "nd[\"close\"]     = ticker_cluster[\"close\"]\n",
    "nd[\"macd\"]      = ticker_cluster[\"open\"]\n",
    "nd[\"signal\"]    = ticker_cluster[\"open\"]\n",
    "nd[\"mfi\"]       = ticker_cluster[\"open\"]\n",
    "nd[\"vzo\"]       = ticker_cluster[\"open\"]\n",
    "nd[\"volume\"]    = ticker_cluster[\"open\"]\n",
    "nd[\"bb_up\"]     = ticker_cluster[\"bb_up\"]\n",
    "nd[\"bb_low\"]    = ticker_cluster[\"bb_low\"]\n",
    "heatmap = go.Heatmap(\n",
    "    z=nd.iloc[-50:].pct_change().corr(method='pearson').values,\n",
    "    x=nd.columns,\n",
    "    y=nd.columns,\n",
    "    colorbar=dict(title='Pearson Coefficient'),\n",
    ")\n",
    "layout = go.Layout(title=\"Pearson correlation of indicators\")\n",
    "heatmap['zmax'] = 1.0\n",
    "heatmap['zmin'] = -1.0\n",
    "fig = go.Figure(data=[heatmap], layout=layout)\n",
    "py.iplot(fig)"
   ]
  },
  {
   "cell_type": "code",
   "execution_count": null,
   "metadata": {
    "scrolled": false
   },
   "outputs": [],
   "source": [
    "fig = plt.figure(figsize=(10,4), dpi=100)\n",
    "fig.suptitle(\"Minute bar closing price for {}\".format(ticker), fontsize=10)\n",
    "plt.plot(minute_bars[\"close\"].iloc[-600:])"
   ]
  },
  {
   "cell_type": "code",
   "execution_count": null,
   "metadata": {},
   "outputs": [],
   "source": [
    "fig = plt.figure(figsize=(10,4), dpi=100)\n",
    "fig.suptitle(\"Minute bar closing price for {}\".format(ticker), fontsize=10)\n",
    "plt.plot(minute_bars[\"close\"].iloc[-60:], color=\"red\")\n",
    "\n",
    "mmacd = indicators.get_macd(minute_bars.iloc[-600:])\n",
    "\n",
    "fig = plt.figure(figsize=(10,4), dpi=100)\n",
    "fig.suptitle(\"Minute bar MACD/signal for {}\".format(ticker), fontsize=10)\n",
    "plt.plot(mmacd[\"MACD\"][-60:], color=\"orange\")\n",
    "plt.plot(mmacd[\"SIGNAL\"][-60:], color=\"green\")"
   ]
  },
  {
   "cell_type": "code",
   "execution_count": null,
   "metadata": {
    "pycharm": {
     "name": "#%%\n"
    }
   },
   "outputs": [],
   "source": [
    "\n",
    "\n"
   ]
  }
 ],
 "metadata": {
  "kernelspec": {
   "display_name": "Python 3",
   "language": "python",
   "name": "python3"
  },
  "language_info": {
   "codemirror_mode": {
    "name": "ipython",
    "version": 3
   },
   "file_extension": ".py",
   "mimetype": "text/x-python",
   "name": "python",
   "nbconvert_exporter": "python",
   "pygments_lexer": "ipython3",
   "version": "3.7.5"
  },
  "pycharm": {
   "stem_cell": {
    "cell_type": "raw",
    "source": [],
    "metadata": {
     "collapsed": false
    }
   }
  }
 },
 "nbformat": 4,
 "nbformat_minor": 1
}