{
 "cells": [
  {
   "cell_type": "code",
   "execution_count": 1,
   "metadata": {},
   "outputs": [],
   "source": [
    "#!/usr/bin/env python\n",
    "# -*- coding: utf-8 -*-\n",
    "from algos import bullish_candlestick\n",
    "\n",
    "from src.prep_data import PrepData\n",
    "\n",
    "import alpaca_trade_api as tradeapi\n",
    "import configparser\n",
    "import twitter\n",
    "import sys\n",
    "import os\n",
    "\n",
    "config = configparser.ConfigParser()\n",
    "\n",
    "try:\n",
    "    config.read(os.path.relpath(\"config.ini\"))\n",
    "except FileExistsError as e:\n",
    "    print(\"[!] FileExistsError: {}\".format(e))\n",
    "    sys.exit(1)\n",
    "\n",
    "\n",
    "alpaca_api = tradeapi.REST(\n",
    "    base_url    = config[\"alpaca\"][\"APCA_API_BASE_URL\"],\n",
    "    key_id      = config[\"alpaca\"][\"APCA_API_KEY_ID\"],\n",
    "    secret_key  = config[\"alpaca\"][\"APCA_API_SECRET_KEY\"],\n",
    "    api_version = config[\"alpaca\"][\"VERSION\"]\n",
    ")\n",
    "\n",
    "# trading_account = alpaca_api.get_account()\n",
    "\n",
    "# edgar_token = config[\"edgar\"][\"TOKEN\"]\n",
    "\n",
    "# twitter_api = twitter.Api(\n",
    "#     config[\"twitter\"][\"CONSUMER_KEY\"],\n",
    "#     config[\"twitter\"][\"CONSUMER_SECRET\"],\n",
    "#     config[\"twitter\"][\"ACCESS_TOKEN_KEY\"],\n",
    "#     config[\"twitter\"][\"ACCESS_TOKEN_SECRET\"]\n",
    "# )"
   ]
  },
  {
   "cell_type": "code",
   "execution_count": 2,
   "metadata": {},
   "outputs": [
    {
     "name": "stderr",
     "output_type": "stream",
     "text": [
      "C:\\Users\\marcin\\.conda\\envs\\aitrader\\lib\\site-packages\\finta\\finta.py:263: FutureWarning: Currently, 'apply' passes the values as ndarrays to the applied function. In the future, this will change to passing it as Series objects. You need to specify 'raw=True' to keep the current behaviour, and you can pass 'raw=False' to silence this warning\n",
      "  wma = close_.apply(linear(weights))\n",
      "C:\\Users\\marcin\\AppData\\Roaming\\Python\\Python37\\site-packages\\pandas\\core\\series.py:853: RuntimeWarning: divide by zero encountered in log\n",
      "  result = getattr(ufunc, method)(*inputs, **kwargs)\n"
     ]
    }
   ],
   "source": [
    "predata = PrepData(alpaca_api, ['AAPL', 'GE', 'NEO'])\n",
    "predata.get_raw_data_per_ticker()"
   ]
  },
  {
   "cell_type": "code",
   "execution_count": 3,
   "metadata": {},
   "outputs": [
    {
     "name": "stdout",
     "output_type": "stream",
     "text": [
      "['open', 'high', 'low', 'close', 'volume', 'sma', 'smm', 'ssma', 'ema', 'dema', 'tema', 'trima', 'trix', 'vama', 'er', 'kama', 'zlema', 'wma', 'vwap', 'smma', 'macd', 'signal', 'ppo', 'ppo_sig', 'ppo_histo', 'vwmacd', 'vwsignal', 'mom', 'roc', 'rsi', 'ift_rsi', 'tr', 'atr', 'sar', 'bb_up', 'bb_mid', 'bb_low', 'bandwidth', 'percent_b', 'kc_up', 'kc_low', 'pivot', 'pivot_s1', 'pivot_s2', 'pivot_s3', 'pivot_s4', 'pivot_r1', 'pivot_r2', 'pivot_r3', 'pivot_r4', 'pivot_fib', 'pivot_fib_s1', 'pivot_fib_s2', 'pivot_fib_s3', 'pivot_fib_s4', 'pivot_fib_r1', 'pivot_fib_r2', 'pivot_fib_r3', 'pivot_fib_r4', 'stoch', 'stochd', 'stoch_rsi', 'williams', 'uo', 'ao', 'mi', 'vortex_p', 'vortex_m', 'kst', 'kst_sig', 'tsi', 'tsi_sig', 'tp', 'adl', 'chaikin', 'mfi', 'OBV', 'obv', 'wobv', 'vzo', 'pzo', 'efi', 'cfi', 'ebbp_bull', 'ebbp_bear', 'emv', 'cci', 'copp', 'basp_buy', 'basp_sell', 'baspn_buy', 'baspn_sell', 'cmo', 'chand_long', 'chand_short', 'qstick', 'wt1', 'wt2', 'fish', 'tenkan', 'kijun', 'senkou_span_a', 'senkou_span_b', 'chikou', 'apz_up', 'apz_low', 'squeeze', 'vpt', 'fve', 'vfi', 'msd']\n",
      "['open', 'high', 'low', 'close', 'volume', 'sma', 'smm', 'ssma', 'ema', 'dema', 'tema', 'trima', 'trix', 'vama', 'er', 'kama', 'zlema', 'wma', 'vwap', 'smma', 'macd', 'signal', 'ppo', 'ppo_sig', 'ppo_histo', 'vwmacd', 'vwsignal', 'mom', 'roc', 'rsi', 'ift_rsi', 'tr', 'atr', 'sar', 'bb_up', 'bb_mid', 'bb_low', 'bandwidth', 'percent_b', 'kc_up', 'kc_low', 'pivot', 'pivot_s1', 'pivot_s2', 'pivot_s3', 'pivot_s4', 'pivot_r1', 'pivot_r2', 'pivot_r3', 'pivot_r4', 'pivot_fib', 'pivot_fib_s1', 'pivot_fib_s2', 'pivot_fib_s3', 'pivot_fib_s4', 'pivot_fib_r1', 'pivot_fib_r2', 'pivot_fib_r3', 'pivot_fib_r4', 'stoch', 'stochd', 'stoch_rsi', 'williams', 'uo', 'ao', 'mi', 'vortex_p', 'vortex_m', 'kst', 'kst_sig', 'tsi', 'tsi_sig', 'tp', 'adl', 'chaikin', 'mfi', 'OBV', 'obv', 'wobv', 'vzo', 'pzo', 'efi', 'cfi', 'ebbp_bull', 'ebbp_bear', 'emv', 'cci', 'copp', 'basp_buy', 'basp_sell', 'baspn_buy', 'baspn_sell', 'cmo', 'chand_long', 'chand_short', 'qstick', 'wt1', 'wt2', 'fish', 'tenkan', 'kijun', 'senkou_span_a', 'senkou_span_b', 'chikou', 'apz_up', 'apz_low', 'squeeze', 'vpt', 'fve', 'vfi', 'msd']\n",
      "['open', 'high', 'low', 'close', 'volume', 'sma', 'smm', 'ssma', 'ema', 'dema', 'tema', 'trima', 'trix', 'vama', 'er', 'kama', 'zlema', 'wma', 'vwap', 'smma', 'macd', 'signal', 'ppo', 'ppo_sig', 'ppo_histo', 'vwmacd', 'vwsignal', 'mom', 'roc', 'rsi', 'ift_rsi', 'tr', 'atr', 'sar', 'bb_up', 'bb_mid', 'bb_low', 'bandwidth', 'percent_b', 'kc_up', 'kc_low', 'pivot', 'pivot_s1', 'pivot_s2', 'pivot_s3', 'pivot_s4', 'pivot_r1', 'pivot_r2', 'pivot_r3', 'pivot_r4', 'pivot_fib', 'pivot_fib_s1', 'pivot_fib_s2', 'pivot_fib_s3', 'pivot_fib_s4', 'pivot_fib_r1', 'pivot_fib_r2', 'pivot_fib_r3', 'pivot_fib_r4', 'stoch', 'stochd', 'stoch_rsi', 'williams', 'uo', 'ao', 'mi', 'vortex_p', 'vortex_m', 'kst', 'kst_sig', 'tsi', 'tsi_sig', 'tp', 'adl', 'chaikin', 'mfi', 'OBV', 'obv', 'wobv', 'vzo', 'pzo', 'efi', 'cfi', 'ebbp_bull', 'ebbp_bear', 'emv', 'cci', 'copp', 'basp_buy', 'basp_sell', 'baspn_buy', 'baspn_sell', 'cmo', 'chand_long', 'chand_short', 'qstick', 'wt1', 'wt2', 'fish', 'tenkan', 'kijun', 'senkou_span_a', 'senkou_span_b', 'chikou', 'apz_up', 'apz_low', 'squeeze', 'vpt', 'fve', 'vfi', 'msd']\n"
     ]
    }
   ],
   "source": [
    "predata.normalize_data()"
   ]
  },
  {
   "cell_type": "code",
   "execution_count": null,
   "metadata": {},
   "outputs": [],
   "source": [
    "from src.asset_selector import AssetSelector\n",
    "from src.indicators import Indicators\n",
    "from util import submit_order, time_formatter\n",
    "import time\n",
    "\n",
    "\n",
    "# initial trade state\n",
    "trading_symbol  = None\n",
    "trading         = False\n",
    "assets          = AssetSelector(alpaca_api, edgar_token=None).bullish_candlesticks(64, 2)\n",
    "indicators      = Indicators(alpaca_api, assets).get_all_asset_indicators(backdate=time_formatter(time.time() - (604800 * 54)))"
   ]
  },
  {
   "cell_type": "code",
   "execution_count": null,
   "metadata": {},
   "outputs": [],
   "source": [
    "assets['BXC']"
   ]
  },
  {
   "cell_type": "markdown",
   "metadata": {},
   "source": [
    "# Import project dependencies"
   ]
  },
  {
   "cell_type": "code",
   "execution_count": null,
   "metadata": {},
   "outputs": [],
   "source": [
    "!pip install tensorflow-transform"
   ]
  },
  {
   "cell_type": "code",
   "execution_count": null,
   "metadata": {},
   "outputs": [],
   "source": [
    "!pip install tfx-bsl"
   ]
  },
  {
   "cell_type": "code",
   "execution_count": null,
   "metadata": {},
   "outputs": [],
   "source": [
    "import tempfile\n",
    "import pandas as pd\n",
    "import tensorflow as tf\n",
    "import tensorflow_transform as tft\n",
    "import tensorflow_transform.beam.impl as tft_beam\n",
    "\n",
    "# from __future__ import print_function\n",
    "from tensorflow_transform.tf_metadata import dataset_metadata, dataset_schema"
   ]
  },
  {
   "cell_type": "code",
   "execution_count": null,
   "metadata": {},
   "outputs": [],
   "source": [
    "'''\n",
    "Select  Multiple Column by Name using []\n",
    "'''\n",
    "column2 = assets['BXC'][ ['open', 'high', 'low'] ]\n",
    "column2"
   ]
  },
  {
   "cell_type": "code",
   "execution_count": null,
   "metadata": {},
   "outputs": [],
   "source": [
    "indicators"
   ]
  },
  {
   "cell_type": "code",
   "execution_count": null,
   "metadata": {},
   "outputs": [],
   "source": []
  }
 ],
 "metadata": {
  "kernelspec": {
   "display_name": "Python 3",
   "language": "python",
   "name": "python3"
  },
  "language_info": {
   "codemirror_mode": {
    "name": "ipython",
    "version": 3
   },
   "file_extension": ".py",
   "mimetype": "text/x-python",
   "name": "python",
   "nbconvert_exporter": "python",
   "pygments_lexer": "ipython3",
   "version": "3.7.3"
  }
 },
 "nbformat": 4,
 "nbformat_minor": 2
}
