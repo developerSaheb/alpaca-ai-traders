{
 "cells": [
  {
   "cell_type": "code",
   "execution_count": 1,
   "metadata": {
    "pycharm": {
     "is_executing": true
    }
   },
   "outputs": [
    {
     "name": "stderr",
     "output_type": "stream",
     "text": [
      "/home/ben/anaconda3/envs/alpaca_test/lib/python3.7/site-packages/tensorflow/python/framework/dtypes.py:516: FutureWarning: Passing (type, 1) or '1type' as a synonym of type is deprecated; in a future version of numpy, it will be understood as (type, (1,)) / '(1,)type'.\n",
      "  _np_qint8 = np.dtype([(\"qint8\", np.int8, 1)])\n",
      "/home/ben/anaconda3/envs/alpaca_test/lib/python3.7/site-packages/tensorflow/python/framework/dtypes.py:517: FutureWarning: Passing (type, 1) or '1type' as a synonym of type is deprecated; in a future version of numpy, it will be understood as (type, (1,)) / '(1,)type'.\n",
      "  _np_quint8 = np.dtype([(\"quint8\", np.uint8, 1)])\n",
      "/home/ben/anaconda3/envs/alpaca_test/lib/python3.7/site-packages/tensorflow/python/framework/dtypes.py:518: FutureWarning: Passing (type, 1) or '1type' as a synonym of type is deprecated; in a future version of numpy, it will be understood as (type, (1,)) / '(1,)type'.\n",
      "  _np_qint16 = np.dtype([(\"qint16\", np.int16, 1)])\n",
      "/home/ben/anaconda3/envs/alpaca_test/lib/python3.7/site-packages/tensorflow/python/framework/dtypes.py:519: FutureWarning: Passing (type, 1) or '1type' as a synonym of type is deprecated; in a future version of numpy, it will be understood as (type, (1,)) / '(1,)type'.\n",
      "  _np_quint16 = np.dtype([(\"quint16\", np.uint16, 1)])\n",
      "/home/ben/anaconda3/envs/alpaca_test/lib/python3.7/site-packages/tensorflow/python/framework/dtypes.py:520: FutureWarning: Passing (type, 1) or '1type' as a synonym of type is deprecated; in a future version of numpy, it will be understood as (type, (1,)) / '(1,)type'.\n",
      "  _np_qint32 = np.dtype([(\"qint32\", np.int32, 1)])\n",
      "/home/ben/anaconda3/envs/alpaca_test/lib/python3.7/site-packages/tensorflow/python/framework/dtypes.py:525: FutureWarning: Passing (type, 1) or '1type' as a synonym of type is deprecated; in a future version of numpy, it will be understood as (type, (1,)) / '(1,)type'.\n",
      "  np_resource = np.dtype([(\"resource\", np.ubyte, 1)])\n",
      "/home/ben/anaconda3/envs/alpaca_test/lib/python3.7/site-packages/tensorboard/compat/tensorflow_stub/dtypes.py:541: FutureWarning: Passing (type, 1) or '1type' as a synonym of type is deprecated; in a future version of numpy, it will be understood as (type, (1,)) / '(1,)type'.\n",
      "  _np_qint8 = np.dtype([(\"qint8\", np.int8, 1)])\n",
      "/home/ben/anaconda3/envs/alpaca_test/lib/python3.7/site-packages/tensorboard/compat/tensorflow_stub/dtypes.py:542: FutureWarning: Passing (type, 1) or '1type' as a synonym of type is deprecated; in a future version of numpy, it will be understood as (type, (1,)) / '(1,)type'.\n",
      "  _np_quint8 = np.dtype([(\"quint8\", np.uint8, 1)])\n",
      "/home/ben/anaconda3/envs/alpaca_test/lib/python3.7/site-packages/tensorboard/compat/tensorflow_stub/dtypes.py:543: FutureWarning: Passing (type, 1) or '1type' as a synonym of type is deprecated; in a future version of numpy, it will be understood as (type, (1,)) / '(1,)type'.\n",
      "  _np_qint16 = np.dtype([(\"qint16\", np.int16, 1)])\n",
      "/home/ben/anaconda3/envs/alpaca_test/lib/python3.7/site-packages/tensorboard/compat/tensorflow_stub/dtypes.py:544: FutureWarning: Passing (type, 1) or '1type' as a synonym of type is deprecated; in a future version of numpy, it will be understood as (type, (1,)) / '(1,)type'.\n",
      "  _np_quint16 = np.dtype([(\"quint16\", np.uint16, 1)])\n",
      "/home/ben/anaconda3/envs/alpaca_test/lib/python3.7/site-packages/tensorboard/compat/tensorflow_stub/dtypes.py:545: FutureWarning: Passing (type, 1) or '1type' as a synonym of type is deprecated; in a future version of numpy, it will be understood as (type, (1,)) / '(1,)type'.\n",
      "  _np_qint32 = np.dtype([(\"qint32\", np.int32, 1)])\n",
      "/home/ben/anaconda3/envs/alpaca_test/lib/python3.7/site-packages/tensorboard/compat/tensorflow_stub/dtypes.py:550: FutureWarning: Passing (type, 1) or '1type' as a synonym of type is deprecated; in a future version of numpy, it will be understood as (type, (1,)) / '(1,)type'.\n",
      "  np_resource = np.dtype([(\"resource\", np.ubyte, 1)])\n"
     ]
    }
   ],
   "source": [
    "from nltk.sentiment.vader import SentimentIntensityAnalyzer\n",
    "from empyrical import max_drawdown, alpha, beta\n",
    "from sklearn.preprocessing import MinMaxScaler\n",
    "from src.asset_selector import AssetSelector\n",
    "from src.indicator_collection import IndicatorCollection\n",
    "from util import time_formatter\n",
    "from src.predictor import Predictor\n",
    "from sklearn.cluster import KMeans\n",
    "import alpaca_trade_api as tradeapi\n",
    "import matplotlib.pyplot as plt\n",
    "import plotly.graph_objs as go\n",
    "import plotly.offline as py\n",
    "import pandas as pd\n",
    "import numpy as np\n",
    "import configparser\n",
    "import requests\n",
    "import json\n",
    "import time\n",
    "import sys\n",
    "import os\n",
    "\n",
    "config = configparser.ConfigParser()\n",
    "try:\n",
    "    config.read(os.path.relpath(\"config.ini\"))\n",
    "except FileExistsError as e:\n",
    "    print(\"FileExistsError: {}\".format(e))\n",
    "    sys.exit(1)\n",
    "alpaca_api = tradeapi.REST(\n",
    "    base_url    = config[\"alpaca\"][\"APCA_API_BASE_URL\"],\n",
    "    key_id      = config[\"alpaca\"][\"APCA_API_KEY_ID\"],\n",
    "    secret_key  = config[\"alpaca\"][\"APCA_API_SECRET_KEY\"],\n",
    "    api_version = config[\"alpaca\"][\"VERSION\"]\n",
    ")\n",
    "trading_account = alpaca_api.get_account()\n",
    "sid = SentimentIntensityAnalyzer()"
   ]
  },
  {
   "cell_type": "code",
   "execution_count": 2,
   "metadata": {
    "pycharm": {
     "name": "#%%\n"
    }
   },
   "outputs": [
    {
     "name": "stdout",
     "output_type": "stream",
     "text": [
      "                   Gainers                   \n",
      "\n",
      "Symbol     Last        Change      Pct Gain\n",
      "–––––––––––––––––––––––––––––––––––––––––––––\n",
      "NXTC       $89.9       $63.47      240.144%\n",
      "AGFSW      $0.01       $0.005      96.078%\n",
      "ENTXW      $0.3794     $0.179      89.7%\n",
      "\u0000 0\u0000\u0000\u0000\u0000\u0000\u0000\u0000\u0000 $11028101626593.28 $5196379913799.598 89.105%\n",
      "AMRHW      $0.02       $0.009      77.433%\n",
      "AGRX       $2.8        $1.02       75.439%\n",
      "AGRX       $13.1       $1.02       39.362%\n",
      "SLS        $0.195      $3.7        39.362%\n",
      "NIO        $2.35       $0.054      37.427%\n",
      "NIO        $7575635115376.64 $1743913402582.958 29.904%\n",
      "CHEKW      $0.039      $0.009      29.568%\n",
      "ESTR       $0.232      $0.052      28.889%\n",
      "FRTA       $10.97      $2.45       28.756%\n",
      "EVER       $27.92      $6.15       28.25%\n",
      "FPAYW      $0.77       $0.16       26.23%\n",
      "CHNR       $1.7        $0.35       25.926%\n",
      "ACPr       $0.3072     $0.062      25.337%\n",
      "PRTK       $3.98       $0.8        25.157%\n",
      "DFFN       $0.81       $0.16       24.615%\n",
      "ACOR       $2.48       $0.48       24%\n",
      "IMGN       $3.76       $0.72       23.684%\n",
      "\n",
      "                    Losers                   \n",
      "\n",
      "Symbol     Last        Change      Pct Loss\n",
      "–––––––––––––––––––––––––––––––––––––––––––––\n",
      "BNTCW      $0.019      $-0.029     -60.581%\n",
      "USWSW      $0.1204     $-0.107     -46.96%\n",
      "CTXRW      $0.1        $-0.08      -44.444%\n",
      "AFI        $3.85       $-2.75      -41.667%\n",
      "MYGN       $20.89      $-14.21     -40.484%\n",
      "TBLTW      $0.0051     $-0.003     -38.554%\n",
      "STIM       $5.73       $-3.24      -36.12%\n",
      "SBBP       $1.57       $-0.85      -35.124%\n",
      "WRLSW      $0.329      $-0.141     -30%\n",
      "SHIPW      $0.00701    $-0.003     -29.9%\n",
      "PLT        $28.75      $-11.95     -29.361%\n",
      "SHIPZ      $0.19       $-0.07      -26.923%\n",
      "CHKpD      $29.5       $-10.7      -26.617%\n",
      "NUROW      $0.014      $-0.005     -25.926%\n",
      "ZWZZT      $10         $-3.4       -25.373%\n",
      "ATEST.G    $25.01      $-8.47      -25.299%\n",
      "IBO        $19         $-5.84      -23.51%\n",
      "SHIP       $0.64       $-0.19      -22.892%\n",
      "VGR        $9.5        $-2.8       -22.764%\n",
      "SNCR       $4.9        $-1.4       -22.222%\n",
      "PMTS       $1.62       $-0.46      -22.115%\n"
     ]
    }
   ],
   "source": [
    "def get_sentiment(text):\n",
    "    \"\"\"Given a text block, return a sentiment score based.\n",
    "\n",
    "    :param text:\n",
    "    :return:\n",
    "    \"\"\"\n",
    "    text_polarity   = sid.polarity_scores(text)\n",
    "    print(text_polarity)\n",
    "\n",
    "    if text_polarity[\"compound\"] > 0.50:\n",
    "        sentiment   = \"positive\"\n",
    "\n",
    "    else:\n",
    "        sentiment   = \"negative\"\n",
    "\n",
    "    return sentiment\n",
    "\n",
    "def get_losers():\n",
    "    \n",
    "    print('Losers'.center(45))\n",
    "    print()\n",
    "    print('Symbol'.ljust(10), 'Last'.ljust(11), 'Change'.ljust(11), 'Pct Loss')\n",
    "    print(\"{:<30}\".format('–' * 45))\n",
    "    for symbol in range(len(alpaca_api.polygon.gainers_losers(\"losers\"))):\n",
    "        print(alpaca_api.polygon.gainers_losers(\"losers\")[symbol].ticker.ljust(10),\n",
    "              '$' + str(alpaca_api.polygon.gainers_losers(\"losers\")[symbol].lastTrade['p']).ljust(10),\n",
    "              '$' + str(alpaca_api.polygon.gainers_losers(\"losers\")[symbol].todaysChange).ljust(10),\n",
    "              str(alpaca_api.polygon.gainers_losers(\"losers\")[symbol].todaysChangePerc)+'%')\n",
    "def get_gainers():\n",
    "    print('Gainers'.center(45))\n",
    "    print()\n",
    "    print('Symbol'.ljust(10), 'Last'.ljust(11), 'Change'.ljust(11), 'Pct Gain')\n",
    "    print(\"{:<30}\".format('–' * 45))\n",
    "    for symbol in range(len(alpaca_api.polygon.gainers_losers())):\n",
    "        print(alpaca_api.polygon.gainers_losers()[symbol].ticker.ljust(10),\n",
    "              '$' + str(alpaca_api.polygon.gainers_losers()[symbol].lastTrade['p']).ljust(10),\n",
    "              '$' + str(alpaca_api.polygon.gainers_losers()[symbol].todaysChange).ljust(10),\n",
    "              str(alpaca_api.polygon.gainers_losers()[symbol].todaysChangePerc)+'%')\n",
    "        \n",
    "if __name__ == '__main__':\n",
    "    \n",
    "    get_gainers()\n",
    "    print()\n",
    "    get_losers()"
   ]
  },
  {
   "cell_type": "code",
   "execution_count": 3,
   "metadata": {
    "pycharm": {
     "name": "#%%\n"
    }
   },
   "outputs": [],
   "source": [
    "ticker = \"SGOL\""
   ]
  },
  {
   "cell_type": "code",
   "execution_count": null,
   "outputs": [],
   "source": [
    "selector    = AssetSelector(alpaca_api, edgar_token=None)\n",
    "indicators  = IndicatorCollection(alpaca_api)"
   ],
   "metadata": {
    "collapsed": false,
    "pycharm": {
     "name": "#%%\n"
    }
   }
  },
  {
   "cell_type": "code",
   "execution_count": 5,
   "metadata": {
    "pycharm": {
     "name": "#%%\n"
    }
   },
   "outputs": [],
   "source": [
    "weeks = 13\n",
    "backdate = time_formatter(time.time() - (604800 * weeks))"
   ]
  },
  {
   "cell_type": "code",
   "execution_count": 6,
   "metadata": {
    "pycharm": {
     "name": "#%%\n"
    }
   },
   "outputs": [],
   "source": [
    "day_bars            = selector.get_barset(ticker, \"day\", backdate)\n",
    "day_bars            = selector.extract_bar_data(day_bars, ticker)\n",
    "minute_bars         = selector.get_barset(ticker, \"minute\", backdate)\n",
    "minute_bars         = selector.extract_bar_data(minute_bars, ticker)\n",
    "day_spy_bars        = selector.get_barset(\"SPY\", \"1D\", backdate)\n",
    "day_spy_bars        = selector.extract_bar_data(day_spy_bars, \"SPY\")\n",
    "minute_spy_bars     = selector.get_barset(\"SPY\", \"minute\", backdate)\n",
    "minute_spy_bars     = selector.extract_bar_data(minute_spy_bars, \"SPY\")"
   ]
  },
  {
   "cell_type": "code",
   "execution_count": 9,
   "metadata": {
    "pycharm": {
     "name": "#%%\n"
    }
   },
   "outputs": [],
   "source": [
    "# alpaca_api.polygon.historic_trades(ticker, '2019-10-10', limit=10)\n",
    "# alpaca_api.polygon.news(ticker)\n",
    "# alpaca_api.polygon.last_trade(ticker)\n",
    "# alpaca_api.polygon.last_quote(ticker)\n",
    "# alpaca_api.polygon.company(ticker)\n",
    "# alpaca_api.polygon.dividends(ticker)"
   ]
  },
  {
   "cell_type": "code",
   "execution_count": 11,
   "metadata": {},
   "outputs": [],
   "source": [
    "results = requests.post(\"https://api.stocktwits.com/api/2/streams/symbol/{}.json\".format(ticker))\n",
    "results = json.loads(results.text)"
   ]
  },
  {
   "cell_type": "code",
   "execution_count": 12,
   "metadata": {
    "pycharm": {
     "name": "#%%\n"
    }
   },
   "outputs": [],
   "source": [
    "bodies = \"\\n\".join([m[\"body\"] for m in results[\"messages\"]])\n",
    "sentiment = get_sentiment(bodies)\n",
    "sentiment"
   ]
  },
  {
   "cell_type": "code",
   "execution_count": 17,
   "metadata": {},
   "outputs": [],
   "source": [
    "ticker_cluster = indicators.cluster_prep(ticker)"
   ]
  },
  {
   "cell_type": "code",
   "execution_count": 19,
   "metadata": {
    "pycharm": {
     "name": "#%%\n"
    }
   },
   "outputs": [
    {
     "data": {
      "text/plain": [
       "[<matplotlib.lines.Line2D at 0x7f890d19c650>]"
      ]
     },
     "execution_count": 19,
     "metadata": {},
     "output_type": "execute_result"
    },
    {
     "data": {
      "image/png": "[encoded data removed]",
      "text/plain": [
       "<Figure size 432x288 with 1 Axes>"
      ]
     },
     "metadata": {
      "needs_background": "light"
     },
     "output_type": "display_data"
    }
   ],
   "source": [
    "plt.plot(ticker_cluster[\"open\"], color=\"orange\")"
   ]
  },
  {
   "cell_type": "code",
   "execution_count": 20,
   "metadata": {
    "pycharm": {
     "name": "#%%\n"
    }
   },
   "outputs": [
    {
     "data": {
      "text/plain": [
       "[<matplotlib.lines.Line2D at 0x7f890cade5d0>]"
      ]
     },
     "execution_count": 20,
     "metadata": {},
     "output_type": "execute_result"
    },
    {
     "data": {
      "image/png": "[encoded data removed]",
      "text/plain": [
       "<Figure size 432x288 with 1 Axes>"
      ]
     },
     "metadata": {
      "needs_background": "light"
     },
     "output_type": "display_data"
    }
   ],
   "source": [
    "plt.plot(ticker_cluster[\"high\"], color=\"blue\")"
   ]
  },
  {
   "cell_type": "code",
   "execution_count": 21,
   "metadata": {
    "pycharm": {
     "name": "#%%\n"
    }
   },
   "outputs": [
    {
     "data": {
      "text/plain": [
       "[<matplotlib.lines.Line2D at 0x7f890ca46d90>]"
      ]
     },
     "execution_count": 21,
     "metadata": {},
     "output_type": "execute_result"
    },
    {
     "data": {
      "image/png": "[encoded data removed]",
      "text/plain": [
       "<Figure size 432x288 with 1 Axes>"
      ]
     },
     "metadata": {
      "needs_background": "light"
     },
     "output_type": "display_data"
    }
   ],
   "source": [
    "plt.plot(ticker_cluster[\"low\"], color=\"red\")"
   ]
  },
  {
   "cell_type": "code",
   "execution_count": 22,
   "metadata": {
    "pycharm": {
     "name": "#%%\n"
    }
   },
   "outputs": [
    {
     "data": {
      "text/plain": [
       "[<matplotlib.lines.Line2D at 0x7f890c9c1250>]"
      ]
     },
     "execution_count": 22,
     "metadata": {},
     "output_type": "execute_result"
    },
    {
     "data": {
      "image/png": "[encoded data removed]",
      "text/plain": [
       "<Figure size 432x288 with 1 Axes>"
      ]
     },
     "metadata": {
      "needs_background": "light"
     },
     "output_type": "display_data"
    }
   ],
   "source": [
    "plt.plot(ticker_cluster[\"close\"], color=\"green\")"
   ]
  },
  {
   "cell_type": "code",
   "execution_count": 23,
   "metadata": {
    "pycharm": {
     "name": "#%%\n"
    }
   },
   "outputs": [
    {
     "data": {
      "text/plain": [
       "[<matplotlib.lines.Line2D at 0x7f890c92b6d0>]"
      ]
     },
     "execution_count": 23,
     "metadata": {},
     "output_type": "execute_result"
    },
    {
     "data": {
      "image/png": "[encoded data removed]",
      "text/plain": [
       "<Figure size 432x288 with 1 Axes>"
      ]
     },
     "metadata": {
      "needs_background": "light"
     },
     "output_type": "display_data"
    }
   ],
   "source": [
    "plt.plot(ticker_cluster[\"macd\"], color=\"purple\")"
   ]
  },
  {
   "cell_type": "code",
   "execution_count": 24,
   "metadata": {
    "pycharm": {
     "name": "#%%\n"
    }
   },
   "outputs": [
    {
     "data": {
      "text/plain": [
       "[<matplotlib.lines.Line2D at 0x7f890c8a80d0>]"
      ]
     },
     "execution_count": 24,
     "metadata": {},
     "output_type": "execute_result"
    },
    {
     "data": {
      "image/png": "[encoded data removed]",
      "text/plain": [
       "<Figure size 432x288 with 1 Axes>"
      ]
     },
     "metadata": {
      "needs_background": "light"
     },
     "output_type": "display_data"
    }
   ],
   "source": [
    "plt.plot(ticker_cluster[\"signal\"], color=\"pink\")"
   ]
  },
  {
   "cell_type": "code",
   "execution_count": 25,
   "metadata": {
    "pycharm": {
     "name": "#%%\n"
    }
   },
   "outputs": [
    {
     "data": {
      "text/plain": [
       "[<matplotlib.lines.Line2D at 0x7f890c88b110>]"
      ]
     },
     "execution_count": 25,
     "metadata": {},
     "output_type": "execute_result"
    },
    {
     "data": {
      "image/png": "[encoded data removed]",
      "text/plain": [
       "<Figure size 432x288 with 1 Axes>"
      ]
     },
     "metadata": {
      "needs_background": "light"
     },
     "output_type": "display_data"
    }
   ],
   "source": [
    "plt.plot(ticker_cluster[\"mfi\"], color=\"yellow\")"
   ]
  },
  {
   "cell_type": "code",
   "execution_count": 26,
   "metadata": {
    "pycharm": {
     "name": "#%%\n"
    }
   },
   "outputs": [
    {
     "data": {
      "text/plain": [
       "[<matplotlib.lines.Line2D at 0x7f890c7f4390>]"
      ]
     },
     "execution_count": 26,
     "metadata": {},
     "output_type": "execute_result"
    },
    {
     "data": {
      "image/png": "[encoded data removed]",
      "text/plain": [
       "<Figure size 432x288 with 1 Axes>"
      ]
     },
     "metadata": {
      "needs_background": "light"
     },
     "output_type": "display_data"
    }
   ],
   "source": [
    "plt.plot(ticker_cluster[\"bb_up\"], color=\"black\")"
   ]
  },
  {
   "cell_type": "code",
   "execution_count": 27,
   "metadata": {
    "pycharm": {
     "name": "#%%\n"
    }
   },
   "outputs": [
    {
     "data": {
      "text/plain": [
       "[<matplotlib.lines.Line2D at 0x7f890c7d9810>]"
      ]
     },
     "execution_count": 27,
     "metadata": {},
     "output_type": "execute_result"
    },
    {
     "data": {
      "image/png": "[encoded data removed]",
      "text/plain": [
       "<Figure size 432x288 with 1 Axes>"
      ]
     },
     "metadata": {
      "needs_background": "light"
     },
     "output_type": "display_data"
    }
   ],
   "source": [
    "plt.plot(ticker_cluster[\"bb_low\"], color=\"black\")"
   ]
  },
  {
   "cell_type": "code",
   "execution_count": 28,
   "metadata": {
    "pycharm": {
     "name": "#%%\n"
    }
   },
   "outputs": [
    {
     "data": {
      "text/plain": [
       "[<matplotlib.lines.Line2D at 0x7f890c742550>]"
      ]
     },
     "execution_count": 28,
     "metadata": {},
     "output_type": "execute_result"
    },
    {
     "data": {
      "image/png": "[encoded data removed]",
      "text/plain": [
       "<Figure size 432x288 with 1 Axes>"
      ]
     },
     "metadata": {
      "needs_background": "light"
     },
     "output_type": "display_data"
    }
   ],
   "source": [
    "plt.plot(ticker_cluster[\"vzo\"], color=\"orange\")"
   ]
  },
  {
   "cell_type": "code",
   "execution_count": 29,
   "metadata": {
    "pycharm": {
     "name": "#%%\n"
    }
   },
   "outputs": [
    {
     "data": {
      "text/plain": [
       "[<matplotlib.lines.Line2D at 0x7f890c6ae810>]"
      ]
     },
     "execution_count": 29,
     "metadata": {},
     "output_type": "execute_result"
    },
    {
     "data": {
      "image/png": "[encoded data removed]",
      "text/plain": [
       "<Figure size 432x288 with 1 Axes>"
      ]
     },
     "metadata": {
      "needs_background": "light"
     },
     "output_type": "display_data"
    }
   ],
   "source": [
    "plt.plot(ticker_cluster[\"apz_u\"], color=\"grey\")"
   ]
  },
  {
   "cell_type": "code",
   "execution_count": 30,
   "metadata": {
    "pycharm": {
     "name": "#%%\n"
    }
   },
   "outputs": [
    {
     "data": {
      "text/plain": [
       "[<matplotlib.lines.Line2D at 0x7f890c696fd0>]"
      ]
     },
     "execution_count": 30,
     "metadata": {},
     "output_type": "execute_result"
    },
    {
     "data": {
      "image/png": "[encoded data removed]",
      "text/plain": [
       "<Figure size 432x288 with 1 Axes>"
      ]
     },
     "metadata": {
      "needs_background": "light"
     },
     "output_type": "display_data"
    }
   ],
   "source": [
    "plt.plot(ticker_cluster[\"apz_l\"], color=\"grey\")"
   ]
  },
  {
   "cell_type": "code",
   "execution_count": 31,
   "metadata": {
    "pycharm": {
     "name": "#%%\n"
    }
   },
   "outputs": [
    {
     "data": {
      "text/plain": [
       "[<matplotlib.lines.Line2D at 0x7f890c605810>]"
      ]
     },
     "execution_count": 31,
     "metadata": {},
     "output_type": "execute_result"
    },
    {
     "data": {
      "image/png": "[encoded data removed]",
      "text/plain": [
       "<Figure size 432x288 with 1 Axes>"
      ]
     },
     "metadata": {
      "needs_background": "light"
     },
     "output_type": "display_data"
    }
   ],
   "source": [
    "plt.plot(ticker_cluster[\"stoch\"], color=\"orange\")"
   ]
  },
  {
   "cell_type": "code",
   "execution_count": 32,
   "metadata": {
    "pycharm": {
     "name": "#%%\n"
    }
   },
   "outputs": [],
   "source": [
    "# plt.plot(ticker_cluster[\"adx\"], color=\"green\")"
   ]
  },
  {
   "cell_type": "code",
   "execution_count": null,
   "metadata": {
    "pycharm": {
     "name": "#%%\n"
    }
   },
   "outputs": [],
   "source": []
  },
  {
   "cell_type": "code",
   "execution_count": 33,
   "metadata": {
    "pycharm": {
     "name": "#%%\n"
    }
   },
   "outputs": [
    {
     "data": {
      "text/plain": [
       "[<matplotlib.lines.Line2D at 0x7f890c568f10>]"
      ]
     },
     "execution_count": 33,
     "metadata": {},
     "output_type": "execute_result"
    },
    {
     "data": {
      "image/png": "[encoded data removed]",
      "text/plain": [
       "<Figure size 432x288 with 1 Axes>"
      ]
     },
     "metadata": {
      "needs_background": "light"
     },
     "output_type": "display_data"
    }
   ],
   "source": [
    "plt.plot(ticker_cluster[\"close\"].pct_change(), color=\"green\")"
   ]
  },
  {
   "cell_type": "code",
   "execution_count": 34,
   "metadata": {
    "pycharm": {
     "name": "#%%\n"
    }
   },
   "outputs": [
    {
     "data": {
      "text/plain": [
       "[<matplotlib.lines.Line2D at 0x7f890c5595d0>]"
      ]
     },
     "execution_count": 34,
     "metadata": {},
     "output_type": "execute_result"
    },
    {
     "data": {
      "image/png": "[encoded data removed]",
      "text/plain": [
       "<Figure size 432x288 with 1 Axes>"
      ]
     },
     "metadata": {
      "needs_background": "light"
     },
     "output_type": "display_data"
    }
   ],
   "source": [
    "plt.plot(ticker_cluster[\"macd\"].pct_change(), color=\"purple\")"
   ]
  },
  {
   "cell_type": "code",
   "execution_count": 35,
   "metadata": {
    "pycharm": {
     "name": "#%%\n"
    }
   },
   "outputs": [
    {
     "data": {
      "text/plain": [
       "[<matplotlib.lines.Line2D at 0x7f890c4c6cd0>]"
      ]
     },
     "execution_count": 35,
     "metadata": {},
     "output_type": "execute_result"
    },
    {
     "data": {
      "image/png": "[encoded data removed]",
      "text/plain": [
       "<Figure size 432x288 with 1 Axes>"
      ]
     },
     "metadata": {
      "needs_background": "light"
     },
     "output_type": "display_data"
    }
   ],
   "source": [
    "plt.plot(ticker_cluster[\"signal\"].pct_change(), color=\"pink\")"
   ]
  },
  {
   "cell_type": "code",
   "execution_count": 36,
   "metadata": {
    "pycharm": {
     "name": "#%%\n"
    }
   },
   "outputs": [
    {
     "data": {
      "text/plain": [
       "[<matplotlib.lines.Line2D at 0x7f890c432f90>]"
      ]
     },
     "execution_count": 36,
     "metadata": {},
     "output_type": "execute_result"
    },
    {
     "data": {
      "image/png": "[encoded data removed]",
      "text/plain": [
       "<Figure size 432x288 with 1 Axes>"
      ]
     },
     "metadata": {
      "needs_background": "light"
     },
     "output_type": "display_data"
    }
   ],
   "source": [
    "plt.plot(ticker_cluster[\"mfi\"].pct_change(), color=\"yellow\")"
   ]
  },
  {
   "cell_type": "code",
   "execution_count": 37,
   "metadata": {
    "pycharm": {
     "name": "#%%\n"
    }
   },
   "outputs": [
    {
     "data": {
      "text/plain": [
       "[<matplotlib.lines.Line2D at 0x7f890c41fc90>]"
      ]
     },
     "execution_count": 37,
     "metadata": {},
     "output_type": "execute_result"
    },
    {
     "data": {
      "image/png": "[encoded data removed]",
      "text/plain": [
       "<Figure size 432x288 with 1 Axes>"
      ]
     },
     "metadata": {
      "needs_background": "light"
     },
     "output_type": "display_data"
    }
   ],
   "source": [
    "plt.plot(ticker_cluster[\"vzo\"].pct_change(), color=\"orange\")"
   ]
  },
  {
   "cell_type": "code",
   "execution_count": 38,
   "metadata": {
    "pycharm": {
     "name": "#%%\n"
    }
   },
   "outputs": [
    {
     "data": {
      "text/plain": [
       "[<matplotlib.lines.Line2D at 0x7f890c390e90>]"
      ]
     },
     "execution_count": 38,
     "metadata": {},
     "output_type": "execute_result"
    },
    {
     "data": {
      "image/png": "[encoded data removed]",
      "text/plain": [
       "<Figure size 432x288 with 1 Axes>"
      ]
     },
     "metadata": {
      "needs_background": "light"
     },
     "output_type": "display_data"
    }
   ],
   "source": [
    "plt.plot(ticker_cluster[\"stoch\"].pct_change(), color=\"orange\")"
   ]
  },
  {
   "cell_type": "code",
   "execution_count": 39,
   "metadata": {
    "pycharm": {
     "name": "#%%\n"
    }
   },
   "outputs": [],
   "source": [
    "vwap = indicators.get_vwap(minute_bars)"
   ]
  },
  {
   "cell_type": "code",
   "execution_count": 40,
   "metadata": {
    "pycharm": {
     "name": "#%%\n"
    }
   },
   "outputs": [
    {
     "data": {
      "text/plain": [
       "[<matplotlib.lines.Line2D at 0x7f890c3024d0>]"
      ]
     },
     "execution_count": 40,
     "metadata": {},
     "output_type": "execute_result"
    },
    {
     "data": {
      "image/png": "[encoded data removed]",
      "text/plain": [
       "<Figure size 432x288 with 1 Axes>"
      ]
     },
     "metadata": {
      "needs_background": "light"
     },
     "output_type": "display_data"
    }
   ],
   "source": [
    "plt.plot(vwap, color=\"blue\")"
   ]
  },
  {
   "cell_type": "code",
   "execution_count": 41,
   "metadata": {
    "pycharm": {
     "name": "#%%\n"
    }
   },
   "outputs": [
    {
     "data": {
      "text/plain": [
       "[<matplotlib.lines.Line2D at 0x7f890c27b050>]"
      ]
     },
     "execution_count": 41,
     "metadata": {},
     "output_type": "execute_result"
    },
    {
     "data": {
      "image/png": "[encoded data removed]",
      "text/plain": [
       "<Figure size 432x288 with 1 Axes>"
      ]
     },
     "metadata": {
      "needs_background": "light"
     },
     "output_type": "display_data"
    }
   ],
   "source": [
    "plt.plot(vwap.pct_change(), color=\"blue\")"
   ]
  },
  {
   "cell_type": "code",
   "execution_count": 42,
   "metadata": {
    "pycharm": {
     "name": "#%%\n"
    }
   },
   "outputs": [],
   "source": [
    "minute_macd = indicators.get_macd(minute_bars)"
   ]
  },
  {
   "cell_type": "code",
   "execution_count": 43,
   "metadata": {
    "pycharm": {
     "name": "#%%\n"
    }
   },
   "outputs": [
    {
     "data": {
      "text/plain": [
       "[<matplotlib.lines.Line2D at 0x7f890c1ed410>]"
      ]
     },
     "execution_count": 43,
     "metadata": {},
     "output_type": "execute_result"
    },
    {
     "data": {
      "image/png": "[encoded data removed]",
      "text/plain": [
       "<Figure size 432x288 with 1 Axes>"
      ]
     },
     "metadata": {
      "needs_background": "light"
     },
     "output_type": "display_data"
    }
   ],
   "source": [
    "plt.plot(minute_macd[\"MACD\"].iloc[-50:], color=\"red\")\n",
    "plt.plot(minute_macd[\"SIGNAL\"].iloc[-50:], color=\"green\")"
   ]
  },
  {
   "cell_type": "code",
   "execution_count": 44,
   "metadata": {
    "pycharm": {
     "name": "#%%\n"
    }
   },
   "outputs": [
    {
     "data": {
      "text/plain": [
       "[<matplotlib.lines.Line2D at 0x7f890c1acd10>]"
      ]
     },
     "execution_count": 44,
     "metadata": {},
     "output_type": "execute_result"
    },
    {
     "data": {
      "image/png": "[encoded data removed]",
      "text/plain": [
       "<Figure size 432x288 with 1 Axes>"
      ]
     },
     "metadata": {
      "needs_background": "light"
     },
     "output_type": "display_data"
    }
   ],
   "source": [
    "plt.plot(minute_bars[\"close\"].iloc[-50:], color=\"orange\")\n",
    "plt.plot(vwap.iloc[-50:], color=\"blue\")"
   ]
  },
  {
   "cell_type": "code",
   "execution_count": 45,
   "metadata": {
    "pycharm": {
     "name": "#%%\n"
    }
   },
   "outputs": [
    {
     "data": {
      "text/plain": [
       "[<matplotlib.lines.Line2D at 0x7f890c13b950>]"
      ]
     },
     "execution_count": 45,
     "metadata": {},
     "output_type": "execute_result"
    },
    {
     "data": {
      "image/png": "[encoded data removed]",
      "text/plain": [
       "<Figure size 432x288 with 1 Axes>"
      ]
     },
     "metadata": {
      "needs_background": "light"
     },
     "output_type": "display_data"
    }
   ],
   "source": [
    "plt.plot(minute_bars[\"close\"].iloc[-50:], color=\"orange\")"
   ]
  },
  {
   "cell_type": "code",
   "execution_count": 46,
   "metadata": {},
   "outputs": [],
   "source": [
    "# Feature Scaling Normalization\n",
    "close_prices = pd.DataFrame(minute_bars[\"close\"])\n",
    "sc = MinMaxScaler(feature_range = (0, 1))\n",
    "training_set_scaled = sc.fit_transform(close_prices)"
   ]
  },
  {
   "cell_type": "code",
   "execution_count": 47,
   "metadata": {},
   "outputs": [],
   "source": [
    "# calculate the max drawdown\n",
    "max_drawdown = max_drawdown(minute_bars[\"close\"])\n",
    "day_bars.iloc[-50:]"
   ]
  },
  {
   "cell_type": "code",
   "execution_count": 51,
   "metadata": {
    "pycharm": {
     "name": "#%%\n"
    }
   },
   "outputs": [
    {
     "data": {
      "text/html": [
       "<div>\n",
       "<style scoped>\n",
       "    .dataframe tbody tr th:only-of-type {\n",
       "        vertical-align: middle;\n",
       "    }\n",
       "\n",
       "    .dataframe tbody tr th {\n",
       "        vertical-align: top;\n",
       "    }\n",
       "\n",
       "    .dataframe thead th {\n",
       "        text-align: right;\n",
       "    }\n",
       "</style>\n",
       "<table border=\"1\" class=\"dataframe\">\n",
       "  <thead>\n",
       "    <tr style=\"text-align: right;\">\n",
       "      <th></th>\n",
       "      <th>time</th>\n",
       "      <th>open</th>\n",
       "      <th>high</th>\n",
       "      <th>low</th>\n",
       "      <th>close</th>\n",
       "      <th>volume</th>\n",
       "    </tr>\n",
       "  </thead>\n",
       "  <tbody>\n",
       "    <tr>\n",
       "      <td>13</td>\n",
       "      <td>2019-08-27 00:00:00-04:00</td>\n",
       "      <td>289.54</td>\n",
       "      <td>289.9500</td>\n",
       "      <td>286.0300</td>\n",
       "      <td>286.8400</td>\n",
       "      <td>57062542</td>\n",
       "    </tr>\n",
       "    <tr>\n",
       "      <td>14</td>\n",
       "      <td>2019-08-28 00:00:00-04:00</td>\n",
       "      <td>286.14</td>\n",
       "      <td>289.0700</td>\n",
       "      <td>285.2500</td>\n",
       "      <td>288.8400</td>\n",
       "      <td>50136080</td>\n",
       "    </tr>\n",
       "    <tr>\n",
       "      <td>15</td>\n",
       "      <td>2019-08-29 00:00:00-04:00</td>\n",
       "      <td>291.72</td>\n",
       "      <td>293.1600</td>\n",
       "      <td>290.6100</td>\n",
       "      <td>292.5600</td>\n",
       "      <td>46853904</td>\n",
       "    </tr>\n",
       "    <tr>\n",
       "      <td>16</td>\n",
       "      <td>2019-08-30 00:00:00-04:00</td>\n",
       "      <td>294.22</td>\n",
       "      <td>294.2399</td>\n",
       "      <td>291.4200</td>\n",
       "      <td>292.4527</td>\n",
       "      <td>49059839</td>\n",
       "    </tr>\n",
       "    <tr>\n",
       "      <td>17</td>\n",
       "      <td>2019-09-03 00:00:00-04:00</td>\n",
       "      <td>290.57</td>\n",
       "      <td>291.5800</td>\n",
       "      <td>289.2700</td>\n",
       "      <td>290.7750</td>\n",
       "      <td>52837823</td>\n",
       "    </tr>\n",
       "    <tr>\n",
       "      <td>18</td>\n",
       "      <td>2019-09-04 00:00:00-04:00</td>\n",
       "      <td>293.14</td>\n",
       "      <td>294.0550</td>\n",
       "      <td>292.3100</td>\n",
       "      <td>293.9700</td>\n",
       "      <td>38261914</td>\n",
       "    </tr>\n",
       "    <tr>\n",
       "      <td>19</td>\n",
       "      <td>2019-09-05 00:00:00-04:00</td>\n",
       "      <td>296.79</td>\n",
       "      <td>298.8300</td>\n",
       "      <td>294.0010</td>\n",
       "      <td>297.8200</td>\n",
       "      <td>68516970</td>\n",
       "    </tr>\n",
       "    <tr>\n",
       "      <td>20</td>\n",
       "      <td>2019-09-06 00:00:00-04:00</td>\n",
       "      <td>298.17</td>\n",
       "      <td>298.7600</td>\n",
       "      <td>297.4200</td>\n",
       "      <td>298.0700</td>\n",
       "      <td>39903355</td>\n",
       "    </tr>\n",
       "    <tr>\n",
       "      <td>21</td>\n",
       "      <td>2019-09-09 00:00:00-04:00</td>\n",
       "      <td>299.14</td>\n",
       "      <td>299.2400</td>\n",
       "      <td>297.1600</td>\n",
       "      <td>298.1500</td>\n",
       "      <td>44162496</td>\n",
       "    </tr>\n",
       "    <tr>\n",
       "      <td>22</td>\n",
       "      <td>2019-09-10 00:00:00-04:00</td>\n",
       "      <td>297.36</td>\n",
       "      <td>298.2000</td>\n",
       "      <td>295.9700</td>\n",
       "      <td>298.2000</td>\n",
       "      <td>48742185</td>\n",
       "    </tr>\n",
       "    <tr>\n",
       "      <td>23</td>\n",
       "      <td>2019-09-11 00:00:00-04:00</td>\n",
       "      <td>298.47</td>\n",
       "      <td>300.3400</td>\n",
       "      <td>297.7500</td>\n",
       "      <td>300.2900</td>\n",
       "      <td>52987652</td>\n",
       "    </tr>\n",
       "    <tr>\n",
       "      <td>24</td>\n",
       "      <td>2019-09-12 00:00:00-04:00</td>\n",
       "      <td>301.25</td>\n",
       "      <td>302.4600</td>\n",
       "      <td>300.4100</td>\n",
       "      <td>301.2700</td>\n",
       "      <td>61891661</td>\n",
       "    </tr>\n",
       "    <tr>\n",
       "      <td>25</td>\n",
       "      <td>2019-09-13 00:00:00-04:00</td>\n",
       "      <td>301.78</td>\n",
       "      <td>302.1700</td>\n",
       "      <td>300.6800</td>\n",
       "      <td>301.0500</td>\n",
       "      <td>51342042</td>\n",
       "    </tr>\n",
       "    <tr>\n",
       "      <td>26</td>\n",
       "      <td>2019-09-16 00:00:00-04:00</td>\n",
       "      <td>299.81</td>\n",
       "      <td>301.1378</td>\n",
       "      <td>299.4500</td>\n",
       "      <td>300.1600</td>\n",
       "      <td>45337312</td>\n",
       "    </tr>\n",
       "    <tr>\n",
       "      <td>27</td>\n",
       "      <td>2019-09-17 00:00:00-04:00</td>\n",
       "      <td>299.94</td>\n",
       "      <td>301.0200</td>\n",
       "      <td>299.7500</td>\n",
       "      <td>300.9400</td>\n",
       "      <td>33584803</td>\n",
       "    </tr>\n",
       "    <tr>\n",
       "      <td>28</td>\n",
       "      <td>2019-09-18 00:00:00-04:00</td>\n",
       "      <td>300.49</td>\n",
       "      <td>301.2200</td>\n",
       "      <td>298.2400</td>\n",
       "      <td>301.1000</td>\n",
       "      <td>63587736</td>\n",
       "    </tr>\n",
       "    <tr>\n",
       "      <td>29</td>\n",
       "      <td>2019-09-19 00:00:00-04:00</td>\n",
       "      <td>301.53</td>\n",
       "      <td>302.6300</td>\n",
       "      <td>300.7103</td>\n",
       "      <td>301.0600</td>\n",
       "      <td>64061329</td>\n",
       "    </tr>\n",
       "    <tr>\n",
       "      <td>30</td>\n",
       "      <td>2019-09-20 00:00:00-04:00</td>\n",
       "      <td>300.39</td>\n",
       "      <td>300.6700</td>\n",
       "      <td>297.4100</td>\n",
       "      <td>298.1300</td>\n",
       "      <td>71319772</td>\n",
       "    </tr>\n",
       "    <tr>\n",
       "      <td>31</td>\n",
       "      <td>2019-09-23 00:00:00-04:00</td>\n",
       "      <td>297.55</td>\n",
       "      <td>299.0000</td>\n",
       "      <td>297.2700</td>\n",
       "      <td>298.2500</td>\n",
       "      <td>32660106</td>\n",
       "    </tr>\n",
       "    <tr>\n",
       "      <td>32</td>\n",
       "      <td>2019-09-24 00:00:00-04:00</td>\n",
       "      <td>299.41</td>\n",
       "      <td>299.8400</td>\n",
       "      <td>294.8100</td>\n",
       "      <td>295.8100</td>\n",
       "      <td>79294759</td>\n",
       "    </tr>\n",
       "    <tr>\n",
       "      <td>33</td>\n",
       "      <td>2019-09-25 00:00:00-04:00</td>\n",
       "      <td>295.96</td>\n",
       "      <td>298.1100</td>\n",
       "      <td>294.3300</td>\n",
       "      <td>297.6000</td>\n",
       "      <td>51087903</td>\n",
       "    </tr>\n",
       "    <tr>\n",
       "      <td>34</td>\n",
       "      <td>2019-09-26 00:00:00-04:00</td>\n",
       "      <td>297.63</td>\n",
       "      <td>297.8600</td>\n",
       "      <td>295.4500</td>\n",
       "      <td>296.9700</td>\n",
       "      <td>46738477</td>\n",
       "    </tr>\n",
       "    <tr>\n",
       "      <td>35</td>\n",
       "      <td>2019-09-27 00:00:00-04:00</td>\n",
       "      <td>297.83</td>\n",
       "      <td>297.9465</td>\n",
       "      <td>293.6900</td>\n",
       "      <td>295.3600</td>\n",
       "      <td>63963817</td>\n",
       "    </tr>\n",
       "    <tr>\n",
       "      <td>36</td>\n",
       "      <td>2019-09-30 00:00:00-04:00</td>\n",
       "      <td>295.97</td>\n",
       "      <td>297.5500</td>\n",
       "      <td>295.9200</td>\n",
       "      <td>296.7905</td>\n",
       "      <td>39275977</td>\n",
       "    </tr>\n",
       "    <tr>\n",
       "      <td>37</td>\n",
       "      <td>2019-10-01 00:00:00-04:00</td>\n",
       "      <td>297.74</td>\n",
       "      <td>298.4550</td>\n",
       "      <td>293.0000</td>\n",
       "      <td>293.2200</td>\n",
       "      <td>77691705</td>\n",
       "    </tr>\n",
       "    <tr>\n",
       "      <td>38</td>\n",
       "      <td>2019-10-02 00:00:00-04:00</td>\n",
       "      <td>291.50</td>\n",
       "      <td>291.5100</td>\n",
       "      <td>286.6400</td>\n",
       "      <td>288.0400</td>\n",
       "      <td>105113318</td>\n",
       "    </tr>\n",
       "    <tr>\n",
       "      <td>39</td>\n",
       "      <td>2019-10-03 00:00:00-04:00</td>\n",
       "      <td>287.81</td>\n",
       "      <td>290.4000</td>\n",
       "      <td>284.8200</td>\n",
       "      <td>290.3700</td>\n",
       "      <td>72880907</td>\n",
       "    </tr>\n",
       "    <tr>\n",
       "      <td>40</td>\n",
       "      <td>2019-10-04 00:00:00-04:00</td>\n",
       "      <td>291.14</td>\n",
       "      <td>294.6300</td>\n",
       "      <td>290.8200</td>\n",
       "      <td>294.3700</td>\n",
       "      <td>47928410</td>\n",
       "    </tr>\n",
       "    <tr>\n",
       "      <td>41</td>\n",
       "      <td>2019-10-07 00:00:00-04:00</td>\n",
       "      <td>293.47</td>\n",
       "      <td>295.2600</td>\n",
       "      <td>292.7700</td>\n",
       "      <td>293.1100</td>\n",
       "      <td>49268837</td>\n",
       "    </tr>\n",
       "    <tr>\n",
       "      <td>42</td>\n",
       "      <td>2019-10-08 00:00:00-04:00</td>\n",
       "      <td>291.03</td>\n",
       "      <td>291.8500</td>\n",
       "      <td>288.4900</td>\n",
       "      <td>288.5500</td>\n",
       "      <td>77458652</td>\n",
       "    </tr>\n",
       "    <tr>\n",
       "      <td>43</td>\n",
       "      <td>2019-10-09 00:00:00-04:00</td>\n",
       "      <td>290.75</td>\n",
       "      <td>292.3000</td>\n",
       "      <td>288.6559</td>\n",
       "      <td>291.2300</td>\n",
       "      <td>46500022</td>\n",
       "    </tr>\n",
       "    <tr>\n",
       "      <td>44</td>\n",
       "      <td>2019-10-10 00:00:00-04:00</td>\n",
       "      <td>291.18</td>\n",
       "      <td>294.2100</td>\n",
       "      <td>291.0000</td>\n",
       "      <td>293.2400</td>\n",
       "      <td>48280559</td>\n",
       "    </tr>\n",
       "    <tr>\n",
       "      <td>45</td>\n",
       "      <td>2019-10-11 00:00:00-04:00</td>\n",
       "      <td>296.27</td>\n",
       "      <td>298.7400</td>\n",
       "      <td>296.1448</td>\n",
       "      <td>296.2600</td>\n",
       "      <td>78269814</td>\n",
       "    </tr>\n",
       "    <tr>\n",
       "      <td>46</td>\n",
       "      <td>2019-10-14 00:00:00-04:00</td>\n",
       "      <td>295.93</td>\n",
       "      <td>296.6700</td>\n",
       "      <td>295.5700</td>\n",
       "      <td>296.0100</td>\n",
       "      <td>31109619</td>\n",
       "    </tr>\n",
       "    <tr>\n",
       "      <td>47</td>\n",
       "      <td>2019-10-15 00:00:00-04:00</td>\n",
       "      <td>297.10</td>\n",
       "      <td>299.7000</td>\n",
       "      <td>296.9700</td>\n",
       "      <td>298.9000</td>\n",
       "      <td>38687211</td>\n",
       "    </tr>\n",
       "    <tr>\n",
       "      <td>48</td>\n",
       "      <td>2019-10-16 00:00:00-04:00</td>\n",
       "      <td>298.37</td>\n",
       "      <td>299.1600</td>\n",
       "      <td>297.9200</td>\n",
       "      <td>298.4100</td>\n",
       "      <td>40929771</td>\n",
       "    </tr>\n",
       "    <tr>\n",
       "      <td>49</td>\n",
       "      <td>2019-10-17 00:00:00-04:00</td>\n",
       "      <td>299.68</td>\n",
       "      <td>300.2400</td>\n",
       "      <td>298.5150</td>\n",
       "      <td>299.2400</td>\n",
       "      <td>39650199</td>\n",
       "    </tr>\n",
       "    <tr>\n",
       "      <td>50</td>\n",
       "      <td>2019-10-18 00:00:00-04:00</td>\n",
       "      <td>298.69</td>\n",
       "      <td>299.3950</td>\n",
       "      <td>296.9900</td>\n",
       "      <td>297.9800</td>\n",
       "      <td>45600170</td>\n",
       "    </tr>\n",
       "    <tr>\n",
       "      <td>51</td>\n",
       "      <td>2019-10-21 00:00:00-04:00</td>\n",
       "      <td>299.42</td>\n",
       "      <td>300.2100</td>\n",
       "      <td>298.9350</td>\n",
       "      <td>300.0500</td>\n",
       "      <td>29676133</td>\n",
       "    </tr>\n",
       "    <tr>\n",
       "      <td>52</td>\n",
       "      <td>2019-10-22 00:00:00-04:00</td>\n",
       "      <td>300.58</td>\n",
       "      <td>300.9000</td>\n",
       "      <td>298.9100</td>\n",
       "      <td>299.0300</td>\n",
       "      <td>42747335</td>\n",
       "    </tr>\n",
       "    <tr>\n",
       "      <td>53</td>\n",
       "      <td>2019-10-23 00:00:00-04:00</td>\n",
       "      <td>298.73</td>\n",
       "      <td>299.9400</td>\n",
       "      <td>298.4950</td>\n",
       "      <td>299.8600</td>\n",
       "      <td>27944600</td>\n",
       "    </tr>\n",
       "    <tr>\n",
       "      <td>54</td>\n",
       "      <td>2019-10-24 00:00:00-04:00</td>\n",
       "      <td>300.91</td>\n",
       "      <td>301.0700</td>\n",
       "      <td>299.4601</td>\n",
       "      <td>300.4200</td>\n",
       "      <td>29710976</td>\n",
       "    </tr>\n",
       "    <tr>\n",
       "      <td>55</td>\n",
       "      <td>2019-10-25 00:00:00-04:00</td>\n",
       "      <td>299.74</td>\n",
       "      <td>302.2000</td>\n",
       "      <td>299.6806</td>\n",
       "      <td>301.5650</td>\n",
       "      <td>36933520</td>\n",
       "    </tr>\n",
       "    <tr>\n",
       "      <td>56</td>\n",
       "      <td>2019-10-28 00:00:00-04:00</td>\n",
       "      <td>302.94</td>\n",
       "      <td>303.8500</td>\n",
       "      <td>302.9100</td>\n",
       "      <td>303.3600</td>\n",
       "      <td>34008580</td>\n",
       "    </tr>\n",
       "    <tr>\n",
       "      <td>57</td>\n",
       "      <td>2019-10-29 00:00:00-04:00</td>\n",
       "      <td>303.00</td>\n",
       "      <td>304.2300</td>\n",
       "      <td>302.8600</td>\n",
       "      <td>303.2000</td>\n",
       "      <td>38915074</td>\n",
       "    </tr>\n",
       "    <tr>\n",
       "      <td>58</td>\n",
       "      <td>2019-10-30 00:00:00-04:00</td>\n",
       "      <td>303.43</td>\n",
       "      <td>304.5500</td>\n",
       "      <td>301.9900</td>\n",
       "      <td>304.1400</td>\n",
       "      <td>40022810</td>\n",
       "    </tr>\n",
       "    <tr>\n",
       "      <td>59</td>\n",
       "      <td>2019-10-31 00:00:00-04:00</td>\n",
       "      <td>302.22</td>\n",
       "      <td>303.3900</td>\n",
       "      <td>301.8500</td>\n",
       "      <td>303.2600</td>\n",
       "      <td>40099433</td>\n",
       "    </tr>\n",
       "    <tr>\n",
       "      <td>60</td>\n",
       "      <td>2019-11-01 00:00:00-04:00</td>\n",
       "      <td>304.92</td>\n",
       "      <td>306.1900</td>\n",
       "      <td>304.7600</td>\n",
       "      <td>306.1800</td>\n",
       "      <td>55507038</td>\n",
       "    </tr>\n",
       "    <tr>\n",
       "      <td>61</td>\n",
       "      <td>2019-11-04 00:00:00-05:00</td>\n",
       "      <td>307.85</td>\n",
       "      <td>308.0000</td>\n",
       "      <td>306.9600</td>\n",
       "      <td>307.3400</td>\n",
       "      <td>51277730</td>\n",
       "    </tr>\n",
       "    <tr>\n",
       "      <td>62</td>\n",
       "      <td>2019-11-05 00:00:00-05:00</td>\n",
       "      <td>307.59</td>\n",
       "      <td>307.9195</td>\n",
       "      <td>306.7100</td>\n",
       "      <td>307.0000</td>\n",
       "      <td>36171191</td>\n",
       "    </tr>\n",
       "  </tbody>\n",
       "</table>\n",
       "</div>"
      ],
      "text/plain": [
       "                        time    open      high       low     close     volume\n",
       "13 2019-08-27 00:00:00-04:00  289.54  289.9500  286.0300  286.8400   57062542\n",
       "14 2019-08-28 00:00:00-04:00  286.14  289.0700  285.2500  288.8400   50136080\n",
       "15 2019-08-29 00:00:00-04:00  291.72  293.1600  290.6100  292.5600   46853904\n",
       "16 2019-08-30 00:00:00-04:00  294.22  294.2399  291.4200  292.4527   49059839\n",
       "17 2019-09-03 00:00:00-04:00  290.57  291.5800  289.2700  290.7750   52837823\n",
       "18 2019-09-04 00:00:00-04:00  293.14  294.0550  292.3100  293.9700   38261914\n",
       "19 2019-09-05 00:00:00-04:00  296.79  298.8300  294.0010  297.8200   68516970\n",
       "20 2019-09-06 00:00:00-04:00  298.17  298.7600  297.4200  298.0700   39903355\n",
       "21 2019-09-09 00:00:00-04:00  299.14  299.2400  297.1600  298.1500   44162496\n",
       "22 2019-09-10 00:00:00-04:00  297.36  298.2000  295.9700  298.2000   48742185\n",
       "23 2019-09-11 00:00:00-04:00  298.47  300.3400  297.7500  300.2900   52987652\n",
       "24 2019-09-12 00:00:00-04:00  301.25  302.4600  300.4100  301.2700   61891661\n",
       "25 2019-09-13 00:00:00-04:00  301.78  302.1700  300.6800  301.0500   51342042\n",
       "26 2019-09-16 00:00:00-04:00  299.81  301.1378  299.4500  300.1600   45337312\n",
       "27 2019-09-17 00:00:00-04:00  299.94  301.0200  299.7500  300.9400   33584803\n",
       "28 2019-09-18 00:00:00-04:00  300.49  301.2200  298.2400  301.1000   63587736\n",
       "29 2019-09-19 00:00:00-04:00  301.53  302.6300  300.7103  301.0600   64061329\n",
       "30 2019-09-20 00:00:00-04:00  300.39  300.6700  297.4100  298.1300   71319772\n",
       "31 2019-09-23 00:00:00-04:00  297.55  299.0000  297.2700  298.2500   32660106\n",
       "32 2019-09-24 00:00:00-04:00  299.41  299.8400  294.8100  295.8100   79294759\n",
       "33 2019-09-25 00:00:00-04:00  295.96  298.1100  294.3300  297.6000   51087903\n",
       "34 2019-09-26 00:00:00-04:00  297.63  297.8600  295.4500  296.9700   46738477\n",
       "35 2019-09-27 00:00:00-04:00  297.83  297.9465  293.6900  295.3600   63963817\n",
       "36 2019-09-30 00:00:00-04:00  295.97  297.5500  295.9200  296.7905   39275977\n",
       "37 2019-10-01 00:00:00-04:00  297.74  298.4550  293.0000  293.2200   77691705\n",
       "38 2019-10-02 00:00:00-04:00  291.50  291.5100  286.6400  288.0400  105113318\n",
       "39 2019-10-03 00:00:00-04:00  287.81  290.4000  284.8200  290.3700   72880907\n",
       "40 2019-10-04 00:00:00-04:00  291.14  294.6300  290.8200  294.3700   47928410\n",
       "41 2019-10-07 00:00:00-04:00  293.47  295.2600  292.7700  293.1100   49268837\n",
       "42 2019-10-08 00:00:00-04:00  291.03  291.8500  288.4900  288.5500   77458652\n",
       "43 2019-10-09 00:00:00-04:00  290.75  292.3000  288.6559  291.2300   46500022\n",
       "44 2019-10-10 00:00:00-04:00  291.18  294.2100  291.0000  293.2400   48280559\n",
       "45 2019-10-11 00:00:00-04:00  296.27  298.7400  296.1448  296.2600   78269814\n",
       "46 2019-10-14 00:00:00-04:00  295.93  296.6700  295.5700  296.0100   31109619\n",
       "47 2019-10-15 00:00:00-04:00  297.10  299.7000  296.9700  298.9000   38687211\n",
       "48 2019-10-16 00:00:00-04:00  298.37  299.1600  297.9200  298.4100   40929771\n",
       "49 2019-10-17 00:00:00-04:00  299.68  300.2400  298.5150  299.2400   39650199\n",
       "50 2019-10-18 00:00:00-04:00  298.69  299.3950  296.9900  297.9800   45600170\n",
       "51 2019-10-21 00:00:00-04:00  299.42  300.2100  298.9350  300.0500   29676133\n",
       "52 2019-10-22 00:00:00-04:00  300.58  300.9000  298.9100  299.0300   42747335\n",
       "53 2019-10-23 00:00:00-04:00  298.73  299.9400  298.4950  299.8600   27944600\n",
       "54 2019-10-24 00:00:00-04:00  300.91  301.0700  299.4601  300.4200   29710976\n",
       "55 2019-10-25 00:00:00-04:00  299.74  302.2000  299.6806  301.5650   36933520\n",
       "56 2019-10-28 00:00:00-04:00  302.94  303.8500  302.9100  303.3600   34008580\n",
       "57 2019-10-29 00:00:00-04:00  303.00  304.2300  302.8600  303.2000   38915074\n",
       "58 2019-10-30 00:00:00-04:00  303.43  304.5500  301.9900  304.1400   40022810\n",
       "59 2019-10-31 00:00:00-04:00  302.22  303.3900  301.8500  303.2600   40099433\n",
       "60 2019-11-01 00:00:00-04:00  304.92  306.1900  304.7600  306.1800   55507038\n",
       "61 2019-11-04 00:00:00-05:00  307.85  308.0000  306.9600  307.3400   51277730\n",
       "62 2019-11-05 00:00:00-05:00  307.59  307.9195  306.7100  307.0000   36171191"
      ]
     },
     "execution_count": 51,
     "metadata": {},
     "output_type": "execute_result"
    }
   ],
   "source": [
    "day_spy_bars.iloc[-50:]"
   ]
  },
  {
   "cell_type": "code",
   "execution_count": 52,
   "metadata": {
    "pycharm": {
     "name": "#%%\n"
    }
   },
   "outputs": [
    {
     "name": "stderr",
     "output_type": "stream",
     "text": [
      "/home/ben/anaconda3/envs/alpaca_test/lib/python3.7/site-packages/empyrical/stats.py:1294: RuntimeWarning:\n",
      "\n",
      "overflow encountered in power\n",
      "\n"
     ]
    }
   ],
   "source": [
    "# calculate alpha and beta\n",
    "alpha = alpha(minute_bars[\"close\"], minute_spy_bars[\"close\"])\n",
    "beta = beta(minute_bars[\"close\"], minute_spy_bars[\"close\"])"
   ]
  },
  {
   "cell_type": "code",
   "execution_count": 53,
   "metadata": {},
   "outputs": [
    {
     "data": {
      "text/plain": [
       "inf"
      ]
     },
     "execution_count": 53,
     "metadata": {},
     "output_type": "execute_result"
    }
   ],
   "source": [
    "print(alpha, beta, max_drawdown)"
   ]
  },
  {
   "cell_type": "code",
   "execution_count": null,
   "metadata": {},
   "outputs": [],
   "source": []
  },
  {
   "cell_type": "code",
   "execution_count": null,
   "metadata": {},
   "outputs": [],
   "source": []
  },
  {
   "cell_type": "code",
   "execution_count": null,
   "metadata": {},
   "outputs": [],
   "source": []
  },
  {
   "cell_type": "code",
   "execution_count": null,
   "metadata": {},
   "outputs": [],
   "source": []
  },
  {
   "cell_type": "code",
   "execution_count": null,
   "metadata": {},
   "outputs": [],
   "source": []
  },
  {
   "cell_type": "code",
   "execution_count": null,
   "metadata": {},
   "outputs": [],
   "source": []
  },
  {
   "cell_type": "code",
   "execution_count": null,
   "metadata": {},
   "outputs": [],
   "source": []
  },
  {
   "cell_type": "code",
   "execution_count": null,
   "metadata": {},
   "outputs": [],
   "source": []
  },
  {
   "cell_type": "code",
   "execution_count": null,
   "metadata": {},
   "outputs": [],
   "source": []
  },
  {
   "cell_type": "code",
   "execution_count": null,
   "metadata": {},
   "outputs": [],
   "source": []
  },
  {
   "cell_type": "code",
   "execution_count": null,
   "metadata": {},
   "outputs": [],
   "source": []
  }
 ],
 "metadata": {
  "kernelspec": {
   "display_name": "Python 3",
   "language": "python",
   "name": "python3"
  },
  "language_info": {
   "codemirror_mode": {
    "name": "ipython",
    "version": 3
   },
   "file_extension": ".py",
   "mimetype": "text/x-python",
   "name": "python",
   "nbconvert_exporter": "python",
   "pygments_lexer": "ipython3",
   "version": "3.7.4"
  },
  "pycharm": {
   "stem_cell": {
    "cell_type": "raw",
    "source": [],
    "metadata": {
     "collapsed": false
    }
   }
  }
 },
 "nbformat": 4,
 "nbformat_minor": 1
}