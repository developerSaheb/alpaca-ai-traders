{
 "cells": [
  {
   "cell_type": "code",
   "execution_count": 2,
   "metadata": {
    "pycharm": {
     "is_executing": false
    }
   },
   "outputs": [
    {
     "data": {
      "text/html": [
       "        <script type=\"text/javascript\">\n",
       "        window.PlotlyConfig = {MathJaxConfig: 'local'};\n",
       "        if (window.MathJax) {MathJax.Hub.Config({SVG: {font: \"STIX-Web\"}});}\n",
       "        if (typeof require !== 'undefined') {\n",
       "        require.undef(\"plotly\");\n",
       "        requirejs.config({\n",
       "            paths: {\n",
       "                'plotly': ['https://cdn.plot.ly/plotly-latest.min']\n",
       "            }\n",
       "        });\n",
       "        require(['plotly'], function(Plotly) {\n",
       "            window._Plotly = Plotly;\n",
       "        });\n",
       "        }\n",
       "        </script>\n",
       "        "
      ]
     },
     "metadata": {},
     "output_type": "display_data"
    }
   ],
   "source": [
    "#!/usr/bin/env python\n",
    "# -*- coding: utf-8 -*-\n",
    "from util import bullish_sequence, bullish_candlestick_patterns, time_formatter\n",
    "from src.asset_selector import AssetSelector\n",
    "from src.indicator_collection import IndicatorCollection\n",
    "from src.predictor import Predictor\n",
    "from sklearn.cluster import KMeans\n",
    "import alpaca_trade_api as tradeapi\n",
    "import matplotlib.pyplot as plt\n",
    "import plotly.graph_objs as go\n",
    "import plotly.offline as py\n",
    "import configparser\n",
    "import pandas as pd\n",
    "import numpy as np\n",
    "import time\n",
    "import sys\n",
    "import os\n",
    "\n",
    "py.init_notebook_mode(connected=True)\n",
    "config = configparser.ConfigParser()\n",
    "\n",
    "try:\n",
    "    config.read(os.path.relpath(\"config.ini\"))\n",
    "except FileExistsError as e:\n",
    "    print(\"FileExistsError: {}\".format(e))\n",
    "    sys.exit(1)\n",
    "\n",
    "\n",
    "alpaca_api = tradeapi.REST(\n",
    "    base_url    = config[\"alpaca\"][\"APCA_API_BASE_URL\"],\n",
    "    key_id      = config[\"alpaca\"][\"APCA_API_KEY_ID\"],\n",
    "    secret_key  = config[\"alpaca\"][\"APCA_API_SECRET_KEY\"],\n",
    "    api_version = config[\"alpaca\"][\"VERSION\"]\n",
    ")\n",
    "\n",
    "tq_key = config[\"tenquant\"][\"api_key\"]"
   ]
  },
  {
   "cell_type": "code",
   "execution_count": 3,
   "metadata": {},
   "outputs": [
    {
     "name": "stdout",
     "output_type": "stream",
     "text": [
      "Ticker: ALEX\t\tPoolsize: 20\t\tResult Length: 1\n",
      "Ticker: USNA\t\tPoolsize: 20\t\tResult Length: 2\n",
      "Ticker: MSCI\t\tPoolsize: 20\t\tResult Length: 3\n",
      "Ticker: WD\t\tPoolsize: 20\t\tResult Length: 4\n",
      "Ticker: RFL\t\tPoolsize: 20\t\tResult Length: 5\n",
      "Ticker: CPLG\t\tPoolsize: 20\t\tResult Length: 6\n",
      "Ticker: STNG\t\tPoolsize: 20\t\tResult Length: 7\n",
      "Ticker: MMM\t\tPoolsize: 20\t\tResult Length: 8\n",
      "Ticker: FIS\t\tPoolsize: 20\t\tResult Length: 9\n",
      "Ticker: MGEE\t\tPoolsize: 20\t\tResult Length: 10\n",
      "Ticker: ETH\t\tPoolsize: 20\t\tResult Length: 11\n",
      "Ticker: MWA\t\tPoolsize: 20\t\tResult Length: 12\n",
      "Ticker: SMM\t\tPoolsize: 20\t\tResult Length: 13\n",
      "Ticker: PAYC\t\tPoolsize: 20\t\tResult Length: 14\n",
      "Ticker: PFIS\t\tPoolsize: 20\t\tResult Length: 15\n",
      "Ticker: MYOK\t\tPoolsize: 20\t\tResult Length: 16\n",
      "Ticker: ZUO\t\tPoolsize: 20\t\tResult Length: 17\n",
      "Ticker: CONE\t\tPoolsize: 20\t\tResult Length: 18\n",
      "Ticker: SCHC\t\tPoolsize: 20\t\tResult Length: 19\n",
      "Ticker: NUVA\t\tPoolsize: 20\t\tResult Length: 20\n"
     ]
    }
   ],
   "source": [
    "sa          = AssetSelector(alpaca_api, edgar_token=None)\n",
    "assets      = sa.bullish_candlesticks(64, 20)"
   ]
  },
  {
   "cell_type": "code",
   "execution_count": 4,
   "metadata": {
    "pycharm": {
     "name": "#%%\n"
    }
   },
   "outputs": [],
   "source": [
    "indicators  = IndicatorCollection(alpaca_api, assets).get_cluster()"
   ]
  },
  {
   "cell_type": "code",
   "execution_count": 5,
   "metadata": {
    "pycharm": {
     "name": "#%%\n"
    }
   },
   "outputs": [],
   "source": [
    "predictions = Predictor(indicators)"
   ]
  },
  {
   "cell_type": "code",
   "execution_count": 6,
   "metadata": {},
   "outputs": [],
   "source": [
    "# get the first tradeable asset in the collection of indicators\n",
    "ticker_index = list(indicators.keys())[0]\n"
   ]
  },
  {
   "cell_type": "code",
   "execution_count": 7,
   "metadata": {},
   "outputs": [
    {
     "data": {
      "text/plain": [
       "',time,open,high,low,close,volume,up_move,down_move,DMp,DMm,ticker,bb_up,bb_mid,bb_low,macd,signal,vwmacd,vwsignal,mfi,stoch,vzo,adx,apz_u,apz_l,bb_up_ptc,bb_mid_ptc,bb_low_ptc,macd_ptc,signal_ptc,vwmacd_ptc,vwsignal_ptc,mfi_ptc,stoch_ptc,vzo_ptc,adx_ptc,apz_u_ptc,apz_l_ptc\\n43,2019-10-07 00:00:00-04:00,24.39,24.71,24.27,24.39,119165,0.21000000000000085,-0.0799999999999983,0.21000000000000085,0.0,ALEX,25.107481149367704,24.5435,23.9795188506323,0.18634992796325633,0.2651467561594092,0.1428452475276032,0.2174509305911412,46.73297446119653,40.67796610169496,17.94110358016944,,25.546028138653575,23.725590469173753,-0.004940895530523348,0.0018368471539074172,0.009033064593988671,-0.08061616835272845,-0.0691617843142106,-0.07867926665660585,-0.07900213533161093,-0.09965949225720405,-0.020408163265302037,-0.4246967220264378,,-0.0006519783839010751,-0.0004925639568807982\\n44,2019-10-08 00:00:00-04:00,24.33,24.43,24.03,24.23,130183,-0.28000000000000114,0.23999999999999844,0.0,0.23999999999999844,ALEX,25.03740702324198,24.564500000000002,24.091592976758026,0.15902753399907255,0.24392198725827322,0.11920514259668735,0.19780091711345413,47.55178986545123,27.118644067796644,4.626162826748359,,25.501152639159166,23.68668099817676,-0.002790965995706385,0.0008556236885530755,0.004673743740390757,-0.146618752487906,-0.08004913659353019,-0.16549451479894461,-0.09036527654431481,0.017521148903855588,-0.33333333333333326,-0.7421472538700615,,-0.0017566527074519556,-0.001639979036456296\\n45,2019-10-09 00:00:00-04:00,24.5,24.5,24.07,24.21,130786,0.07000000000000028,-0.03999999999999915,0.07000000000000028,0.0,ALEX,25.03120877042594,24.538999999999998,24.046791229574055,0.1342588951040149,0.22198860456057956,0.09696863637162068,0.17763375824216343,45.57518475965152,25.641025641025745,-7.481431085281533,,25.457213401951062,23.648453678575454,-0.0002475596937927538,-0.0010380834130555572,-0.001859642375130366,-0.15575063180695548,-0.08991966220113567,-0.1865398232046125,-0.1019568522006562,-0.04156741757550142,-0.05448717948717685,-2.6172001214535907,,-0.0017230294579168026,-0.0016138740418825126\\n46,2019-10-10 00:00:00-04:00,24.28,24.35,24.05,24.09,75559,-0.14999999999999858,0.019999999999999574,0.0,0.019999999999999574,ALEX,25.012999021525495,24.502000000000002,23.99100097847451,0.10399122698038354,0.1983884711688386,0.07943099331859926,0.15799265774347857,32.26275359503474,15.652173913043473,-14.107354030223052,,25.394502938740914,23.595594167728493,-0.0007274818035140074,-0.001507803903989413,-0.0023200705061610094,-0.2254425533606691,-0.10631236426958401,-0.18085892211385235,-0.11057076477495154,-0.29209823799557044,-0.389565217391307,0.8856491317519339,,-0.0024633671494203035,-0.0022352206011190257\\n47,2019-10-11 00:00:00-04:00,24.22,24.44,24.07,24.1,237446,0.08999999999999986,-0.019999999999999574,0.08999999999999986,0.0,ALEX,25.012841408672077,24.4755,23.938158591327923,0.07987664018948237,0.17468557638075022,0.03769186802336222,0.1339319632280376,43.70897864571056,16.96428571428581,9.415840353701567,,25.339833065618244,23.55173010549086,-6.301237739703147e-06,-0.0010815443637255395,-0.002202592013313631,-0.23189058818827135,-0.11947717852977457,-0.5254765621250712,-0.15228995359079656,0.3547814050328737,0.08382936507937155,-1.667441983346376,,-0.0021528231229628325,-0.0018589937564540415\\n48,2019-10-14 00:00:00-04:00,24.12,24.17,23.76,24.04,133154,-0.2699999999999996,0.3099999999999987,0.0,0.3099999999999987,ALEX,25.01045831238849,24.4455,23.880541687611508,0.05539277937694109,0.1508265913214712,0.016565138733820817,0.11045817954289922,45.08795596974142,24.347826086956342,-3.4613509017675104,,25.28074112124166,23.502789669902207,-9.527491277983025e-05,-0.0012257155114298035,-0.0024069062579143985,-0.3065209146812006,-0.1365824560539287,-0.5605116009757491,-0.17526647948235508,0.03154906307027594,0.43524027459952364,-1.3676093446515138,,-0.0023319784397775045,-0.0020779974706505167\\n49,2019-10-15 00:00:00-04:00,24.07,24.14,23.87,24.06,339786,-0.030000000000001137,-0.10999999999999943,0.0,0.0,ALEX,24.991668635665448,24.413999999999994,23.83633136433454,0.03714723035605161,0.1280903946265445,-0.014569187366010539,0.0854523492659816,50.38944167729585,29.41176470588209,23.16443362064379,,25.229643074826395,23.46592670503765,-0.0007512727871018532,-0.0012885807203781852,-0.0018513115763995058,-0.32938497085930196,-0.15074395367370497,-1.8795089253472312,-0.226382784691884,0.11758097242448207,0.20798319327730908,-7.692310106096167,,-0.002021224226386731,-0.001568450612982497\\n50,2019-10-16 00:00:00-04:00,24.05,24.33,24.03,24.3,316923,0.18999999999999773,-0.16000000000000014,0.18999999999999773,0.0,ALEX,24.96520212349099,24.396499999999996,23.827797876509003,0.04122662244155961,0.11071744182549312,-0.001790610558451533,0.0680035580711192,60.54587934457791,56.250000000000064,39.82941060001999,,25.22469621129882,23.477447740318325,-0.0010590134080398217,-0.0007168018350126593,-0.00035800340644309703,0.10981685704176414,-0.13563041047459734,-0.8770960580389698,-0.2041932298496646,0.2015588450518253,0.9125000000000194,0.7194208696095477,,-0.00019607346457117814,0.000490968689431881\\n51,2019-10-17 00:00:00-04:00,24.37,25.24,24.37,24.88,384272,0.9100000000000001,-0.33999999999999986,0.9100000000000001,0.0,ALEX,24.969693379162937,24.397499999999997,23.825306620837058,0.08943365549519555,0.1064606456762177,0.07141877449598866,0.06868660759533057,68.94228567016673,75.67567567567566,53.837146787666455,,25.328791430749707,23.58059885177543,0.00017990063327877337,4.098948619679632e-05,-0.00010455249305274528,1.1693180328311237,-0.03844738533595049,-40.8851521113276,0.010044320379487104,0.138678410760265,0.34534534534534367,0.35169328334573535,,0.004126718457931666,0.004393625431437398\\n52,2019-10-18 00:00:00-04:00,24.83,25.05,24.74,24.91,321434,-0.18999999999999773,-0.36999999999999744,0.0,0.0,ALEX,24.95719494652188,24.394999999999996,23.83280505347811,0.12852712942952138,0.11087397467731623,0.1074463523173037,0.07643861318756953,71.16965822415612,77.70270270270278,62.306514125983405,,25.421320604146068,23.676603547361047,-0.0005005440976494357,-0.00010246951531922566,0.00031472554625988636,0.4371226214322186,0.04145502756503028,0.5044552790994556,0.11286051042017031,0.03230778516171595,0.026785714285715523,0.15731456519640807,,0.003653122323239888,0.004071342555339141\\n53,2019-10-21 00:00:00-04:00,25.1,25.38,25.091,25.15,294702,0.3299999999999983,-0.35100000000000264,0.3299999999999983,0.0,ALEX,25.033729208915414,24.409499999999998,23.78527079108458,0.1765475945902928,0.12400877544604287,0.14607824518400392,0.09036662101008136,77.48799375137348,85.80246913580241,68.433228922339,,25.540094837706977,23.803167449444654,0.0030666211710703717,0.0005943840951014856,-0.0019944887849696613,0.3736212375855148,0.11846604044775799,0.35954587599786514,0.18221167603256316,0.08877850034514867,0.10424047235641254,0.0983318499245105,,0.004672229087167912,0.00534552609416461\\n54,2019-10-22 00:00:00-04:00,25.25,25.25,24.78,24.8,189601,-0.129999999999999,0.31099999999999994,0.0,0.31099999999999994,ALEX,25.07999694001722,24.434999999999995,23.79000305998277,0.1846024348010964,0.13612756399426734,0.14593864347295948,0.10148107748280523,76.57231048792566,64.19753086419759,50.29811297935679,,25.58163539923545,23.84994011861406,0.001848215689947308,0.0010446752289066108,0.00019895795762647772,0.045624185531930816,0.09772524972232666,-0.0009556639379709742,0.12299294085018331,-0.011817098612539434,-0.251798561151078,-0.2650045340336451,,0.0016264842316537909,0.0019649766892892995\\n55,2019-10-23 00:00:00-04:00,24.8,24.95,24.69,24.74,162796,-0.3000000000000007,0.08999999999999986,0.0,0.08999999999999986,ALEX,25.070372931756975,24.43199999999999,23.79362706824301,0.18407747433571942,0.1457175819430747,0.1423792655862961,0.10966074570727555,71.39038053845981,60.49382716049373,35.81110021907871,,25.603270685160908,23.881664850317925,-0.0003837324335909109,-0.00012277470841026705,0.00015233324060948128,-0.0028437353274489707,0.07044875899792924,-0.02438955030661838,0.08060289097596818,-0.06767367885918718,-0.05769230769231004,-0.28802298738769383,,0.0008457350590691526,0.0013301807696826096\\n56,2019-10-24 00:00:00-04:00,24.8,24.8,24.49,24.59,73817,-0.14999999999999858,0.20000000000000284,0.0,0.20000000000000284,ALEX,25.07666587885704,24.43549999999999,23.794334121142942,0.1697370768233668,0.15052149529799208,0.13672440002190456,0.11507349277139423,73.73014150187007,51.23456790123454,29.291001344210894,,25.592956672013898,23.883693117282732,0.00025101130793681037,0.00014325474787169057,2.9716062116325048e-05,-0.07790414098250109,0.032967287068996765,-0.03971691763618579,0.04935902112655044,0.03277417693760243,-0.15306122448979498,-0.18206921415372124,,-0.0004028396712998372,8.492988146002745e-05\\n57,2019-10-25 00:00:00-04:00,24.64,24.78,24.47,24.5,268333,-0.019999999999999574,0.019999999999999574,0.0,0.019999999999999574,ALEX,25.07437489020104,24.43399999999999,23.793625109798942,0.14946318191280383,0.15030983211412177,0.10946119788865616,0.1139510311070849,66.23316610061468,45.679012345678984,7.620061277031759,,25.565573822012514,23.870407105764055,-9.135938035254032e-05,-6.138609809502871e-05,-2.979748625830947e-05,-0.11944293662875183,-0.0014061990511805567,-0.19940260940169108,-0.009754302552884231,-0.10168128323835146,-0.10843373493975916,-0.7398497515504776,,-0.0010699369499315159,-0.0005562796110900603\\n58,2019-10-28 00:00:00-04:00,24.6,24.73,24.41,24.43,137464,-0.05000000000000071,0.05999999999999872,0.0,0.05999999999999872,ALEX,25.0685939309926,24.42949999999999,23.790406069007382,0.12634665817610724,0.145517188145637,0.09390030708819808,0.10994087862138155,66.04253095911096,41.358024691357976,-2.0814059072710616,,25.527235403569605,23.847161931546673,-0.0002305524757348909,-0.00018416959973810432,-0.00013529005255419335,-0.1546636666024056,-0.03188509960443564,-0.14215896683577867,-0.035191892927540436,-0.0028782429215920002,-0.09459459459459507,-1.2731481849817659,,-0.001499611106319021,-0.0009738071962656081\\n59,2019-10-29 00:00:00-04:00,24.41,24.72,24.35,24.45,204515,-0.010000000000001563,0.05999999999999872,0.0,0.05999999999999872,ALEX,25.071580364709593,24.442499999999992,23.81341963529039,0.10837664256606772,0.13808906764616158,0.07504516722518062,0.10296172564662054,60.35504920602527,42.592592592592524,11.598631047639005,,25.49609323629007,23.830145195585654,0.00011913048355305378,0.0005321435150127396,0.0009673465100281664,-0.1422278663278309,-0.05104634438126432,-0.20079955484391887,-0.0634809641534344,-0.08611847048392185,0.02985074626865636,-6.572498380599876,,-0.001219958479138028,-0.0007135748903732697\\n60,2019-10-30 00:00:00-04:00,24.46,24.81,24.39,24.5,200866,0.08999999999999986,-0.03999999999999915,0.08999999999999986,0.0,ALEX,25.07742112172529,24.455999999999996,23.8345788782747,0.09701724031541303,0.12987469210921676,0.06351240447352069,0.09507185173904331,64.16590115974941,45.679012345678984,23.253988884349937,,25.47736876101438,23.822966966861824,0.00023296325683230812,0.0005523166615528652,0.0008885428178049271,-0.1048141184455853,-0.05948606705053061,-0.15367762079941416,-0.07662919262499945,0.06314056576634686,0.07246376811594302,1.004890817617953,,-0.0007344056637288432,-0.00030122471621196745\\n61,2019-10-31 00:00:00-04:00,23.06,23.54,23.06,23.5,239634,-1.2699999999999996,1.3300000000000018,0.0,1.3300000000000018,ALEX,25.167556398840016,24.413499999999992,23.659443601159968,0.007866977834101618,0.10547312532120665,-0.03581864809262569,0.06889372609727859,57.10966128290746,18.965517241379363,4.320664395479094,,25.287759197054847,23.64068471489886,0.0035942801565285176,-0.0017378148511614233,-0.007347949297076495,-0.9189115480039912,-0.18788546399393868,-1.5639630303645493,-0.2753509599625702,-0.10996868662803494,-0.584808946877911,-0.8141968495397827,,-0.007442274190012643,-0.0076515344296334\\n62,2019-11-01 00:00:00-04:00,23.71,23.77,23.18,23.7,264074,0.23000000000000043,-0.120000000000001,0.23000000000000043,0.0,ALEX,25.197389491934047,24.378499999999995,23.559610508065944,-0.046224537789566256,0.07513356889349178,-0.09435175860196665,0.036244603539696565,62.51288985532056,27.586206896551747,19.955174289228687,,25.160922044158504,23.513977417522533,0.0011853790102325235,-0.001433633030904935,-0.004219587526104296,-6.875768149389344,-0.2876520093181949,1.6341518629618994,-0.4739055993499489,0.09461146242221274,0.4545454545454517,3.6185429977178245,,-0.005015752954145247,-0.0053597135152551045\\n'"
      ]
     },
     "execution_count": 7,
     "metadata": {},
     "output_type": "execute_result"
    }
   ],
   "source": [
    "indicators[ticker_index].iloc[-20:].to_csv()"
   ]
  },
  {
   "cell_type": "code",
   "execution_count": 8,
   "metadata": {
    "pycharm": {
     "name": "#%%\n"
    }
   },
   "outputs": [],
   "source": [
    "kmeans = KMeans(n_clusters=2)"
   ]
  },
  {
   "cell_type": "code",
   "execution_count": 9,
   "metadata": {
    "pycharm": {
     "name": "#%%\n"
    }
   },
   "outputs": [],
   "source": [
    "n_indicators                = pd.DataFrame()\n",
    "n_indicators[\"open\"]        = indicators[ticker_index][\"open\"].iloc[-20:]\n",
    "n_indicators[\"high\"]        = indicators[ticker_index][\"high\"].iloc[-20:]\n",
    "n_indicators[\"low\"]         = indicators[ticker_index][\"low\"].iloc[-20:]\n",
    "n_indicators[\"close\"]       = indicators[ticker_index][\"close\"].iloc[-20:]\n",
    "n_indicators[\"macd\"]        = indicators[ticker_index][\"macd\"].iloc[-20:]\n",
    "n_indicators[\"signal\"]      = indicators[ticker_index][\"signal\"].iloc[-20:]\n",
    "n_indicators[\"mfi\"]         = indicators[ticker_index][\"mfi\"].iloc[-20:]\n",
    "n_indicators[\"bb_up\"]       = indicators[ticker_index][\"bb_up\"].iloc[-20:]\n",
    "n_indicators[\"bb_low\"]      = indicators[ticker_index][\"bb_low\"].iloc[-20:]\n",
    "n_indicators[\"vzo\"]         = indicators[ticker_index][\"vzo\"].iloc[-20:]\n",
    "n_indicators[\"apz_u\"]       = indicators[ticker_index][\"apz_u\"].iloc[-20:]\n",
    "n_indicators[\"apz_l\"]       = indicators[ticker_index][\"apz_l\"].iloc[-20:]\n",
    "n_indicators[\"stoch\"]       = indicators[ticker_index][\"stoch\"].iloc[-20:]\n",
    "\n",
    "n1_indicators               = pd.DataFrame()\n",
    "ticker_index                = list(indicators.keys())[1]\n",
    "\n",
    "n1_indicators[\"open\"]       = indicators[ticker_index][\"open\"].iloc[-20:]\n",
    "n1_indicators[\"high\"]       = indicators[ticker_index][\"high\"].iloc[-20:]\n",
    "n1_indicators[\"low\"]        = indicators[ticker_index][\"low\"].iloc[-20:]\n",
    "n1_indicators[\"close\"]      = indicators[ticker_index][\"close\"].iloc[-20:]\n",
    "n1_indicators[\"macd\"]       = indicators[ticker_index][\"macd\"].iloc[-20:]\n",
    "n1_indicators[\"signal\"]     = indicators[ticker_index][\"signal\"].iloc[-20:]\n",
    "n1_indicators[\"mfi\"]        = indicators[ticker_index][\"mfi\"].iloc[-20:]\n",
    "n1_indicators[\"bb_up\"]      = indicators[ticker_index][\"bb_up\"].iloc[-20:]\n",
    "n1_indicators[\"bb_low\"]     = indicators[ticker_index][\"bb_low\"].iloc[-20:]\n",
    "n1_indicators[\"vzo\"]        = indicators[ticker_index][\"vzo\"].iloc[-20:]\n",
    "n1_indicators[\"apz_u\"]      = indicators[ticker_index][\"apz_u\"].iloc[-20:]\n",
    "n1_indicators[\"apz_l\"]      = indicators[ticker_index][\"apz_l\"].iloc[-20:]\n",
    "n1_indicators[\"stoch\"]      = indicators[ticker_index][\"stoch\"].iloc[-20:]\n",
    "\n",
    "n2_indicators               = pd.DataFrame()\n",
    "ticker_index                = list(indicators.keys())[2]\n",
    "\n",
    "n2_indicators[\"open\"]       = indicators[ticker_index][\"open\"].iloc[-20:]\n",
    "n2_indicators[\"high\"]       = indicators[ticker_index][\"high\"].iloc[-20:]\n",
    "n2_indicators[\"low\"]        = indicators[ticker_index][\"low\"].iloc[-20:]\n",
    "n2_indicators[\"close\"]      = indicators[ticker_index][\"close\"].iloc[-20:]\n",
    "n2_indicators[\"macd\"]       = indicators[ticker_index][\"macd\"].iloc[-20:]\n",
    "n2_indicators[\"signal\"]     = indicators[ticker_index][\"signal\"].iloc[-20:]\n",
    "n2_indicators[\"mfi\"]        = indicators[ticker_index][\"mfi\"].iloc[-20:]\n",
    "n2_indicators[\"bb_up\"]      = indicators[ticker_index][\"bb_up\"].iloc[-20:]\n",
    "n2_indicators[\"bb_low\"]     = indicators[ticker_index][\"bb_low\"].iloc[-20:]\n",
    "n2_indicators[\"vzo\"]        = indicators[ticker_index][\"vzo\"].iloc[-20:]\n",
    "n2_indicators[\"apz_u\"]      = indicators[ticker_index][\"apz_u\"].iloc[-20:]\n",
    "n2_indicators[\"apz_l\"]      = indicators[ticker_index][\"apz_l\"].iloc[-20:]\n",
    "n2_indicators[\"stoch\"]      = indicators[ticker_index][\"stoch\"].iloc[-20:]\n",
    "\n",
    "n3_indicators               = pd.DataFrame()\n",
    "ticker_index                = list(indicators.keys())[3]\n",
    "\n",
    "n3_indicators[\"open\"]       = indicators[ticker_index][\"open\"].iloc[-20:]\n",
    "n3_indicators[\"high\"]       = indicators[ticker_index][\"high\"].iloc[-20:]\n",
    "n3_indicators[\"low\"]        = indicators[ticker_index][\"low\"].iloc[-20:]\n",
    "n3_indicators[\"close\"]      = indicators[ticker_index][\"close\"].iloc[-20:]\n",
    "n3_indicators[\"macd\"]       = indicators[ticker_index][\"macd\"].iloc[-20:]\n",
    "n3_indicators[\"signal\"]     = indicators[ticker_index][\"signal\"].iloc[-20:]\n",
    "n3_indicators[\"mfi\"]        = indicators[ticker_index][\"mfi\"].iloc[-20:]\n",
    "n3_indicators[\"bb_up\"]      = indicators[ticker_index][\"bb_up\"].iloc[-20:]\n",
    "n3_indicators[\"bb_low\"]     = indicators[ticker_index][\"bb_low\"].iloc[-20:]\n",
    "n3_indicators[\"vzo\"]        = indicators[ticker_index][\"vzo\"].iloc[-20:]\n",
    "n3_indicators[\"apz_u\"]      = indicators[ticker_index][\"apz_u\"].iloc[-20:]\n",
    "n3_indicators[\"apz_l\"]      = indicators[ticker_index][\"apz_l\"].iloc[-20:]\n",
    "n3_indicators[\"stoch\"]      = indicators[ticker_index][\"stoch\"].iloc[-20:]\n",
    "\n",
    "n4_indicators               = pd.DataFrame()\n",
    "ticker_index                = list(indicators.keys())[4]\n",
    "\n",
    "n4_indicators[\"open\"]       = indicators[ticker_index][\"open\"].iloc[-20:]\n",
    "n4_indicators[\"high\"]       = indicators[ticker_index][\"high\"].iloc[-20:]\n",
    "n4_indicators[\"low\"]        = indicators[ticker_index][\"low\"].iloc[-20:]\n",
    "n4_indicators[\"close\"]      = indicators[ticker_index][\"close\"].iloc[-20:]\n",
    "n4_indicators[\"macd\"]       = indicators[ticker_index][\"macd\"].iloc[-20:]\n",
    "n4_indicators[\"signal\"]     = indicators[ticker_index][\"signal\"].iloc[-20:]\n",
    "n4_indicators[\"mfi\"]        = indicators[ticker_index][\"mfi\"].iloc[-20:]\n",
    "n4_indicators[\"bb_up\"]      = indicators[ticker_index][\"bb_up\"].iloc[-20:]\n",
    "n4_indicators[\"bb_low\"]     = indicators[ticker_index][\"bb_low\"].iloc[-20:]\n",
    "n4_indicators[\"vzo\"]        = indicators[ticker_index][\"vzo\"].iloc[-20:]\n",
    "n4_indicators[\"apz_u\"]      = indicators[ticker_index][\"apz_u\"].iloc[-20:]\n",
    "n4_indicators[\"apz_l\"]      = indicators[ticker_index][\"apz_l\"].iloc[-20:]\n",
    "n4_indicators[\"stoch\"]      = indicators[ticker_index][\"stoch\"].iloc[-20:]"
   ]
  },
  {
   "cell_type": "code",
   "execution_count": 10,
   "metadata": {
    "pycharm": {
     "name": "#%%\n"
    }
   },
   "outputs": [
    {
     "data": {
      "text/plain": [
       "KMeans(algorithm='auto', copy_x=True, init='k-means++', max_iter=300,\n",
       "       n_clusters=2, n_init=10, n_jobs=None, precompute_distances='auto',\n",
       "       random_state=None, tol=0.0001, verbose=0)"
      ]
     },
     "execution_count": 10,
     "metadata": {},
     "output_type": "execute_result"
    }
   ],
   "source": [
    "kmeans.fit(n_indicators)"
   ]
  },
  {
   "cell_type": "code",
   "execution_count": 11,
   "metadata": {},
   "outputs": [
    {
     "data": {
      "text/plain": [
       "array([[24.21461538, 24.39153846, 23.99846154, 24.16923077,  0.09222234,\n",
       "         0.16364968, 52.9021752 , 25.06622927, 23.86269381,  7.28957833,\n",
       "        25.40492822, 23.66939301, 30.89800403],\n",
       "       [24.74285714, 25.        , 24.59871429, 24.76714286,  0.13916457,\n",
       "         0.12634678, 71.40552136, 25.02183649, 23.80702066, 48.54378785,\n",
       "        25.47039512, 23.73615938, 67.33668192]])"
      ]
     },
     "execution_count": 11,
     "metadata": {},
     "output_type": "execute_result"
    }
   ],
   "source": [
    "kmeans.cluster_centers_"
   ]
  },
  {
   "cell_type": "code",
   "execution_count": 12,
   "metadata": {},
   "outputs": [
    {
     "data": {
      "text/plain": [
       "array([0, 0, 0, 0, 0, 0, 0, 1, 1, 1, 1, 1, 1, 1, 0, 0, 0, 0, 0, 0],\n",
       "      dtype=int32)"
      ]
     },
     "execution_count": 12,
     "metadata": {},
     "output_type": "execute_result"
    }
   ],
   "source": [
    "kmeans.labels_"
   ]
  },
  {
   "cell_type": "code",
   "execution_count": 13,
   "metadata": {},
   "outputs": [
    {
     "data": {
      "text/plain": [
       "<matplotlib.collections.PathCollection at 0x7f4234435dd0>"
      ]
     },
     "execution_count": 13,
     "metadata": {},
     "output_type": "execute_result"
    },
    {
     "data": {
      "image/png": "[encoded data removed]",
      "text/plain": [
       "<Figure size 720x432 with 4 Axes>"
      ]
     },
     "metadata": {
      "needs_background": "light"
     },
     "output_type": "display_data"
    }
   ],
   "source": [
    "f, (ax1, ax2, ax3, ax4) = plt.subplots(1, 4, sharex=True, sharey=False, figsize=(10,6))\n",
    "ax1.set_title('K Means - macd/close')\n",
    "ax1.scatter(n_indicators[\"macd\"], n_indicators[\"close\"], c=kmeans.labels_, cmap=\"rainbow\")\n",
    "ax2.set_title(\"K Means - signal/close\")\n",
    "ax2.scatter(n_indicators[\"signal\"], n_indicators[\"close\"], c=kmeans.labels_, cmap=\"rainbow\")\n",
    "ax3.set_title(\"Original\")\n",
    "ax3.scatter(n_indicators[\"macd\"], n_indicators[\"close\"], c=n_indicators[\"macd\"], cmap=\"rainbow\")\n",
    "ax4.set_title(\"Original\")\n",
    "ax4.scatter(n_indicators[\"signal\"], n_indicators[\"close\"], c=n_indicators[\"signal\"], cmap=\"rainbow\")"
   ]
  },
  {
   "cell_type": "code",
   "execution_count": 14,
   "metadata": {
    "pycharm": {
     "name": "#%%\n"
    }
   },
   "outputs": [
    {
     "data": {
      "text/plain": [
       "<matplotlib.collections.PathCollection at 0x7f4234068790>"
      ]
     },
     "execution_count": 14,
     "metadata": {},
     "output_type": "execute_result"
    },
    {
     "data": {
      "image/png": "[encoded data removed]",
      "text/plain": [
       "<Figure size 720x432 with 4 Axes>"
      ]
     },
     "metadata": {
      "needs_background": "light"
     },
     "output_type": "display_data"
    }
   ],
   "source": [
    "f, (ax1, ax2, ax3, ax4) = plt.subplots(1, 4, sharex=True, sharey=True, figsize=(10,6))\n",
    "ax1.set_title('K Means - macd/close')\n",
    "ax1.scatter(n_indicators[\"macd\"], n_indicators[\"close\"], c=kmeans.labels_, cmap=\"rainbow\")\n",
    "ax2.set_title(\"K Means - signal/close\")\n",
    "ax2.scatter(n_indicators[\"signal\"], n_indicators[\"close\"], c=kmeans.labels_, cmap=\"rainbow\")\n",
    "ax3.set_title(\"Original\")\n",
    "ax3.scatter(n_indicators[\"macd\"], n_indicators[\"close\"], c=n_indicators[\"close\"], cmap=\"rainbow\")\n",
    "ax4.set_title(\"Original\")\n",
    "ax4.scatter(n_indicators[\"signal\"], n_indicators[\"close\"], c=n_indicators[\"close\"], cmap=\"rainbow\")"
   ]
  },
  {
   "cell_type": "code",
   "execution_count": 15,
   "metadata": {
    "pycharm": {
     "name": "#%%\n"
    }
   },
   "outputs": [
    {
     "data": {
      "text/plain": [
       "<matplotlib.collections.PathCollection at 0x7f42142c3890>"
      ]
     },
     "execution_count": 15,
     "metadata": {},
     "output_type": "execute_result"
    },
    {
     "data": {
      "image/png": "[encoded data removed]",
      "text/plain": [
       "<Figure size 720x432 with 2 Axes>"
      ]
     },
     "metadata": {
      "needs_background": "light"
     },
     "output_type": "display_data"
    }
   ],
   "source": [
    "f, (ax3, ax4) = plt.subplots(1, 2, sharex=True, sharey=True,figsize=(10,6))\n",
    "ax3.set_title('K Means - mfi/close')\n",
    "ax3.scatter(n_indicators[\"mfi\"], n_indicators[\"close\"], c=kmeans.labels_, cmap=\"rainbow\")\n",
    "ax4.set_title(\"Original\")\n",
    "ax4.scatter(n_indicators[\"mfi\"], n_indicators[\"close\"], c=n_indicators[\"close\"], cmap=\"rainbow\")"
   ]
  },
  {
   "cell_type": "code",
   "execution_count": 16,
   "metadata": {
    "pycharm": {
     "name": "#%%\n"
    }
   },
   "outputs": [
    {
     "data": {
      "text/plain": [
       "<matplotlib.collections.PathCollection at 0x7f421421cc90>"
      ]
     },
     "execution_count": 16,
     "metadata": {},
     "output_type": "execute_result"
    },
    {
     "data": {
      "image/png": "[encoded data removed]",
      "text/plain": [
       "<Figure size 720x432 with 2 Axes>"
      ]
     },
     "metadata": {
      "needs_background": "light"
     },
     "output_type": "display_data"
    }
   ],
   "source": [
    "f, (ax5, ax6) = plt.subplots(1, 2, sharex=True, sharey=True,figsize=(10,6))\n",
    "ax5.set_title('K Means - bb_low/mfi')\n",
    "ax5.scatter(n_indicators[\"bb_low\"], n_indicators[\"mfi\"], c=kmeans.labels_, cmap=\"rainbow\")\n",
    "ax6.set_title(\"Original\")\n",
    "ax6.scatter(n_indicators[\"bb_low\"], n_indicators[\"mfi\"], c=n_indicators[\"close\"], cmap=\"rainbow\")"
   ]
  },
  {
   "cell_type": "code",
   "execution_count": 17,
   "metadata": {
    "pycharm": {
     "name": "#%%\n"
    }
   },
   "outputs": [
    {
     "data": {
      "text/plain": [
       "<matplotlib.collections.PathCollection at 0x7f42140e7a90>"
      ]
     },
     "execution_count": 17,
     "metadata": {},
     "output_type": "execute_result"
    },
    {
     "data": {
      "image/png": "[encoded data removed]",
      "text/plain": [
       "<Figure size 720x432 with 2 Axes>"
      ]
     },
     "metadata": {
      "needs_background": "light"
     },
     "output_type": "display_data"
    }
   ],
   "source": [
    "f, (ax7, ax8) = plt.subplots(1, 2, sharex=True, sharey=True,figsize=(10,6))\n",
    "ax7.set_title('K Means - vzo/close')\n",
    "ax7.scatter(n_indicators[\"vzo\"], n_indicators[\"close\"], c=kmeans.labels_, cmap=\"rainbow\")\n",
    "ax8.set_title(\"Original\")\n",
    "ax8.scatter(n_indicators[\"vzo\"], n_indicators[\"close\"], c=n_indicators[\"close\"], cmap=\"rainbow\")"
   ]
  },
  {
   "cell_type": "code",
   "execution_count": 18,
   "metadata": {
    "pycharm": {
     "name": "#%%\n"
    }
   },
   "outputs": [
    {
     "data": {
      "text/plain": [
       "<matplotlib.collections.PathCollection at 0x7f42140998d0>"
      ]
     },
     "execution_count": 18,
     "metadata": {},
     "output_type": "execute_result"
    },
    {
     "data": {
      "image/png": "[encoded data removed]",
      "text/plain": [
       "<Figure size 720x432 with 2 Axes>"
      ]
     },
     "metadata": {
      "needs_background": "light"
     },
     "output_type": "display_data"
    }
   ],
   "source": [
    "f, (ax9, ax10) = plt.subplots(1, 2, sharex=True, sharey=True,figsize=(10,6))\n",
    "ax9.set_title('K Means - vzo/mfi')\n",
    "ax9.scatter(n_indicators[\"vzo\"], n_indicators[\"mfi\"], c=kmeans.labels_, cmap=\"rainbow\")\n",
    "ax10.set_title(\"Original\")\n",
    "ax10.scatter(n_indicators[\"vzo\"], n_indicators[\"mfi\"], c=n_indicators[\"close\"], cmap=\"rainbow\")"
   ]
  },
  {
   "cell_type": "code",
   "execution_count": null,
   "metadata": {
    "pycharm": {
     "name": "#%%"
    }
   },
   "outputs": [],
   "source": []
  },
  {
   "cell_type": "code",
   "execution_count": 19,
   "metadata": {
    "pycharm": {
     "name": "#%%"
    }
   },
   "outputs": [
    {
     "data": {
      "application/vnd.plotly.v1+json": {
       "config": {
        "linkText": "Export to plot.ly",
        "plotlyServerURL": "https://plot.ly",
        "showLink": false
       },
       "data": [
        {
         "colorbar": {
          "title": {
           "text": "Pearson Coefficient"
          }
         },
         "type": "heatmap",
         "x": [
          "open",
          "high",
          "low",
          "close",
          "macd",
          "signal",
          "mfi",
          "bb_up",
          "bb_low",
          "vzo",
          "apz_u",
          "apz_l",
          "stoch"
         ],
         "y": [
          "open",
          "high",
          "low",
          "close",
          "macd",
          "signal",
          "mfi",
          "bb_up",
          "bb_low",
          "vzo",
          "apz_u",
          "apz_l",
          "stoch"
         ],
         "z": [
          [
           1,
           0.9084392487787751,
           0.9461517487937633,
           0.8856987962107071,
           0.8340231830609313,
           0.16152726748943974,
           0.5020794638113119,
           -0.3186035045456537,
           0.22437006566294604,
           0.47474776619695336,
           0.7615896188714824,
           0.6408605721424206,
           0.6592071572357164
          ],
          [
           0.9084392487787751,
           1,
           0.9596705357017462,
           0.9783568749989154,
           0.7796216218963381,
           0.047094744083595715,
           0.5881018013956096,
           -0.37754779949934386,
           0.15939710181674377,
           0.6291068031982263,
           0.6953621891635514,
           0.6069561300860368,
           0.8172179169869942
          ],
          [
           0.9461517487937633,
           0.9596705357017462,
           1,
           0.9573672907378412,
           0.8315007571289434,
           0.09738369523515174,
           0.546239833321043,
           -0.40482529674143763,
           0.20101201936602525,
           0.5674788842655278,
           0.7544146564163341,
           0.654558068790852,
           0.7633446870512619
          ],
          [
           0.8856987962107071,
           0.9783568749989154,
           0.9573672907378412,
           1,
           0.7320015492241425,
           -0.05128281982887371,
           0.6558281725444904,
           -0.42424918029342756,
           0.08809735950243582,
           0.7230601526227467,
           0.6349843769530406,
           0.5633641907874629,
           0.8961095603000387
          ],
          [
           0.8340231830609313,
           0.7796216218963381,
           0.8315007571289434,
           0.7320015492241425,
           1,
           0.5364875443833199,
           0.2823649140236952,
           -0.17054239326296805,
           0.4609062789847753,
           0.23047402700148248,
           0.9355443985400472,
           0.7446593480050203,
           0.45504795335994297
          ],
          [
           0.16152726748943974,
           0.047094744083595715,
           0.09738369523515174,
           -0.05128281982887371,
           0.5364875443833199,
           1,
           -0.5971686472392495,
           -0.07225343855776019,
           0.8643040629379144,
           -0.4807824200304837,
           0.4234701065516183,
           0.11520380458997606,
           -0.37549501997834467
          ],
          [
           0.5020794638113119,
           0.5881018013956096,
           0.546239833321043,
           0.6558281725444904,
           0.2823649140236952,
           -0.5971686472392495,
           1,
           0.12462976978614682,
           -0.6134092646946963,
           0.7595673594446284,
           0.37900150361746193,
           0.5764081521641691,
           0.8270789057694888
          ],
          [
           -0.3186035045456537,
           -0.37754779949934386,
           -0.40482529674143763,
           -0.42424918029342756,
           -0.17054239326296805,
           -0.07225343855776019,
           0.12462976978614682,
           1,
           -0.5156824642904023,
           -0.2610317340669123,
           0.09774276083845684,
           0.31047177992281233,
           -0.3028104105796292
          ],
          [
           0.22437006566294604,
           0.15939710181674377,
           0.20101201936602525,
           0.08809735950243582,
           0.4609062789847753,
           0.8643040629379144,
           -0.6134092646946963,
           -0.5156824642904023,
           1,
           -0.33936177000706436,
           0.25876594960391036,
           -0.08485165114958132,
           -0.248381417297992
          ],
          [
           0.47474776619695336,
           0.6291068031982263,
           0.5674788842655278,
           0.7230601526227467,
           0.23047402700148248,
           -0.4807824200304837,
           0.7595673594446284,
           -0.2610317340669123,
           -0.33936177000706436,
           1,
           0.11839637646780168,
           0.15642851317781806,
           0.9065578330665109
          ],
          [
           0.7615896188714824,
           0.6953621891635514,
           0.7544146564163341,
           0.6349843769530406,
           0.9355443985400472,
           0.4234701065516183,
           0.37900150361746193,
           0.09774276083845684,
           0.25876594960391036,
           0.11839637646780168,
           1,
           0.9231552248002419,
           0.37649442538369915
          ],
          [
           0.6408605721424206,
           0.6069561300860368,
           0.654558068790852,
           0.5633641907874629,
           0.7446593480050203,
           0.11520380458997606,
           0.5764081521641691,
           0.31047177992281233,
           -0.08485165114958132,
           0.15642851317781806,
           0.9231552248002419,
           1,
           0.40794761381472
          ],
          [
           0.6592071572357164,
           0.8172179169869942,
           0.7633446870512619,
           0.8961095603000387,
           0.45504795335994297,
           -0.37549501997834467,
           0.8270789057694888,
           -0.3028104105796292,
           -0.248381417297992,
           0.9065578330665109,
           0.37649442538369915,
           0.40794761381472,
           1
          ]
         ],
         "zmax": 1,
         "zmin": -1
        }
       ],
       "layout": {
        "template": {
         "data": {
          "bar": [
           {
            "error_x": {
             "color": "#2a3f5f"
            },
            "error_y": {
             "color": "#2a3f5f"
            },
            "marker": {
             "line": {
              "color": "#E5ECF6",
              "width": 0.5
             }
            },
            "type": "bar"
           }
          ],
          "barpolar": [
           {
            "marker": {
             "line": {
              "color": "#E5ECF6",
              "width": 0.5
             }
            },
            "type": "barpolar"
           }
          ],
          "carpet": [
           {
            "aaxis": {
             "endlinecolor": "#2a3f5f",
             "gridcolor": "white",
             "linecolor": "white",
             "minorgridcolor": "white",
             "startlinecolor": "#2a3f5f"
            },
            "baxis": {
             "endlinecolor": "#2a3f5f",
             "gridcolor": "white",
             "linecolor": "white",
             "minorgridcolor": "white",
             "startlinecolor": "#2a3f5f"
            },
            "type": "carpet"
           }
          ],
          "choropleth": [
           {
            "colorbar": {
             "outlinewidth": 0,
             "ticks": ""
            },
            "type": "choropleth"
           }
          ],
          "contour": [
           {
            "colorbar": {
             "outlinewidth": 0,
             "ticks": ""
            },
            "colorscale": [
             [
              0,
              "#0d0887"
             ],
             [
              0.1111111111111111,
              "#46039f"
             ],
             [
              0.2222222222222222,
              "#7201a8"
             ],
             [
              0.3333333333333333,
              "#9c179e"
             ],
             [
              0.4444444444444444,
              "#bd3786"
             ],
             [
              0.5555555555555556,
              "#d8576b"
             ],
             [
              0.6666666666666666,
              "#ed7953"
             ],
             [
              0.7777777777777778,
              "#fb9f3a"
             ],
             [
              0.8888888888888888,
              "#fdca26"
             ],
             [
              1,
              "#f0f921"
             ]
            ],
            "type": "contour"
           }
          ],
          "contourcarpet": [
           {
            "colorbar": {
             "outlinewidth": 0,
             "ticks": ""
            },
            "type": "contourcarpet"
           }
          ],
          "heatmap": [
           {
            "colorbar": {
             "outlinewidth": 0,
             "ticks": ""
            },
            "colorscale": [
             [
              0,
              "#0d0887"
             ],
             [
              0.1111111111111111,
              "#46039f"
             ],
             [
              0.2222222222222222,
              "#7201a8"
             ],
             [
              0.3333333333333333,
              "#9c179e"
             ],
             [
              0.4444444444444444,
              "#bd3786"
             ],
             [
              0.5555555555555556,
              "#d8576b"
             ],
             [
              0.6666666666666666,
              "#ed7953"
             ],
             [
              0.7777777777777778,
              "#fb9f3a"
             ],
             [
              0.8888888888888888,
              "#fdca26"
             ],
             [
              1,
              "#f0f921"
             ]
            ],
            "type": "heatmap"
           }
          ],
          "heatmapgl": [
           {
            "colorbar": {
             "outlinewidth": 0,
             "ticks": ""
            },
            "colorscale": [
             [
              0,
              "#0d0887"
             ],
             [
              0.1111111111111111,
              "#46039f"
             ],
             [
              0.2222222222222222,
              "#7201a8"
             ],
             [
              0.3333333333333333,
              "#9c179e"
             ],
             [
              0.4444444444444444,
              "#bd3786"
             ],
             [
              0.5555555555555556,
              "#d8576b"
             ],
             [
              0.6666666666666666,
              "#ed7953"
             ],
             [
              0.7777777777777778,
              "#fb9f3a"
             ],
             [
              0.8888888888888888,
              "#fdca26"
             ],
             [
              1,
              "#f0f921"
             ]
            ],
            "type": "heatmapgl"
           }
          ],
          "histogram": [
           {
            "marker": {
             "colorbar": {
              "outlinewidth": 0,
              "ticks": ""
             }
            },
            "type": "histogram"
           }
          ],
          "histogram2d": [
           {
            "colorbar": {
             "outlinewidth": 0,
             "ticks": ""
            },
            "colorscale": [
             [
              0,
              "#0d0887"
             ],
             [
              0.1111111111111111,
              "#46039f"
             ],
             [
              0.2222222222222222,
              "#7201a8"
             ],
             [
              0.3333333333333333,
              "#9c179e"
             ],
             [
              0.4444444444444444,
              "#bd3786"
             ],
             [
              0.5555555555555556,
              "#d8576b"
             ],
             [
              0.6666666666666666,
              "#ed7953"
             ],
             [
              0.7777777777777778,
              "#fb9f3a"
             ],
             [
              0.8888888888888888,
              "#fdca26"
             ],
             [
              1,
              "#f0f921"
             ]
            ],
            "type": "histogram2d"
           }
          ],
          "histogram2dcontour": [
           {
            "colorbar": {
             "outlinewidth": 0,
             "ticks": ""
            },
            "colorscale": [
             [
              0,
              "#0d0887"
             ],
             [
              0.1111111111111111,
              "#46039f"
             ],
             [
              0.2222222222222222,
              "#7201a8"
             ],
             [
              0.3333333333333333,
              "#9c179e"
             ],
             [
              0.4444444444444444,
              "#bd3786"
             ],
             [
              0.5555555555555556,
              "#d8576b"
             ],
             [
              0.6666666666666666,
              "#ed7953"
             ],
             [
              0.7777777777777778,
              "#fb9f3a"
             ],
             [
              0.8888888888888888,
              "#fdca26"
             ],
             [
              1,
              "#f0f921"
             ]
            ],
            "type": "histogram2dcontour"
           }
          ],
          "mesh3d": [
           {
            "colorbar": {
             "outlinewidth": 0,
             "ticks": ""
            },
            "type": "mesh3d"
           }
          ],
          "parcoords": [
           {
            "line": {
             "colorbar": {
              "outlinewidth": 0,
              "ticks": ""
             }
            },
            "type": "parcoords"
           }
          ],
          "scatter": [
           {
            "marker": {
             "colorbar": {
              "outlinewidth": 0,
              "ticks": ""
             }
            },
            "type": "scatter"
           }
          ],
          "scatter3d": [
           {
            "line": {
             "colorbar": {
              "outlinewidth": 0,
              "ticks": ""
             }
            },
            "marker": {
             "colorbar": {
              "outlinewidth": 0,
              "ticks": ""
             }
            },
            "type": "scatter3d"
           }
          ],
          "scattercarpet": [
           {
            "marker": {
             "colorbar": {
              "outlinewidth": 0,
              "ticks": ""
             }
            },
            "type": "scattercarpet"
           }
          ],
          "scattergeo": [
           {
            "marker": {
             "colorbar": {
              "outlinewidth": 0,
              "ticks": ""
             }
            },
            "type": "scattergeo"
           }
          ],
          "scattergl": [
           {
            "marker": {
             "colorbar": {
              "outlinewidth": 0,
              "ticks": ""
             }
            },
            "type": "scattergl"
           }
          ],
          "scattermapbox": [
           {
            "marker": {
             "colorbar": {
              "outlinewidth": 0,
              "ticks": ""
             }
            },
            "type": "scattermapbox"
           }
          ],
          "scatterpolar": [
           {
            "marker": {
             "colorbar": {
              "outlinewidth": 0,
              "ticks": ""
             }
            },
            "type": "scatterpolar"
           }
          ],
          "scatterpolargl": [
           {
            "marker": {
             "colorbar": {
              "outlinewidth": 0,
              "ticks": ""
             }
            },
            "type": "scatterpolargl"
           }
          ],
          "scatterternary": [
           {
            "marker": {
             "colorbar": {
              "outlinewidth": 0,
              "ticks": ""
             }
            },
            "type": "scatterternary"
           }
          ],
          "surface": [
           {
            "colorbar": {
             "outlinewidth": 0,
             "ticks": ""
            },
            "colorscale": [
             [
              0,
              "#0d0887"
             ],
             [
              0.1111111111111111,
              "#46039f"
             ],
             [
              0.2222222222222222,
              "#7201a8"
             ],
             [
              0.3333333333333333,
              "#9c179e"
             ],
             [
              0.4444444444444444,
              "#bd3786"
             ],
             [
              0.5555555555555556,
              "#d8576b"
             ],
             [
              0.6666666666666666,
              "#ed7953"
             ],
             [
              0.7777777777777778,
              "#fb9f3a"
             ],
             [
              0.8888888888888888,
              "#fdca26"
             ],
             [
              1,
              "#f0f921"
             ]
            ],
            "type": "surface"
           }
          ],
          "table": [
           {
            "cells": {
             "fill": {
              "color": "#EBF0F8"
             },
             "line": {
              "color": "white"
             }
            },
            "header": {
             "fill": {
              "color": "#C8D4E3"
             },
             "line": {
              "color": "white"
             }
            },
            "type": "table"
           }
          ]
         },
         "layout": {
          "annotationdefaults": {
           "arrowcolor": "#2a3f5f",
           "arrowhead": 0,
           "arrowwidth": 1
          },
          "colorscale": {
           "diverging": [
            [
             0,
             "#8e0152"
            ],
            [
             0.1,
             "#c51b7d"
            ],
            [
             0.2,
             "#de77ae"
            ],
            [
             0.3,
             "#f1b6da"
            ],
            [
             0.4,
             "#fde0ef"
            ],
            [
             0.5,
             "#f7f7f7"
            ],
            [
             0.6,
             "#e6f5d0"
            ],
            [
             0.7,
             "#b8e186"
            ],
            [
             0.8,
             "#7fbc41"
            ],
            [
             0.9,
             "#4d9221"
            ],
            [
             1,
             "#276419"
            ]
           ],
           "sequential": [
            [
             0,
             "#0d0887"
            ],
            [
             0.1111111111111111,
             "#46039f"
            ],
            [
             0.2222222222222222,
             "#7201a8"
            ],
            [
             0.3333333333333333,
             "#9c179e"
            ],
            [
             0.4444444444444444,
             "#bd3786"
            ],
            [
             0.5555555555555556,
             "#d8576b"
            ],
            [
             0.6666666666666666,
             "#ed7953"
            ],
            [
             0.7777777777777778,
             "#fb9f3a"
            ],
            [
             0.8888888888888888,
             "#fdca26"
            ],
            [
             1,
             "#f0f921"
            ]
           ],
           "sequentialminus": [
            [
             0,
             "#0d0887"
            ],
            [
             0.1111111111111111,
             "#46039f"
            ],
            [
             0.2222222222222222,
             "#7201a8"
            ],
            [
             0.3333333333333333,
             "#9c179e"
            ],
            [
             0.4444444444444444,
             "#bd3786"
            ],
            [
             0.5555555555555556,
             "#d8576b"
            ],
            [
             0.6666666666666666,
             "#ed7953"
            ],
            [
             0.7777777777777778,
             "#fb9f3a"
            ],
            [
             0.8888888888888888,
             "#fdca26"
            ],
            [
             1,
             "#f0f921"
            ]
           ]
          },
          "colorway": [
           "#636efa",
           "#EF553B",
           "#00cc96",
           "#ab63fa",
           "#FFA15A",
           "#19d3f3",
           "#FF6692",
           "#B6E880",
           "#FF97FF",
           "#FECB52"
          ],
          "font": {
           "color": "#2a3f5f"
          },
          "geo": {
           "bgcolor": "white",
           "lakecolor": "white",
           "landcolor": "#E5ECF6",
           "showlakes": true,
           "showland": true,
           "subunitcolor": "white"
          },
          "hoverlabel": {
           "align": "left"
          },
          "hovermode": "closest",
          "mapbox": {
           "style": "light"
          },
          "paper_bgcolor": "white",
          "plot_bgcolor": "#E5ECF6",
          "polar": {
           "angularaxis": {
            "gridcolor": "white",
            "linecolor": "white",
            "ticks": ""
           },
           "bgcolor": "#E5ECF6",
           "radialaxis": {
            "gridcolor": "white",
            "linecolor": "white",
            "ticks": ""
           }
          },
          "scene": {
           "xaxis": {
            "backgroundcolor": "#E5ECF6",
            "gridcolor": "white",
            "gridwidth": 2,
            "linecolor": "white",
            "showbackground": true,
            "ticks": "",
            "zerolinecolor": "white"
           },
           "yaxis": {
            "backgroundcolor": "#E5ECF6",
            "gridcolor": "white",
            "gridwidth": 2,
            "linecolor": "white",
            "showbackground": true,
            "ticks": "",
            "zerolinecolor": "white"
           },
           "zaxis": {
            "backgroundcolor": "#E5ECF6",
            "gridcolor": "white",
            "gridwidth": 2,
            "linecolor": "white",
            "showbackground": true,
            "ticks": "",
            "zerolinecolor": "white"
           }
          },
          "shapedefaults": {
           "line": {
            "color": "#2a3f5f"
           }
          },
          "ternary": {
           "aaxis": {
            "gridcolor": "white",
            "linecolor": "white",
            "ticks": ""
           },
           "baxis": {
            "gridcolor": "white",
            "linecolor": "white",
            "ticks": ""
           },
           "bgcolor": "#E5ECF6",
           "caxis": {
            "gridcolor": "white",
            "linecolor": "white",
            "ticks": ""
           }
          },
          "title": {
           "x": 0.05
          },
          "xaxis": {
           "automargin": true,
           "gridcolor": "white",
           "linecolor": "white",
           "ticks": "",
           "zerolinecolor": "white",
           "zerolinewidth": 2
          },
          "yaxis": {
           "automargin": true,
           "gridcolor": "white",
           "linecolor": "white",
           "ticks": "",
           "zerolinecolor": "white",
           "zerolinewidth": 2
          }
         }
        },
        "title": {
         "text": "Pearson correlation of indicators"
        }
       }
      },
      "text/html": [
       "<div>\n",
       "        \n",
       "        \n",
       "            <div id=\"d4b710be-29b7-400f-a230-43f639a31b89\" class=\"plotly-graph-div\" style=\"height:525px; width:100%;\"></div>\n",
       "            <script type=\"text/javascript\">\n",
       "                require([\"plotly\"], function(Plotly) {\n",
       "                    window.PLOTLYENV=window.PLOTLYENV || {};\n",
       "                    \n",
       "                if (document.getElementById(\"d4b710be-29b7-400f-a230-43f639a31b89\")) {\n",
       "                    Plotly.newPlot(\n",
       "                        'd4b710be-29b7-400f-a230-43f639a31b89',\n",
       "                        [{\"colorbar\": {\"title\": {\"text\": \"Pearson Coefficient\"}}, \"type\": \"heatmap\", \"x\": [\"open\", \"high\", \"low\", \"close\", \"macd\", \"signal\", \"mfi\", \"bb_up\", \"bb_low\", \"vzo\", \"apz_u\", \"apz_l\", \"stoch\"], \"y\": [\"open\", \"high\", \"low\", \"close\", \"macd\", \"signal\", \"mfi\", \"bb_up\", \"bb_low\", \"vzo\", \"apz_u\", \"apz_l\", \"stoch\"], \"z\": [[1.0, 0.9084392487787751, 0.9461517487937633, 0.8856987962107071, 0.8340231830609313, 0.16152726748943974, 0.5020794638113119, -0.3186035045456537, 0.22437006566294604, 0.47474776619695336, 0.7615896188714824, 0.6408605721424206, 0.6592071572357164], [0.9084392487787751, 1.0, 0.9596705357017462, 0.9783568749989154, 0.7796216218963381, 0.047094744083595715, 0.5881018013956096, -0.37754779949934386, 0.15939710181674377, 0.6291068031982263, 0.6953621891635514, 0.6069561300860368, 0.8172179169869942], [0.9461517487937633, 0.9596705357017462, 1.0, 0.9573672907378412, 0.8315007571289434, 0.09738369523515174, 0.546239833321043, -0.40482529674143763, 0.20101201936602525, 0.5674788842655278, 0.7544146564163341, 0.654558068790852, 0.7633446870512619], [0.8856987962107071, 0.9783568749989154, 0.9573672907378412, 1.0, 0.7320015492241425, -0.05128281982887371, 0.6558281725444904, -0.42424918029342756, 0.08809735950243582, 0.7230601526227467, 0.6349843769530406, 0.5633641907874629, 0.8961095603000387], [0.8340231830609313, 0.7796216218963381, 0.8315007571289434, 0.7320015492241425, 1.0, 0.5364875443833199, 0.2823649140236952, -0.17054239326296805, 0.4609062789847753, 0.23047402700148248, 0.9355443985400472, 0.7446593480050203, 0.45504795335994297], [0.16152726748943974, 0.047094744083595715, 0.09738369523515174, -0.05128281982887371, 0.5364875443833199, 1.0, -0.5971686472392495, -0.07225343855776019, 0.8643040629379144, -0.4807824200304837, 0.4234701065516183, 0.11520380458997606, -0.37549501997834467], [0.5020794638113119, 0.5881018013956096, 0.546239833321043, 0.6558281725444904, 0.2823649140236952, -0.5971686472392495, 1.0, 0.12462976978614682, -0.6134092646946963, 0.7595673594446284, 0.37900150361746193, 0.5764081521641691, 0.8270789057694888], [-0.3186035045456537, -0.37754779949934386, -0.40482529674143763, -0.42424918029342756, -0.17054239326296805, -0.07225343855776019, 0.12462976978614682, 1.0, -0.5156824642904023, -0.2610317340669123, 0.09774276083845684, 0.31047177992281233, -0.3028104105796292], [0.22437006566294604, 0.15939710181674377, 0.20101201936602525, 0.08809735950243582, 0.4609062789847753, 0.8643040629379144, -0.6134092646946963, -0.5156824642904023, 1.0, -0.33936177000706436, 0.25876594960391036, -0.08485165114958132, -0.248381417297992], [0.47474776619695336, 0.6291068031982263, 0.5674788842655278, 0.7230601526227467, 0.23047402700148248, -0.4807824200304837, 0.7595673594446284, -0.2610317340669123, -0.33936177000706436, 1.0, 0.11839637646780168, 0.15642851317781806, 0.9065578330665109], [0.7615896188714824, 0.6953621891635514, 0.7544146564163341, 0.6349843769530406, 0.9355443985400472, 0.4234701065516183, 0.37900150361746193, 0.09774276083845684, 0.25876594960391036, 0.11839637646780168, 1.0, 0.9231552248002419, 0.37649442538369915], [0.6408605721424206, 0.6069561300860368, 0.654558068790852, 0.5633641907874629, 0.7446593480050203, 0.11520380458997606, 0.5764081521641691, 0.31047177992281233, -0.08485165114958132, 0.15642851317781806, 0.9231552248002419, 1.0, 0.40794761381472], [0.6592071572357164, 0.8172179169869942, 0.7633446870512619, 0.8961095603000387, 0.45504795335994297, -0.37549501997834467, 0.8270789057694888, -0.3028104105796292, -0.248381417297992, 0.9065578330665109, 0.37649442538369915, 0.40794761381472, 1.0]], \"zmax\": 1.0, \"zmin\": -1.0}],\n",
       "                        {\"template\": {\"data\": {\"bar\": [{\"error_x\": {\"color\": \"#2a3f5f\"}, \"error_y\": {\"color\": \"#2a3f5f\"}, \"marker\": {\"line\": {\"color\": \"#E5ECF6\", \"width\": 0.5}}, \"type\": \"bar\"}], \"barpolar\": [{\"marker\": {\"line\": {\"color\": \"#E5ECF6\", \"width\": 0.5}}, \"type\": \"barpolar\"}], \"carpet\": [{\"aaxis\": {\"endlinecolor\": \"#2a3f5f\", \"gridcolor\": \"white\", \"linecolor\": \"white\", \"minorgridcolor\": \"white\", \"startlinecolor\": \"#2a3f5f\"}, \"baxis\": {\"endlinecolor\": \"#2a3f5f\", \"gridcolor\": \"white\", \"linecolor\": \"white\", \"minorgridcolor\": \"white\", \"startlinecolor\": \"#2a3f5f\"}, \"type\": \"carpet\"}], \"choropleth\": [{\"colorbar\": {\"outlinewidth\": 0, \"ticks\": \"\"}, \"type\": \"choropleth\"}], \"contour\": [{\"colorbar\": {\"outlinewidth\": 0, \"ticks\": \"\"}, \"colorscale\": [[0.0, \"#0d0887\"], [0.1111111111111111, \"#46039f\"], [0.2222222222222222, \"#7201a8\"], [0.3333333333333333, \"#9c179e\"], [0.4444444444444444, \"#bd3786\"], [0.5555555555555556, \"#d8576b\"], [0.6666666666666666, \"#ed7953\"], [0.7777777777777778, \"#fb9f3a\"], [0.8888888888888888, \"#fdca26\"], [1.0, \"#f0f921\"]], \"type\": \"contour\"}], \"contourcarpet\": [{\"colorbar\": {\"outlinewidth\": 0, \"ticks\": \"\"}, \"type\": \"contourcarpet\"}], \"heatmap\": [{\"colorbar\": {\"outlinewidth\": 0, \"ticks\": \"\"}, \"colorscale\": [[0.0, \"#0d0887\"], [0.1111111111111111, \"#46039f\"], [0.2222222222222222, \"#7201a8\"], [0.3333333333333333, \"#9c179e\"], [0.4444444444444444, \"#bd3786\"], [0.5555555555555556, \"#d8576b\"], [0.6666666666666666, \"#ed7953\"], [0.7777777777777778, \"#fb9f3a\"], [0.8888888888888888, \"#fdca26\"], [1.0, \"#f0f921\"]], \"type\": \"heatmap\"}], \"heatmapgl\": [{\"colorbar\": {\"outlinewidth\": 0, \"ticks\": \"\"}, \"colorscale\": [[0.0, \"#0d0887\"], [0.1111111111111111, \"#46039f\"], [0.2222222222222222, \"#7201a8\"], [0.3333333333333333, \"#9c179e\"], [0.4444444444444444, \"#bd3786\"], [0.5555555555555556, \"#d8576b\"], [0.6666666666666666, \"#ed7953\"], [0.7777777777777778, \"#fb9f3a\"], [0.8888888888888888, \"#fdca26\"], [1.0, \"#f0f921\"]], \"type\": \"heatmapgl\"}], \"histogram\": [{\"marker\": {\"colorbar\": {\"outlinewidth\": 0, \"ticks\": \"\"}}, \"type\": \"histogram\"}], \"histogram2d\": [{\"colorbar\": {\"outlinewidth\": 0, \"ticks\": \"\"}, \"colorscale\": [[0.0, \"#0d0887\"], [0.1111111111111111, \"#46039f\"], [0.2222222222222222, \"#7201a8\"], [0.3333333333333333, \"#9c179e\"], [0.4444444444444444, \"#bd3786\"], [0.5555555555555556, \"#d8576b\"], [0.6666666666666666, \"#ed7953\"], [0.7777777777777778, \"#fb9f3a\"], [0.8888888888888888, \"#fdca26\"], [1.0, \"#f0f921\"]], \"type\": \"histogram2d\"}], \"histogram2dcontour\": [{\"colorbar\": {\"outlinewidth\": 0, \"ticks\": \"\"}, \"colorscale\": [[0.0, \"#0d0887\"], [0.1111111111111111, \"#46039f\"], [0.2222222222222222, \"#7201a8\"], [0.3333333333333333, \"#9c179e\"], [0.4444444444444444, \"#bd3786\"], [0.5555555555555556, \"#d8576b\"], [0.6666666666666666, \"#ed7953\"], [0.7777777777777778, \"#fb9f3a\"], [0.8888888888888888, \"#fdca26\"], [1.0, \"#f0f921\"]], \"type\": \"histogram2dcontour\"}], \"mesh3d\": [{\"colorbar\": {\"outlinewidth\": 0, \"ticks\": \"\"}, \"type\": \"mesh3d\"}], \"parcoords\": [{\"line\": {\"colorbar\": {\"outlinewidth\": 0, \"ticks\": \"\"}}, \"type\": \"parcoords\"}], \"scatter\": [{\"marker\": {\"colorbar\": {\"outlinewidth\": 0, \"ticks\": \"\"}}, \"type\": \"scatter\"}], \"scatter3d\": [{\"line\": {\"colorbar\": {\"outlinewidth\": 0, \"ticks\": \"\"}}, \"marker\": {\"colorbar\": {\"outlinewidth\": 0, \"ticks\": \"\"}}, \"type\": \"scatter3d\"}], \"scattercarpet\": [{\"marker\": {\"colorbar\": {\"outlinewidth\": 0, \"ticks\": \"\"}}, \"type\": \"scattercarpet\"}], \"scattergeo\": [{\"marker\": {\"colorbar\": {\"outlinewidth\": 0, \"ticks\": \"\"}}, \"type\": \"scattergeo\"}], \"scattergl\": [{\"marker\": {\"colorbar\": {\"outlinewidth\": 0, \"ticks\": \"\"}}, \"type\": \"scattergl\"}], \"scattermapbox\": [{\"marker\": {\"colorbar\": {\"outlinewidth\": 0, \"ticks\": \"\"}}, \"type\": \"scattermapbox\"}], \"scatterpolar\": [{\"marker\": {\"colorbar\": {\"outlinewidth\": 0, \"ticks\": \"\"}}, \"type\": \"scatterpolar\"}], \"scatterpolargl\": [{\"marker\": {\"colorbar\": {\"outlinewidth\": 0, \"ticks\": \"\"}}, \"type\": \"scatterpolargl\"}], \"scatterternary\": [{\"marker\": {\"colorbar\": {\"outlinewidth\": 0, \"ticks\": \"\"}}, \"type\": \"scatterternary\"}], \"surface\": [{\"colorbar\": {\"outlinewidth\": 0, \"ticks\": \"\"}, \"colorscale\": [[0.0, \"#0d0887\"], [0.1111111111111111, \"#46039f\"], [0.2222222222222222, \"#7201a8\"], [0.3333333333333333, \"#9c179e\"], [0.4444444444444444, \"#bd3786\"], [0.5555555555555556, \"#d8576b\"], [0.6666666666666666, \"#ed7953\"], [0.7777777777777778, \"#fb9f3a\"], [0.8888888888888888, \"#fdca26\"], [1.0, \"#f0f921\"]], \"type\": \"surface\"}], \"table\": [{\"cells\": {\"fill\": {\"color\": \"#EBF0F8\"}, \"line\": {\"color\": \"white\"}}, \"header\": {\"fill\": {\"color\": \"#C8D4E3\"}, \"line\": {\"color\": \"white\"}}, \"type\": \"table\"}]}, \"layout\": {\"annotationdefaults\": {\"arrowcolor\": \"#2a3f5f\", \"arrowhead\": 0, \"arrowwidth\": 1}, \"colorscale\": {\"diverging\": [[0, \"#8e0152\"], [0.1, \"#c51b7d\"], [0.2, \"#de77ae\"], [0.3, \"#f1b6da\"], [0.4, \"#fde0ef\"], [0.5, \"#f7f7f7\"], [0.6, \"#e6f5d0\"], [0.7, \"#b8e186\"], [0.8, \"#7fbc41\"], [0.9, \"#4d9221\"], [1, \"#276419\"]], \"sequential\": [[0.0, \"#0d0887\"], [0.1111111111111111, \"#46039f\"], [0.2222222222222222, \"#7201a8\"], [0.3333333333333333, \"#9c179e\"], [0.4444444444444444, \"#bd3786\"], [0.5555555555555556, \"#d8576b\"], [0.6666666666666666, \"#ed7953\"], [0.7777777777777778, \"#fb9f3a\"], [0.8888888888888888, \"#fdca26\"], [1.0, \"#f0f921\"]], \"sequentialminus\": [[0.0, \"#0d0887\"], [0.1111111111111111, \"#46039f\"], [0.2222222222222222, \"#7201a8\"], [0.3333333333333333, \"#9c179e\"], [0.4444444444444444, \"#bd3786\"], [0.5555555555555556, \"#d8576b\"], [0.6666666666666666, \"#ed7953\"], [0.7777777777777778, \"#fb9f3a\"], [0.8888888888888888, \"#fdca26\"], [1.0, \"#f0f921\"]]}, \"colorway\": [\"#636efa\", \"#EF553B\", \"#00cc96\", \"#ab63fa\", \"#FFA15A\", \"#19d3f3\", \"#FF6692\", \"#B6E880\", \"#FF97FF\", \"#FECB52\"], \"font\": {\"color\": \"#2a3f5f\"}, \"geo\": {\"bgcolor\": \"white\", \"lakecolor\": \"white\", \"landcolor\": \"#E5ECF6\", \"showlakes\": true, \"showland\": true, \"subunitcolor\": \"white\"}, \"hoverlabel\": {\"align\": \"left\"}, \"hovermode\": \"closest\", \"mapbox\": {\"style\": \"light\"}, \"paper_bgcolor\": \"white\", \"plot_bgcolor\": \"#E5ECF6\", \"polar\": {\"angularaxis\": {\"gridcolor\": \"white\", \"linecolor\": \"white\", \"ticks\": \"\"}, \"bgcolor\": \"#E5ECF6\", \"radialaxis\": {\"gridcolor\": \"white\", \"linecolor\": \"white\", \"ticks\": \"\"}}, \"scene\": {\"xaxis\": {\"backgroundcolor\": \"#E5ECF6\", \"gridcolor\": \"white\", \"gridwidth\": 2, \"linecolor\": \"white\", \"showbackground\": true, \"ticks\": \"\", \"zerolinecolor\": \"white\"}, \"yaxis\": {\"backgroundcolor\": \"#E5ECF6\", \"gridcolor\": \"white\", \"gridwidth\": 2, \"linecolor\": \"white\", \"showbackground\": true, \"ticks\": \"\", \"zerolinecolor\": \"white\"}, \"zaxis\": {\"backgroundcolor\": \"#E5ECF6\", \"gridcolor\": \"white\", \"gridwidth\": 2, \"linecolor\": \"white\", \"showbackground\": true, \"ticks\": \"\", \"zerolinecolor\": \"white\"}}, \"shapedefaults\": {\"line\": {\"color\": \"#2a3f5f\"}}, \"ternary\": {\"aaxis\": {\"gridcolor\": \"white\", \"linecolor\": \"white\", \"ticks\": \"\"}, \"baxis\": {\"gridcolor\": \"white\", \"linecolor\": \"white\", \"ticks\": \"\"}, \"bgcolor\": \"#E5ECF6\", \"caxis\": {\"gridcolor\": \"white\", \"linecolor\": \"white\", \"ticks\": \"\"}}, \"title\": {\"x\": 0.05}, \"xaxis\": {\"automargin\": true, \"gridcolor\": \"white\", \"linecolor\": \"white\", \"ticks\": \"\", \"zerolinecolor\": \"white\", \"zerolinewidth\": 2}, \"yaxis\": {\"automargin\": true, \"gridcolor\": \"white\", \"linecolor\": \"white\", \"ticks\": \"\", \"zerolinecolor\": \"white\", \"zerolinewidth\": 2}}}, \"title\": {\"text\": \"Pearson correlation of indicators\"}},\n",
       "                        {\"responsive\": true}\n",
       "                    ).then(function(){\n",
       "                            \n",
       "var gd = document.getElementById('d4b710be-29b7-400f-a230-43f639a31b89');\n",
       "var x = new MutationObserver(function (mutations, observer) {{\n",
       "        var display = window.getComputedStyle(gd).display;\n",
       "        if (!display || display === 'none') {{\n",
       "            console.log([gd, 'removed!']);\n",
       "            Plotly.purge(gd);\n",
       "            observer.disconnect();\n",
       "        }}\n",
       "}});\n",
       "\n",
       "// Listen for the removal of the full notebook cells\n",
       "var notebookContainer = gd.closest('#notebook-container');\n",
       "if (notebookContainer) {{\n",
       "    x.observe(notebookContainer, {childList: true});\n",
       "}}\n",
       "\n",
       "// Listen for the clearing of the current output cell\n",
       "var outputEl = gd.closest('.output');\n",
       "if (outputEl) {{\n",
       "    x.observe(outputEl, {childList: true});\n",
       "}}\n",
       "\n",
       "                        })\n",
       "                };\n",
       "                });\n",
       "            </script>\n",
       "        </div>"
      ]
     },
     "metadata": {},
     "output_type": "display_data"
    }
   ],
   "source": [
    "heatmap = go.Heatmap(\n",
    "    z=n_indicators.iloc[-20:].corr(method='pearson').values,\n",
    "    x=n_indicators.columns,\n",
    "    y=n_indicators.columns,\n",
    "    colorbar=dict(title='Pearson Coefficient'),\n",
    ")\n",
    "\n",
    "layout = go.Layout(title=\"Pearson correlation of indicators\")\n",
    "\n",
    "heatmap['zmax'] = 1.0\n",
    "heatmap['zmin'] = -1.0\n",
    "\n",
    "fig = go.Figure(data=[heatmap], layout=layout)\n",
    "py.iplot(fig)"
   ]
  },
  {
   "cell_type": "code",
   "execution_count": 20,
   "metadata": {
    "pycharm": {
     "name": "#%%\n"
    }
   },
   "outputs": [
    {
     "data": {
      "application/vnd.plotly.v1+json": {
       "config": {
        "linkText": "Export to plot.ly",
        "plotlyServerURL": "https://plot.ly",
        "showLink": false
       },
       "data": [
        {
         "colorbar": {
          "title": {
           "text": "Pearson Coefficient"
          }
         },
         "type": "heatmap",
         "x": [
          "open",
          "high",
          "low",
          "close",
          "macd",
          "signal",
          "mfi",
          "bb_up",
          "bb_low",
          "vzo",
          "apz_u",
          "apz_l",
          "stoch"
         ],
         "y": [
          "open",
          "high",
          "low",
          "close",
          "macd",
          "signal",
          "mfi",
          "bb_up",
          "bb_low",
          "vzo",
          "apz_u",
          "apz_l",
          "stoch"
         ],
         "z": [
          [
           1,
           0.7845397764709391,
           0.8427090574557238,
           0.784113824742086,
           -0.23506361504185846,
           0.13056843747687114,
           0.39058977571676035,
           -0.243659529021009,
           0.359224086349818,
           0.2508504439935071,
           0.5322433267759045,
           0.5124617917290328,
           0.5136921393208695
          ],
          [
           0.7845397764709391,
           1,
           0.8584470890137706,
           0.9454985424750797,
           0.03620192367746704,
           0.1407453059363494,
           0.4569368825072033,
           -0.2132566882300891,
           0.3373647524097951,
           0.12195226823003574,
           0.6035205567412061,
           0.5956359236499215,
           0.6067884469566356
          ],
          [
           0.8427090574557238,
           0.8584470890137706,
           1,
           0.9169201109014784,
           0.06864079159524221,
           0.25236377101385965,
           0.3661045835321425,
           -0.37717895423778036,
           0.423710582225841,
           0.06763402294794126,
           0.6810025795625766,
           0.6814489023615147,
           0.5633817879853777
          ],
          [
           0.784113824742086,
           0.9454985424750797,
           0.9169201109014784,
           1,
           0.011360818136208867,
           0.08766271666853205,
           0.4663479882409137,
           -0.34655762063261314,
           0.3657615858653989,
           0.11045336698412754,
           0.6009216813988562,
           0.5969717866609965,
           0.7246450400870017
          ],
          [
           -0.23506361504185846,
           0.03620192367746704,
           0.06864079159524221,
           0.011360818136208867,
           1,
           0.6282446239296883,
           -0.04490234435427185,
           -0.19161660438317357,
           0.419289403902599,
           -0.3467078746280914,
           0.5485561016907059,
           0.5740757949185896,
           -0.18361998913823202
          ],
          [
           0.13056843747687114,
           0.1407453059363494,
           0.25236377101385965,
           0.08766271666853205,
           0.6282446239296883,
           1,
           -0.1395486880613199,
           0.10223288770221137,
           0.49409671767145646,
           0.0020697607049632435,
           0.7895336625489253,
           0.8005212768467274,
           -0.26787207198410234
          ],
          [
           0.39058977571676035,
           0.4569368825072033,
           0.3661045835321425,
           0.4663479882409137,
           -0.04490234435427185,
           -0.1395486880613199,
           1,
           -0.05542792950044275,
           0.051567598124119,
           0.01323887264226476,
           0.21356056951491104,
           0.2134094517882586,
           0.6270152783612909
          ],
          [
           -0.243659529021009,
           -0.2132566882300891,
           -0.37717895423778036,
           -0.34655762063261314,
           -0.19161660438317357,
           0.10223288770221137,
           -0.05542792950044275,
           1,
           -0.6776593935881852,
           0.1752004421355659,
           -0.06311570914828726,
           -0.07791844517739187,
           -0.19000806119494668
          ],
          [
           0.359224086349818,
           0.3373647524097951,
           0.423710582225841,
           0.3657615858653989,
           0.419289403902599,
           0.49409671767145646,
           0.051567598124119,
           -0.6776593935881852,
           1,
           -0.09556207199915155,
           0.5201451448550677,
           0.5333919070526366,
           0.019378078540629895
          ],
          [
           0.2508504439935071,
           0.12195226823003574,
           0.06763402294794126,
           0.11045336698412754,
           -0.3467078746280914,
           0.0020697607049632435,
           0.01323887264226476,
           0.1752004421355659,
           -0.09556207199915155,
           1,
           0.08708518119038328,
           0.05834247413743222,
           0.08914321883144781
          ],
          [
           0.5322433267759045,
           0.6035205567412061,
           0.6810025795625766,
           0.6009216813988562,
           0.5485561016907059,
           0.7895336625489253,
           0.21356056951491104,
           -0.06311570914828726,
           0.5201451448550677,
           0.08708518119038328,
           1,
           0.9978937582473122,
           0.23195560432674506
          ],
          [
           0.5124617917290328,
           0.5956359236499215,
           0.6814489023615147,
           0.5969717866609965,
           0.5740757949185896,
           0.8005212768467274,
           0.2134094517882586,
           -0.07791844517739187,
           0.5333919070526366,
           0.05834247413743222,
           0.9978937582473122,
           1,
           0.23941859422607367
          ],
          [
           0.5136921393208695,
           0.6067884469566356,
           0.5633817879853777,
           0.7246450400870017,
           -0.18361998913823202,
           -0.26787207198410234,
           0.6270152783612909,
           -0.19000806119494668,
           0.019378078540629895,
           0.08914321883144781,
           0.23195560432674506,
           0.23941859422607367,
           1
          ]
         ],
         "zmax": 1,
         "zmin": -1
        }
       ],
       "layout": {
        "template": {
         "data": {
          "bar": [
           {
            "error_x": {
             "color": "#2a3f5f"
            },
            "error_y": {
             "color": "#2a3f5f"
            },
            "marker": {
             "line": {
              "color": "#E5ECF6",
              "width": 0.5
             }
            },
            "type": "bar"
           }
          ],
          "barpolar": [
           {
            "marker": {
             "line": {
              "color": "#E5ECF6",
              "width": 0.5
             }
            },
            "type": "barpolar"
           }
          ],
          "carpet": [
           {
            "aaxis": {
             "endlinecolor": "#2a3f5f",
             "gridcolor": "white",
             "linecolor": "white",
             "minorgridcolor": "white",
             "startlinecolor": "#2a3f5f"
            },
            "baxis": {
             "endlinecolor": "#2a3f5f",
             "gridcolor": "white",
             "linecolor": "white",
             "minorgridcolor": "white",
             "startlinecolor": "#2a3f5f"
            },
            "type": "carpet"
           }
          ],
          "choropleth": [
           {
            "colorbar": {
             "outlinewidth": 0,
             "ticks": ""
            },
            "type": "choropleth"
           }
          ],
          "contour": [
           {
            "colorbar": {
             "outlinewidth": 0,
             "ticks": ""
            },
            "colorscale": [
             [
              0,
              "#0d0887"
             ],
             [
              0.1111111111111111,
              "#46039f"
             ],
             [
              0.2222222222222222,
              "#7201a8"
             ],
             [
              0.3333333333333333,
              "#9c179e"
             ],
             [
              0.4444444444444444,
              "#bd3786"
             ],
             [
              0.5555555555555556,
              "#d8576b"
             ],
             [
              0.6666666666666666,
              "#ed7953"
             ],
             [
              0.7777777777777778,
              "#fb9f3a"
             ],
             [
              0.8888888888888888,
              "#fdca26"
             ],
             [
              1,
              "#f0f921"
             ]
            ],
            "type": "contour"
           }
          ],
          "contourcarpet": [
           {
            "colorbar": {
             "outlinewidth": 0,
             "ticks": ""
            },
            "type": "contourcarpet"
           }
          ],
          "heatmap": [
           {
            "colorbar": {
             "outlinewidth": 0,
             "ticks": ""
            },
            "colorscale": [
             [
              0,
              "#0d0887"
             ],
             [
              0.1111111111111111,
              "#46039f"
             ],
             [
              0.2222222222222222,
              "#7201a8"
             ],
             [
              0.3333333333333333,
              "#9c179e"
             ],
             [
              0.4444444444444444,
              "#bd3786"
             ],
             [
              0.5555555555555556,
              "#d8576b"
             ],
             [
              0.6666666666666666,
              "#ed7953"
             ],
             [
              0.7777777777777778,
              "#fb9f3a"
             ],
             [
              0.8888888888888888,
              "#fdca26"
             ],
             [
              1,
              "#f0f921"
             ]
            ],
            "type": "heatmap"
           }
          ],
          "heatmapgl": [
           {
            "colorbar": {
             "outlinewidth": 0,
             "ticks": ""
            },
            "colorscale": [
             [
              0,
              "#0d0887"
             ],
             [
              0.1111111111111111,
              "#46039f"
             ],
             [
              0.2222222222222222,
              "#7201a8"
             ],
             [
              0.3333333333333333,
              "#9c179e"
             ],
             [
              0.4444444444444444,
              "#bd3786"
             ],
             [
              0.5555555555555556,
              "#d8576b"
             ],
             [
              0.6666666666666666,
              "#ed7953"
             ],
             [
              0.7777777777777778,
              "#fb9f3a"
             ],
             [
              0.8888888888888888,
              "#fdca26"
             ],
             [
              1,
              "#f0f921"
             ]
            ],
            "type": "heatmapgl"
           }
          ],
          "histogram": [
           {
            "marker": {
             "colorbar": {
              "outlinewidth": 0,
              "ticks": ""
             }
            },
            "type": "histogram"
           }
          ],
          "histogram2d": [
           {
            "colorbar": {
             "outlinewidth": 0,
             "ticks": ""
            },
            "colorscale": [
             [
              0,
              "#0d0887"
             ],
             [
              0.1111111111111111,
              "#46039f"
             ],
             [
              0.2222222222222222,
              "#7201a8"
             ],
             [
              0.3333333333333333,
              "#9c179e"
             ],
             [
              0.4444444444444444,
              "#bd3786"
             ],
             [
              0.5555555555555556,
              "#d8576b"
             ],
             [
              0.6666666666666666,
              "#ed7953"
             ],
             [
              0.7777777777777778,
              "#fb9f3a"
             ],
             [
              0.8888888888888888,
              "#fdca26"
             ],
             [
              1,
              "#f0f921"
             ]
            ],
            "type": "histogram2d"
           }
          ],
          "histogram2dcontour": [
           {
            "colorbar": {
             "outlinewidth": 0,
             "ticks": ""
            },
            "colorscale": [
             [
              0,
              "#0d0887"
             ],
             [
              0.1111111111111111,
              "#46039f"
             ],
             [
              0.2222222222222222,
              "#7201a8"
             ],
             [
              0.3333333333333333,
              "#9c179e"
             ],
             [
              0.4444444444444444,
              "#bd3786"
             ],
             [
              0.5555555555555556,
              "#d8576b"
             ],
             [
              0.6666666666666666,
              "#ed7953"
             ],
             [
              0.7777777777777778,
              "#fb9f3a"
             ],
             [
              0.8888888888888888,
              "#fdca26"
             ],
             [
              1,
              "#f0f921"
             ]
            ],
            "type": "histogram2dcontour"
           }
          ],
          "mesh3d": [
           {
            "colorbar": {
             "outlinewidth": 0,
             "ticks": ""
            },
            "type": "mesh3d"
           }
          ],
          "parcoords": [
           {
            "line": {
             "colorbar": {
              "outlinewidth": 0,
              "ticks": ""
             }
            },
            "type": "parcoords"
           }
          ],
          "scatter": [
           {
            "marker": {
             "colorbar": {
              "outlinewidth": 0,
              "ticks": ""
             }
            },
            "type": "scatter"
           }
          ],
          "scatter3d": [
           {
            "line": {
             "colorbar": {
              "outlinewidth": 0,
              "ticks": ""
             }
            },
            "marker": {
             "colorbar": {
              "outlinewidth": 0,
              "ticks": ""
             }
            },
            "type": "scatter3d"
           }
          ],
          "scattercarpet": [
           {
            "marker": {
             "colorbar": {
              "outlinewidth": 0,
              "ticks": ""
             }
            },
            "type": "scattercarpet"
           }
          ],
          "scattergeo": [
           {
            "marker": {
             "colorbar": {
              "outlinewidth": 0,
              "ticks": ""
             }
            },
            "type": "scattergeo"
           }
          ],
          "scattergl": [
           {
            "marker": {
             "colorbar": {
              "outlinewidth": 0,
              "ticks": ""
             }
            },
            "type": "scattergl"
           }
          ],
          "scattermapbox": [
           {
            "marker": {
             "colorbar": {
              "outlinewidth": 0,
              "ticks": ""
             }
            },
            "type": "scattermapbox"
           }
          ],
          "scatterpolar": [
           {
            "marker": {
             "colorbar": {
              "outlinewidth": 0,
              "ticks": ""
             }
            },
            "type": "scatterpolar"
           }
          ],
          "scatterpolargl": [
           {
            "marker": {
             "colorbar": {
              "outlinewidth": 0,
              "ticks": ""
             }
            },
            "type": "scatterpolargl"
           }
          ],
          "scatterternary": [
           {
            "marker": {
             "colorbar": {
              "outlinewidth": 0,
              "ticks": ""
             }
            },
            "type": "scatterternary"
           }
          ],
          "surface": [
           {
            "colorbar": {
             "outlinewidth": 0,
             "ticks": ""
            },
            "colorscale": [
             [
              0,
              "#0d0887"
             ],
             [
              0.1111111111111111,
              "#46039f"
             ],
             [
              0.2222222222222222,
              "#7201a8"
             ],
             [
              0.3333333333333333,
              "#9c179e"
             ],
             [
              0.4444444444444444,
              "#bd3786"
             ],
             [
              0.5555555555555556,
              "#d8576b"
             ],
             [
              0.6666666666666666,
              "#ed7953"
             ],
             [
              0.7777777777777778,
              "#fb9f3a"
             ],
             [
              0.8888888888888888,
              "#fdca26"
             ],
             [
              1,
              "#f0f921"
             ]
            ],
            "type": "surface"
           }
          ],
          "table": [
           {
            "cells": {
             "fill": {
              "color": "#EBF0F8"
             },
             "line": {
              "color": "white"
             }
            },
            "header": {
             "fill": {
              "color": "#C8D4E3"
             },
             "line": {
              "color": "white"
             }
            },
            "type": "table"
           }
          ]
         },
         "layout": {
          "annotationdefaults": {
           "arrowcolor": "#2a3f5f",
           "arrowhead": 0,
           "arrowwidth": 1
          },
          "colorscale": {
           "diverging": [
            [
             0,
             "#8e0152"
            ],
            [
             0.1,
             "#c51b7d"
            ],
            [
             0.2,
             "#de77ae"
            ],
            [
             0.3,
             "#f1b6da"
            ],
            [
             0.4,
             "#fde0ef"
            ],
            [
             0.5,
             "#f7f7f7"
            ],
            [
             0.6,
             "#e6f5d0"
            ],
            [
             0.7,
             "#b8e186"
            ],
            [
             0.8,
             "#7fbc41"
            ],
            [
             0.9,
             "#4d9221"
            ],
            [
             1,
             "#276419"
            ]
           ],
           "sequential": [
            [
             0,
             "#0d0887"
            ],
            [
             0.1111111111111111,
             "#46039f"
            ],
            [
             0.2222222222222222,
             "#7201a8"
            ],
            [
             0.3333333333333333,
             "#9c179e"
            ],
            [
             0.4444444444444444,
             "#bd3786"
            ],
            [
             0.5555555555555556,
             "#d8576b"
            ],
            [
             0.6666666666666666,
             "#ed7953"
            ],
            [
             0.7777777777777778,
             "#fb9f3a"
            ],
            [
             0.8888888888888888,
             "#fdca26"
            ],
            [
             1,
             "#f0f921"
            ]
           ],
           "sequentialminus": [
            [
             0,
             "#0d0887"
            ],
            [
             0.1111111111111111,
             "#46039f"
            ],
            [
             0.2222222222222222,
             "#7201a8"
            ],
            [
             0.3333333333333333,
             "#9c179e"
            ],
            [
             0.4444444444444444,
             "#bd3786"
            ],
            [
             0.5555555555555556,
             "#d8576b"
            ],
            [
             0.6666666666666666,
             "#ed7953"
            ],
            [
             0.7777777777777778,
             "#fb9f3a"
            ],
            [
             0.8888888888888888,
             "#fdca26"
            ],
            [
             1,
             "#f0f921"
            ]
           ]
          },
          "colorway": [
           "#636efa",
           "#EF553B",
           "#00cc96",
           "#ab63fa",
           "#FFA15A",
           "#19d3f3",
           "#FF6692",
           "#B6E880",
           "#FF97FF",
           "#FECB52"
          ],
          "font": {
           "color": "#2a3f5f"
          },
          "geo": {
           "bgcolor": "white",
           "lakecolor": "white",
           "landcolor": "#E5ECF6",
           "showlakes": true,
           "showland": true,
           "subunitcolor": "white"
          },
          "hoverlabel": {
           "align": "left"
          },
          "hovermode": "closest",
          "mapbox": {
           "style": "light"
          },
          "paper_bgcolor": "white",
          "plot_bgcolor": "#E5ECF6",
          "polar": {
           "angularaxis": {
            "gridcolor": "white",
            "linecolor": "white",
            "ticks": ""
           },
           "bgcolor": "#E5ECF6",
           "radialaxis": {
            "gridcolor": "white",
            "linecolor": "white",
            "ticks": ""
           }
          },
          "scene": {
           "xaxis": {
            "backgroundcolor": "#E5ECF6",
            "gridcolor": "white",
            "gridwidth": 2,
            "linecolor": "white",
            "showbackground": true,
            "ticks": "",
            "zerolinecolor": "white"
           },
           "yaxis": {
            "backgroundcolor": "#E5ECF6",
            "gridcolor": "white",
            "gridwidth": 2,
            "linecolor": "white",
            "showbackground": true,
            "ticks": "",
            "zerolinecolor": "white"
           },
           "zaxis": {
            "backgroundcolor": "#E5ECF6",
            "gridcolor": "white",
            "gridwidth": 2,
            "linecolor": "white",
            "showbackground": true,
            "ticks": "",
            "zerolinecolor": "white"
           }
          },
          "shapedefaults": {
           "line": {
            "color": "#2a3f5f"
           }
          },
          "ternary": {
           "aaxis": {
            "gridcolor": "white",
            "linecolor": "white",
            "ticks": ""
           },
           "baxis": {
            "gridcolor": "white",
            "linecolor": "white",
            "ticks": ""
           },
           "bgcolor": "#E5ECF6",
           "caxis": {
            "gridcolor": "white",
            "linecolor": "white",
            "ticks": ""
           }
          },
          "title": {
           "x": 0.05
          },
          "xaxis": {
           "automargin": true,
           "gridcolor": "white",
           "linecolor": "white",
           "ticks": "",
           "zerolinecolor": "white",
           "zerolinewidth": 2
          },
          "yaxis": {
           "automargin": true,
           "gridcolor": "white",
           "linecolor": "white",
           "ticks": "",
           "zerolinecolor": "white",
           "zerolinewidth": 2
          }
         }
        },
        "title": {
         "text": "Pearson correlation of indicator percentage changes (first in list)"
        }
       }
      },
      "text/html": [
       "<div>\n",
       "        \n",
       "        \n",
       "            <div id=\"ee2af1eb-56db-42ae-badd-119365f29411\" class=\"plotly-graph-div\" style=\"height:525px; width:100%;\"></div>\n",
       "            <script type=\"text/javascript\">\n",
       "                require([\"plotly\"], function(Plotly) {\n",
       "                    window.PLOTLYENV=window.PLOTLYENV || {};\n",
       "                    \n",
       "                if (document.getElementById(\"ee2af1eb-56db-42ae-badd-119365f29411\")) {\n",
       "                    Plotly.newPlot(\n",
       "                        'ee2af1eb-56db-42ae-badd-119365f29411',\n",
       "                        [{\"colorbar\": {\"title\": {\"text\": \"Pearson Coefficient\"}}, \"type\": \"heatmap\", \"x\": [\"open\", \"high\", \"low\", \"close\", \"macd\", \"signal\", \"mfi\", \"bb_up\", \"bb_low\", \"vzo\", \"apz_u\", \"apz_l\", \"stoch\"], \"y\": [\"open\", \"high\", \"low\", \"close\", \"macd\", \"signal\", \"mfi\", \"bb_up\", \"bb_low\", \"vzo\", \"apz_u\", \"apz_l\", \"stoch\"], \"z\": [[1.0, 0.7845397764709391, 0.8427090574557238, 0.784113824742086, -0.23506361504185846, 0.13056843747687114, 0.39058977571676035, -0.243659529021009, 0.359224086349818, 0.2508504439935071, 0.5322433267759045, 0.5124617917290328, 0.5136921393208695], [0.7845397764709391, 1.0, 0.8584470890137706, 0.9454985424750797, 0.03620192367746704, 0.1407453059363494, 0.4569368825072033, -0.2132566882300891, 0.3373647524097951, 0.12195226823003574, 0.6035205567412061, 0.5956359236499215, 0.6067884469566356], [0.8427090574557238, 0.8584470890137706, 1.0, 0.9169201109014784, 0.06864079159524221, 0.25236377101385965, 0.3661045835321425, -0.37717895423778036, 0.423710582225841, 0.06763402294794126, 0.6810025795625766, 0.6814489023615147, 0.5633817879853777], [0.784113824742086, 0.9454985424750797, 0.9169201109014784, 1.0, 0.011360818136208867, 0.08766271666853205, 0.4663479882409137, -0.34655762063261314, 0.3657615858653989, 0.11045336698412754, 0.6009216813988562, 0.5969717866609965, 0.7246450400870017], [-0.23506361504185846, 0.03620192367746704, 0.06864079159524221, 0.011360818136208867, 1.0, 0.6282446239296883, -0.04490234435427185, -0.19161660438317357, 0.419289403902599, -0.3467078746280914, 0.5485561016907059, 0.5740757949185896, -0.18361998913823202], [0.13056843747687114, 0.1407453059363494, 0.25236377101385965, 0.08766271666853205, 0.6282446239296883, 1.0, -0.1395486880613199, 0.10223288770221137, 0.49409671767145646, 0.0020697607049632435, 0.7895336625489253, 0.8005212768467274, -0.26787207198410234], [0.39058977571676035, 0.4569368825072033, 0.3661045835321425, 0.4663479882409137, -0.04490234435427185, -0.1395486880613199, 1.0, -0.05542792950044275, 0.051567598124119, 0.01323887264226476, 0.21356056951491104, 0.2134094517882586, 0.6270152783612909], [-0.243659529021009, -0.2132566882300891, -0.37717895423778036, -0.34655762063261314, -0.19161660438317357, 0.10223288770221137, -0.05542792950044275, 1.0, -0.6776593935881852, 0.1752004421355659, -0.06311570914828726, -0.07791844517739187, -0.19000806119494668], [0.359224086349818, 0.3373647524097951, 0.423710582225841, 0.3657615858653989, 0.419289403902599, 0.49409671767145646, 0.051567598124119, -0.6776593935881852, 1.0, -0.09556207199915155, 0.5201451448550677, 0.5333919070526366, 0.019378078540629895], [0.2508504439935071, 0.12195226823003574, 0.06763402294794126, 0.11045336698412754, -0.3467078746280914, 0.0020697607049632435, 0.01323887264226476, 0.1752004421355659, -0.09556207199915155, 1.0, 0.08708518119038328, 0.05834247413743222, 0.08914321883144781], [0.5322433267759045, 0.6035205567412061, 0.6810025795625766, 0.6009216813988562, 0.5485561016907059, 0.7895336625489253, 0.21356056951491104, -0.06311570914828726, 0.5201451448550677, 0.08708518119038328, 1.0, 0.9978937582473122, 0.23195560432674506], [0.5124617917290328, 0.5956359236499215, 0.6814489023615147, 0.5969717866609965, 0.5740757949185896, 0.8005212768467274, 0.2134094517882586, -0.07791844517739187, 0.5333919070526366, 0.05834247413743222, 0.9978937582473122, 1.0, 0.23941859422607367], [0.5136921393208695, 0.6067884469566356, 0.5633817879853777, 0.7246450400870017, -0.18361998913823202, -0.26787207198410234, 0.6270152783612909, -0.19000806119494668, 0.019378078540629895, 0.08914321883144781, 0.23195560432674506, 0.23941859422607367, 1.0]], \"zmax\": 1.0, \"zmin\": -1.0}],\n",
       "                        {\"template\": {\"data\": {\"bar\": [{\"error_x\": {\"color\": \"#2a3f5f\"}, \"error_y\": {\"color\": \"#2a3f5f\"}, \"marker\": {\"line\": {\"color\": \"#E5ECF6\", \"width\": 0.5}}, \"type\": \"bar\"}], \"barpolar\": [{\"marker\": {\"line\": {\"color\": \"#E5ECF6\", \"width\": 0.5}}, \"type\": \"barpolar\"}], \"carpet\": [{\"aaxis\": {\"endlinecolor\": \"#2a3f5f\", \"gridcolor\": \"white\", \"linecolor\": \"white\", \"minorgridcolor\": \"white\", \"startlinecolor\": \"#2a3f5f\"}, \"baxis\": {\"endlinecolor\": \"#2a3f5f\", \"gridcolor\": \"white\", \"linecolor\": \"white\", \"minorgridcolor\": \"white\", \"startlinecolor\": \"#2a3f5f\"}, \"type\": \"carpet\"}], \"choropleth\": [{\"colorbar\": {\"outlinewidth\": 0, \"ticks\": \"\"}, \"type\": \"choropleth\"}], \"contour\": [{\"colorbar\": {\"outlinewidth\": 0, \"ticks\": \"\"}, \"colorscale\": [[0.0, \"#0d0887\"], [0.1111111111111111, \"#46039f\"], [0.2222222222222222, \"#7201a8\"], [0.3333333333333333, \"#9c179e\"], [0.4444444444444444, \"#bd3786\"], [0.5555555555555556, \"#d8576b\"], [0.6666666666666666, \"#ed7953\"], [0.7777777777777778, \"#fb9f3a\"], [0.8888888888888888, \"#fdca26\"], [1.0, \"#f0f921\"]], \"type\": \"contour\"}], \"contourcarpet\": [{\"colorbar\": {\"outlinewidth\": 0, \"ticks\": \"\"}, \"type\": \"contourcarpet\"}], \"heatmap\": [{\"colorbar\": {\"outlinewidth\": 0, \"ticks\": \"\"}, \"colorscale\": [[0.0, \"#0d0887\"], [0.1111111111111111, \"#46039f\"], [0.2222222222222222, \"#7201a8\"], [0.3333333333333333, \"#9c179e\"], [0.4444444444444444, \"#bd3786\"], [0.5555555555555556, \"#d8576b\"], [0.6666666666666666, \"#ed7953\"], [0.7777777777777778, \"#fb9f3a\"], [0.8888888888888888, \"#fdca26\"], [1.0, \"#f0f921\"]], \"type\": \"heatmap\"}], \"heatmapgl\": [{\"colorbar\": {\"outlinewidth\": 0, \"ticks\": \"\"}, \"colorscale\": [[0.0, \"#0d0887\"], [0.1111111111111111, \"#46039f\"], [0.2222222222222222, \"#7201a8\"], [0.3333333333333333, \"#9c179e\"], [0.4444444444444444, \"#bd3786\"], [0.5555555555555556, \"#d8576b\"], [0.6666666666666666, \"#ed7953\"], [0.7777777777777778, \"#fb9f3a\"], [0.8888888888888888, \"#fdca26\"], [1.0, \"#f0f921\"]], \"type\": \"heatmapgl\"}], \"histogram\": [{\"marker\": {\"colorbar\": {\"outlinewidth\": 0, \"ticks\": \"\"}}, \"type\": \"histogram\"}], \"histogram2d\": [{\"colorbar\": {\"outlinewidth\": 0, \"ticks\": \"\"}, \"colorscale\": [[0.0, \"#0d0887\"], [0.1111111111111111, \"#46039f\"], [0.2222222222222222, \"#7201a8\"], [0.3333333333333333, \"#9c179e\"], [0.4444444444444444, \"#bd3786\"], [0.5555555555555556, \"#d8576b\"], [0.6666666666666666, \"#ed7953\"], [0.7777777777777778, \"#fb9f3a\"], [0.8888888888888888, \"#fdca26\"], [1.0, \"#f0f921\"]], \"type\": \"histogram2d\"}], \"histogram2dcontour\": [{\"colorbar\": {\"outlinewidth\": 0, \"ticks\": \"\"}, \"colorscale\": [[0.0, \"#0d0887\"], [0.1111111111111111, \"#46039f\"], [0.2222222222222222, \"#7201a8\"], [0.3333333333333333, \"#9c179e\"], [0.4444444444444444, \"#bd3786\"], [0.5555555555555556, \"#d8576b\"], [0.6666666666666666, \"#ed7953\"], [0.7777777777777778, \"#fb9f3a\"], [0.8888888888888888, \"#fdca26\"], [1.0, \"#f0f921\"]], \"type\": \"histogram2dcontour\"}], \"mesh3d\": [{\"colorbar\": {\"outlinewidth\": 0, \"ticks\": \"\"}, \"type\": \"mesh3d\"}], \"parcoords\": [{\"line\": {\"colorbar\": {\"outlinewidth\": 0, \"ticks\": \"\"}}, \"type\": \"parcoords\"}], \"scatter\": [{\"marker\": {\"colorbar\": {\"outlinewidth\": 0, \"ticks\": \"\"}}, \"type\": \"scatter\"}], \"scatter3d\": [{\"line\": {\"colorbar\": {\"outlinewidth\": 0, \"ticks\": \"\"}}, \"marker\": {\"colorbar\": {\"outlinewidth\": 0, \"ticks\": \"\"}}, \"type\": \"scatter3d\"}], \"scattercarpet\": [{\"marker\": {\"colorbar\": {\"outlinewidth\": 0, \"ticks\": \"\"}}, \"type\": \"scattercarpet\"}], \"scattergeo\": [{\"marker\": {\"colorbar\": {\"outlinewidth\": 0, \"ticks\": \"\"}}, \"type\": \"scattergeo\"}], \"scattergl\": [{\"marker\": {\"colorbar\": {\"outlinewidth\": 0, \"ticks\": \"\"}}, \"type\": \"scattergl\"}], \"scattermapbox\": [{\"marker\": {\"colorbar\": {\"outlinewidth\": 0, \"ticks\": \"\"}}, \"type\": \"scattermapbox\"}], \"scatterpolar\": [{\"marker\": {\"colorbar\": {\"outlinewidth\": 0, \"ticks\": \"\"}}, \"type\": \"scatterpolar\"}], \"scatterpolargl\": [{\"marker\": {\"colorbar\": {\"outlinewidth\": 0, \"ticks\": \"\"}}, \"type\": \"scatterpolargl\"}], \"scatterternary\": [{\"marker\": {\"colorbar\": {\"outlinewidth\": 0, \"ticks\": \"\"}}, \"type\": \"scatterternary\"}], \"surface\": [{\"colorbar\": {\"outlinewidth\": 0, \"ticks\": \"\"}, \"colorscale\": [[0.0, \"#0d0887\"], [0.1111111111111111, \"#46039f\"], [0.2222222222222222, \"#7201a8\"], [0.3333333333333333, \"#9c179e\"], [0.4444444444444444, \"#bd3786\"], [0.5555555555555556, \"#d8576b\"], [0.6666666666666666, \"#ed7953\"], [0.7777777777777778, \"#fb9f3a\"], [0.8888888888888888, \"#fdca26\"], [1.0, \"#f0f921\"]], \"type\": \"surface\"}], \"table\": [{\"cells\": {\"fill\": {\"color\": \"#EBF0F8\"}, \"line\": {\"color\": \"white\"}}, \"header\": {\"fill\": {\"color\": \"#C8D4E3\"}, \"line\": {\"color\": \"white\"}}, \"type\": \"table\"}]}, \"layout\": {\"annotationdefaults\": {\"arrowcolor\": \"#2a3f5f\", \"arrowhead\": 0, \"arrowwidth\": 1}, \"colorscale\": {\"diverging\": [[0, \"#8e0152\"], [0.1, \"#c51b7d\"], [0.2, \"#de77ae\"], [0.3, \"#f1b6da\"], [0.4, \"#fde0ef\"], [0.5, \"#f7f7f7\"], [0.6, \"#e6f5d0\"], [0.7, \"#b8e186\"], [0.8, \"#7fbc41\"], [0.9, \"#4d9221\"], [1, \"#276419\"]], \"sequential\": [[0.0, \"#0d0887\"], [0.1111111111111111, \"#46039f\"], [0.2222222222222222, \"#7201a8\"], [0.3333333333333333, \"#9c179e\"], [0.4444444444444444, \"#bd3786\"], [0.5555555555555556, \"#d8576b\"], [0.6666666666666666, \"#ed7953\"], [0.7777777777777778, \"#fb9f3a\"], [0.8888888888888888, \"#fdca26\"], [1.0, \"#f0f921\"]], \"sequentialminus\": [[0.0, \"#0d0887\"], [0.1111111111111111, \"#46039f\"], [0.2222222222222222, \"#7201a8\"], [0.3333333333333333, \"#9c179e\"], [0.4444444444444444, \"#bd3786\"], [0.5555555555555556, \"#d8576b\"], [0.6666666666666666, \"#ed7953\"], [0.7777777777777778, \"#fb9f3a\"], [0.8888888888888888, \"#fdca26\"], [1.0, \"#f0f921\"]]}, \"colorway\": [\"#636efa\", \"#EF553B\", \"#00cc96\", \"#ab63fa\", \"#FFA15A\", \"#19d3f3\", \"#FF6692\", \"#B6E880\", \"#FF97FF\", \"#FECB52\"], \"font\": {\"color\": \"#2a3f5f\"}, \"geo\": {\"bgcolor\": \"white\", \"lakecolor\": \"white\", \"landcolor\": \"#E5ECF6\", \"showlakes\": true, \"showland\": true, \"subunitcolor\": \"white\"}, \"hoverlabel\": {\"align\": \"left\"}, \"hovermode\": \"closest\", \"mapbox\": {\"style\": \"light\"}, \"paper_bgcolor\": \"white\", \"plot_bgcolor\": \"#E5ECF6\", \"polar\": {\"angularaxis\": {\"gridcolor\": \"white\", \"linecolor\": \"white\", \"ticks\": \"\"}, \"bgcolor\": \"#E5ECF6\", \"radialaxis\": {\"gridcolor\": \"white\", \"linecolor\": \"white\", \"ticks\": \"\"}}, \"scene\": {\"xaxis\": {\"backgroundcolor\": \"#E5ECF6\", \"gridcolor\": \"white\", \"gridwidth\": 2, \"linecolor\": \"white\", \"showbackground\": true, \"ticks\": \"\", \"zerolinecolor\": \"white\"}, \"yaxis\": {\"backgroundcolor\": \"#E5ECF6\", \"gridcolor\": \"white\", \"gridwidth\": 2, \"linecolor\": \"white\", \"showbackground\": true, \"ticks\": \"\", \"zerolinecolor\": \"white\"}, \"zaxis\": {\"backgroundcolor\": \"#E5ECF6\", \"gridcolor\": \"white\", \"gridwidth\": 2, \"linecolor\": \"white\", \"showbackground\": true, \"ticks\": \"\", \"zerolinecolor\": \"white\"}}, \"shapedefaults\": {\"line\": {\"color\": \"#2a3f5f\"}}, \"ternary\": {\"aaxis\": {\"gridcolor\": \"white\", \"linecolor\": \"white\", \"ticks\": \"\"}, \"baxis\": {\"gridcolor\": \"white\", \"linecolor\": \"white\", \"ticks\": \"\"}, \"bgcolor\": \"#E5ECF6\", \"caxis\": {\"gridcolor\": \"white\", \"linecolor\": \"white\", \"ticks\": \"\"}}, \"title\": {\"x\": 0.05}, \"xaxis\": {\"automargin\": true, \"gridcolor\": \"white\", \"linecolor\": \"white\", \"ticks\": \"\", \"zerolinecolor\": \"white\", \"zerolinewidth\": 2}, \"yaxis\": {\"automargin\": true, \"gridcolor\": \"white\", \"linecolor\": \"white\", \"ticks\": \"\", \"zerolinecolor\": \"white\", \"zerolinewidth\": 2}}}, \"title\": {\"text\": \"Pearson correlation of indicator percentage changes (first in list)\"}},\n",
       "                        {\"responsive\": true}\n",
       "                    ).then(function(){\n",
       "                            \n",
       "var gd = document.getElementById('ee2af1eb-56db-42ae-badd-119365f29411');\n",
       "var x = new MutationObserver(function (mutations, observer) {{\n",
       "        var display = window.getComputedStyle(gd).display;\n",
       "        if (!display || display === 'none') {{\n",
       "            console.log([gd, 'removed!']);\n",
       "            Plotly.purge(gd);\n",
       "            observer.disconnect();\n",
       "        }}\n",
       "}});\n",
       "\n",
       "// Listen for the removal of the full notebook cells\n",
       "var notebookContainer = gd.closest('#notebook-container');\n",
       "if (notebookContainer) {{\n",
       "    x.observe(notebookContainer, {childList: true});\n",
       "}}\n",
       "\n",
       "// Listen for the clearing of the current output cell\n",
       "var outputEl = gd.closest('.output');\n",
       "if (outputEl) {{\n",
       "    x.observe(outputEl, {childList: true});\n",
       "}}\n",
       "\n",
       "                        })\n",
       "                };\n",
       "                });\n",
       "            </script>\n",
       "        </div>"
      ]
     },
     "metadata": {},
     "output_type": "display_data"
    }
   ],
   "source": [
    "heatmap = go.Heatmap(\n",
    "    z=n_indicators.iloc[-20:].pct_change().corr(method='pearson').values,\n",
    "    x=n_indicators.columns,\n",
    "    y=n_indicators.columns,\n",
    "    colorbar=dict(title='Pearson Coefficient'),\n",
    ")\n",
    "\n",
    "layout = go.Layout(title=\"Pearson correlation of indicator percentage changes (first in list)\")\n",
    "\n",
    "heatmap['zmax'] = 1.0\n",
    "heatmap['zmin'] = -1.0\n",
    "\n",
    "fig = go.Figure(data=[heatmap], layout=layout)\n",
    "py.iplot(fig)"
   ]
  },
  {
   "cell_type": "code",
   "execution_count": 21,
   "metadata": {
    "pycharm": {
     "name": "#%%\n"
    }
   },
   "outputs": [
    {
     "data": {
      "application/vnd.plotly.v1+json": {
       "config": {
        "linkText": "Export to plot.ly",
        "plotlyServerURL": "https://plot.ly",
        "showLink": false
       },
       "data": [
        {
         "colorbar": {
          "title": {
           "text": "Pearson Coefficient"
          }
         },
         "type": "heatmap",
         "x": [
          "open",
          "high",
          "low",
          "close",
          "macd",
          "signal",
          "mfi",
          "bb_up",
          "bb_low",
          "vzo",
          "apz_u",
          "apz_l",
          "stoch"
         ],
         "y": [
          "open",
          "high",
          "low",
          "close",
          "macd",
          "signal",
          "mfi",
          "bb_up",
          "bb_low",
          "vzo",
          "apz_u",
          "apz_l",
          "stoch"
         ],
         "z": [
          [
           1,
           0.645836518364047,
           0.629871866534892,
           0.21024749495200773,
           0.12577757823361752,
           0.46455334106371016,
           0.3178247073608421,
           0.46482975491108675,
           -0.5668487455924062,
           0.24201979996018172,
           0.49244863146370416,
           0.5040772536362349,
           -0.2822889725147871
          ],
          [
           0.645836518364047,
           1,
           0.7856835842472005,
           0.8022308525360452,
           0.34602137961661816,
           0.6427921645739886,
           0.7176281658809008,
           0.5405386331925139,
           -0.6463516537406682,
           0.06991069386873473,
           0.5604178771588275,
           0.6215217815365166,
           0.04875498909330631
          ],
          [
           0.629871866534892,
           0.7856835842472005,
           1,
           0.6471227192628117,
           -0.0546146004976741,
           0.6841360794560318,
           0.5591640581456953,
           0.4743383600933947,
           -0.46852305370533653,
           0.046207623310852965,
           0.618217265040899,
           0.6400328505332485,
           0.11601036520061125
          ],
          [
           0.21024749495200773,
           0.8022308525360452,
           0.6471227192628117,
           1,
           0.26291778742933747,
           0.5714193233400803,
           0.760333375971734,
           0.42501754586809753,
           -0.3773605752400185,
           0.025870387852340134,
           0.5446852841984,
           0.6211040924406097,
           0.29402641125687334
          ],
          [
           0.12577757823361752,
           0.34602137961661816,
           -0.0546146004976741,
           0.26291778742933747,
           1,
           0.1858514901554515,
           0.3057911010182981,
           0.4370115157918228,
           -0.5484101829117889,
           -0.013282507803908699,
           0.2828723724295092,
           0.30453625047838007,
           -0.11203642559012773
          ],
          [
           0.46455334106371016,
           0.6427921645739886,
           0.6841360794560318,
           0.5714193233400803,
           0.1858514901554515,
           1,
           0.3509361129578814,
           0.6049114206495998,
           -0.6771105491133435,
           -0.11237997040690949,
           0.707846626166776,
           0.6815367650322678,
           0.15787053987706837
          ],
          [
           0.3178247073608421,
           0.7176281658809008,
           0.5591640581456953,
           0.760333375971734,
           0.3057911010182981,
           0.3509361129578814,
           1,
           0.30175883671528525,
           -0.36207394151589267,
           -0.20283360774510098,
           0.3303196246466137,
           0.399777790889953,
           0.3787363138626533
          ],
          [
           0.46482975491108675,
           0.5405386331925139,
           0.4743383600933947,
           0.42501754586809753,
           0.4370115157918228,
           0.6049114206495998,
           0.30175883671528525,
           1,
           -0.6850452269399445,
           0.37655184482835125,
           0.9125796211999568,
           0.9101158809705769,
           -0.42195595915066353
          ],
          [
           -0.5668487455924062,
           -0.6463516537406682,
           -0.46852305370533653,
           -0.3773605752400185,
           -0.5484101829117889,
           -0.6771105491133435,
           -0.36207394151589267,
           -0.6850452269399445,
           1,
           -0.08771570304454324,
           -0.5969247065384736,
           -0.5700381851319638,
           0.20472853218155534
          ],
          [
           0.24201979996018172,
           0.06991069386873473,
           0.046207623310852965,
           0.025870387852340134,
           -0.013282507803908699,
           -0.11237997040690949,
           -0.20283360774510098,
           0.37655184482835125,
           -0.08771570304454324,
           1,
           0.3572461005789275,
           0.3693667197280498,
           -0.858639663108553
          ],
          [
           0.49244863146370416,
           0.5604178771588275,
           0.618217265040899,
           0.5446852841984,
           0.2828723724295092,
           0.707846626166776,
           0.3303196246466137,
           0.9125796211999568,
           -0.5969247065384736,
           0.3572461005789275,
           1,
           0.9849897191831188,
           -0.2537466857260268
          ],
          [
           0.5040772536362349,
           0.6215217815365166,
           0.6400328505332485,
           0.6211040924406097,
           0.30453625047838007,
           0.6815367650322678,
           0.399777790889953,
           0.9101158809705769,
           -0.5700381851319638,
           0.3693667197280498,
           0.9849897191831188,
           1,
           -0.23931728593978496
          ],
          [
           -0.2822889725147871,
           0.04875498909330631,
           0.11601036520061125,
           0.29402641125687334,
           -0.11203642559012773,
           0.15787053987706837,
           0.3787363138626533,
           -0.42195595915066353,
           0.20472853218155534,
           -0.858639663108553,
           -0.2537466857260268,
           -0.23931728593978496,
           1
          ]
         ],
         "zmax": 1,
         "zmin": -1
        }
       ],
       "layout": {
        "template": {
         "data": {
          "bar": [
           {
            "error_x": {
             "color": "#2a3f5f"
            },
            "error_y": {
             "color": "#2a3f5f"
            },
            "marker": {
             "line": {
              "color": "#E5ECF6",
              "width": 0.5
             }
            },
            "type": "bar"
           }
          ],
          "barpolar": [
           {
            "marker": {
             "line": {
              "color": "#E5ECF6",
              "width": 0.5
             }
            },
            "type": "barpolar"
           }
          ],
          "carpet": [
           {
            "aaxis": {
             "endlinecolor": "#2a3f5f",
             "gridcolor": "white",
             "linecolor": "white",
             "minorgridcolor": "white",
             "startlinecolor": "#2a3f5f"
            },
            "baxis": {
             "endlinecolor": "#2a3f5f",
             "gridcolor": "white",
             "linecolor": "white",
             "minorgridcolor": "white",
             "startlinecolor": "#2a3f5f"
            },
            "type": "carpet"
           }
          ],
          "choropleth": [
           {
            "colorbar": {
             "outlinewidth": 0,
             "ticks": ""
            },
            "type": "choropleth"
           }
          ],
          "contour": [
           {
            "colorbar": {
             "outlinewidth": 0,
             "ticks": ""
            },
            "colorscale": [
             [
              0,
              "#0d0887"
             ],
             [
              0.1111111111111111,
              "#46039f"
             ],
             [
              0.2222222222222222,
              "#7201a8"
             ],
             [
              0.3333333333333333,
              "#9c179e"
             ],
             [
              0.4444444444444444,
              "#bd3786"
             ],
             [
              0.5555555555555556,
              "#d8576b"
             ],
             [
              0.6666666666666666,
              "#ed7953"
             ],
             [
              0.7777777777777778,
              "#fb9f3a"
             ],
             [
              0.8888888888888888,
              "#fdca26"
             ],
             [
              1,
              "#f0f921"
             ]
            ],
            "type": "contour"
           }
          ],
          "contourcarpet": [
           {
            "colorbar": {
             "outlinewidth": 0,
             "ticks": ""
            },
            "type": "contourcarpet"
           }
          ],
          "heatmap": [
           {
            "colorbar": {
             "outlinewidth": 0,
             "ticks": ""
            },
            "colorscale": [
             [
              0,
              "#0d0887"
             ],
             [
              0.1111111111111111,
              "#46039f"
             ],
             [
              0.2222222222222222,
              "#7201a8"
             ],
             [
              0.3333333333333333,
              "#9c179e"
             ],
             [
              0.4444444444444444,
              "#bd3786"
             ],
             [
              0.5555555555555556,
              "#d8576b"
             ],
             [
              0.6666666666666666,
              "#ed7953"
             ],
             [
              0.7777777777777778,
              "#fb9f3a"
             ],
             [
              0.8888888888888888,
              "#fdca26"
             ],
             [
              1,
              "#f0f921"
             ]
            ],
            "type": "heatmap"
           }
          ],
          "heatmapgl": [
           {
            "colorbar": {
             "outlinewidth": 0,
             "ticks": ""
            },
            "colorscale": [
             [
              0,
              "#0d0887"
             ],
             [
              0.1111111111111111,
              "#46039f"
             ],
             [
              0.2222222222222222,
              "#7201a8"
             ],
             [
              0.3333333333333333,
              "#9c179e"
             ],
             [
              0.4444444444444444,
              "#bd3786"
             ],
             [
              0.5555555555555556,
              "#d8576b"
             ],
             [
              0.6666666666666666,
              "#ed7953"
             ],
             [
              0.7777777777777778,
              "#fb9f3a"
             ],
             [
              0.8888888888888888,
              "#fdca26"
             ],
             [
              1,
              "#f0f921"
             ]
            ],
            "type": "heatmapgl"
           }
          ],
          "histogram": [
           {
            "marker": {
             "colorbar": {
              "outlinewidth": 0,
              "ticks": ""
             }
            },
            "type": "histogram"
           }
          ],
          "histogram2d": [
           {
            "colorbar": {
             "outlinewidth": 0,
             "ticks": ""
            },
            "colorscale": [
             [
              0,
              "#0d0887"
             ],
             [
              0.1111111111111111,
              "#46039f"
             ],
             [
              0.2222222222222222,
              "#7201a8"
             ],
             [
              0.3333333333333333,
              "#9c179e"
             ],
             [
              0.4444444444444444,
              "#bd3786"
             ],
             [
              0.5555555555555556,
              "#d8576b"
             ],
             [
              0.6666666666666666,
              "#ed7953"
             ],
             [
              0.7777777777777778,
              "#fb9f3a"
             ],
             [
              0.8888888888888888,
              "#fdca26"
             ],
             [
              1,
              "#f0f921"
             ]
            ],
            "type": "histogram2d"
           }
          ],
          "histogram2dcontour": [
           {
            "colorbar": {
             "outlinewidth": 0,
             "ticks": ""
            },
            "colorscale": [
             [
              0,
              "#0d0887"
             ],
             [
              0.1111111111111111,
              "#46039f"
             ],
             [
              0.2222222222222222,
              "#7201a8"
             ],
             [
              0.3333333333333333,
              "#9c179e"
             ],
             [
              0.4444444444444444,
              "#bd3786"
             ],
             [
              0.5555555555555556,
              "#d8576b"
             ],
             [
              0.6666666666666666,
              "#ed7953"
             ],
             [
              0.7777777777777778,
              "#fb9f3a"
             ],
             [
              0.8888888888888888,
              "#fdca26"
             ],
             [
              1,
              "#f0f921"
             ]
            ],
            "type": "histogram2dcontour"
           }
          ],
          "mesh3d": [
           {
            "colorbar": {
             "outlinewidth": 0,
             "ticks": ""
            },
            "type": "mesh3d"
           }
          ],
          "parcoords": [
           {
            "line": {
             "colorbar": {
              "outlinewidth": 0,
              "ticks": ""
             }
            },
            "type": "parcoords"
           }
          ],
          "scatter": [
           {
            "marker": {
             "colorbar": {
              "outlinewidth": 0,
              "ticks": ""
             }
            },
            "type": "scatter"
           }
          ],
          "scatter3d": [
           {
            "line": {
             "colorbar": {
              "outlinewidth": 0,
              "ticks": ""
             }
            },
            "marker": {
             "colorbar": {
              "outlinewidth": 0,
              "ticks": ""
             }
            },
            "type": "scatter3d"
           }
          ],
          "scattercarpet": [
           {
            "marker": {
             "colorbar": {
              "outlinewidth": 0,
              "ticks": ""
             }
            },
            "type": "scattercarpet"
           }
          ],
          "scattergeo": [
           {
            "marker": {
             "colorbar": {
              "outlinewidth": 0,
              "ticks": ""
             }
            },
            "type": "scattergeo"
           }
          ],
          "scattergl": [
           {
            "marker": {
             "colorbar": {
              "outlinewidth": 0,
              "ticks": ""
             }
            },
            "type": "scattergl"
           }
          ],
          "scattermapbox": [
           {
            "marker": {
             "colorbar": {
              "outlinewidth": 0,
              "ticks": ""
             }
            },
            "type": "scattermapbox"
           }
          ],
          "scatterpolar": [
           {
            "marker": {
             "colorbar": {
              "outlinewidth": 0,
              "ticks": ""
             }
            },
            "type": "scatterpolar"
           }
          ],
          "scatterpolargl": [
           {
            "marker": {
             "colorbar": {
              "outlinewidth": 0,
              "ticks": ""
             }
            },
            "type": "scatterpolargl"
           }
          ],
          "scatterternary": [
           {
            "marker": {
             "colorbar": {
              "outlinewidth": 0,
              "ticks": ""
             }
            },
            "type": "scatterternary"
           }
          ],
          "surface": [
           {
            "colorbar": {
             "outlinewidth": 0,
             "ticks": ""
            },
            "colorscale": [
             [
              0,
              "#0d0887"
             ],
             [
              0.1111111111111111,
              "#46039f"
             ],
             [
              0.2222222222222222,
              "#7201a8"
             ],
             [
              0.3333333333333333,
              "#9c179e"
             ],
             [
              0.4444444444444444,
              "#bd3786"
             ],
             [
              0.5555555555555556,
              "#d8576b"
             ],
             [
              0.6666666666666666,
              "#ed7953"
             ],
             [
              0.7777777777777778,
              "#fb9f3a"
             ],
             [
              0.8888888888888888,
              "#fdca26"
             ],
             [
              1,
              "#f0f921"
             ]
            ],
            "type": "surface"
           }
          ],
          "table": [
           {
            "cells": {
             "fill": {
              "color": "#EBF0F8"
             },
             "line": {
              "color": "white"
             }
            },
            "header": {
             "fill": {
              "color": "#C8D4E3"
             },
             "line": {
              "color": "white"
             }
            },
            "type": "table"
           }
          ]
         },
         "layout": {
          "annotationdefaults": {
           "arrowcolor": "#2a3f5f",
           "arrowhead": 0,
           "arrowwidth": 1
          },
          "colorscale": {
           "diverging": [
            [
             0,
             "#8e0152"
            ],
            [
             0.1,
             "#c51b7d"
            ],
            [
             0.2,
             "#de77ae"
            ],
            [
             0.3,
             "#f1b6da"
            ],
            [
             0.4,
             "#fde0ef"
            ],
            [
             0.5,
             "#f7f7f7"
            ],
            [
             0.6,
             "#e6f5d0"
            ],
            [
             0.7,
             "#b8e186"
            ],
            [
             0.8,
             "#7fbc41"
            ],
            [
             0.9,
             "#4d9221"
            ],
            [
             1,
             "#276419"
            ]
           ],
           "sequential": [
            [
             0,
             "#0d0887"
            ],
            [
             0.1111111111111111,
             "#46039f"
            ],
            [
             0.2222222222222222,
             "#7201a8"
            ],
            [
             0.3333333333333333,
             "#9c179e"
            ],
            [
             0.4444444444444444,
             "#bd3786"
            ],
            [
             0.5555555555555556,
             "#d8576b"
            ],
            [
             0.6666666666666666,
             "#ed7953"
            ],
            [
             0.7777777777777778,
             "#fb9f3a"
            ],
            [
             0.8888888888888888,
             "#fdca26"
            ],
            [
             1,
             "#f0f921"
            ]
           ],
           "sequentialminus": [
            [
             0,
             "#0d0887"
            ],
            [
             0.1111111111111111,
             "#46039f"
            ],
            [
             0.2222222222222222,
             "#7201a8"
            ],
            [
             0.3333333333333333,
             "#9c179e"
            ],
            [
             0.4444444444444444,
             "#bd3786"
            ],
            [
             0.5555555555555556,
             "#d8576b"
            ],
            [
             0.6666666666666666,
             "#ed7953"
            ],
            [
             0.7777777777777778,
             "#fb9f3a"
            ],
            [
             0.8888888888888888,
             "#fdca26"
            ],
            [
             1,
             "#f0f921"
            ]
           ]
          },
          "colorway": [
           "#636efa",
           "#EF553B",
           "#00cc96",
           "#ab63fa",
           "#FFA15A",
           "#19d3f3",
           "#FF6692",
           "#B6E880",
           "#FF97FF",
           "#FECB52"
          ],
          "font": {
           "color": "#2a3f5f"
          },
          "geo": {
           "bgcolor": "white",
           "lakecolor": "white",
           "landcolor": "#E5ECF6",
           "showlakes": true,
           "showland": true,
           "subunitcolor": "white"
          },
          "hoverlabel": {
           "align": "left"
          },
          "hovermode": "closest",
          "mapbox": {
           "style": "light"
          },
          "paper_bgcolor": "white",
          "plot_bgcolor": "#E5ECF6",
          "polar": {
           "angularaxis": {
            "gridcolor": "white",
            "linecolor": "white",
            "ticks": ""
           },
           "bgcolor": "#E5ECF6",
           "radialaxis": {
            "gridcolor": "white",
            "linecolor": "white",
            "ticks": ""
           }
          },
          "scene": {
           "xaxis": {
            "backgroundcolor": "#E5ECF6",
            "gridcolor": "white",
            "gridwidth": 2,
            "linecolor": "white",
            "showbackground": true,
            "ticks": "",
            "zerolinecolor": "white"
           },
           "yaxis": {
            "backgroundcolor": "#E5ECF6",
            "gridcolor": "white",
            "gridwidth": 2,
            "linecolor": "white",
            "showbackground": true,
            "ticks": "",
            "zerolinecolor": "white"
           },
           "zaxis": {
            "backgroundcolor": "#E5ECF6",
            "gridcolor": "white",
            "gridwidth": 2,
            "linecolor": "white",
            "showbackground": true,
            "ticks": "",
            "zerolinecolor": "white"
           }
          },
          "shapedefaults": {
           "line": {
            "color": "#2a3f5f"
           }
          },
          "ternary": {
           "aaxis": {
            "gridcolor": "white",
            "linecolor": "white",
            "ticks": ""
           },
           "baxis": {
            "gridcolor": "white",
            "linecolor": "white",
            "ticks": ""
           },
           "bgcolor": "#E5ECF6",
           "caxis": {
            "gridcolor": "white",
            "linecolor": "white",
            "ticks": ""
           }
          },
          "title": {
           "x": 0.05
          },
          "xaxis": {
           "automargin": true,
           "gridcolor": "white",
           "linecolor": "white",
           "ticks": "",
           "zerolinecolor": "white",
           "zerolinewidth": 2
          },
          "yaxis": {
           "automargin": true,
           "gridcolor": "white",
           "linecolor": "white",
           "ticks": "",
           "zerolinecolor": "white",
           "zerolinewidth": 2
          }
         }
        },
        "title": {
         "text": "Pearson correlation of indicator percentage changes (second in list)"
        }
       }
      },
      "text/html": [
       "<div>\n",
       "        \n",
       "        \n",
       "            <div id=\"063fe65c-68fb-4451-b1be-dc2ab1db9c6e\" class=\"plotly-graph-div\" style=\"height:525px; width:100%;\"></div>\n",
       "            <script type=\"text/javascript\">\n",
       "                require([\"plotly\"], function(Plotly) {\n",
       "                    window.PLOTLYENV=window.PLOTLYENV || {};\n",
       "                    \n",
       "                if (document.getElementById(\"063fe65c-68fb-4451-b1be-dc2ab1db9c6e\")) {\n",
       "                    Plotly.newPlot(\n",
       "                        '063fe65c-68fb-4451-b1be-dc2ab1db9c6e',\n",
       "                        [{\"colorbar\": {\"title\": {\"text\": \"Pearson Coefficient\"}}, \"type\": \"heatmap\", \"x\": [\"open\", \"high\", \"low\", \"close\", \"macd\", \"signal\", \"mfi\", \"bb_up\", \"bb_low\", \"vzo\", \"apz_u\", \"apz_l\", \"stoch\"], \"y\": [\"open\", \"high\", \"low\", \"close\", \"macd\", \"signal\", \"mfi\", \"bb_up\", \"bb_low\", \"vzo\", \"apz_u\", \"apz_l\", \"stoch\"], \"z\": [[1.0, 0.645836518364047, 0.629871866534892, 0.21024749495200773, 0.12577757823361752, 0.46455334106371016, 0.3178247073608421, 0.46482975491108675, -0.5668487455924062, 0.24201979996018172, 0.49244863146370416, 0.5040772536362349, -0.2822889725147871], [0.645836518364047, 1.0, 0.7856835842472005, 0.8022308525360452, 0.34602137961661816, 0.6427921645739886, 0.7176281658809008, 0.5405386331925139, -0.6463516537406682, 0.06991069386873473, 0.5604178771588275, 0.6215217815365166, 0.04875498909330631], [0.629871866534892, 0.7856835842472005, 1.0, 0.6471227192628117, -0.0546146004976741, 0.6841360794560318, 0.5591640581456953, 0.4743383600933947, -0.46852305370533653, 0.046207623310852965, 0.618217265040899, 0.6400328505332485, 0.11601036520061125], [0.21024749495200773, 0.8022308525360452, 0.6471227192628117, 1.0, 0.26291778742933747, 0.5714193233400803, 0.760333375971734, 0.42501754586809753, -0.3773605752400185, 0.025870387852340134, 0.5446852841984, 0.6211040924406097, 0.29402641125687334], [0.12577757823361752, 0.34602137961661816, -0.0546146004976741, 0.26291778742933747, 1.0, 0.1858514901554515, 0.3057911010182981, 0.4370115157918228, -0.5484101829117889, -0.013282507803908699, 0.2828723724295092, 0.30453625047838007, -0.11203642559012773], [0.46455334106371016, 0.6427921645739886, 0.6841360794560318, 0.5714193233400803, 0.1858514901554515, 1.0, 0.3509361129578814, 0.6049114206495998, -0.6771105491133435, -0.11237997040690949, 0.707846626166776, 0.6815367650322678, 0.15787053987706837], [0.3178247073608421, 0.7176281658809008, 0.5591640581456953, 0.760333375971734, 0.3057911010182981, 0.3509361129578814, 1.0, 0.30175883671528525, -0.36207394151589267, -0.20283360774510098, 0.3303196246466137, 0.399777790889953, 0.3787363138626533], [0.46482975491108675, 0.5405386331925139, 0.4743383600933947, 0.42501754586809753, 0.4370115157918228, 0.6049114206495998, 0.30175883671528525, 1.0, -0.6850452269399445, 0.37655184482835125, 0.9125796211999568, 0.9101158809705769, -0.42195595915066353], [-0.5668487455924062, -0.6463516537406682, -0.46852305370533653, -0.3773605752400185, -0.5484101829117889, -0.6771105491133435, -0.36207394151589267, -0.6850452269399445, 1.0, -0.08771570304454324, -0.5969247065384736, -0.5700381851319638, 0.20472853218155534], [0.24201979996018172, 0.06991069386873473, 0.046207623310852965, 0.025870387852340134, -0.013282507803908699, -0.11237997040690949, -0.20283360774510098, 0.37655184482835125, -0.08771570304454324, 1.0, 0.3572461005789275, 0.3693667197280498, -0.858639663108553], [0.49244863146370416, 0.5604178771588275, 0.618217265040899, 0.5446852841984, 0.2828723724295092, 0.707846626166776, 0.3303196246466137, 0.9125796211999568, -0.5969247065384736, 0.3572461005789275, 1.0, 0.9849897191831188, -0.2537466857260268], [0.5040772536362349, 0.6215217815365166, 0.6400328505332485, 0.6211040924406097, 0.30453625047838007, 0.6815367650322678, 0.399777790889953, 0.9101158809705769, -0.5700381851319638, 0.3693667197280498, 0.9849897191831188, 1.0, -0.23931728593978496], [-0.2822889725147871, 0.04875498909330631, 0.11601036520061125, 0.29402641125687334, -0.11203642559012773, 0.15787053987706837, 0.3787363138626533, -0.42195595915066353, 0.20472853218155534, -0.858639663108553, -0.2537466857260268, -0.23931728593978496, 1.0]], \"zmax\": 1.0, \"zmin\": -1.0}],\n",
       "                        {\"template\": {\"data\": {\"bar\": [{\"error_x\": {\"color\": \"#2a3f5f\"}, \"error_y\": {\"color\": \"#2a3f5f\"}, \"marker\": {\"line\": {\"color\": \"#E5ECF6\", \"width\": 0.5}}, \"type\": \"bar\"}], \"barpolar\": [{\"marker\": {\"line\": {\"color\": \"#E5ECF6\", \"width\": 0.5}}, \"type\": \"barpolar\"}], \"carpet\": [{\"aaxis\": {\"endlinecolor\": \"#2a3f5f\", \"gridcolor\": \"white\", \"linecolor\": \"white\", \"minorgridcolor\": \"white\", \"startlinecolor\": \"#2a3f5f\"}, \"baxis\": {\"endlinecolor\": \"#2a3f5f\", \"gridcolor\": \"white\", \"linecolor\": \"white\", \"minorgridcolor\": \"white\", \"startlinecolor\": \"#2a3f5f\"}, \"type\": \"carpet\"}], \"choropleth\": [{\"colorbar\": {\"outlinewidth\": 0, \"ticks\": \"\"}, \"type\": \"choropleth\"}], \"contour\": [{\"colorbar\": {\"outlinewidth\": 0, \"ticks\": \"\"}, \"colorscale\": [[0.0, \"#0d0887\"], [0.1111111111111111, \"#46039f\"], [0.2222222222222222, \"#7201a8\"], [0.3333333333333333, \"#9c179e\"], [0.4444444444444444, \"#bd3786\"], [0.5555555555555556, \"#d8576b\"], [0.6666666666666666, \"#ed7953\"], [0.7777777777777778, \"#fb9f3a\"], [0.8888888888888888, \"#fdca26\"], [1.0, \"#f0f921\"]], \"type\": \"contour\"}], \"contourcarpet\": [{\"colorbar\": {\"outlinewidth\": 0, \"ticks\": \"\"}, \"type\": \"contourcarpet\"}], \"heatmap\": [{\"colorbar\": {\"outlinewidth\": 0, \"ticks\": \"\"}, \"colorscale\": [[0.0, \"#0d0887\"], [0.1111111111111111, \"#46039f\"], [0.2222222222222222, \"#7201a8\"], [0.3333333333333333, \"#9c179e\"], [0.4444444444444444, \"#bd3786\"], [0.5555555555555556, \"#d8576b\"], [0.6666666666666666, \"#ed7953\"], [0.7777777777777778, \"#fb9f3a\"], [0.8888888888888888, \"#fdca26\"], [1.0, \"#f0f921\"]], \"type\": \"heatmap\"}], \"heatmapgl\": [{\"colorbar\": {\"outlinewidth\": 0, \"ticks\": \"\"}, \"colorscale\": [[0.0, \"#0d0887\"], [0.1111111111111111, \"#46039f\"], [0.2222222222222222, \"#7201a8\"], [0.3333333333333333, \"#9c179e\"], [0.4444444444444444, \"#bd3786\"], [0.5555555555555556, \"#d8576b\"], [0.6666666666666666, \"#ed7953\"], [0.7777777777777778, \"#fb9f3a\"], [0.8888888888888888, \"#fdca26\"], [1.0, \"#f0f921\"]], \"type\": \"heatmapgl\"}], \"histogram\": [{\"marker\": {\"colorbar\": {\"outlinewidth\": 0, \"ticks\": \"\"}}, \"type\": \"histogram\"}], \"histogram2d\": [{\"colorbar\": {\"outlinewidth\": 0, \"ticks\": \"\"}, \"colorscale\": [[0.0, \"#0d0887\"], [0.1111111111111111, \"#46039f\"], [0.2222222222222222, \"#7201a8\"], [0.3333333333333333, \"#9c179e\"], [0.4444444444444444, \"#bd3786\"], [0.5555555555555556, \"#d8576b\"], [0.6666666666666666, \"#ed7953\"], [0.7777777777777778, \"#fb9f3a\"], [0.8888888888888888, \"#fdca26\"], [1.0, \"#f0f921\"]], \"type\": \"histogram2d\"}], \"histogram2dcontour\": [{\"colorbar\": {\"outlinewidth\": 0, \"ticks\": \"\"}, \"colorscale\": [[0.0, \"#0d0887\"], [0.1111111111111111, \"#46039f\"], [0.2222222222222222, \"#7201a8\"], [0.3333333333333333, \"#9c179e\"], [0.4444444444444444, \"#bd3786\"], [0.5555555555555556, \"#d8576b\"], [0.6666666666666666, \"#ed7953\"], [0.7777777777777778, \"#fb9f3a\"], [0.8888888888888888, \"#fdca26\"], [1.0, \"#f0f921\"]], \"type\": \"histogram2dcontour\"}], \"mesh3d\": [{\"colorbar\": {\"outlinewidth\": 0, \"ticks\": \"\"}, \"type\": \"mesh3d\"}], \"parcoords\": [{\"line\": {\"colorbar\": {\"outlinewidth\": 0, \"ticks\": \"\"}}, \"type\": \"parcoords\"}], \"scatter\": [{\"marker\": {\"colorbar\": {\"outlinewidth\": 0, \"ticks\": \"\"}}, \"type\": \"scatter\"}], \"scatter3d\": [{\"line\": {\"colorbar\": {\"outlinewidth\": 0, \"ticks\": \"\"}}, \"marker\": {\"colorbar\": {\"outlinewidth\": 0, \"ticks\": \"\"}}, \"type\": \"scatter3d\"}], \"scattercarpet\": [{\"marker\": {\"colorbar\": {\"outlinewidth\": 0, \"ticks\": \"\"}}, \"type\": \"scattercarpet\"}], \"scattergeo\": [{\"marker\": {\"colorbar\": {\"outlinewidth\": 0, \"ticks\": \"\"}}, \"type\": \"scattergeo\"}], \"scattergl\": [{\"marker\": {\"colorbar\": {\"outlinewidth\": 0, \"ticks\": \"\"}}, \"type\": \"scattergl\"}], \"scattermapbox\": [{\"marker\": {\"colorbar\": {\"outlinewidth\": 0, \"ticks\": \"\"}}, \"type\": \"scattermapbox\"}], \"scatterpolar\": [{\"marker\": {\"colorbar\": {\"outlinewidth\": 0, \"ticks\": \"\"}}, \"type\": \"scatterpolar\"}], \"scatterpolargl\": [{\"marker\": {\"colorbar\": {\"outlinewidth\": 0, \"ticks\": \"\"}}, \"type\": \"scatterpolargl\"}], \"scatterternary\": [{\"marker\": {\"colorbar\": {\"outlinewidth\": 0, \"ticks\": \"\"}}, \"type\": \"scatterternary\"}], \"surface\": [{\"colorbar\": {\"outlinewidth\": 0, \"ticks\": \"\"}, \"colorscale\": [[0.0, \"#0d0887\"], [0.1111111111111111, \"#46039f\"], [0.2222222222222222, \"#7201a8\"], [0.3333333333333333, \"#9c179e\"], [0.4444444444444444, \"#bd3786\"], [0.5555555555555556, \"#d8576b\"], [0.6666666666666666, \"#ed7953\"], [0.7777777777777778, \"#fb9f3a\"], [0.8888888888888888, \"#fdca26\"], [1.0, \"#f0f921\"]], \"type\": \"surface\"}], \"table\": [{\"cells\": {\"fill\": {\"color\": \"#EBF0F8\"}, \"line\": {\"color\": \"white\"}}, \"header\": {\"fill\": {\"color\": \"#C8D4E3\"}, \"line\": {\"color\": \"white\"}}, \"type\": \"table\"}]}, \"layout\": {\"annotationdefaults\": {\"arrowcolor\": \"#2a3f5f\", \"arrowhead\": 0, \"arrowwidth\": 1}, \"colorscale\": {\"diverging\": [[0, \"#8e0152\"], [0.1, \"#c51b7d\"], [0.2, \"#de77ae\"], [0.3, \"#f1b6da\"], [0.4, \"#fde0ef\"], [0.5, \"#f7f7f7\"], [0.6, \"#e6f5d0\"], [0.7, \"#b8e186\"], [0.8, \"#7fbc41\"], [0.9, \"#4d9221\"], [1, \"#276419\"]], \"sequential\": [[0.0, \"#0d0887\"], [0.1111111111111111, \"#46039f\"], [0.2222222222222222, \"#7201a8\"], [0.3333333333333333, \"#9c179e\"], [0.4444444444444444, \"#bd3786\"], [0.5555555555555556, \"#d8576b\"], [0.6666666666666666, \"#ed7953\"], [0.7777777777777778, \"#fb9f3a\"], [0.8888888888888888, \"#fdca26\"], [1.0, \"#f0f921\"]], \"sequentialminus\": [[0.0, \"#0d0887\"], [0.1111111111111111, \"#46039f\"], [0.2222222222222222, \"#7201a8\"], [0.3333333333333333, \"#9c179e\"], [0.4444444444444444, \"#bd3786\"], [0.5555555555555556, \"#d8576b\"], [0.6666666666666666, \"#ed7953\"], [0.7777777777777778, \"#fb9f3a\"], [0.8888888888888888, \"#fdca26\"], [1.0, \"#f0f921\"]]}, \"colorway\": [\"#636efa\", \"#EF553B\", \"#00cc96\", \"#ab63fa\", \"#FFA15A\", \"#19d3f3\", \"#FF6692\", \"#B6E880\", \"#FF97FF\", \"#FECB52\"], \"font\": {\"color\": \"#2a3f5f\"}, \"geo\": {\"bgcolor\": \"white\", \"lakecolor\": \"white\", \"landcolor\": \"#E5ECF6\", \"showlakes\": true, \"showland\": true, \"subunitcolor\": \"white\"}, \"hoverlabel\": {\"align\": \"left\"}, \"hovermode\": \"closest\", \"mapbox\": {\"style\": \"light\"}, \"paper_bgcolor\": \"white\", \"plot_bgcolor\": \"#E5ECF6\", \"polar\": {\"angularaxis\": {\"gridcolor\": \"white\", \"linecolor\": \"white\", \"ticks\": \"\"}, \"bgcolor\": \"#E5ECF6\", \"radialaxis\": {\"gridcolor\": \"white\", \"linecolor\": \"white\", \"ticks\": \"\"}}, \"scene\": {\"xaxis\": {\"backgroundcolor\": \"#E5ECF6\", \"gridcolor\": \"white\", \"gridwidth\": 2, \"linecolor\": \"white\", \"showbackground\": true, \"ticks\": \"\", \"zerolinecolor\": \"white\"}, \"yaxis\": {\"backgroundcolor\": \"#E5ECF6\", \"gridcolor\": \"white\", \"gridwidth\": 2, \"linecolor\": \"white\", \"showbackground\": true, \"ticks\": \"\", \"zerolinecolor\": \"white\"}, \"zaxis\": {\"backgroundcolor\": \"#E5ECF6\", \"gridcolor\": \"white\", \"gridwidth\": 2, \"linecolor\": \"white\", \"showbackground\": true, \"ticks\": \"\", \"zerolinecolor\": \"white\"}}, \"shapedefaults\": {\"line\": {\"color\": \"#2a3f5f\"}}, \"ternary\": {\"aaxis\": {\"gridcolor\": \"white\", \"linecolor\": \"white\", \"ticks\": \"\"}, \"baxis\": {\"gridcolor\": \"white\", \"linecolor\": \"white\", \"ticks\": \"\"}, \"bgcolor\": \"#E5ECF6\", \"caxis\": {\"gridcolor\": \"white\", \"linecolor\": \"white\", \"ticks\": \"\"}}, \"title\": {\"x\": 0.05}, \"xaxis\": {\"automargin\": true, \"gridcolor\": \"white\", \"linecolor\": \"white\", \"ticks\": \"\", \"zerolinecolor\": \"white\", \"zerolinewidth\": 2}, \"yaxis\": {\"automargin\": true, \"gridcolor\": \"white\", \"linecolor\": \"white\", \"ticks\": \"\", \"zerolinecolor\": \"white\", \"zerolinewidth\": 2}}}, \"title\": {\"text\": \"Pearson correlation of indicator percentage changes (second in list)\"}},\n",
       "                        {\"responsive\": true}\n",
       "                    ).then(function(){\n",
       "                            \n",
       "var gd = document.getElementById('063fe65c-68fb-4451-b1be-dc2ab1db9c6e');\n",
       "var x = new MutationObserver(function (mutations, observer) {{\n",
       "        var display = window.getComputedStyle(gd).display;\n",
       "        if (!display || display === 'none') {{\n",
       "            console.log([gd, 'removed!']);\n",
       "            Plotly.purge(gd);\n",
       "            observer.disconnect();\n",
       "        }}\n",
       "}});\n",
       "\n",
       "// Listen for the removal of the full notebook cells\n",
       "var notebookContainer = gd.closest('#notebook-container');\n",
       "if (notebookContainer) {{\n",
       "    x.observe(notebookContainer, {childList: true});\n",
       "}}\n",
       "\n",
       "// Listen for the clearing of the current output cell\n",
       "var outputEl = gd.closest('.output');\n",
       "if (outputEl) {{\n",
       "    x.observe(outputEl, {childList: true});\n",
       "}}\n",
       "\n",
       "                        })\n",
       "                };\n",
       "                });\n",
       "            </script>\n",
       "        </div>"
      ]
     },
     "metadata": {},
     "output_type": "display_data"
    }
   ],
   "source": [
    "heatmap = go.Heatmap(\n",
    "    z=n1_indicators.iloc[-20:].pct_change().corr(method='pearson').values,\n",
    "    x=n1_indicators.columns,\n",
    "    y=n1_indicators.columns,\n",
    "    colorbar=dict(title='Pearson Coefficient'),\n",
    ")\n",
    "\n",
    "layout = go.Layout(title=\"Pearson correlation of indicator percentage changes (second in list)\")\n",
    "\n",
    "heatmap['zmax'] = 1.0\n",
    "heatmap['zmin'] = -1.0\n",
    "\n",
    "fig = go.Figure(data=[heatmap], layout=layout)\n",
    "py.iplot(fig)"
   ]
  },
  {
   "cell_type": "code",
   "execution_count": 22,
   "metadata": {
    "pycharm": {
     "name": "#%%\n"
    }
   },
   "outputs": [
    {
     "data": {
      "application/vnd.plotly.v1+json": {
       "config": {
        "linkText": "Export to plot.ly",
        "plotlyServerURL": "https://plot.ly",
        "showLink": false
       },
       "data": [
        {
         "colorbar": {
          "title": {
           "text": "Pearson Coefficient"
          }
         },
         "type": "heatmap",
         "x": [
          "open",
          "high",
          "low",
          "close",
          "macd",
          "signal",
          "mfi",
          "bb_up",
          "bb_low",
          "vzo",
          "apz_u",
          "apz_l",
          "stoch"
         ],
         "y": [
          "open",
          "high",
          "low",
          "close",
          "macd",
          "signal",
          "mfi",
          "bb_up",
          "bb_low",
          "vzo",
          "apz_u",
          "apz_l",
          "stoch"
         ],
         "z": [
          [
           1,
           0.7368564984813641,
           0.5271211796942704,
           0.23556398658485697,
           0.1613596679984446,
           -0.2718679541977586,
           0.5898129253524804,
           0.29060688097421455,
           -0.021877961707901534,
           0.16712304249671636,
           0.45781815025951267,
           0.45432447829769423,
           0.0971388623539937
          ],
          [
           0.7368564984813641,
           1,
           0.6918492121181296,
           0.6079193069003821,
           0.3199967272417772,
           -0.59619242340634,
           0.6498359919845943,
           0.5676624133594966,
           -0.3194208747302596,
           0.03424545970483935,
           0.7036240807256828,
           0.6815083762789946,
           0.3539229311444855
          ],
          [
           0.5271211796942704,
           0.6918492121181296,
           1,
           0.829895723802321,
           0.06523301732555682,
           -0.3259020377715206,
           0.3301452954580791,
           0.3135065638373275,
           -0.003603561465082627,
           -0.137577007209122,
           0.622447079664357,
           0.6231171838110923,
           0.6031126396375361
          ],
          [
           0.23556398658485697,
           0.6079193069003821,
           0.829895723802321,
           1,
           -0.0552292133455762,
           -0.548972190695937,
           0.23312075643352742,
           0.4579474227380308,
           -0.14986706586153084,
           -0.04273837485734568,
           0.7600787540040466,
           0.7491384272018583,
           0.660063565759185
          ],
          [
           0.1613596679984446,
           0.3199967272417772,
           0.06523301732555682,
           -0.0552292133455762,
           1,
           -0.3406020982664263,
           0.13028373342120353,
           0.4180938909992401,
           -0.49351537373659077,
           0.10681684397718388,
           0.08633170946990065,
           0.05059841032595088,
           -0.293985722393617
          ],
          [
           -0.2718679541977586,
           -0.59619242340634,
           -0.3259020377715206,
           -0.548972190695937,
           -0.3406020982664263,
           1,
           -0.23880593979293332,
           -0.8403781178669205,
           0.5874774687536909,
           -0.014688117912230039,
           -0.8216577658731407,
           -0.7848886841971718,
           0.1118441275775286
          ],
          [
           0.5898129253524804,
           0.6498359919845943,
           0.3301452954580791,
           0.23312075643352742,
           0.13028373342120353,
           -0.23880593979293332,
           1,
           0.09638586436662017,
           -0.11187169003288873,
           -0.2615814470612621,
           0.37508985896958114,
           0.3832175885347256,
           0.1571951352216639
          ],
          [
           0.29060688097421455,
           0.5676624133594966,
           0.3135065638373275,
           0.4579474227380308,
           0.4180938909992401,
           -0.8403781178669205,
           0.09638586436662017,
           1,
           -0.7441010333747944,
           0.23048803407452956,
           0.5953515747709558,
           0.5393625370541875,
           -0.0703033359444061
          ],
          [
           -0.021877961707901534,
           -0.3194208747302596,
           -0.003603561465082627,
           -0.14986706586153084,
           -0.49351537373659077,
           0.5874774687536909,
           -0.11187169003288873,
           -0.7441010333747944,
           1,
           -0.22094139757694567,
           -0.15970239765926067,
           -0.10527238422106625,
           0.12451885478827802
          ],
          [
           0.16712304249671636,
           0.03424545970483935,
           -0.137577007209122,
           -0.04273837485734568,
           0.10681684397718388,
           -0.014688117912230039,
           -0.2615814470612621,
           0.23048803407452956,
           -0.22094139757694567,
           1,
           -0.07673075350058998,
           -0.10249091256662432,
           -0.0012759316055294561
          ],
          [
           0.45781815025951267,
           0.7036240807256828,
           0.622447079664357,
           0.7600787540040466,
           0.08633170946990065,
           -0.8216577658731407,
           0.37508985896958114,
           0.5953515747709558,
           -0.15970239765926067,
           -0.07673075350058998,
           1,
           0.9963554485326015,
           0.17083347121833867
          ],
          [
           0.45432447829769423,
           0.6815083762789946,
           0.6231171838110923,
           0.7491384272018583,
           0.05059841032595088,
           -0.7848886841971718,
           0.3832175885347256,
           0.5393625370541875,
           -0.10527238422106625,
           -0.10249091256662432,
           0.9963554485326015,
           1,
           0.1764497151577868
          ],
          [
           0.0971388623539937,
           0.3539229311444855,
           0.6031126396375361,
           0.660063565759185,
           -0.293985722393617,
           0.1118441275775286,
           0.1571951352216639,
           -0.0703033359444061,
           0.12451885478827802,
           -0.0012759316055294561,
           0.17083347121833867,
           0.1764497151577868,
           1
          ]
         ],
         "zmax": 1,
         "zmin": -1
        }
       ],
       "layout": {
        "template": {
         "data": {
          "bar": [
           {
            "error_x": {
             "color": "#2a3f5f"
            },
            "error_y": {
             "color": "#2a3f5f"
            },
            "marker": {
             "line": {
              "color": "#E5ECF6",
              "width": 0.5
             }
            },
            "type": "bar"
           }
          ],
          "barpolar": [
           {
            "marker": {
             "line": {
              "color": "#E5ECF6",
              "width": 0.5
             }
            },
            "type": "barpolar"
           }
          ],
          "carpet": [
           {
            "aaxis": {
             "endlinecolor": "#2a3f5f",
             "gridcolor": "white",
             "linecolor": "white",
             "minorgridcolor": "white",
             "startlinecolor": "#2a3f5f"
            },
            "baxis": {
             "endlinecolor": "#2a3f5f",
             "gridcolor": "white",
             "linecolor": "white",
             "minorgridcolor": "white",
             "startlinecolor": "#2a3f5f"
            },
            "type": "carpet"
           }
          ],
          "choropleth": [
           {
            "colorbar": {
             "outlinewidth": 0,
             "ticks": ""
            },
            "type": "choropleth"
           }
          ],
          "contour": [
           {
            "colorbar": {
             "outlinewidth": 0,
             "ticks": ""
            },
            "colorscale": [
             [
              0,
              "#0d0887"
             ],
             [
              0.1111111111111111,
              "#46039f"
             ],
             [
              0.2222222222222222,
              "#7201a8"
             ],
             [
              0.3333333333333333,
              "#9c179e"
             ],
             [
              0.4444444444444444,
              "#bd3786"
             ],
             [
              0.5555555555555556,
              "#d8576b"
             ],
             [
              0.6666666666666666,
              "#ed7953"
             ],
             [
              0.7777777777777778,
              "#fb9f3a"
             ],
             [
              0.8888888888888888,
              "#fdca26"
             ],
             [
              1,
              "#f0f921"
             ]
            ],
            "type": "contour"
           }
          ],
          "contourcarpet": [
           {
            "colorbar": {
             "outlinewidth": 0,
             "ticks": ""
            },
            "type": "contourcarpet"
           }
          ],
          "heatmap": [
           {
            "colorbar": {
             "outlinewidth": 0,
             "ticks": ""
            },
            "colorscale": [
             [
              0,
              "#0d0887"
             ],
             [
              0.1111111111111111,
              "#46039f"
             ],
             [
              0.2222222222222222,
              "#7201a8"
             ],
             [
              0.3333333333333333,
              "#9c179e"
             ],
             [
              0.4444444444444444,
              "#bd3786"
             ],
             [
              0.5555555555555556,
              "#d8576b"
             ],
             [
              0.6666666666666666,
              "#ed7953"
             ],
             [
              0.7777777777777778,
              "#fb9f3a"
             ],
             [
              0.8888888888888888,
              "#fdca26"
             ],
             [
              1,
              "#f0f921"
             ]
            ],
            "type": "heatmap"
           }
          ],
          "heatmapgl": [
           {
            "colorbar": {
             "outlinewidth": 0,
             "ticks": ""
            },
            "colorscale": [
             [
              0,
              "#0d0887"
             ],
             [
              0.1111111111111111,
              "#46039f"
             ],
             [
              0.2222222222222222,
              "#7201a8"
             ],
             [
              0.3333333333333333,
              "#9c179e"
             ],
             [
              0.4444444444444444,
              "#bd3786"
             ],
             [
              0.5555555555555556,
              "#d8576b"
             ],
             [
              0.6666666666666666,
              "#ed7953"
             ],
             [
              0.7777777777777778,
              "#fb9f3a"
             ],
             [
              0.8888888888888888,
              "#fdca26"
             ],
             [
              1,
              "#f0f921"
             ]
            ],
            "type": "heatmapgl"
           }
          ],
          "histogram": [
           {
            "marker": {
             "colorbar": {
              "outlinewidth": 0,
              "ticks": ""
             }
            },
            "type": "histogram"
           }
          ],
          "histogram2d": [
           {
            "colorbar": {
             "outlinewidth": 0,
             "ticks": ""
            },
            "colorscale": [
             [
              0,
              "#0d0887"
             ],
             [
              0.1111111111111111,
              "#46039f"
             ],
             [
              0.2222222222222222,
              "#7201a8"
             ],
             [
              0.3333333333333333,
              "#9c179e"
             ],
             [
              0.4444444444444444,
              "#bd3786"
             ],
             [
              0.5555555555555556,
              "#d8576b"
             ],
             [
              0.6666666666666666,
              "#ed7953"
             ],
             [
              0.7777777777777778,
              "#fb9f3a"
             ],
             [
              0.8888888888888888,
              "#fdca26"
             ],
             [
              1,
              "#f0f921"
             ]
            ],
            "type": "histogram2d"
           }
          ],
          "histogram2dcontour": [
           {
            "colorbar": {
             "outlinewidth": 0,
             "ticks": ""
            },
            "colorscale": [
             [
              0,
              "#0d0887"
             ],
             [
              0.1111111111111111,
              "#46039f"
             ],
             [
              0.2222222222222222,
              "#7201a8"
             ],
             [
              0.3333333333333333,
              "#9c179e"
             ],
             [
              0.4444444444444444,
              "#bd3786"
             ],
             [
              0.5555555555555556,
              "#d8576b"
             ],
             [
              0.6666666666666666,
              "#ed7953"
             ],
             [
              0.7777777777777778,
              "#fb9f3a"
             ],
             [
              0.8888888888888888,
              "#fdca26"
             ],
             [
              1,
              "#f0f921"
             ]
            ],
            "type": "histogram2dcontour"
           }
          ],
          "mesh3d": [
           {
            "colorbar": {
             "outlinewidth": 0,
             "ticks": ""
            },
            "type": "mesh3d"
           }
          ],
          "parcoords": [
           {
            "line": {
             "colorbar": {
              "outlinewidth": 0,
              "ticks": ""
             }
            },
            "type": "parcoords"
           }
          ],
          "scatter": [
           {
            "marker": {
             "colorbar": {
              "outlinewidth": 0,
              "ticks": ""
             }
            },
            "type": "scatter"
           }
          ],
          "scatter3d": [
           {
            "line": {
             "colorbar": {
              "outlinewidth": 0,
              "ticks": ""
             }
            },
            "marker": {
             "colorbar": {
              "outlinewidth": 0,
              "ticks": ""
             }
            },
            "type": "scatter3d"
           }
          ],
          "scattercarpet": [
           {
            "marker": {
             "colorbar": {
              "outlinewidth": 0,
              "ticks": ""
             }
            },
            "type": "scattercarpet"
           }
          ],
          "scattergeo": [
           {
            "marker": {
             "colorbar": {
              "outlinewidth": 0,
              "ticks": ""
             }
            },
            "type": "scattergeo"
           }
          ],
          "scattergl": [
           {
            "marker": {
             "colorbar": {
              "outlinewidth": 0,
              "ticks": ""
             }
            },
            "type": "scattergl"
           }
          ],
          "scattermapbox": [
           {
            "marker": {
             "colorbar": {
              "outlinewidth": 0,
              "ticks": ""
             }
            },
            "type": "scattermapbox"
           }
          ],
          "scatterpolar": [
           {
            "marker": {
             "colorbar": {
              "outlinewidth": 0,
              "ticks": ""
             }
            },
            "type": "scatterpolar"
           }
          ],
          "scatterpolargl": [
           {
            "marker": {
             "colorbar": {
              "outlinewidth": 0,
              "ticks": ""
             }
            },
            "type": "scatterpolargl"
           }
          ],
          "scatterternary": [
           {
            "marker": {
             "colorbar": {
              "outlinewidth": 0,
              "ticks": ""
             }
            },
            "type": "scatterternary"
           }
          ],
          "surface": [
           {
            "colorbar": {
             "outlinewidth": 0,
             "ticks": ""
            },
            "colorscale": [
             [
              0,
              "#0d0887"
             ],
             [
              0.1111111111111111,
              "#46039f"
             ],
             [
              0.2222222222222222,
              "#7201a8"
             ],
             [
              0.3333333333333333,
              "#9c179e"
             ],
             [
              0.4444444444444444,
              "#bd3786"
             ],
             [
              0.5555555555555556,
              "#d8576b"
             ],
             [
              0.6666666666666666,
              "#ed7953"
             ],
             [
              0.7777777777777778,
              "#fb9f3a"
             ],
             [
              0.8888888888888888,
              "#fdca26"
             ],
             [
              1,
              "#f0f921"
             ]
            ],
            "type": "surface"
           }
          ],
          "table": [
           {
            "cells": {
             "fill": {
              "color": "#EBF0F8"
             },
             "line": {
              "color": "white"
             }
            },
            "header": {
             "fill": {
              "color": "#C8D4E3"
             },
             "line": {
              "color": "white"
             }
            },
            "type": "table"
           }
          ]
         },
         "layout": {
          "annotationdefaults": {
           "arrowcolor": "#2a3f5f",
           "arrowhead": 0,
           "arrowwidth": 1
          },
          "colorscale": {
           "diverging": [
            [
             0,
             "#8e0152"
            ],
            [
             0.1,
             "#c51b7d"
            ],
            [
             0.2,
             "#de77ae"
            ],
            [
             0.3,
             "#f1b6da"
            ],
            [
             0.4,
             "#fde0ef"
            ],
            [
             0.5,
             "#f7f7f7"
            ],
            [
             0.6,
             "#e6f5d0"
            ],
            [
             0.7,
             "#b8e186"
            ],
            [
             0.8,
             "#7fbc41"
            ],
            [
             0.9,
             "#4d9221"
            ],
            [
             1,
             "#276419"
            ]
           ],
           "sequential": [
            [
             0,
             "#0d0887"
            ],
            [
             0.1111111111111111,
             "#46039f"
            ],
            [
             0.2222222222222222,
             "#7201a8"
            ],
            [
             0.3333333333333333,
             "#9c179e"
            ],
            [
             0.4444444444444444,
             "#bd3786"
            ],
            [
             0.5555555555555556,
             "#d8576b"
            ],
            [
             0.6666666666666666,
             "#ed7953"
            ],
            [
             0.7777777777777778,
             "#fb9f3a"
            ],
            [
             0.8888888888888888,
             "#fdca26"
            ],
            [
             1,
             "#f0f921"
            ]
           ],
           "sequentialminus": [
            [
             0,
             "#0d0887"
            ],
            [
             0.1111111111111111,
             "#46039f"
            ],
            [
             0.2222222222222222,
             "#7201a8"
            ],
            [
             0.3333333333333333,
             "#9c179e"
            ],
            [
             0.4444444444444444,
             "#bd3786"
            ],
            [
             0.5555555555555556,
             "#d8576b"
            ],
            [
             0.6666666666666666,
             "#ed7953"
            ],
            [
             0.7777777777777778,
             "#fb9f3a"
            ],
            [
             0.8888888888888888,
             "#fdca26"
            ],
            [
             1,
             "#f0f921"
            ]
           ]
          },
          "colorway": [
           "#636efa",
           "#EF553B",
           "#00cc96",
           "#ab63fa",
           "#FFA15A",
           "#19d3f3",
           "#FF6692",
           "#B6E880",
           "#FF97FF",
           "#FECB52"
          ],
          "font": {
           "color": "#2a3f5f"
          },
          "geo": {
           "bgcolor": "white",
           "lakecolor": "white",
           "landcolor": "#E5ECF6",
           "showlakes": true,
           "showland": true,
           "subunitcolor": "white"
          },
          "hoverlabel": {
           "align": "left"
          },
          "hovermode": "closest",
          "mapbox": {
           "style": "light"
          },
          "paper_bgcolor": "white",
          "plot_bgcolor": "#E5ECF6",
          "polar": {
           "angularaxis": {
            "gridcolor": "white",
            "linecolor": "white",
            "ticks": ""
           },
           "bgcolor": "#E5ECF6",
           "radialaxis": {
            "gridcolor": "white",
            "linecolor": "white",
            "ticks": ""
           }
          },
          "scene": {
           "xaxis": {
            "backgroundcolor": "#E5ECF6",
            "gridcolor": "white",
            "gridwidth": 2,
            "linecolor": "white",
            "showbackground": true,
            "ticks": "",
            "zerolinecolor": "white"
           },
           "yaxis": {
            "backgroundcolor": "#E5ECF6",
            "gridcolor": "white",
            "gridwidth": 2,
            "linecolor": "white",
            "showbackground": true,
            "ticks": "",
            "zerolinecolor": "white"
           },
           "zaxis": {
            "backgroundcolor": "#E5ECF6",
            "gridcolor": "white",
            "gridwidth": 2,
            "linecolor": "white",
            "showbackground": true,
            "ticks": "",
            "zerolinecolor": "white"
           }
          },
          "shapedefaults": {
           "line": {
            "color": "#2a3f5f"
           }
          },
          "ternary": {
           "aaxis": {
            "gridcolor": "white",
            "linecolor": "white",
            "ticks": ""
           },
           "baxis": {
            "gridcolor": "white",
            "linecolor": "white",
            "ticks": ""
           },
           "bgcolor": "#E5ECF6",
           "caxis": {
            "gridcolor": "white",
            "linecolor": "white",
            "ticks": ""
           }
          },
          "title": {
           "x": 0.05
          },
          "xaxis": {
           "automargin": true,
           "gridcolor": "white",
           "linecolor": "white",
           "ticks": "",
           "zerolinecolor": "white",
           "zerolinewidth": 2
          },
          "yaxis": {
           "automargin": true,
           "gridcolor": "white",
           "linecolor": "white",
           "ticks": "",
           "zerolinecolor": "white",
           "zerolinewidth": 2
          }
         }
        },
        "title": {
         "text": "Pearson correlation of indicator percentage changes (third in list)"
        }
       }
      },
      "text/html": [
       "<div>\n",
       "        \n",
       "        \n",
       "            <div id=\"c862e74f-28f8-49f0-aace-3a4b4adf0a39\" class=\"plotly-graph-div\" style=\"height:525px; width:100%;\"></div>\n",
       "            <script type=\"text/javascript\">\n",
       "                require([\"plotly\"], function(Plotly) {\n",
       "                    window.PLOTLYENV=window.PLOTLYENV || {};\n",
       "                    \n",
       "                if (document.getElementById(\"c862e74f-28f8-49f0-aace-3a4b4adf0a39\")) {\n",
       "                    Plotly.newPlot(\n",
       "                        'c862e74f-28f8-49f0-aace-3a4b4adf0a39',\n",
       "                        [{\"colorbar\": {\"title\": {\"text\": \"Pearson Coefficient\"}}, \"type\": \"heatmap\", \"x\": [\"open\", \"high\", \"low\", \"close\", \"macd\", \"signal\", \"mfi\", \"bb_up\", \"bb_low\", \"vzo\", \"apz_u\", \"apz_l\", \"stoch\"], \"y\": [\"open\", \"high\", \"low\", \"close\", \"macd\", \"signal\", \"mfi\", \"bb_up\", \"bb_low\", \"vzo\", \"apz_u\", \"apz_l\", \"stoch\"], \"z\": [[1.0, 0.7368564984813641, 0.5271211796942704, 0.23556398658485697, 0.1613596679984446, -0.2718679541977586, 0.5898129253524804, 0.29060688097421455, -0.021877961707901534, 0.16712304249671636, 0.45781815025951267, 0.45432447829769423, 0.0971388623539937], [0.7368564984813641, 1.0, 0.6918492121181296, 0.6079193069003821, 0.3199967272417772, -0.59619242340634, 0.6498359919845943, 0.5676624133594966, -0.3194208747302596, 0.03424545970483935, 0.7036240807256828, 0.6815083762789946, 0.3539229311444855], [0.5271211796942704, 0.6918492121181296, 1.0, 0.829895723802321, 0.06523301732555682, -0.3259020377715206, 0.3301452954580791, 0.3135065638373275, -0.003603561465082627, -0.137577007209122, 0.622447079664357, 0.6231171838110923, 0.6031126396375361], [0.23556398658485697, 0.6079193069003821, 0.829895723802321, 1.0, -0.0552292133455762, -0.548972190695937, 0.23312075643352742, 0.4579474227380308, -0.14986706586153084, -0.04273837485734568, 0.7600787540040466, 0.7491384272018583, 0.660063565759185], [0.1613596679984446, 0.3199967272417772, 0.06523301732555682, -0.0552292133455762, 1.0, -0.3406020982664263, 0.13028373342120353, 0.4180938909992401, -0.49351537373659077, 0.10681684397718388, 0.08633170946990065, 0.05059841032595088, -0.293985722393617], [-0.2718679541977586, -0.59619242340634, -0.3259020377715206, -0.548972190695937, -0.3406020982664263, 1.0, -0.23880593979293332, -0.8403781178669205, 0.5874774687536909, -0.014688117912230039, -0.8216577658731407, -0.7848886841971718, 0.1118441275775286], [0.5898129253524804, 0.6498359919845943, 0.3301452954580791, 0.23312075643352742, 0.13028373342120353, -0.23880593979293332, 1.0, 0.09638586436662017, -0.11187169003288873, -0.2615814470612621, 0.37508985896958114, 0.3832175885347256, 0.1571951352216639], [0.29060688097421455, 0.5676624133594966, 0.3135065638373275, 0.4579474227380308, 0.4180938909992401, -0.8403781178669205, 0.09638586436662017, 1.0, -0.7441010333747944, 0.23048803407452956, 0.5953515747709558, 0.5393625370541875, -0.0703033359444061], [-0.021877961707901534, -0.3194208747302596, -0.003603561465082627, -0.14986706586153084, -0.49351537373659077, 0.5874774687536909, -0.11187169003288873, -0.7441010333747944, 1.0, -0.22094139757694567, -0.15970239765926067, -0.10527238422106625, 0.12451885478827802], [0.16712304249671636, 0.03424545970483935, -0.137577007209122, -0.04273837485734568, 0.10681684397718388, -0.014688117912230039, -0.2615814470612621, 0.23048803407452956, -0.22094139757694567, 1.0, -0.07673075350058998, -0.10249091256662432, -0.0012759316055294561], [0.45781815025951267, 0.7036240807256828, 0.622447079664357, 0.7600787540040466, 0.08633170946990065, -0.8216577658731407, 0.37508985896958114, 0.5953515747709558, -0.15970239765926067, -0.07673075350058998, 1.0, 0.9963554485326015, 0.17083347121833867], [0.45432447829769423, 0.6815083762789946, 0.6231171838110923, 0.7491384272018583, 0.05059841032595088, -0.7848886841971718, 0.3832175885347256, 0.5393625370541875, -0.10527238422106625, -0.10249091256662432, 0.9963554485326015, 1.0, 0.1764497151577868], [0.0971388623539937, 0.3539229311444855, 0.6031126396375361, 0.660063565759185, -0.293985722393617, 0.1118441275775286, 0.1571951352216639, -0.0703033359444061, 0.12451885478827802, -0.0012759316055294561, 0.17083347121833867, 0.1764497151577868, 1.0]], \"zmax\": 1.0, \"zmin\": -1.0}],\n",
       "                        {\"template\": {\"data\": {\"bar\": [{\"error_x\": {\"color\": \"#2a3f5f\"}, \"error_y\": {\"color\": \"#2a3f5f\"}, \"marker\": {\"line\": {\"color\": \"#E5ECF6\", \"width\": 0.5}}, \"type\": \"bar\"}], \"barpolar\": [{\"marker\": {\"line\": {\"color\": \"#E5ECF6\", \"width\": 0.5}}, \"type\": \"barpolar\"}], \"carpet\": [{\"aaxis\": {\"endlinecolor\": \"#2a3f5f\", \"gridcolor\": \"white\", \"linecolor\": \"white\", \"minorgridcolor\": \"white\", \"startlinecolor\": \"#2a3f5f\"}, \"baxis\": {\"endlinecolor\": \"#2a3f5f\", \"gridcolor\": \"white\", \"linecolor\": \"white\", \"minorgridcolor\": \"white\", \"startlinecolor\": \"#2a3f5f\"}, \"type\": \"carpet\"}], \"choropleth\": [{\"colorbar\": {\"outlinewidth\": 0, \"ticks\": \"\"}, \"type\": \"choropleth\"}], \"contour\": [{\"colorbar\": {\"outlinewidth\": 0, \"ticks\": \"\"}, \"colorscale\": [[0.0, \"#0d0887\"], [0.1111111111111111, \"#46039f\"], [0.2222222222222222, \"#7201a8\"], [0.3333333333333333, \"#9c179e\"], [0.4444444444444444, \"#bd3786\"], [0.5555555555555556, \"#d8576b\"], [0.6666666666666666, \"#ed7953\"], [0.7777777777777778, \"#fb9f3a\"], [0.8888888888888888, \"#fdca26\"], [1.0, \"#f0f921\"]], \"type\": \"contour\"}], \"contourcarpet\": [{\"colorbar\": {\"outlinewidth\": 0, \"ticks\": \"\"}, \"type\": \"contourcarpet\"}], \"heatmap\": [{\"colorbar\": {\"outlinewidth\": 0, \"ticks\": \"\"}, \"colorscale\": [[0.0, \"#0d0887\"], [0.1111111111111111, \"#46039f\"], [0.2222222222222222, \"#7201a8\"], [0.3333333333333333, \"#9c179e\"], [0.4444444444444444, \"#bd3786\"], [0.5555555555555556, \"#d8576b\"], [0.6666666666666666, \"#ed7953\"], [0.7777777777777778, \"#fb9f3a\"], [0.8888888888888888, \"#fdca26\"], [1.0, \"#f0f921\"]], \"type\": \"heatmap\"}], \"heatmapgl\": [{\"colorbar\": {\"outlinewidth\": 0, \"ticks\": \"\"}, \"colorscale\": [[0.0, \"#0d0887\"], [0.1111111111111111, \"#46039f\"], [0.2222222222222222, \"#7201a8\"], [0.3333333333333333, \"#9c179e\"], [0.4444444444444444, \"#bd3786\"], [0.5555555555555556, \"#d8576b\"], [0.6666666666666666, \"#ed7953\"], [0.7777777777777778, \"#fb9f3a\"], [0.8888888888888888, \"#fdca26\"], [1.0, \"#f0f921\"]], \"type\": \"heatmapgl\"}], \"histogram\": [{\"marker\": {\"colorbar\": {\"outlinewidth\": 0, \"ticks\": \"\"}}, \"type\": \"histogram\"}], \"histogram2d\": [{\"colorbar\": {\"outlinewidth\": 0, \"ticks\": \"\"}, \"colorscale\": [[0.0, \"#0d0887\"], [0.1111111111111111, \"#46039f\"], [0.2222222222222222, \"#7201a8\"], [0.3333333333333333, \"#9c179e\"], [0.4444444444444444, \"#bd3786\"], [0.5555555555555556, \"#d8576b\"], [0.6666666666666666, \"#ed7953\"], [0.7777777777777778, \"#fb9f3a\"], [0.8888888888888888, \"#fdca26\"], [1.0, \"#f0f921\"]], \"type\": \"histogram2d\"}], \"histogram2dcontour\": [{\"colorbar\": {\"outlinewidth\": 0, \"ticks\": \"\"}, \"colorscale\": [[0.0, \"#0d0887\"], [0.1111111111111111, \"#46039f\"], [0.2222222222222222, \"#7201a8\"], [0.3333333333333333, \"#9c179e\"], [0.4444444444444444, \"#bd3786\"], [0.5555555555555556, \"#d8576b\"], [0.6666666666666666, \"#ed7953\"], [0.7777777777777778, \"#fb9f3a\"], [0.8888888888888888, \"#fdca26\"], [1.0, \"#f0f921\"]], \"type\": \"histogram2dcontour\"}], \"mesh3d\": [{\"colorbar\": {\"outlinewidth\": 0, \"ticks\": \"\"}, \"type\": \"mesh3d\"}], \"parcoords\": [{\"line\": {\"colorbar\": {\"outlinewidth\": 0, \"ticks\": \"\"}}, \"type\": \"parcoords\"}], \"scatter\": [{\"marker\": {\"colorbar\": {\"outlinewidth\": 0, \"ticks\": \"\"}}, \"type\": \"scatter\"}], \"scatter3d\": [{\"line\": {\"colorbar\": {\"outlinewidth\": 0, \"ticks\": \"\"}}, \"marker\": {\"colorbar\": {\"outlinewidth\": 0, \"ticks\": \"\"}}, \"type\": \"scatter3d\"}], \"scattercarpet\": [{\"marker\": {\"colorbar\": {\"outlinewidth\": 0, \"ticks\": \"\"}}, \"type\": \"scattercarpet\"}], \"scattergeo\": [{\"marker\": {\"colorbar\": {\"outlinewidth\": 0, \"ticks\": \"\"}}, \"type\": \"scattergeo\"}], \"scattergl\": [{\"marker\": {\"colorbar\": {\"outlinewidth\": 0, \"ticks\": \"\"}}, \"type\": \"scattergl\"}], \"scattermapbox\": [{\"marker\": {\"colorbar\": {\"outlinewidth\": 0, \"ticks\": \"\"}}, \"type\": \"scattermapbox\"}], \"scatterpolar\": [{\"marker\": {\"colorbar\": {\"outlinewidth\": 0, \"ticks\": \"\"}}, \"type\": \"scatterpolar\"}], \"scatterpolargl\": [{\"marker\": {\"colorbar\": {\"outlinewidth\": 0, \"ticks\": \"\"}}, \"type\": \"scatterpolargl\"}], \"scatterternary\": [{\"marker\": {\"colorbar\": {\"outlinewidth\": 0, \"ticks\": \"\"}}, \"type\": \"scatterternary\"}], \"surface\": [{\"colorbar\": {\"outlinewidth\": 0, \"ticks\": \"\"}, \"colorscale\": [[0.0, \"#0d0887\"], [0.1111111111111111, \"#46039f\"], [0.2222222222222222, \"#7201a8\"], [0.3333333333333333, \"#9c179e\"], [0.4444444444444444, \"#bd3786\"], [0.5555555555555556, \"#d8576b\"], [0.6666666666666666, \"#ed7953\"], [0.7777777777777778, \"#fb9f3a\"], [0.8888888888888888, \"#fdca26\"], [1.0, \"#f0f921\"]], \"type\": \"surface\"}], \"table\": [{\"cells\": {\"fill\": {\"color\": \"#EBF0F8\"}, \"line\": {\"color\": \"white\"}}, \"header\": {\"fill\": {\"color\": \"#C8D4E3\"}, \"line\": {\"color\": \"white\"}}, \"type\": \"table\"}]}, \"layout\": {\"annotationdefaults\": {\"arrowcolor\": \"#2a3f5f\", \"arrowhead\": 0, \"arrowwidth\": 1}, \"colorscale\": {\"diverging\": [[0, \"#8e0152\"], [0.1, \"#c51b7d\"], [0.2, \"#de77ae\"], [0.3, \"#f1b6da\"], [0.4, \"#fde0ef\"], [0.5, \"#f7f7f7\"], [0.6, \"#e6f5d0\"], [0.7, \"#b8e186\"], [0.8, \"#7fbc41\"], [0.9, \"#4d9221\"], [1, \"#276419\"]], \"sequential\": [[0.0, \"#0d0887\"], [0.1111111111111111, \"#46039f\"], [0.2222222222222222, \"#7201a8\"], [0.3333333333333333, \"#9c179e\"], [0.4444444444444444, \"#bd3786\"], [0.5555555555555556, \"#d8576b\"], [0.6666666666666666, \"#ed7953\"], [0.7777777777777778, \"#fb9f3a\"], [0.8888888888888888, \"#fdca26\"], [1.0, \"#f0f921\"]], \"sequentialminus\": [[0.0, \"#0d0887\"], [0.1111111111111111, \"#46039f\"], [0.2222222222222222, \"#7201a8\"], [0.3333333333333333, \"#9c179e\"], [0.4444444444444444, \"#bd3786\"], [0.5555555555555556, \"#d8576b\"], [0.6666666666666666, \"#ed7953\"], [0.7777777777777778, \"#fb9f3a\"], [0.8888888888888888, \"#fdca26\"], [1.0, \"#f0f921\"]]}, \"colorway\": [\"#636efa\", \"#EF553B\", \"#00cc96\", \"#ab63fa\", \"#FFA15A\", \"#19d3f3\", \"#FF6692\", \"#B6E880\", \"#FF97FF\", \"#FECB52\"], \"font\": {\"color\": \"#2a3f5f\"}, \"geo\": {\"bgcolor\": \"white\", \"lakecolor\": \"white\", \"landcolor\": \"#E5ECF6\", \"showlakes\": true, \"showland\": true, \"subunitcolor\": \"white\"}, \"hoverlabel\": {\"align\": \"left\"}, \"hovermode\": \"closest\", \"mapbox\": {\"style\": \"light\"}, \"paper_bgcolor\": \"white\", \"plot_bgcolor\": \"#E5ECF6\", \"polar\": {\"angularaxis\": {\"gridcolor\": \"white\", \"linecolor\": \"white\", \"ticks\": \"\"}, \"bgcolor\": \"#E5ECF6\", \"radialaxis\": {\"gridcolor\": \"white\", \"linecolor\": \"white\", \"ticks\": \"\"}}, \"scene\": {\"xaxis\": {\"backgroundcolor\": \"#E5ECF6\", \"gridcolor\": \"white\", \"gridwidth\": 2, \"linecolor\": \"white\", \"showbackground\": true, \"ticks\": \"\", \"zerolinecolor\": \"white\"}, \"yaxis\": {\"backgroundcolor\": \"#E5ECF6\", \"gridcolor\": \"white\", \"gridwidth\": 2, \"linecolor\": \"white\", \"showbackground\": true, \"ticks\": \"\", \"zerolinecolor\": \"white\"}, \"zaxis\": {\"backgroundcolor\": \"#E5ECF6\", \"gridcolor\": \"white\", \"gridwidth\": 2, \"linecolor\": \"white\", \"showbackground\": true, \"ticks\": \"\", \"zerolinecolor\": \"white\"}}, \"shapedefaults\": {\"line\": {\"color\": \"#2a3f5f\"}}, \"ternary\": {\"aaxis\": {\"gridcolor\": \"white\", \"linecolor\": \"white\", \"ticks\": \"\"}, \"baxis\": {\"gridcolor\": \"white\", \"linecolor\": \"white\", \"ticks\": \"\"}, \"bgcolor\": \"#E5ECF6\", \"caxis\": {\"gridcolor\": \"white\", \"linecolor\": \"white\", \"ticks\": \"\"}}, \"title\": {\"x\": 0.05}, \"xaxis\": {\"automargin\": true, \"gridcolor\": \"white\", \"linecolor\": \"white\", \"ticks\": \"\", \"zerolinecolor\": \"white\", \"zerolinewidth\": 2}, \"yaxis\": {\"automargin\": true, \"gridcolor\": \"white\", \"linecolor\": \"white\", \"ticks\": \"\", \"zerolinecolor\": \"white\", \"zerolinewidth\": 2}}}, \"title\": {\"text\": \"Pearson correlation of indicator percentage changes (third in list)\"}},\n",
       "                        {\"responsive\": true}\n",
       "                    ).then(function(){\n",
       "                            \n",
       "var gd = document.getElementById('c862e74f-28f8-49f0-aace-3a4b4adf0a39');\n",
       "var x = new MutationObserver(function (mutations, observer) {{\n",
       "        var display = window.getComputedStyle(gd).display;\n",
       "        if (!display || display === 'none') {{\n",
       "            console.log([gd, 'removed!']);\n",
       "            Plotly.purge(gd);\n",
       "            observer.disconnect();\n",
       "        }}\n",
       "}});\n",
       "\n",
       "// Listen for the removal of the full notebook cells\n",
       "var notebookContainer = gd.closest('#notebook-container');\n",
       "if (notebookContainer) {{\n",
       "    x.observe(notebookContainer, {childList: true});\n",
       "}}\n",
       "\n",
       "// Listen for the clearing of the current output cell\n",
       "var outputEl = gd.closest('.output');\n",
       "if (outputEl) {{\n",
       "    x.observe(outputEl, {childList: true});\n",
       "}}\n",
       "\n",
       "                        })\n",
       "                };\n",
       "                });\n",
       "            </script>\n",
       "        </div>"
      ]
     },
     "metadata": {},
     "output_type": "display_data"
    }
   ],
   "source": [
    "heatmap = go.Heatmap(\n",
    "    z=n2_indicators.iloc[-20:].pct_change().corr(method='pearson').values,\n",
    "    x=n2_indicators.columns,\n",
    "    y=n2_indicators.columns,\n",
    "    colorbar=dict(title='Pearson Coefficient'),\n",
    ")\n",
    "\n",
    "layout = go.Layout(title=\"Pearson correlation of indicator percentage changes (third in list)\")\n",
    "\n",
    "heatmap['zmax'] = 1.0\n",
    "heatmap['zmin'] = -1.0\n",
    "\n",
    "fig = go.Figure(data=[heatmap], layout=layout)\n",
    "py.iplot(fig)"
   ]
  },
  {
   "cell_type": "code",
   "execution_count": 23,
   "metadata": {
    "pycharm": {
     "name": "#%%\n"
    }
   },
   "outputs": [
    {
     "data": {
      "application/vnd.plotly.v1+json": {
       "config": {
        "linkText": "Export to plot.ly",
        "plotlyServerURL": "https://plot.ly",
        "showLink": false
       },
       "data": [
        {
         "colorbar": {
          "title": {
           "text": "Pearson Coefficient"
          }
         },
         "type": "heatmap",
         "x": [
          "open",
          "high",
          "low",
          "close",
          "macd",
          "signal",
          "mfi",
          "bb_up",
          "bb_low",
          "vzo",
          "apz_u",
          "apz_l",
          "stoch"
         ],
         "y": [
          "open",
          "high",
          "low",
          "close",
          "macd",
          "signal",
          "mfi",
          "bb_up",
          "bb_low",
          "vzo",
          "apz_u",
          "apz_l",
          "stoch"
         ],
         "z": [
          [
           1,
           0.4840015624691168,
           0.8416709708965485,
           0.0025962376295678813,
           0.25669559599598013,
           0.18480938967333824,
           0.5357194786193215,
           -0.0838522261853658,
           -0.16322392031881533,
           -0.0194206370115207,
           -0.02151982361750471,
           0.0013402766255033464,
           0.0005692983592670483
          ],
          [
           0.4840015624691168,
           1,
           0.6523983800268998,
           0.6491141977459277,
           0.2975239222552015,
           0.33581266920720565,
           0.4781721184775667,
           0.2991521647642774,
           -0.43111821230040515,
           0.23885865300911924,
           0.4028667342281662,
           0.42351783473525456,
           0.2254001744157681
          ],
          [
           0.8416709708965485,
           0.6523983800268998,
           1,
           0.2975090347199569,
           0.31473886361418646,
           0.18778783347068956,
           0.6548117911348592,
           0.048669289857274735,
           -0.30701427359831923,
           0.15934532993053854,
           0.11230336321349864,
           0.13868823740901792,
           0.2398032205258876
          ],
          [
           0.0025962376295678813,
           0.6491141977459277,
           0.2975090347199569,
           1,
           0.35006285984241936,
           0.2966274497708084,
           0.3542006555804952,
           0.3645482642786722,
           -0.4018166653336746,
           0.4885377895534755,
           0.5119757566054096,
           0.5367599463121056,
           0.6673367211146966
          ],
          [
           0.25669559599598013,
           0.2975239222552015,
           0.31473886361418646,
           0.35006285984241936,
           1,
           0.4287647478268609,
           0.0801629080698394,
           0.16737321314250372,
           -0.2568037123477479,
           -0.22029277310257192,
           0.27272536206408954,
           0.30307012335041944,
           0.5228677022066044
          ],
          [
           0.18480938967333824,
           0.33581266920720565,
           0.18778783347068956,
           0.2966274497708084,
           0.4287647478268609,
           1,
           -0.002658593735560718,
           0.5598103805012431,
           -0.7059100325489375,
           -0.30143240175042685,
           0.6494996404458951,
           0.6917525826255007,
           -0.010947976885566773
          ],
          [
           0.5357194786193215,
           0.4781721184775667,
           0.6548117911348592,
           0.3542006555804952,
           0.0801629080698394,
           -0.002658593735560718,
           1,
           -0.28111934147902473,
           -0.14193623101569636,
           0.4380678465427999,
           -0.2219969042737984,
           -0.19408284375554932,
           0.3618513246206582
          ],
          [
           -0.0838522261853658,
           0.2991521647642774,
           0.048669289857274735,
           0.3645482642786722,
           0.16737321314250372,
           0.5598103805012431,
           -0.28111934147902473,
           1,
           -0.7423013433517349,
           -0.24472734749662436,
           0.9131155002059114,
           0.9189483238191896,
           -0.056018238375482435
          ],
          [
           -0.16322392031881533,
           -0.43111821230040515,
           -0.30701427359831923,
           -0.4018166653336746,
           -0.2568037123477479,
           -0.7059100325489375,
           -0.14193623101569636,
           -0.7423013433517349,
           1,
           0.08873718817903976,
           -0.6228838603069411,
           -0.6620896098508023,
           -0.20916098587531518
          ],
          [
           -0.0194206370115207,
           0.23885865300911924,
           0.15934532993053854,
           0.4885377895534755,
           -0.22029277310257192,
           -0.30143240175042685,
           0.4380678465427999,
           -0.24472734749662436,
           0.08873718817903976,
           1,
           -0.15818203269210568,
           -0.14449981344740076,
           0.42254546210697574
          ],
          [
           -0.02151982361750471,
           0.4028667342281662,
           0.11230336321349864,
           0.5119757566054096,
           0.27272536206408954,
           0.6494996404458951,
           -0.2219969042737984,
           0.9131155002059114,
           -0.6228838603069411,
           -0.15818203269210568,
           1,
           0.9939147644922701,
           0.04424868476242366
          ],
          [
           0.0013402766255033464,
           0.42351783473525456,
           0.13868823740901792,
           0.5367599463121056,
           0.30307012335041944,
           0.6917525826255007,
           -0.19408284375554932,
           0.9189483238191896,
           -0.6620896098508023,
           -0.14449981344740076,
           0.9939147644922701,
           1,
           0.0565325521253041
          ],
          [
           0.0005692983592670483,
           0.2254001744157681,
           0.2398032205258876,
           0.6673367211146966,
           0.5228677022066044,
           -0.010947976885566773,
           0.3618513246206582,
           -0.056018238375482435,
           -0.20916098587531518,
           0.42254546210697574,
           0.04424868476242366,
           0.0565325521253041,
           1
          ]
         ],
         "zmax": 1,
         "zmin": -1
        }
       ],
       "layout": {
        "template": {
         "data": {
          "bar": [
           {
            "error_x": {
             "color": "#2a3f5f"
            },
            "error_y": {
             "color": "#2a3f5f"
            },
            "marker": {
             "line": {
              "color": "#E5ECF6",
              "width": 0.5
             }
            },
            "type": "bar"
           }
          ],
          "barpolar": [
           {
            "marker": {
             "line": {
              "color": "#E5ECF6",
              "width": 0.5
             }
            },
            "type": "barpolar"
           }
          ],
          "carpet": [
           {
            "aaxis": {
             "endlinecolor": "#2a3f5f",
             "gridcolor": "white",
             "linecolor": "white",
             "minorgridcolor": "white",
             "startlinecolor": "#2a3f5f"
            },
            "baxis": {
             "endlinecolor": "#2a3f5f",
             "gridcolor": "white",
             "linecolor": "white",
             "minorgridcolor": "white",
             "startlinecolor": "#2a3f5f"
            },
            "type": "carpet"
           }
          ],
          "choropleth": [
           {
            "colorbar": {
             "outlinewidth": 0,
             "ticks": ""
            },
            "type": "choropleth"
           }
          ],
          "contour": [
           {
            "colorbar": {
             "outlinewidth": 0,
             "ticks": ""
            },
            "colorscale": [
             [
              0,
              "#0d0887"
             ],
             [
              0.1111111111111111,
              "#46039f"
             ],
             [
              0.2222222222222222,
              "#7201a8"
             ],
             [
              0.3333333333333333,
              "#9c179e"
             ],
             [
              0.4444444444444444,
              "#bd3786"
             ],
             [
              0.5555555555555556,
              "#d8576b"
             ],
             [
              0.6666666666666666,
              "#ed7953"
             ],
             [
              0.7777777777777778,
              "#fb9f3a"
             ],
             [
              0.8888888888888888,
              "#fdca26"
             ],
             [
              1,
              "#f0f921"
             ]
            ],
            "type": "contour"
           }
          ],
          "contourcarpet": [
           {
            "colorbar": {
             "outlinewidth": 0,
             "ticks": ""
            },
            "type": "contourcarpet"
           }
          ],
          "heatmap": [
           {
            "colorbar": {
             "outlinewidth": 0,
             "ticks": ""
            },
            "colorscale": [
             [
              0,
              "#0d0887"
             ],
             [
              0.1111111111111111,
              "#46039f"
             ],
             [
              0.2222222222222222,
              "#7201a8"
             ],
             [
              0.3333333333333333,
              "#9c179e"
             ],
             [
              0.4444444444444444,
              "#bd3786"
             ],
             [
              0.5555555555555556,
              "#d8576b"
             ],
             [
              0.6666666666666666,
              "#ed7953"
             ],
             [
              0.7777777777777778,
              "#fb9f3a"
             ],
             [
              0.8888888888888888,
              "#fdca26"
             ],
             [
              1,
              "#f0f921"
             ]
            ],
            "type": "heatmap"
           }
          ],
          "heatmapgl": [
           {
            "colorbar": {
             "outlinewidth": 0,
             "ticks": ""
            },
            "colorscale": [
             [
              0,
              "#0d0887"
             ],
             [
              0.1111111111111111,
              "#46039f"
             ],
             [
              0.2222222222222222,
              "#7201a8"
             ],
             [
              0.3333333333333333,
              "#9c179e"
             ],
             [
              0.4444444444444444,
              "#bd3786"
             ],
             [
              0.5555555555555556,
              "#d8576b"
             ],
             [
              0.6666666666666666,
              "#ed7953"
             ],
             [
              0.7777777777777778,
              "#fb9f3a"
             ],
             [
              0.8888888888888888,
              "#fdca26"
             ],
             [
              1,
              "#f0f921"
             ]
            ],
            "type": "heatmapgl"
           }
          ],
          "histogram": [
           {
            "marker": {
             "colorbar": {
              "outlinewidth": 0,
              "ticks": ""
             }
            },
            "type": "histogram"
           }
          ],
          "histogram2d": [
           {
            "colorbar": {
             "outlinewidth": 0,
             "ticks": ""
            },
            "colorscale": [
             [
              0,
              "#0d0887"
             ],
             [
              0.1111111111111111,
              "#46039f"
             ],
             [
              0.2222222222222222,
              "#7201a8"
             ],
             [
              0.3333333333333333,
              "#9c179e"
             ],
             [
              0.4444444444444444,
              "#bd3786"
             ],
             [
              0.5555555555555556,
              "#d8576b"
             ],
             [
              0.6666666666666666,
              "#ed7953"
             ],
             [
              0.7777777777777778,
              "#fb9f3a"
             ],
             [
              0.8888888888888888,
              "#fdca26"
             ],
             [
              1,
              "#f0f921"
             ]
            ],
            "type": "histogram2d"
           }
          ],
          "histogram2dcontour": [
           {
            "colorbar": {
             "outlinewidth": 0,
             "ticks": ""
            },
            "colorscale": [
             [
              0,
              "#0d0887"
             ],
             [
              0.1111111111111111,
              "#46039f"
             ],
             [
              0.2222222222222222,
              "#7201a8"
             ],
             [
              0.3333333333333333,
              "#9c179e"
             ],
             [
              0.4444444444444444,
              "#bd3786"
             ],
             [
              0.5555555555555556,
              "#d8576b"
             ],
             [
              0.6666666666666666,
              "#ed7953"
             ],
             [
              0.7777777777777778,
              "#fb9f3a"
             ],
             [
              0.8888888888888888,
              "#fdca26"
             ],
             [
              1,
              "#f0f921"
             ]
            ],
            "type": "histogram2dcontour"
           }
          ],
          "mesh3d": [
           {
            "colorbar": {
             "outlinewidth": 0,
             "ticks": ""
            },
            "type": "mesh3d"
           }
          ],
          "parcoords": [
           {
            "line": {
             "colorbar": {
              "outlinewidth": 0,
              "ticks": ""
             }
            },
            "type": "parcoords"
           }
          ],
          "scatter": [
           {
            "marker": {
             "colorbar": {
              "outlinewidth": 0,
              "ticks": ""
             }
            },
            "type": "scatter"
           }
          ],
          "scatter3d": [
           {
            "line": {
             "colorbar": {
              "outlinewidth": 0,
              "ticks": ""
             }
            },
            "marker": {
             "colorbar": {
              "outlinewidth": 0,
              "ticks": ""
             }
            },
            "type": "scatter3d"
           }
          ],
          "scattercarpet": [
           {
            "marker": {
             "colorbar": {
              "outlinewidth": 0,
              "ticks": ""
             }
            },
            "type": "scattercarpet"
           }
          ],
          "scattergeo": [
           {
            "marker": {
             "colorbar": {
              "outlinewidth": 0,
              "ticks": ""
             }
            },
            "type": "scattergeo"
           }
          ],
          "scattergl": [
           {
            "marker": {
             "colorbar": {
              "outlinewidth": 0,
              "ticks": ""
             }
            },
            "type": "scattergl"
           }
          ],
          "scattermapbox": [
           {
            "marker": {
             "colorbar": {
              "outlinewidth": 0,
              "ticks": ""
             }
            },
            "type": "scattermapbox"
           }
          ],
          "scatterpolar": [
           {
            "marker": {
             "colorbar": {
              "outlinewidth": 0,
              "ticks": ""
             }
            },
            "type": "scatterpolar"
           }
          ],
          "scatterpolargl": [
           {
            "marker": {
             "colorbar": {
              "outlinewidth": 0,
              "ticks": ""
             }
            },
            "type": "scatterpolargl"
           }
          ],
          "scatterternary": [
           {
            "marker": {
             "colorbar": {
              "outlinewidth": 0,
              "ticks": ""
             }
            },
            "type": "scatterternary"
           }
          ],
          "surface": [
           {
            "colorbar": {
             "outlinewidth": 0,
             "ticks": ""
            },
            "colorscale": [
             [
              0,
              "#0d0887"
             ],
             [
              0.1111111111111111,
              "#46039f"
             ],
             [
              0.2222222222222222,
              "#7201a8"
             ],
             [
              0.3333333333333333,
              "#9c179e"
             ],
             [
              0.4444444444444444,
              "#bd3786"
             ],
             [
              0.5555555555555556,
              "#d8576b"
             ],
             [
              0.6666666666666666,
              "#ed7953"
             ],
             [
              0.7777777777777778,
              "#fb9f3a"
             ],
             [
              0.8888888888888888,
              "#fdca26"
             ],
             [
              1,
              "#f0f921"
             ]
            ],
            "type": "surface"
           }
          ],
          "table": [
           {
            "cells": {
             "fill": {
              "color": "#EBF0F8"
             },
             "line": {
              "color": "white"
             }
            },
            "header": {
             "fill": {
              "color": "#C8D4E3"
             },
             "line": {
              "color": "white"
             }
            },
            "type": "table"
           }
          ]
         },
         "layout": {
          "annotationdefaults": {
           "arrowcolor": "#2a3f5f",
           "arrowhead": 0,
           "arrowwidth": 1
          },
          "colorscale": {
           "diverging": [
            [
             0,
             "#8e0152"
            ],
            [
             0.1,
             "#c51b7d"
            ],
            [
             0.2,
             "#de77ae"
            ],
            [
             0.3,
             "#f1b6da"
            ],
            [
             0.4,
             "#fde0ef"
            ],
            [
             0.5,
             "#f7f7f7"
            ],
            [
             0.6,
             "#e6f5d0"
            ],
            [
             0.7,
             "#b8e186"
            ],
            [
             0.8,
             "#7fbc41"
            ],
            [
             0.9,
             "#4d9221"
            ],
            [
             1,
             "#276419"
            ]
           ],
           "sequential": [
            [
             0,
             "#0d0887"
            ],
            [
             0.1111111111111111,
             "#46039f"
            ],
            [
             0.2222222222222222,
             "#7201a8"
            ],
            [
             0.3333333333333333,
             "#9c179e"
            ],
            [
             0.4444444444444444,
             "#bd3786"
            ],
            [
             0.5555555555555556,
             "#d8576b"
            ],
            [
             0.6666666666666666,
             "#ed7953"
            ],
            [
             0.7777777777777778,
             "#fb9f3a"
            ],
            [
             0.8888888888888888,
             "#fdca26"
            ],
            [
             1,
             "#f0f921"
            ]
           ],
           "sequentialminus": [
            [
             0,
             "#0d0887"
            ],
            [
             0.1111111111111111,
             "#46039f"
            ],
            [
             0.2222222222222222,
             "#7201a8"
            ],
            [
             0.3333333333333333,
             "#9c179e"
            ],
            [
             0.4444444444444444,
             "#bd3786"
            ],
            [
             0.5555555555555556,
             "#d8576b"
            ],
            [
             0.6666666666666666,
             "#ed7953"
            ],
            [
             0.7777777777777778,
             "#fb9f3a"
            ],
            [
             0.8888888888888888,
             "#fdca26"
            ],
            [
             1,
             "#f0f921"
            ]
           ]
          },
          "colorway": [
           "#636efa",
           "#EF553B",
           "#00cc96",
           "#ab63fa",
           "#FFA15A",
           "#19d3f3",
           "#FF6692",
           "#B6E880",
           "#FF97FF",
           "#FECB52"
          ],
          "font": {
           "color": "#2a3f5f"
          },
          "geo": {
           "bgcolor": "white",
           "lakecolor": "white",
           "landcolor": "#E5ECF6",
           "showlakes": true,
           "showland": true,
           "subunitcolor": "white"
          },
          "hoverlabel": {
           "align": "left"
          },
          "hovermode": "closest",
          "mapbox": {
           "style": "light"
          },
          "paper_bgcolor": "white",
          "plot_bgcolor": "#E5ECF6",
          "polar": {
           "angularaxis": {
            "gridcolor": "white",
            "linecolor": "white",
            "ticks": ""
           },
           "bgcolor": "#E5ECF6",
           "radialaxis": {
            "gridcolor": "white",
            "linecolor": "white",
            "ticks": ""
           }
          },
          "scene": {
           "xaxis": {
            "backgroundcolor": "#E5ECF6",
            "gridcolor": "white",
            "gridwidth": 2,
            "linecolor": "white",
            "showbackground": true,
            "ticks": "",
            "zerolinecolor": "white"
           },
           "yaxis": {
            "backgroundcolor": "#E5ECF6",
            "gridcolor": "white",
            "gridwidth": 2,
            "linecolor": "white",
            "showbackground": true,
            "ticks": "",
            "zerolinecolor": "white"
           },
           "zaxis": {
            "backgroundcolor": "#E5ECF6",
            "gridcolor": "white",
            "gridwidth": 2,
            "linecolor": "white",
            "showbackground": true,
            "ticks": "",
            "zerolinecolor": "white"
           }
          },
          "shapedefaults": {
           "line": {
            "color": "#2a3f5f"
           }
          },
          "ternary": {
           "aaxis": {
            "gridcolor": "white",
            "linecolor": "white",
            "ticks": ""
           },
           "baxis": {
            "gridcolor": "white",
            "linecolor": "white",
            "ticks": ""
           },
           "bgcolor": "#E5ECF6",
           "caxis": {
            "gridcolor": "white",
            "linecolor": "white",
            "ticks": ""
           }
          },
          "title": {
           "x": 0.05
          },
          "xaxis": {
           "automargin": true,
           "gridcolor": "white",
           "linecolor": "white",
           "ticks": "",
           "zerolinecolor": "white",
           "zerolinewidth": 2
          },
          "yaxis": {
           "automargin": true,
           "gridcolor": "white",
           "linecolor": "white",
           "ticks": "",
           "zerolinecolor": "white",
           "zerolinewidth": 2
          }
         }
        },
        "title": {
         "text": "Pearson correlation of indicator percentage changes (fourth in list)"
        }
       }
      },
      "text/html": [
       "<div>\n",
       "        \n",
       "        \n",
       "            <div id=\"a6df74a2-ebcd-4d48-a2aa-2143dc76fe68\" class=\"plotly-graph-div\" style=\"height:525px; width:100%;\"></div>\n",
       "            <script type=\"text/javascript\">\n",
       "                require([\"plotly\"], function(Plotly) {\n",
       "                    window.PLOTLYENV=window.PLOTLYENV || {};\n",
       "                    \n",
       "                if (document.getElementById(\"a6df74a2-ebcd-4d48-a2aa-2143dc76fe68\")) {\n",
       "                    Plotly.newPlot(\n",
       "                        'a6df74a2-ebcd-4d48-a2aa-2143dc76fe68',\n",
       "                        [{\"colorbar\": {\"title\": {\"text\": \"Pearson Coefficient\"}}, \"type\": \"heatmap\", \"x\": [\"open\", \"high\", \"low\", \"close\", \"macd\", \"signal\", \"mfi\", \"bb_up\", \"bb_low\", \"vzo\", \"apz_u\", \"apz_l\", \"stoch\"], \"y\": [\"open\", \"high\", \"low\", \"close\", \"macd\", \"signal\", \"mfi\", \"bb_up\", \"bb_low\", \"vzo\", \"apz_u\", \"apz_l\", \"stoch\"], \"z\": [[1.0, 0.4840015624691168, 0.8416709708965485, 0.0025962376295678813, 0.25669559599598013, 0.18480938967333824, 0.5357194786193215, -0.0838522261853658, -0.16322392031881533, -0.0194206370115207, -0.02151982361750471, 0.0013402766255033464, 0.0005692983592670483], [0.4840015624691168, 1.0, 0.6523983800268998, 0.6491141977459277, 0.2975239222552015, 0.33581266920720565, 0.4781721184775667, 0.2991521647642774, -0.43111821230040515, 0.23885865300911924, 0.4028667342281662, 0.42351783473525456, 0.2254001744157681], [0.8416709708965485, 0.6523983800268998, 1.0, 0.2975090347199569, 0.31473886361418646, 0.18778783347068956, 0.6548117911348592, 0.048669289857274735, -0.30701427359831923, 0.15934532993053854, 0.11230336321349864, 0.13868823740901792, 0.2398032205258876], [0.0025962376295678813, 0.6491141977459277, 0.2975090347199569, 1.0, 0.35006285984241936, 0.2966274497708084, 0.3542006555804952, 0.3645482642786722, -0.4018166653336746, 0.4885377895534755, 0.5119757566054096, 0.5367599463121056, 0.6673367211146966], [0.25669559599598013, 0.2975239222552015, 0.31473886361418646, 0.35006285984241936, 1.0, 0.4287647478268609, 0.0801629080698394, 0.16737321314250372, -0.2568037123477479, -0.22029277310257192, 0.27272536206408954, 0.30307012335041944, 0.5228677022066044], [0.18480938967333824, 0.33581266920720565, 0.18778783347068956, 0.2966274497708084, 0.4287647478268609, 1.0, -0.002658593735560718, 0.5598103805012431, -0.7059100325489375, -0.30143240175042685, 0.6494996404458951, 0.6917525826255007, -0.010947976885566773], [0.5357194786193215, 0.4781721184775667, 0.6548117911348592, 0.3542006555804952, 0.0801629080698394, -0.002658593735560718, 1.0, -0.28111934147902473, -0.14193623101569636, 0.4380678465427999, -0.2219969042737984, -0.19408284375554932, 0.3618513246206582], [-0.0838522261853658, 0.2991521647642774, 0.048669289857274735, 0.3645482642786722, 0.16737321314250372, 0.5598103805012431, -0.28111934147902473, 1.0, -0.7423013433517349, -0.24472734749662436, 0.9131155002059114, 0.9189483238191896, -0.056018238375482435], [-0.16322392031881533, -0.43111821230040515, -0.30701427359831923, -0.4018166653336746, -0.2568037123477479, -0.7059100325489375, -0.14193623101569636, -0.7423013433517349, 1.0, 0.08873718817903976, -0.6228838603069411, -0.6620896098508023, -0.20916098587531518], [-0.0194206370115207, 0.23885865300911924, 0.15934532993053854, 0.4885377895534755, -0.22029277310257192, -0.30143240175042685, 0.4380678465427999, -0.24472734749662436, 0.08873718817903976, 1.0, -0.15818203269210568, -0.14449981344740076, 0.42254546210697574], [-0.02151982361750471, 0.4028667342281662, 0.11230336321349864, 0.5119757566054096, 0.27272536206408954, 0.6494996404458951, -0.2219969042737984, 0.9131155002059114, -0.6228838603069411, -0.15818203269210568, 1.0, 0.9939147644922701, 0.04424868476242366], [0.0013402766255033464, 0.42351783473525456, 0.13868823740901792, 0.5367599463121056, 0.30307012335041944, 0.6917525826255007, -0.19408284375554932, 0.9189483238191896, -0.6620896098508023, -0.14449981344740076, 0.9939147644922701, 1.0, 0.0565325521253041], [0.0005692983592670483, 0.2254001744157681, 0.2398032205258876, 0.6673367211146966, 0.5228677022066044, -0.010947976885566773, 0.3618513246206582, -0.056018238375482435, -0.20916098587531518, 0.42254546210697574, 0.04424868476242366, 0.0565325521253041, 1.0]], \"zmax\": 1.0, \"zmin\": -1.0}],\n",
       "                        {\"template\": {\"data\": {\"bar\": [{\"error_x\": {\"color\": \"#2a3f5f\"}, \"error_y\": {\"color\": \"#2a3f5f\"}, \"marker\": {\"line\": {\"color\": \"#E5ECF6\", \"width\": 0.5}}, \"type\": \"bar\"}], \"barpolar\": [{\"marker\": {\"line\": {\"color\": \"#E5ECF6\", \"width\": 0.5}}, \"type\": \"barpolar\"}], \"carpet\": [{\"aaxis\": {\"endlinecolor\": \"#2a3f5f\", \"gridcolor\": \"white\", \"linecolor\": \"white\", \"minorgridcolor\": \"white\", \"startlinecolor\": \"#2a3f5f\"}, \"baxis\": {\"endlinecolor\": \"#2a3f5f\", \"gridcolor\": \"white\", \"linecolor\": \"white\", \"minorgridcolor\": \"white\", \"startlinecolor\": \"#2a3f5f\"}, \"type\": \"carpet\"}], \"choropleth\": [{\"colorbar\": {\"outlinewidth\": 0, \"ticks\": \"\"}, \"type\": \"choropleth\"}], \"contour\": [{\"colorbar\": {\"outlinewidth\": 0, \"ticks\": \"\"}, \"colorscale\": [[0.0, \"#0d0887\"], [0.1111111111111111, \"#46039f\"], [0.2222222222222222, \"#7201a8\"], [0.3333333333333333, \"#9c179e\"], [0.4444444444444444, \"#bd3786\"], [0.5555555555555556, \"#d8576b\"], [0.6666666666666666, \"#ed7953\"], [0.7777777777777778, \"#fb9f3a\"], [0.8888888888888888, \"#fdca26\"], [1.0, \"#f0f921\"]], \"type\": \"contour\"}], \"contourcarpet\": [{\"colorbar\": {\"outlinewidth\": 0, \"ticks\": \"\"}, \"type\": \"contourcarpet\"}], \"heatmap\": [{\"colorbar\": {\"outlinewidth\": 0, \"ticks\": \"\"}, \"colorscale\": [[0.0, \"#0d0887\"], [0.1111111111111111, \"#46039f\"], [0.2222222222222222, \"#7201a8\"], [0.3333333333333333, \"#9c179e\"], [0.4444444444444444, \"#bd3786\"], [0.5555555555555556, \"#d8576b\"], [0.6666666666666666, \"#ed7953\"], [0.7777777777777778, \"#fb9f3a\"], [0.8888888888888888, \"#fdca26\"], [1.0, \"#f0f921\"]], \"type\": \"heatmap\"}], \"heatmapgl\": [{\"colorbar\": {\"outlinewidth\": 0, \"ticks\": \"\"}, \"colorscale\": [[0.0, \"#0d0887\"], [0.1111111111111111, \"#46039f\"], [0.2222222222222222, \"#7201a8\"], [0.3333333333333333, \"#9c179e\"], [0.4444444444444444, \"#bd3786\"], [0.5555555555555556, \"#d8576b\"], [0.6666666666666666, \"#ed7953\"], [0.7777777777777778, \"#fb9f3a\"], [0.8888888888888888, \"#fdca26\"], [1.0, \"#f0f921\"]], \"type\": \"heatmapgl\"}], \"histogram\": [{\"marker\": {\"colorbar\": {\"outlinewidth\": 0, \"ticks\": \"\"}}, \"type\": \"histogram\"}], \"histogram2d\": [{\"colorbar\": {\"outlinewidth\": 0, \"ticks\": \"\"}, \"colorscale\": [[0.0, \"#0d0887\"], [0.1111111111111111, \"#46039f\"], [0.2222222222222222, \"#7201a8\"], [0.3333333333333333, \"#9c179e\"], [0.4444444444444444, \"#bd3786\"], [0.5555555555555556, \"#d8576b\"], [0.6666666666666666, \"#ed7953\"], [0.7777777777777778, \"#fb9f3a\"], [0.8888888888888888, \"#fdca26\"], [1.0, \"#f0f921\"]], \"type\": \"histogram2d\"}], \"histogram2dcontour\": [{\"colorbar\": {\"outlinewidth\": 0, \"ticks\": \"\"}, \"colorscale\": [[0.0, \"#0d0887\"], [0.1111111111111111, \"#46039f\"], [0.2222222222222222, \"#7201a8\"], [0.3333333333333333, \"#9c179e\"], [0.4444444444444444, \"#bd3786\"], [0.5555555555555556, \"#d8576b\"], [0.6666666666666666, \"#ed7953\"], [0.7777777777777778, \"#fb9f3a\"], [0.8888888888888888, \"#fdca26\"], [1.0, \"#f0f921\"]], \"type\": \"histogram2dcontour\"}], \"mesh3d\": [{\"colorbar\": {\"outlinewidth\": 0, \"ticks\": \"\"}, \"type\": \"mesh3d\"}], \"parcoords\": [{\"line\": {\"colorbar\": {\"outlinewidth\": 0, \"ticks\": \"\"}}, \"type\": \"parcoords\"}], \"scatter\": [{\"marker\": {\"colorbar\": {\"outlinewidth\": 0, \"ticks\": \"\"}}, \"type\": \"scatter\"}], \"scatter3d\": [{\"line\": {\"colorbar\": {\"outlinewidth\": 0, \"ticks\": \"\"}}, \"marker\": {\"colorbar\": {\"outlinewidth\": 0, \"ticks\": \"\"}}, \"type\": \"scatter3d\"}], \"scattercarpet\": [{\"marker\": {\"colorbar\": {\"outlinewidth\": 0, \"ticks\": \"\"}}, \"type\": \"scattercarpet\"}], \"scattergeo\": [{\"marker\": {\"colorbar\": {\"outlinewidth\": 0, \"ticks\": \"\"}}, \"type\": \"scattergeo\"}], \"scattergl\": [{\"marker\": {\"colorbar\": {\"outlinewidth\": 0, \"ticks\": \"\"}}, \"type\": \"scattergl\"}], \"scattermapbox\": [{\"marker\": {\"colorbar\": {\"outlinewidth\": 0, \"ticks\": \"\"}}, \"type\": \"scattermapbox\"}], \"scatterpolar\": [{\"marker\": {\"colorbar\": {\"outlinewidth\": 0, \"ticks\": \"\"}}, \"type\": \"scatterpolar\"}], \"scatterpolargl\": [{\"marker\": {\"colorbar\": {\"outlinewidth\": 0, \"ticks\": \"\"}}, \"type\": \"scatterpolargl\"}], \"scatterternary\": [{\"marker\": {\"colorbar\": {\"outlinewidth\": 0, \"ticks\": \"\"}}, \"type\": \"scatterternary\"}], \"surface\": [{\"colorbar\": {\"outlinewidth\": 0, \"ticks\": \"\"}, \"colorscale\": [[0.0, \"#0d0887\"], [0.1111111111111111, \"#46039f\"], [0.2222222222222222, \"#7201a8\"], [0.3333333333333333, \"#9c179e\"], [0.4444444444444444, \"#bd3786\"], [0.5555555555555556, \"#d8576b\"], [0.6666666666666666, \"#ed7953\"], [0.7777777777777778, \"#fb9f3a\"], [0.8888888888888888, \"#fdca26\"], [1.0, \"#f0f921\"]], \"type\": \"surface\"}], \"table\": [{\"cells\": {\"fill\": {\"color\": \"#EBF0F8\"}, \"line\": {\"color\": \"white\"}}, \"header\": {\"fill\": {\"color\": \"#C8D4E3\"}, \"line\": {\"color\": \"white\"}}, \"type\": \"table\"}]}, \"layout\": {\"annotationdefaults\": {\"arrowcolor\": \"#2a3f5f\", \"arrowhead\": 0, \"arrowwidth\": 1}, \"colorscale\": {\"diverging\": [[0, \"#8e0152\"], [0.1, \"#c51b7d\"], [0.2, \"#de77ae\"], [0.3, \"#f1b6da\"], [0.4, \"#fde0ef\"], [0.5, \"#f7f7f7\"], [0.6, \"#e6f5d0\"], [0.7, \"#b8e186\"], [0.8, \"#7fbc41\"], [0.9, \"#4d9221\"], [1, \"#276419\"]], \"sequential\": [[0.0, \"#0d0887\"], [0.1111111111111111, \"#46039f\"], [0.2222222222222222, \"#7201a8\"], [0.3333333333333333, \"#9c179e\"], [0.4444444444444444, \"#bd3786\"], [0.5555555555555556, \"#d8576b\"], [0.6666666666666666, \"#ed7953\"], [0.7777777777777778, \"#fb9f3a\"], [0.8888888888888888, \"#fdca26\"], [1.0, \"#f0f921\"]], \"sequentialminus\": [[0.0, \"#0d0887\"], [0.1111111111111111, \"#46039f\"], [0.2222222222222222, \"#7201a8\"], [0.3333333333333333, \"#9c179e\"], [0.4444444444444444, \"#bd3786\"], [0.5555555555555556, \"#d8576b\"], [0.6666666666666666, \"#ed7953\"], [0.7777777777777778, \"#fb9f3a\"], [0.8888888888888888, \"#fdca26\"], [1.0, \"#f0f921\"]]}, \"colorway\": [\"#636efa\", \"#EF553B\", \"#00cc96\", \"#ab63fa\", \"#FFA15A\", \"#19d3f3\", \"#FF6692\", \"#B6E880\", \"#FF97FF\", \"#FECB52\"], \"font\": {\"color\": \"#2a3f5f\"}, \"geo\": {\"bgcolor\": \"white\", \"lakecolor\": \"white\", \"landcolor\": \"#E5ECF6\", \"showlakes\": true, \"showland\": true, \"subunitcolor\": \"white\"}, \"hoverlabel\": {\"align\": \"left\"}, \"hovermode\": \"closest\", \"mapbox\": {\"style\": \"light\"}, \"paper_bgcolor\": \"white\", \"plot_bgcolor\": \"#E5ECF6\", \"polar\": {\"angularaxis\": {\"gridcolor\": \"white\", \"linecolor\": \"white\", \"ticks\": \"\"}, \"bgcolor\": \"#E5ECF6\", \"radialaxis\": {\"gridcolor\": \"white\", \"linecolor\": \"white\", \"ticks\": \"\"}}, \"scene\": {\"xaxis\": {\"backgroundcolor\": \"#E5ECF6\", \"gridcolor\": \"white\", \"gridwidth\": 2, \"linecolor\": \"white\", \"showbackground\": true, \"ticks\": \"\", \"zerolinecolor\": \"white\"}, \"yaxis\": {\"backgroundcolor\": \"#E5ECF6\", \"gridcolor\": \"white\", \"gridwidth\": 2, \"linecolor\": \"white\", \"showbackground\": true, \"ticks\": \"\", \"zerolinecolor\": \"white\"}, \"zaxis\": {\"backgroundcolor\": \"#E5ECF6\", \"gridcolor\": \"white\", \"gridwidth\": 2, \"linecolor\": \"white\", \"showbackground\": true, \"ticks\": \"\", \"zerolinecolor\": \"white\"}}, \"shapedefaults\": {\"line\": {\"color\": \"#2a3f5f\"}}, \"ternary\": {\"aaxis\": {\"gridcolor\": \"white\", \"linecolor\": \"white\", \"ticks\": \"\"}, \"baxis\": {\"gridcolor\": \"white\", \"linecolor\": \"white\", \"ticks\": \"\"}, \"bgcolor\": \"#E5ECF6\", \"caxis\": {\"gridcolor\": \"white\", \"linecolor\": \"white\", \"ticks\": \"\"}}, \"title\": {\"x\": 0.05}, \"xaxis\": {\"automargin\": true, \"gridcolor\": \"white\", \"linecolor\": \"white\", \"ticks\": \"\", \"zerolinecolor\": \"white\", \"zerolinewidth\": 2}, \"yaxis\": {\"automargin\": true, \"gridcolor\": \"white\", \"linecolor\": \"white\", \"ticks\": \"\", \"zerolinecolor\": \"white\", \"zerolinewidth\": 2}}}, \"title\": {\"text\": \"Pearson correlation of indicator percentage changes (fourth in list)\"}},\n",
       "                        {\"responsive\": true}\n",
       "                    ).then(function(){\n",
       "                            \n",
       "var gd = document.getElementById('a6df74a2-ebcd-4d48-a2aa-2143dc76fe68');\n",
       "var x = new MutationObserver(function (mutations, observer) {{\n",
       "        var display = window.getComputedStyle(gd).display;\n",
       "        if (!display || display === 'none') {{\n",
       "            console.log([gd, 'removed!']);\n",
       "            Plotly.purge(gd);\n",
       "            observer.disconnect();\n",
       "        }}\n",
       "}});\n",
       "\n",
       "// Listen for the removal of the full notebook cells\n",
       "var notebookContainer = gd.closest('#notebook-container');\n",
       "if (notebookContainer) {{\n",
       "    x.observe(notebookContainer, {childList: true});\n",
       "}}\n",
       "\n",
       "// Listen for the clearing of the current output cell\n",
       "var outputEl = gd.closest('.output');\n",
       "if (outputEl) {{\n",
       "    x.observe(outputEl, {childList: true});\n",
       "}}\n",
       "\n",
       "                        })\n",
       "                };\n",
       "                });\n",
       "            </script>\n",
       "        </div>"
      ]
     },
     "metadata": {},
     "output_type": "display_data"
    }
   ],
   "source": [
    "heatmap = go.Heatmap(\n",
    "    z=n3_indicators.iloc[-20:].pct_change().corr(method='pearson').values,\n",
    "    x=n3_indicators.columns,\n",
    "    y=n3_indicators.columns,\n",
    "    colorbar=dict(title='Pearson Coefficient'),\n",
    ")\n",
    "\n",
    "layout = go.Layout(title=\"Pearson correlation of indicator percentage changes (fourth in list)\")\n",
    "\n",
    "heatmap['zmax'] = 1.0\n",
    "heatmap['zmin'] = -1.0\n",
    "\n",
    "fig = go.Figure(data=[heatmap], layout=layout)\n",
    "py.iplot(fig)"
   ]
  },
  {
   "cell_type": "code",
   "execution_count": 24,
   "metadata": {
    "pycharm": {
     "name": "#%%\n"
    }
   },
   "outputs": [
    {
     "data": {
      "application/vnd.plotly.v1+json": {
       "config": {
        "linkText": "Export to plot.ly",
        "plotlyServerURL": "https://plot.ly",
        "showLink": false
       },
       "data": [
        {
         "colorbar": {
          "title": {
           "text": "Pearson Coefficient"
          }
         },
         "type": "heatmap",
         "x": [
          "open",
          "high",
          "low",
          "close",
          "macd",
          "signal",
          "mfi",
          "bb_up",
          "bb_low",
          "vzo",
          "apz_u",
          "apz_l",
          "stoch"
         ],
         "y": [
          "open",
          "high",
          "low",
          "close",
          "macd",
          "signal",
          "mfi",
          "bb_up",
          "bb_low",
          "vzo",
          "apz_u",
          "apz_l",
          "stoch"
         ],
         "z": [
          [
           1,
           0.6390203830731043,
           0.23620958053233876,
           -0.18705283909853726,
           0.3454453000415725,
           0.0946425114840511,
           0.21549654729438644,
           0.05459682427824485,
           0.22637327305116478,
           -0.004335445319714816,
           0.2970582631299683,
           0.2584411266242914,
           -0.06088035775295117
          ],
          [
           0.6390203830731043,
           1,
           0.6226745793384937,
           0.4157963044739851,
           -0.21922217380216813,
           0.08592565147397085,
           0.6572289821568946,
           0.09732091274904077,
           0.2844170328281832,
           0.04392456251294818,
           0.48998640777916874,
           0.5078723975338443,
           0.3692032224979733
          ],
          [
           0.23620958053233876,
           0.6226745793384937,
           1,
           0.6633817477987439,
           -0.42484565107101624,
           -0.016603385840244317,
           0.3282594129389207,
           0.2262322664570668,
           0.2204413938577515,
           0.07562865504459283,
           0.4983860921437421,
           0.5296636719149671,
           0.3146070543306685
          ],
          [
           -0.18705283909853726,
           0.4157963044739851,
           0.6633817477987439,
           1,
           -0.7229131284320196,
           0.14441628044373145,
           0.5494318102482484,
           0.13173929474973373,
           0.3279181276250675,
           0.08676867418148511,
           0.6137280259542153,
           0.6639276728315787,
           0.6469915188688778
          ],
          [
           0.3454453000415725,
           -0.21922217380216813,
           -0.42484565107101624,
           -0.7229131284320196,
           1,
           -0.19102253903461144,
           -0.5095008557013456,
           -0.14674234785262028,
           -0.015631471086025337,
           -0.011612861782204874,
           -0.3026189941180637,
           -0.42415691891406876,
           -0.4091947787448318
          ],
          [
           0.0946425114840511,
           0.08592565147397085,
           -0.016603385840244317,
           0.14441628044373145,
           -0.19102253903461144,
           1,
           0.408358345115724,
           -0.06062548922184246,
           0.024848748843519314,
           -0.022747653731740404,
           0.03651852270043074,
           0.08947620526289433,
           0.15918555366071835
          ],
          [
           0.21549654729438644,
           0.6572289821568946,
           0.3282594129389207,
           0.5494318102482484,
           -0.5095008557013456,
           0.408358345115724,
           1,
           0.1586232696736341,
           0.3010225044220427,
           -0.03031230553769132,
           0.6450980209638116,
           0.6838876074550843,
           0.41174806280289794
          ],
          [
           0.05459682427824485,
           0.09732091274904077,
           0.2262322664570668,
           0.13173929474973373,
           -0.14674234785262028,
           -0.06062548922184246,
           0.1586232696736341,
           1,
           -0.6306319823049894,
           -0.10837761354205526,
           -0.03625406609411261,
           -0.025959081578279555,
           0.18700997147286663
          ],
          [
           0.22637327305116478,
           0.2844170328281832,
           0.2204413938577515,
           0.3279181276250675,
           -0.015631471086025337,
           0.024848748843519314,
           0.3010225044220427,
           -0.6306319823049894,
           1,
           -0.024795624547046202,
           0.7290577656936538,
           0.7216367129996303,
           0.050891857280343206
          ],
          [
           -0.004335445319714816,
           0.04392456251294818,
           0.07562865504459283,
           0.08676867418148511,
           -0.011612861782204874,
           -0.022747653731740404,
           -0.03031230553769132,
           -0.10837761354205526,
           -0.024795624547046202,
           1,
           0.03980833048879732,
           -0.02359397572781903,
           0.1810180801951051
          ],
          [
           0.2970582631299683,
           0.48998640777916874,
           0.4983860921437421,
           0.6137280259542153,
           -0.3026189941180637,
           0.03651852270043074,
           0.6450980209638116,
           -0.03625406609411261,
           0.7290577656936538,
           0.03980833048879732,
           1,
           0.9758931825535125,
           0.20241288907424979
          ],
          [
           0.2584411266242914,
           0.5078723975338443,
           0.5296636719149671,
           0.6639276728315787,
           -0.42415691891406876,
           0.08947620526289433,
           0.6838876074550843,
           -0.025959081578279555,
           0.7216367129996303,
           -0.02359397572781903,
           0.9758931825535125,
           1,
           0.2599854799510266
          ],
          [
           -0.06088035775295117,
           0.3692032224979733,
           0.3146070543306685,
           0.6469915188688778,
           -0.4091947787448318,
           0.15918555366071835,
           0.41174806280289794,
           0.18700997147286663,
           0.050891857280343206,
           0.1810180801951051,
           0.20241288907424979,
           0.2599854799510266,
           1
          ]
         ],
         "zmax": 1,
         "zmin": -1
        }
       ],
       "layout": {
        "template": {
         "data": {
          "bar": [
           {
            "error_x": {
             "color": "#2a3f5f"
            },
            "error_y": {
             "color": "#2a3f5f"
            },
            "marker": {
             "line": {
              "color": "#E5ECF6",
              "width": 0.5
             }
            },
            "type": "bar"
           }
          ],
          "barpolar": [
           {
            "marker": {
             "line": {
              "color": "#E5ECF6",
              "width": 0.5
             }
            },
            "type": "barpolar"
           }
          ],
          "carpet": [
           {
            "aaxis": {
             "endlinecolor": "#2a3f5f",
             "gridcolor": "white",
             "linecolor": "white",
             "minorgridcolor": "white",
             "startlinecolor": "#2a3f5f"
            },
            "baxis": {
             "endlinecolor": "#2a3f5f",
             "gridcolor": "white",
             "linecolor": "white",
             "minorgridcolor": "white",
             "startlinecolor": "#2a3f5f"
            },
            "type": "carpet"
           }
          ],
          "choropleth": [
           {
            "colorbar": {
             "outlinewidth": 0,
             "ticks": ""
            },
            "type": "choropleth"
           }
          ],
          "contour": [
           {
            "colorbar": {
             "outlinewidth": 0,
             "ticks": ""
            },
            "colorscale": [
             [
              0,
              "#0d0887"
             ],
             [
              0.1111111111111111,
              "#46039f"
             ],
             [
              0.2222222222222222,
              "#7201a8"
             ],
             [
              0.3333333333333333,
              "#9c179e"
             ],
             [
              0.4444444444444444,
              "#bd3786"
             ],
             [
              0.5555555555555556,
              "#d8576b"
             ],
             [
              0.6666666666666666,
              "#ed7953"
             ],
             [
              0.7777777777777778,
              "#fb9f3a"
             ],
             [
              0.8888888888888888,
              "#fdca26"
             ],
             [
              1,
              "#f0f921"
             ]
            ],
            "type": "contour"
           }
          ],
          "contourcarpet": [
           {
            "colorbar": {
             "outlinewidth": 0,
             "ticks": ""
            },
            "type": "contourcarpet"
           }
          ],
          "heatmap": [
           {
            "colorbar": {
             "outlinewidth": 0,
             "ticks": ""
            },
            "colorscale": [
             [
              0,
              "#0d0887"
             ],
             [
              0.1111111111111111,
              "#46039f"
             ],
             [
              0.2222222222222222,
              "#7201a8"
             ],
             [
              0.3333333333333333,
              "#9c179e"
             ],
             [
              0.4444444444444444,
              "#bd3786"
             ],
             [
              0.5555555555555556,
              "#d8576b"
             ],
             [
              0.6666666666666666,
              "#ed7953"
             ],
             [
              0.7777777777777778,
              "#fb9f3a"
             ],
             [
              0.8888888888888888,
              "#fdca26"
             ],
             [
              1,
              "#f0f921"
             ]
            ],
            "type": "heatmap"
           }
          ],
          "heatmapgl": [
           {
            "colorbar": {
             "outlinewidth": 0,
             "ticks": ""
            },
            "colorscale": [
             [
              0,
              "#0d0887"
             ],
             [
              0.1111111111111111,
              "#46039f"
             ],
             [
              0.2222222222222222,
              "#7201a8"
             ],
             [
              0.3333333333333333,
              "#9c179e"
             ],
             [
              0.4444444444444444,
              "#bd3786"
             ],
             [
              0.5555555555555556,
              "#d8576b"
             ],
             [
              0.6666666666666666,
              "#ed7953"
             ],
             [
              0.7777777777777778,
              "#fb9f3a"
             ],
             [
              0.8888888888888888,
              "#fdca26"
             ],
             [
              1,
              "#f0f921"
             ]
            ],
            "type": "heatmapgl"
           }
          ],
          "histogram": [
           {
            "marker": {
             "colorbar": {
              "outlinewidth": 0,
              "ticks": ""
             }
            },
            "type": "histogram"
           }
          ],
          "histogram2d": [
           {
            "colorbar": {
             "outlinewidth": 0,
             "ticks": ""
            },
            "colorscale": [
             [
              0,
              "#0d0887"
             ],
             [
              0.1111111111111111,
              "#46039f"
             ],
             [
              0.2222222222222222,
              "#7201a8"
             ],
             [
              0.3333333333333333,
              "#9c179e"
             ],
             [
              0.4444444444444444,
              "#bd3786"
             ],
             [
              0.5555555555555556,
              "#d8576b"
             ],
             [
              0.6666666666666666,
              "#ed7953"
             ],
             [
              0.7777777777777778,
              "#fb9f3a"
             ],
             [
              0.8888888888888888,
              "#fdca26"
             ],
             [
              1,
              "#f0f921"
             ]
            ],
            "type": "histogram2d"
           }
          ],
          "histogram2dcontour": [
           {
            "colorbar": {
             "outlinewidth": 0,
             "ticks": ""
            },
            "colorscale": [
             [
              0,
              "#0d0887"
             ],
             [
              0.1111111111111111,
              "#46039f"
             ],
             [
              0.2222222222222222,
              "#7201a8"
             ],
             [
              0.3333333333333333,
              "#9c179e"
             ],
             [
              0.4444444444444444,
              "#bd3786"
             ],
             [
              0.5555555555555556,
              "#d8576b"
             ],
             [
              0.6666666666666666,
              "#ed7953"
             ],
             [
              0.7777777777777778,
              "#fb9f3a"
             ],
             [
              0.8888888888888888,
              "#fdca26"
             ],
             [
              1,
              "#f0f921"
             ]
            ],
            "type": "histogram2dcontour"
           }
          ],
          "mesh3d": [
           {
            "colorbar": {
             "outlinewidth": 0,
             "ticks": ""
            },
            "type": "mesh3d"
           }
          ],
          "parcoords": [
           {
            "line": {
             "colorbar": {
              "outlinewidth": 0,
              "ticks": ""
             }
            },
            "type": "parcoords"
           }
          ],
          "scatter": [
           {
            "marker": {
             "colorbar": {
              "outlinewidth": 0,
              "ticks": ""
             }
            },
            "type": "scatter"
           }
          ],
          "scatter3d": [
           {
            "line": {
             "colorbar": {
              "outlinewidth": 0,
              "ticks": ""
             }
            },
            "marker": {
             "colorbar": {
              "outlinewidth": 0,
              "ticks": ""
             }
            },
            "type": "scatter3d"
           }
          ],
          "scattercarpet": [
           {
            "marker": {
             "colorbar": {
              "outlinewidth": 0,
              "ticks": ""
             }
            },
            "type": "scattercarpet"
           }
          ],
          "scattergeo": [
           {
            "marker": {
             "colorbar": {
              "outlinewidth": 0,
              "ticks": ""
             }
            },
            "type": "scattergeo"
           }
          ],
          "scattergl": [
           {
            "marker": {
             "colorbar": {
              "outlinewidth": 0,
              "ticks": ""
             }
            },
            "type": "scattergl"
           }
          ],
          "scattermapbox": [
           {
            "marker": {
             "colorbar": {
              "outlinewidth": 0,
              "ticks": ""
             }
            },
            "type": "scattermapbox"
           }
          ],
          "scatterpolar": [
           {
            "marker": {
             "colorbar": {
              "outlinewidth": 0,
              "ticks": ""
             }
            },
            "type": "scatterpolar"
           }
          ],
          "scatterpolargl": [
           {
            "marker": {
             "colorbar": {
              "outlinewidth": 0,
              "ticks": ""
             }
            },
            "type": "scatterpolargl"
           }
          ],
          "scatterternary": [
           {
            "marker": {
             "colorbar": {
              "outlinewidth": 0,
              "ticks": ""
             }
            },
            "type": "scatterternary"
           }
          ],
          "surface": [
           {
            "colorbar": {
             "outlinewidth": 0,
             "ticks": ""
            },
            "colorscale": [
             [
              0,
              "#0d0887"
             ],
             [
              0.1111111111111111,
              "#46039f"
             ],
             [
              0.2222222222222222,
              "#7201a8"
             ],
             [
              0.3333333333333333,
              "#9c179e"
             ],
             [
              0.4444444444444444,
              "#bd3786"
             ],
             [
              0.5555555555555556,
              "#d8576b"
             ],
             [
              0.6666666666666666,
              "#ed7953"
             ],
             [
              0.7777777777777778,
              "#fb9f3a"
             ],
             [
              0.8888888888888888,
              "#fdca26"
             ],
             [
              1,
              "#f0f921"
             ]
            ],
            "type": "surface"
           }
          ],
          "table": [
           {
            "cells": {
             "fill": {
              "color": "#EBF0F8"
             },
             "line": {
              "color": "white"
             }
            },
            "header": {
             "fill": {
              "color": "#C8D4E3"
             },
             "line": {
              "color": "white"
             }
            },
            "type": "table"
           }
          ]
         },
         "layout": {
          "annotationdefaults": {
           "arrowcolor": "#2a3f5f",
           "arrowhead": 0,
           "arrowwidth": 1
          },
          "colorscale": {
           "diverging": [
            [
             0,
             "#8e0152"
            ],
            [
             0.1,
             "#c51b7d"
            ],
            [
             0.2,
             "#de77ae"
            ],
            [
             0.3,
             "#f1b6da"
            ],
            [
             0.4,
             "#fde0ef"
            ],
            [
             0.5,
             "#f7f7f7"
            ],
            [
             0.6,
             "#e6f5d0"
            ],
            [
             0.7,
             "#b8e186"
            ],
            [
             0.8,
             "#7fbc41"
            ],
            [
             0.9,
             "#4d9221"
            ],
            [
             1,
             "#276419"
            ]
           ],
           "sequential": [
            [
             0,
             "#0d0887"
            ],
            [
             0.1111111111111111,
             "#46039f"
            ],
            [
             0.2222222222222222,
             "#7201a8"
            ],
            [
             0.3333333333333333,
             "#9c179e"
            ],
            [
             0.4444444444444444,
             "#bd3786"
            ],
            [
             0.5555555555555556,
             "#d8576b"
            ],
            [
             0.6666666666666666,
             "#ed7953"
            ],
            [
             0.7777777777777778,
             "#fb9f3a"
            ],
            [
             0.8888888888888888,
             "#fdca26"
            ],
            [
             1,
             "#f0f921"
            ]
           ],
           "sequentialminus": [
            [
             0,
             "#0d0887"
            ],
            [
             0.1111111111111111,
             "#46039f"
            ],
            [
             0.2222222222222222,
             "#7201a8"
            ],
            [
             0.3333333333333333,
             "#9c179e"
            ],
            [
             0.4444444444444444,
             "#bd3786"
            ],
            [
             0.5555555555555556,
             "#d8576b"
            ],
            [
             0.6666666666666666,
             "#ed7953"
            ],
            [
             0.7777777777777778,
             "#fb9f3a"
            ],
            [
             0.8888888888888888,
             "#fdca26"
            ],
            [
             1,
             "#f0f921"
            ]
           ]
          },
          "colorway": [
           "#636efa",
           "#EF553B",
           "#00cc96",
           "#ab63fa",
           "#FFA15A",
           "#19d3f3",
           "#FF6692",
           "#B6E880",
           "#FF97FF",
           "#FECB52"
          ],
          "font": {
           "color": "#2a3f5f"
          },
          "geo": {
           "bgcolor": "white",
           "lakecolor": "white",
           "landcolor": "#E5ECF6",
           "showlakes": true,
           "showland": true,
           "subunitcolor": "white"
          },
          "hoverlabel": {
           "align": "left"
          },
          "hovermode": "closest",
          "mapbox": {
           "style": "light"
          },
          "paper_bgcolor": "white",
          "plot_bgcolor": "#E5ECF6",
          "polar": {
           "angularaxis": {
            "gridcolor": "white",
            "linecolor": "white",
            "ticks": ""
           },
           "bgcolor": "#E5ECF6",
           "radialaxis": {
            "gridcolor": "white",
            "linecolor": "white",
            "ticks": ""
           }
          },
          "scene": {
           "xaxis": {
            "backgroundcolor": "#E5ECF6",
            "gridcolor": "white",
            "gridwidth": 2,
            "linecolor": "white",
            "showbackground": true,
            "ticks": "",
            "zerolinecolor": "white"
           },
           "yaxis": {
            "backgroundcolor": "#E5ECF6",
            "gridcolor": "white",
            "gridwidth": 2,
            "linecolor": "white",
            "showbackground": true,
            "ticks": "",
            "zerolinecolor": "white"
           },
           "zaxis": {
            "backgroundcolor": "#E5ECF6",
            "gridcolor": "white",
            "gridwidth": 2,
            "linecolor": "white",
            "showbackground": true,
            "ticks": "",
            "zerolinecolor": "white"
           }
          },
          "shapedefaults": {
           "line": {
            "color": "#2a3f5f"
           }
          },
          "ternary": {
           "aaxis": {
            "gridcolor": "white",
            "linecolor": "white",
            "ticks": ""
           },
           "baxis": {
            "gridcolor": "white",
            "linecolor": "white",
            "ticks": ""
           },
           "bgcolor": "#E5ECF6",
           "caxis": {
            "gridcolor": "white",
            "linecolor": "white",
            "ticks": ""
           }
          },
          "title": {
           "x": 0.05
          },
          "xaxis": {
           "automargin": true,
           "gridcolor": "white",
           "linecolor": "white",
           "ticks": "",
           "zerolinecolor": "white",
           "zerolinewidth": 2
          },
          "yaxis": {
           "automargin": true,
           "gridcolor": "white",
           "linecolor": "white",
           "ticks": "",
           "zerolinecolor": "white",
           "zerolinewidth": 2
          }
         }
        },
        "title": {
         "text": "Pearson correlation of indicator percentage changes (fifth in list)"
        }
       }
      },
      "text/html": [
       "<div>\n",
       "        \n",
       "        \n",
       "            <div id=\"1a6ab3e0-1e39-43b4-b523-80552b0fff5a\" class=\"plotly-graph-div\" style=\"height:525px; width:100%;\"></div>\n",
       "            <script type=\"text/javascript\">\n",
       "                require([\"plotly\"], function(Plotly) {\n",
       "                    window.PLOTLYENV=window.PLOTLYENV || {};\n",
       "                    \n",
       "                if (document.getElementById(\"1a6ab3e0-1e39-43b4-b523-80552b0fff5a\")) {\n",
       "                    Plotly.newPlot(\n",
       "                        '1a6ab3e0-1e39-43b4-b523-80552b0fff5a',\n",
       "                        [{\"colorbar\": {\"title\": {\"text\": \"Pearson Coefficient\"}}, \"type\": \"heatmap\", \"x\": [\"open\", \"high\", \"low\", \"close\", \"macd\", \"signal\", \"mfi\", \"bb_up\", \"bb_low\", \"vzo\", \"apz_u\", \"apz_l\", \"stoch\"], \"y\": [\"open\", \"high\", \"low\", \"close\", \"macd\", \"signal\", \"mfi\", \"bb_up\", \"bb_low\", \"vzo\", \"apz_u\", \"apz_l\", \"stoch\"], \"z\": [[1.0, 0.6390203830731043, 0.23620958053233876, -0.18705283909853726, 0.3454453000415725, 0.0946425114840511, 0.21549654729438644, 0.05459682427824485, 0.22637327305116478, -0.004335445319714816, 0.2970582631299683, 0.2584411266242914, -0.06088035775295117], [0.6390203830731043, 1.0, 0.6226745793384937, 0.4157963044739851, -0.21922217380216813, 0.08592565147397085, 0.6572289821568946, 0.09732091274904077, 0.2844170328281832, 0.04392456251294818, 0.48998640777916874, 0.5078723975338443, 0.3692032224979733], [0.23620958053233876, 0.6226745793384937, 1.0, 0.6633817477987439, -0.42484565107101624, -0.016603385840244317, 0.3282594129389207, 0.2262322664570668, 0.2204413938577515, 0.07562865504459283, 0.4983860921437421, 0.5296636719149671, 0.3146070543306685], [-0.18705283909853726, 0.4157963044739851, 0.6633817477987439, 1.0, -0.7229131284320196, 0.14441628044373145, 0.5494318102482484, 0.13173929474973373, 0.3279181276250675, 0.08676867418148511, 0.6137280259542153, 0.6639276728315787, 0.6469915188688778], [0.3454453000415725, -0.21922217380216813, -0.42484565107101624, -0.7229131284320196, 1.0, -0.19102253903461144, -0.5095008557013456, -0.14674234785262028, -0.015631471086025337, -0.011612861782204874, -0.3026189941180637, -0.42415691891406876, -0.4091947787448318], [0.0946425114840511, 0.08592565147397085, -0.016603385840244317, 0.14441628044373145, -0.19102253903461144, 1.0, 0.408358345115724, -0.06062548922184246, 0.024848748843519314, -0.022747653731740404, 0.03651852270043074, 0.08947620526289433, 0.15918555366071835], [0.21549654729438644, 0.6572289821568946, 0.3282594129389207, 0.5494318102482484, -0.5095008557013456, 0.408358345115724, 1.0, 0.1586232696736341, 0.3010225044220427, -0.03031230553769132, 0.6450980209638116, 0.6838876074550843, 0.41174806280289794], [0.05459682427824485, 0.09732091274904077, 0.2262322664570668, 0.13173929474973373, -0.14674234785262028, -0.06062548922184246, 0.1586232696736341, 1.0, -0.6306319823049894, -0.10837761354205526, -0.03625406609411261, -0.025959081578279555, 0.18700997147286663], [0.22637327305116478, 0.2844170328281832, 0.2204413938577515, 0.3279181276250675, -0.015631471086025337, 0.024848748843519314, 0.3010225044220427, -0.6306319823049894, 1.0, -0.024795624547046202, 0.7290577656936538, 0.7216367129996303, 0.050891857280343206], [-0.004335445319714816, 0.04392456251294818, 0.07562865504459283, 0.08676867418148511, -0.011612861782204874, -0.022747653731740404, -0.03031230553769132, -0.10837761354205526, -0.024795624547046202, 1.0, 0.03980833048879732, -0.02359397572781903, 0.1810180801951051], [0.2970582631299683, 0.48998640777916874, 0.4983860921437421, 0.6137280259542153, -0.3026189941180637, 0.03651852270043074, 0.6450980209638116, -0.03625406609411261, 0.7290577656936538, 0.03980833048879732, 1.0, 0.9758931825535125, 0.20241288907424979], [0.2584411266242914, 0.5078723975338443, 0.5296636719149671, 0.6639276728315787, -0.42415691891406876, 0.08947620526289433, 0.6838876074550843, -0.025959081578279555, 0.7216367129996303, -0.02359397572781903, 0.9758931825535125, 1.0, 0.2599854799510266], [-0.06088035775295117, 0.3692032224979733, 0.3146070543306685, 0.6469915188688778, -0.4091947787448318, 0.15918555366071835, 0.41174806280289794, 0.18700997147286663, 0.050891857280343206, 0.1810180801951051, 0.20241288907424979, 0.2599854799510266, 1.0]], \"zmax\": 1.0, \"zmin\": -1.0}],\n",
       "                        {\"template\": {\"data\": {\"bar\": [{\"error_x\": {\"color\": \"#2a3f5f\"}, \"error_y\": {\"color\": \"#2a3f5f\"}, \"marker\": {\"line\": {\"color\": \"#E5ECF6\", \"width\": 0.5}}, \"type\": \"bar\"}], \"barpolar\": [{\"marker\": {\"line\": {\"color\": \"#E5ECF6\", \"width\": 0.5}}, \"type\": \"barpolar\"}], \"carpet\": [{\"aaxis\": {\"endlinecolor\": \"#2a3f5f\", \"gridcolor\": \"white\", \"linecolor\": \"white\", \"minorgridcolor\": \"white\", \"startlinecolor\": \"#2a3f5f\"}, \"baxis\": {\"endlinecolor\": \"#2a3f5f\", \"gridcolor\": \"white\", \"linecolor\": \"white\", \"minorgridcolor\": \"white\", \"startlinecolor\": \"#2a3f5f\"}, \"type\": \"carpet\"}], \"choropleth\": [{\"colorbar\": {\"outlinewidth\": 0, \"ticks\": \"\"}, \"type\": \"choropleth\"}], \"contour\": [{\"colorbar\": {\"outlinewidth\": 0, \"ticks\": \"\"}, \"colorscale\": [[0.0, \"#0d0887\"], [0.1111111111111111, \"#46039f\"], [0.2222222222222222, \"#7201a8\"], [0.3333333333333333, \"#9c179e\"], [0.4444444444444444, \"#bd3786\"], [0.5555555555555556, \"#d8576b\"], [0.6666666666666666, \"#ed7953\"], [0.7777777777777778, \"#fb9f3a\"], [0.8888888888888888, \"#fdca26\"], [1.0, \"#f0f921\"]], \"type\": \"contour\"}], \"contourcarpet\": [{\"colorbar\": {\"outlinewidth\": 0, \"ticks\": \"\"}, \"type\": \"contourcarpet\"}], \"heatmap\": [{\"colorbar\": {\"outlinewidth\": 0, \"ticks\": \"\"}, \"colorscale\": [[0.0, \"#0d0887\"], [0.1111111111111111, \"#46039f\"], [0.2222222222222222, \"#7201a8\"], [0.3333333333333333, \"#9c179e\"], [0.4444444444444444, \"#bd3786\"], [0.5555555555555556, \"#d8576b\"], [0.6666666666666666, \"#ed7953\"], [0.7777777777777778, \"#fb9f3a\"], [0.8888888888888888, \"#fdca26\"], [1.0, \"#f0f921\"]], \"type\": \"heatmap\"}], \"heatmapgl\": [{\"colorbar\": {\"outlinewidth\": 0, \"ticks\": \"\"}, \"colorscale\": [[0.0, \"#0d0887\"], [0.1111111111111111, \"#46039f\"], [0.2222222222222222, \"#7201a8\"], [0.3333333333333333, \"#9c179e\"], [0.4444444444444444, \"#bd3786\"], [0.5555555555555556, \"#d8576b\"], [0.6666666666666666, \"#ed7953\"], [0.7777777777777778, \"#fb9f3a\"], [0.8888888888888888, \"#fdca26\"], [1.0, \"#f0f921\"]], \"type\": \"heatmapgl\"}], \"histogram\": [{\"marker\": {\"colorbar\": {\"outlinewidth\": 0, \"ticks\": \"\"}}, \"type\": \"histogram\"}], \"histogram2d\": [{\"colorbar\": {\"outlinewidth\": 0, \"ticks\": \"\"}, \"colorscale\": [[0.0, \"#0d0887\"], [0.1111111111111111, \"#46039f\"], [0.2222222222222222, \"#7201a8\"], [0.3333333333333333, \"#9c179e\"], [0.4444444444444444, \"#bd3786\"], [0.5555555555555556, \"#d8576b\"], [0.6666666666666666, \"#ed7953\"], [0.7777777777777778, \"#fb9f3a\"], [0.8888888888888888, \"#fdca26\"], [1.0, \"#f0f921\"]], \"type\": \"histogram2d\"}], \"histogram2dcontour\": [{\"colorbar\": {\"outlinewidth\": 0, \"ticks\": \"\"}, \"colorscale\": [[0.0, \"#0d0887\"], [0.1111111111111111, \"#46039f\"], [0.2222222222222222, \"#7201a8\"], [0.3333333333333333, \"#9c179e\"], [0.4444444444444444, \"#bd3786\"], [0.5555555555555556, \"#d8576b\"], [0.6666666666666666, \"#ed7953\"], [0.7777777777777778, \"#fb9f3a\"], [0.8888888888888888, \"#fdca26\"], [1.0, \"#f0f921\"]], \"type\": \"histogram2dcontour\"}], \"mesh3d\": [{\"colorbar\": {\"outlinewidth\": 0, \"ticks\": \"\"}, \"type\": \"mesh3d\"}], \"parcoords\": [{\"line\": {\"colorbar\": {\"outlinewidth\": 0, \"ticks\": \"\"}}, \"type\": \"parcoords\"}], \"scatter\": [{\"marker\": {\"colorbar\": {\"outlinewidth\": 0, \"ticks\": \"\"}}, \"type\": \"scatter\"}], \"scatter3d\": [{\"line\": {\"colorbar\": {\"outlinewidth\": 0, \"ticks\": \"\"}}, \"marker\": {\"colorbar\": {\"outlinewidth\": 0, \"ticks\": \"\"}}, \"type\": \"scatter3d\"}], \"scattercarpet\": [{\"marker\": {\"colorbar\": {\"outlinewidth\": 0, \"ticks\": \"\"}}, \"type\": \"scattercarpet\"}], \"scattergeo\": [{\"marker\": {\"colorbar\": {\"outlinewidth\": 0, \"ticks\": \"\"}}, \"type\": \"scattergeo\"}], \"scattergl\": [{\"marker\": {\"colorbar\": {\"outlinewidth\": 0, \"ticks\": \"\"}}, \"type\": \"scattergl\"}], \"scattermapbox\": [{\"marker\": {\"colorbar\": {\"outlinewidth\": 0, \"ticks\": \"\"}}, \"type\": \"scattermapbox\"}], \"scatterpolar\": [{\"marker\": {\"colorbar\": {\"outlinewidth\": 0, \"ticks\": \"\"}}, \"type\": \"scatterpolar\"}], \"scatterpolargl\": [{\"marker\": {\"colorbar\": {\"outlinewidth\": 0, \"ticks\": \"\"}}, \"type\": \"scatterpolargl\"}], \"scatterternary\": [{\"marker\": {\"colorbar\": {\"outlinewidth\": 0, \"ticks\": \"\"}}, \"type\": \"scatterternary\"}], \"surface\": [{\"colorbar\": {\"outlinewidth\": 0, \"ticks\": \"\"}, \"colorscale\": [[0.0, \"#0d0887\"], [0.1111111111111111, \"#46039f\"], [0.2222222222222222, \"#7201a8\"], [0.3333333333333333, \"#9c179e\"], [0.4444444444444444, \"#bd3786\"], [0.5555555555555556, \"#d8576b\"], [0.6666666666666666, \"#ed7953\"], [0.7777777777777778, \"#fb9f3a\"], [0.8888888888888888, \"#fdca26\"], [1.0, \"#f0f921\"]], \"type\": \"surface\"}], \"table\": [{\"cells\": {\"fill\": {\"color\": \"#EBF0F8\"}, \"line\": {\"color\": \"white\"}}, \"header\": {\"fill\": {\"color\": \"#C8D4E3\"}, \"line\": {\"color\": \"white\"}}, \"type\": \"table\"}]}, \"layout\": {\"annotationdefaults\": {\"arrowcolor\": \"#2a3f5f\", \"arrowhead\": 0, \"arrowwidth\": 1}, \"colorscale\": {\"diverging\": [[0, \"#8e0152\"], [0.1, \"#c51b7d\"], [0.2, \"#de77ae\"], [0.3, \"#f1b6da\"], [0.4, \"#fde0ef\"], [0.5, \"#f7f7f7\"], [0.6, \"#e6f5d0\"], [0.7, \"#b8e186\"], [0.8, \"#7fbc41\"], [0.9, \"#4d9221\"], [1, \"#276419\"]], \"sequential\": [[0.0, \"#0d0887\"], [0.1111111111111111, \"#46039f\"], [0.2222222222222222, \"#7201a8\"], [0.3333333333333333, \"#9c179e\"], [0.4444444444444444, \"#bd3786\"], [0.5555555555555556, \"#d8576b\"], [0.6666666666666666, \"#ed7953\"], [0.7777777777777778, \"#fb9f3a\"], [0.8888888888888888, \"#fdca26\"], [1.0, \"#f0f921\"]], \"sequentialminus\": [[0.0, \"#0d0887\"], [0.1111111111111111, \"#46039f\"], [0.2222222222222222, \"#7201a8\"], [0.3333333333333333, \"#9c179e\"], [0.4444444444444444, \"#bd3786\"], [0.5555555555555556, \"#d8576b\"], [0.6666666666666666, \"#ed7953\"], [0.7777777777777778, \"#fb9f3a\"], [0.8888888888888888, \"#fdca26\"], [1.0, \"#f0f921\"]]}, \"colorway\": [\"#636efa\", \"#EF553B\", \"#00cc96\", \"#ab63fa\", \"#FFA15A\", \"#19d3f3\", \"#FF6692\", \"#B6E880\", \"#FF97FF\", \"#FECB52\"], \"font\": {\"color\": \"#2a3f5f\"}, \"geo\": {\"bgcolor\": \"white\", \"lakecolor\": \"white\", \"landcolor\": \"#E5ECF6\", \"showlakes\": true, \"showland\": true, \"subunitcolor\": \"white\"}, \"hoverlabel\": {\"align\": \"left\"}, \"hovermode\": \"closest\", \"mapbox\": {\"style\": \"light\"}, \"paper_bgcolor\": \"white\", \"plot_bgcolor\": \"#E5ECF6\", \"polar\": {\"angularaxis\": {\"gridcolor\": \"white\", \"linecolor\": \"white\", \"ticks\": \"\"}, \"bgcolor\": \"#E5ECF6\", \"radialaxis\": {\"gridcolor\": \"white\", \"linecolor\": \"white\", \"ticks\": \"\"}}, \"scene\": {\"xaxis\": {\"backgroundcolor\": \"#E5ECF6\", \"gridcolor\": \"white\", \"gridwidth\": 2, \"linecolor\": \"white\", \"showbackground\": true, \"ticks\": \"\", \"zerolinecolor\": \"white\"}, \"yaxis\": {\"backgroundcolor\": \"#E5ECF6\", \"gridcolor\": \"white\", \"gridwidth\": 2, \"linecolor\": \"white\", \"showbackground\": true, \"ticks\": \"\", \"zerolinecolor\": \"white\"}, \"zaxis\": {\"backgroundcolor\": \"#E5ECF6\", \"gridcolor\": \"white\", \"gridwidth\": 2, \"linecolor\": \"white\", \"showbackground\": true, \"ticks\": \"\", \"zerolinecolor\": \"white\"}}, \"shapedefaults\": {\"line\": {\"color\": \"#2a3f5f\"}}, \"ternary\": {\"aaxis\": {\"gridcolor\": \"white\", \"linecolor\": \"white\", \"ticks\": \"\"}, \"baxis\": {\"gridcolor\": \"white\", \"linecolor\": \"white\", \"ticks\": \"\"}, \"bgcolor\": \"#E5ECF6\", \"caxis\": {\"gridcolor\": \"white\", \"linecolor\": \"white\", \"ticks\": \"\"}}, \"title\": {\"x\": 0.05}, \"xaxis\": {\"automargin\": true, \"gridcolor\": \"white\", \"linecolor\": \"white\", \"ticks\": \"\", \"zerolinecolor\": \"white\", \"zerolinewidth\": 2}, \"yaxis\": {\"automargin\": true, \"gridcolor\": \"white\", \"linecolor\": \"white\", \"ticks\": \"\", \"zerolinecolor\": \"white\", \"zerolinewidth\": 2}}}, \"title\": {\"text\": \"Pearson correlation of indicator percentage changes (fifth in list)\"}},\n",
       "                        {\"responsive\": true}\n",
       "                    ).then(function(){\n",
       "                            \n",
       "var gd = document.getElementById('1a6ab3e0-1e39-43b4-b523-80552b0fff5a');\n",
       "var x = new MutationObserver(function (mutations, observer) {{\n",
       "        var display = window.getComputedStyle(gd).display;\n",
       "        if (!display || display === 'none') {{\n",
       "            console.log([gd, 'removed!']);\n",
       "            Plotly.purge(gd);\n",
       "            observer.disconnect();\n",
       "        }}\n",
       "}});\n",
       "\n",
       "// Listen for the removal of the full notebook cells\n",
       "var notebookContainer = gd.closest('#notebook-container');\n",
       "if (notebookContainer) {{\n",
       "    x.observe(notebookContainer, {childList: true});\n",
       "}}\n",
       "\n",
       "// Listen for the clearing of the current output cell\n",
       "var outputEl = gd.closest('.output');\n",
       "if (outputEl) {{\n",
       "    x.observe(outputEl, {childList: true});\n",
       "}}\n",
       "\n",
       "                        })\n",
       "                };\n",
       "                });\n",
       "            </script>\n",
       "        </div>"
      ]
     },
     "metadata": {},
     "output_type": "display_data"
    }
   ],
   "source": [
    "heatmap = go.Heatmap(\n",
    "    z=n4_indicators.iloc[-20:].pct_change().corr(method='pearson').values,\n",
    "    x=n4_indicators.columns,\n",
    "    y=n4_indicators.columns,\n",
    "    colorbar=dict(title='Pearson Coefficient'),\n",
    ")\n",
    "\n",
    "layout = go.Layout(title=\"Pearson correlation of indicator percentage changes (fifth in list)\")\n",
    "\n",
    "heatmap['zmax'] = 1.0\n",
    "heatmap['zmin'] = -1.0\n",
    "\n",
    "fig = go.Figure(data=[heatmap], layout=layout)\n",
    "py.iplot(fig)"
   ]
  },
  {
   "cell_type": "code",
   "execution_count": 25,
   "metadata": {
    "pycharm": {
     "name": "#%%\n"
    }
   },
   "outputs": [
    {
     "name": "stdout",
     "output_type": "stream",
     "text": [
      "WARNING:tensorflow:From /home/ben/anaconda3/envs/alpaca_test/lib/python3.7/site-packages/tensorflow/python/ops/math_grad.py:1205: add_dispatch_support.<locals>.wrapper (from tensorflow.python.ops.array_ops) is deprecated and will be removed in a future version.\n",
      "Instructions for updating:\n",
      "Use tf.where in 2.0, which has the same broadcast rule as np.where\n",
      "Epoch: 1000 cost= 0.000119270\n",
      "Epoch: 2000 cost= 0.000107318\n",
      "Epoch: 3000 cost= 0.000096729\n",
      "Epoch: 4000 cost= 0.000087310\n",
      "Epoch: 5000 cost= 0.000078926\n",
      "Epoch: 6000 cost= 0.000071458\n",
      "Epoch: 7000 cost= 0.000064800\n",
      "Epoch: 8000 cost= 0.000058860\n",
      "Epoch: 9000 cost= 0.000053555\n",
      "Epoch: 10000 cost= 0.000048813\n",
      "Epoch: 11000 cost= 0.000044570\n",
      "Epoch: 12000 cost= 0.000040770\n",
      "Epoch: 13000 cost= 0.000037363\n",
      "Epoch: 14000 cost= 0.000034303\n",
      "Epoch: 15000 cost= 0.000031554\n",
      "Epoch: 16000 cost= 0.000029080\n",
      "Epoch: 17000 cost= 0.000026851\n",
      "Epoch: 18000 cost= 0.000024840\n",
      "Epoch: 19000 cost= 0.000023022\n",
      "Epoch: 20000 cost= 0.000021378\n",
      "Epoch: 1000 cost= nan\n",
      "Epoch: 2000 cost= nan\n",
      "Epoch: 3000 cost= nan\n",
      "Epoch: 4000 cost= nan\n",
      "Epoch: 5000 cost= nan\n",
      "Epoch: 6000 cost= nan\n",
      "Epoch: 7000 cost= nan\n",
      "Epoch: 8000 cost= nan\n",
      "Epoch: 9000 cost= nan\n",
      "Epoch: 10000 cost= nan\n",
      "Epoch: 11000 cost= nan\n",
      "Epoch: 12000 cost= nan\n",
      "Epoch: 13000 cost= nan\n",
      "Epoch: 14000 cost= nan\n",
      "Epoch: 15000 cost= nan\n",
      "Epoch: 16000 cost= nan\n",
      "Epoch: 17000 cost= nan\n",
      "Epoch: 18000 cost= nan\n",
      "Epoch: 19000 cost= nan\n",
      "Epoch: 20000 cost= nan\n"
     ]
    },
    {
     "name": "stderr",
     "output_type": "stream",
     "text": [
      "/home/ben/Projects/trading/cryptoconda/src/predictor.py:69: RuntimeWarning:\n",
      "\n",
      "invalid value encountered in greater\n",
      "\n",
      "/home/ben/Projects/trading/cryptoconda/src/predictor.py:76: RuntimeWarning:\n",
      "\n",
      "invalid value encountered in greater\n",
      "\n"
     ]
    },
    {
     "name": "stdout",
     "output_type": "stream",
     "text": [
      "Epoch: 1000 cost= nan\n",
      "Epoch: 2000 cost= nan\n",
      "Epoch: 3000 cost= nan\n",
      "Epoch: 4000 cost= nan\n",
      "Epoch: 5000 cost= nan\n",
      "Epoch: 6000 cost= nan\n",
      "Epoch: 7000 cost= nan\n",
      "Epoch: 8000 cost= nan\n",
      "Epoch: 9000 cost= nan\n",
      "Epoch: 10000 cost= nan\n",
      "Epoch: 11000 cost= nan\n",
      "Epoch: 12000 cost= nan\n",
      "Epoch: 13000 cost= nan\n",
      "Epoch: 14000 cost= nan\n",
      "Epoch: 15000 cost= nan\n",
      "Epoch: 16000 cost= nan\n",
      "Epoch: 17000 cost= nan\n",
      "Epoch: 18000 cost= nan\n",
      "Epoch: 19000 cost= nan\n",
      "Epoch: 20000 cost= nan\n",
      "Epoch: 1000 cost= nan\n",
      "Epoch: 2000 cost= nan\n",
      "Epoch: 3000 cost= nan\n",
      "Epoch: 4000 cost= nan\n",
      "Epoch: 5000 cost= nan\n",
      "Epoch: 6000 cost= nan\n",
      "Epoch: 7000 cost= nan\n",
      "Epoch: 8000 cost= nan\n",
      "Epoch: 9000 cost= nan\n",
      "Epoch: 10000 cost= nan\n",
      "Epoch: 11000 cost= nan\n",
      "Epoch: 12000 cost= nan\n",
      "Epoch: 13000 cost= nan\n",
      "Epoch: 14000 cost= nan\n",
      "Epoch: 15000 cost= nan\n",
      "Epoch: 16000 cost= nan\n",
      "Epoch: 17000 cost= nan\n",
      "Epoch: 18000 cost= nan\n",
      "Epoch: 19000 cost= nan\n",
      "Epoch: 20000 cost= nan\n",
      "Epoch: 1000 cost= nan\n",
      "Epoch: 2000 cost= nan\n",
      "Epoch: 3000 cost= nan\n",
      "Epoch: 4000 cost= nan\n",
      "Epoch: 5000 cost= nan\n",
      "Epoch: 6000 cost= nan\n",
      "Epoch: 7000 cost= nan\n",
      "Epoch: 8000 cost= nan\n",
      "Epoch: 9000 cost= nan\n",
      "Epoch: 10000 cost= nan\n",
      "Epoch: 11000 cost= nan\n",
      "Epoch: 12000 cost= nan\n",
      "Epoch: 13000 cost= nan\n",
      "Epoch: 14000 cost= nan\n",
      "Epoch: 15000 cost= nan\n",
      "Epoch: 16000 cost= nan\n",
      "Epoch: 17000 cost= nan\n",
      "Epoch: 18000 cost= nan\n",
      "Epoch: 19000 cost= nan\n",
      "Epoch: 20000 cost= nan\n",
      "Epoch: 1000 cost= nan\n",
      "Epoch: 2000 cost= nan\n",
      "Epoch: 3000 cost= nan\n",
      "Epoch: 4000 cost= nan\n",
      "Epoch: 5000 cost= nan\n",
      "Epoch: 6000 cost= nan\n",
      "Epoch: 7000 cost= nan\n",
      "Epoch: 8000 cost= nan\n",
      "Epoch: 9000 cost= nan\n",
      "Epoch: 10000 cost= nan\n",
      "Epoch: 11000 cost= nan\n",
      "Epoch: 12000 cost= nan\n",
      "Epoch: 13000 cost= nan\n",
      "Epoch: 14000 cost= nan\n",
      "Epoch: 15000 cost= nan\n",
      "Epoch: 16000 cost= nan\n",
      "Epoch: 17000 cost= nan\n",
      "Epoch: 18000 cost= nan\n",
      "Epoch: 19000 cost= nan\n",
      "Epoch: 20000 cost= nan\n"
     ]
    }
   ],
   "source": [
    "n_indicators            = pd.DataFrame()\n",
    "n_indicators[\"open\"]    = indicators[ticker_index][\"open\"]\n",
    "n_indicators[\"high\"]    = indicators[ticker_index][\"high\"]\n",
    "n_indicators[\"low\"]     = indicators[ticker_index][\"low\"]\n",
    "n_indicators[\"close\"]   = indicators[ticker_index][\"close\"]\n",
    "n_indicators[\"macd\"]    = indicators[ticker_index][\"macd\"]\n",
    "n_indicators[\"signal\"]  = indicators[ticker_index][\"signal\"]\n",
    "n_indicators[\"mfi\"]     = indicators[ticker_index][\"mfi\"]\n",
    "n_indicators[\"bb_up\"]   = indicators[ticker_index][\"bb_up\"]\n",
    "n_indicators[\"bb_low\"]  = indicators[ticker_index][\"bb_low\"]\n",
    "n_indicators[\"vzo\"]     = indicators[ticker_index][\"vzo\"]\n",
    "n_indicators[\"apz_u\"]   = indicators[ticker_index][\"apz_u\"]\n",
    "n_indicators[\"apz_l\"]   = indicators[ticker_index][\"apz_l\"]\n",
    "n_indicators[\"stoch\"]   = indicators[ticker_index][\"stoch\"]\n",
    "\n",
    "# train models\n",
    "close_train, close_test     = predictions.get_predictions(n_indicators[\"close\"])\n",
    "macd_train, macd_test       = predictions.get_predictions(n_indicators[\"macd\"])\n",
    "signal_train, signal_test   = predictions.get_predictions(n_indicators[\"signal\"])\n",
    "mfi_train, mfi_test         = predictions.get_predictions(n_indicators[\"mfi\"])\n",
    "stoch_train, stoch_test     = predictions.get_predictions(n_indicators[\"stoch\"])\n",
    "vzo_train, vzo_test         = predictions.get_predictions(n_indicators[\"vzo\"])"
   ]
  },
  {
   "cell_type": "code",
   "execution_count": 26,
   "metadata": {
    "pycharm": {
     "name": "#%%\n"
    }
   },
   "outputs": [],
   "source": [
    "close_test      = close_test[~np.isnan(close_test)]\n",
    "macd_test       = macd_test[~np.isnan(macd_test)]\n",
    "signal_test     = signal_test[~np.isnan(signal_test)]\n",
    "mfi_test        = mfi_test[~np.isnan(mfi_test)]\n",
    "stoch_test      = stoch_test[~np.isnan(stoch_test)]\n",
    "vzo_test        = vzo_test[~np.isnan(vzo_test)]"
   ]
  },
  {
   "cell_type": "code",
   "execution_count": 27,
   "metadata": {
    "pycharm": {
     "name": "#%%\n"
    }
   },
   "outputs": [
    {
     "data": {
      "text/plain": [
       "[<matplotlib.lines.Line2D at 0x7f42141ab610>]"
      ]
     },
     "execution_count": 27,
     "metadata": {},
     "output_type": "execute_result"
    },
    {
     "data": {
      "image/png": "[encoded data removed]",
      "text/plain": [
       "<Figure size 432x288 with 1 Axes>"
      ]
     },
     "metadata": {
      "needs_background": "light"
     },
     "output_type": "display_data"
    }
   ],
   "source": [
    "# close\n",
    "plt.plot(np.cumprod(close_train+1), color=\"orange\")\n",
    "plt.plot(np.cumprod(close_test+1), color=\"blue\")"
   ]
  },
  {
   "cell_type": "code",
   "execution_count": 28,
   "metadata": {
    "pycharm": {
     "name": "#%%\n"
    }
   },
   "outputs": [
    {
     "data": {
      "text/plain": [
       "[<matplotlib.lines.Line2D at 0x7f41b3ccc510>]"
      ]
     },
     "execution_count": 28,
     "metadata": {},
     "output_type": "execute_result"
    },
    {
     "data": {
      "image/png": "[encoded data removed]",
      "text/plain": [
       "<Figure size 432x288 with 1 Axes>"
      ]
     },
     "metadata": {
      "needs_background": "light"
     },
     "output_type": "display_data"
    }
   ],
   "source": [
    "# macd\n",
    "plt.plot(np.cumprod(macd_train+1), color=\"green\")\n",
    "plt.plot(np.cumprod(signal_train+1), color=\"orange\")\n",
    "# test\n",
    "plt.plot(np.cumprod(macd_test+1), color=\"blue\")\n",
    "plt.plot(np.cumprod(signal_test+1), color=\"red\")"
   ]
  },
  {
   "cell_type": "code",
   "execution_count": 29,
   "metadata": {
    "pycharm": {
     "name": "#%%\n"
    }
   },
   "outputs": [
    {
     "data": {
      "text/plain": [
       "[<matplotlib.lines.Line2D at 0x7f41b3ceacd0>]"
      ]
     },
     "execution_count": 29,
     "metadata": {},
     "output_type": "execute_result"
    },
    {
     "data": {
      "image/png": "[encoded data removed]",
      "text/plain": [
       "<Figure size 432x288 with 1 Axes>"
      ]
     },
     "metadata": {
      "needs_background": "light"
     },
     "output_type": "display_data"
    }
   ],
   "source": [
    "# MFI\n",
    "plt.plot(np.cumprod(mfi_train+1))\n",
    "plt.plot(np.cumprod(mfi_test+1))"
   ]
  },
  {
   "cell_type": "code",
   "execution_count": 30,
   "metadata": {
    "pycharm": {
     "name": "#%%\n"
    }
   },
   "outputs": [
    {
     "data": {
      "text/plain": [
       "[<matplotlib.lines.Line2D at 0x7f41ecf14110>]"
      ]
     },
     "execution_count": 30,
     "metadata": {},
     "output_type": "execute_result"
    },
    {
     "data": {
      "image/png": "[encoded data removed]",
      "text/plain": [
       "<Figure size 432x288 with 1 Axes>"
      ]
     },
     "metadata": {
      "needs_background": "light"
     },
     "output_type": "display_data"
    }
   ],
   "source": [
    "# stochastic oscillator  \n",
    "plt.plot(np.cumprod(stoch_train+1))\n",
    "plt.plot(np.cumprod(stoch_test+1))"
   ]
  },
  {
   "cell_type": "code",
   "execution_count": 31,
   "metadata": {
    "pycharm": {
     "name": "#%%\n"
    }
   },
   "outputs": [
    {
     "data": {
      "text/plain": [
       "[<matplotlib.lines.Line2D at 0x7f41ecb2fc90>]"
      ]
     },
     "execution_count": 31,
     "metadata": {},
     "output_type": "execute_result"
    },
    {
     "data": {
      "image/png": "[encoded data removed]",
      "text/plain": [
       "<Figure size 432x288 with 1 Axes>"
      ]
     },
     "metadata": {
      "needs_background": "light"
     },
     "output_type": "display_data"
    }
   ],
   "source": [
    "# macd and signal + close w/ volume\n",
    "plt.plot(np.cumprod(close_test+1), color=\"blue\")\n",
    "plt.plot(np.cumprod(macd_test+1), color=\"orange\")\n",
    "plt.plot(np.cumprod(signal_test+1), color=\"green\")\n",
    "# plt.plot(np.cumprod(volume_test+1), color=\"black\")"
   ]
  },
  {
   "cell_type": "code",
   "execution_count": 32,
   "metadata": {
    "pycharm": {
     "name": "#%%\n"
    }
   },
   "outputs": [
    {
     "data": {
      "text/plain": [
       "[<matplotlib.lines.Line2D at 0x7f41ed0814d0>]"
      ]
     },
     "execution_count": 32,
     "metadata": {},
     "output_type": "execute_result"
    },
    {
     "data": {
      "image/png": "[encoded data removed]",
      "text/plain": [
       "<Figure size 432x288 with 1 Axes>"
      ]
     },
     "metadata": {
      "needs_background": "light"
     },
     "output_type": "display_data"
    }
   ],
   "source": [
    "# stoch + mfi w/ volume\n",
    "plt.plot(np.cumprod(mfi_test+1), color=\"#9467bd\")\n",
    "plt.plot(np.cumprod(stoch_test+1), color=\"#17becf\")\n",
    "# plt.plot(np.cumprod(volume_test+1), color=\"black\")"
   ]
  },
  {
   "cell_type": "code",
   "execution_count": 33,
   "metadata": {
    "pycharm": {
     "name": "#%%\n"
    }
   },
   "outputs": [
    {
     "name": "stdout",
     "output_type": "stream",
     "text": [
      "close test: 0.0106566820276499  current close: 17.545\n",
      "macd test: 0.12871237161129237  current macd: -0.5964014676458405\n",
      "signal test: 0.18174180147177665  current signal: -0.3692510515419842\n",
      "mfi test: -0.15039833562963195  current mfi: 28.889700319273388\n",
      "stoch test: 1.8500000000000618  current stoch: 6.737588652482278\n",
      "VZO test: -0.20060586408554978  current VZO: -23.40704680151687\n"
     ]
    }
   ],
   "source": [
    "print(\"close test:\", close_test[-1], \" current close:\", n_indicators[\"close\"].iloc[-1])\n",
    "print(\"macd test:\", macd_test[-1], \" current macd:\", n_indicators[\"macd\"].iloc[-1])\n",
    "print(\"signal test:\", signal_test[-1], \" current signal:\", n_indicators[\"signal\"].iloc[-1])\n",
    "print(\"mfi test:\", mfi_test[-1], \" current mfi:\", n_indicators[\"mfi\"].iloc[-1])\n",
    "print(\"stoch test:\", stoch_test[-1], \" current stoch:\", n_indicators[\"stoch\"].iloc[-1])\n",
    "print(\"VZO test:\", vzo_test[-1], \" current VZO:\", n_indicators[\"vzo\"].iloc[-1])"
   ]
  },
  {
   "cell_type": "code",
   "execution_count": 34,
   "metadata": {
    "pycharm": {
     "name": "#%%\n"
    }
   },
   "outputs": [],
   "source": [
    "# print(\"sentiment:\", sentiment)"
   ]
  },
  {
   "cell_type": "code",
   "execution_count": 35,
   "metadata": {
    "pycharm": {
     "name": "#%%\n"
    }
   },
   "outputs": [
    {
     "name": "stdout",
     "output_type": "stream",
     "text": [
      "True\n"
     ]
    }
   ],
   "source": [
    "print(n_indicators[\"macd\"].iloc[-1] < n_indicators[\"signal\"].iloc[-1])"
   ]
  },
  {
   "cell_type": "code",
   "execution_count": 36,
   "metadata": {
    "pycharm": {
     "name": "#%%\n"
    }
   },
   "outputs": [
    {
     "name": "stdout",
     "output_type": "stream",
     "text": [
      "True\n"
     ]
    }
   ],
   "source": [
    "print(bullish_sequence(n_indicators[\"macd\"].iloc[-5], n_indicators[\"macd\"].iloc[-4], n_indicators[\"macd\"].iloc[-3]))"
   ]
  },
  {
   "cell_type": "code",
   "execution_count": 37,
   "metadata": {
    "pycharm": {
     "name": "#%%\n"
    }
   },
   "outputs": [
    {
     "name": "stdout",
     "output_type": "stream",
     "text": [
      "Pattern:  None False\n"
     ]
    }
   ],
   "source": [
    "pattern = bullish_candlestick_patterns(n_indicators.iloc[-1], n_indicators.iloc[-2], n_indicators.iloc[-3])\n",
    "print(\"Pattern: \", pattern, pattern in [\"hammer\", \"inverseHammer\"])"
   ]
  },
  {
   "cell_type": "code",
   "execution_count": 38,
   "metadata": {
    "pycharm": {
     "name": "#%%\n"
    }
   },
   "outputs": [
    {
     "name": "stderr",
     "output_type": "stream",
     "text": [
      "/home/ben/anaconda3/envs/alpaca_test/lib/python3.7/site-packages/empyrical/stats.py:394: RuntimeWarning:\n",
      "\n",
      "invalid value encountered in subtract\n",
      "\n"
     ]
    }
   ],
   "source": [
    "# empyrical stuff\n",
    "from empyrical import max_drawdown, cum_returns\n",
    "\n",
    "test_drawdown = max_drawdown(cum_returns(n_indicators[\"close\"]))\n",
    "test_drawdown1 = max_drawdown(cum_returns(n1_indicators[\"close\"]))\n",
    "test_drawdown2 = max_drawdown(cum_returns(n2_indicators[\"close\"]))\n",
    "test_drawdown3 = max_drawdown(cum_returns(n3_indicators[\"close\"]))\n",
    "test_drawdown4 = max_drawdown(cum_returns(n4_indicators[\"close\"]))"
   ]
  },
  {
   "cell_type": "code",
   "execution_count": 39,
   "metadata": {
    "pycharm": {
     "name": "#%%\n"
    }
   },
   "outputs": [
    {
     "data": {
      "text/plain": [
       "0.0"
      ]
     },
     "execution_count": 39,
     "metadata": {},
     "output_type": "execute_result"
    }
   ],
   "source": [
    "asdf = cum_returns(n_indicators[\"close\"])\n",
    "\n",
    "max_drawdown(asdf)"
   ]
  },
  {
   "cell_type": "code",
   "execution_count": 40,
   "metadata": {},
   "outputs": [],
   "source": [
    "from nltk.sentiment.vader import SentimentIntensityAnalyzer\n",
    "import requests\n",
    "import json\n",
    "sid = SentimentIntensityAnalyzer()"
   ]
  },
  {
   "cell_type": "code",
   "execution_count": 41,
   "metadata": {},
   "outputs": [],
   "source": [
    "ticker = \"ALEX\""
   ]
  },
  {
   "cell_type": "code",
   "execution_count": 42,
   "metadata": {},
   "outputs": [
    {
     "data": {
      "text/plain": [
       "'Oh wow this is big! $ALEX RSI Indicator left the oversold zone. View odds of uptrend. https://tickeron.com/go/881910\\nLast10K highlighted 47 positive and negative remarks in $ALEX&#39;s 10-Q filed today. See them in the Quarterly Report: https://last10k.com/sec-filings/ALEX/0001545654-19-000042.htm?utm_source=stocktwits&amp;utm_medium=forum&amp;utm_campaign=sentiment&amp;utm_term=alex\\n$ALEX / Alexander &amp; Baldwin files form 10-Q https://fintel.io/filings/us/alex?utm_source=stocktwits.com&amp;utm_medium=Social&amp;utm_campaign=filing\\nAlexander &amp; Baldwin Holdings Just Filed Its Quarterly Report: EARNINGS PER SHARE (... http://www.conferencecalltranscripts.org/Q/summary/?id=6993435 $ALEX\\n$ALEX just filed a 10-Q Quarterly Report with 79 sections and 5 exhibits. Access them all or just read their earnings: https://last10k.com/sec-filings/alex/0001545654-19-000042.htm?utm_source=stocktwits&amp;utm_medium=forum&amp;utm_campaign=10KQ2040F&amp;utm_term=alex\\n$ALEX just filed a Earnings Release, a Regulated Disclosure and a Financial Exhibit https://last10k.com/sec-filings/alex/0001545654-19-000038.htm?utm_source=stocktwits&amp;utm_medium=forum&amp;utm_campaign=8K&amp;utm_term=alex\\n$ALEX / Alexander &amp; Baldwin files form 8-K - Regulation FD Disclosure, Financial Statements and Exhibits, Results of Operations and Financial Condition https://fintel.io/s/us/alex?utm_source=stocktwits.com&amp;utm_medium=Social&amp;utm_campaign=filing\\n$ALEX Alexander &amp; Baldwin EPS of -$0.69: Alexander &amp; Baldwin: Q3 EPS of -$0.69 may not be comparable to consensus of $0.12. Revenue of $89.1M misses by $14.83M . https://newsfilter.io/articles/alexander--baldwin-eps-of--069-248a6df056cab5cb61cf4db6aeb8dc98\\nAlexander &amp; Baldwin, Inc. Reports  Quarter   Results HONOLULU,   http://www.conferencecalltranscripts.org/8/summary/?id=6981569 $ALEX\\n$ALEX Results of Operations and Financial Condition.On October 30, 2019, Alexander &amp; Baldwin issued a press release announcing its 2019 third quarter earnings. This information is being furnished as Exhibit 99.1 to this report.Item 7.01. Regulation F.. https://newsfilter.io/articles/8-k-form---current-report-items-202-701-and-901---alexander--baldwin-inc-0001545654-filer-2652f9420012771e44aceff0dfe96d67\\n$ALEX filed form 8-K on October 30, 16:15:12 https://s.flashalert.me/pCNNo\\n$ALEX 0.7m ago: SEC 8-K Current event(s) report - Results of Operations and Financial Condition, Regulation FD Disclosure, Financial Statements and Exhibits https://www.sec.gov/ix?doc=/Archives/edgar/data/1545654/000154565419000038/form8-kx2019q3earnings.htm\\n$ALEX 9.0m ago: Alexander and Baldwin, Inc. Reports Third Quarter 2019 Results https://www.prnewswire.com:443/news-releases/alexander--baldwin-inc-reports-third-quarter-2019-results-300948559.html\\n$ALEX Alexander &amp; Baldwin, Inc. Reports Third Quarter 2019 Results: Alexander &amp; Baldwin announced financial results for the third quarter of 2019. &quot;A&amp;B&#39;s third quarter results reflect the excellent performance of our high-quality and growing commerci.. https://newsfilter.io/articles/alexander--baldwin-inc-reports-third-quarter-2019-results-b52aeaf654db42897e3a028bd6217e9e\\n$ALEX Earnings Call Today: 5:00 PM EST \\nAnalyst Rating: Strong Buy  \\nWebcast: http://mmm.wallstreethorizon.com/u.asp?u=292100\\nAlexander &amp; Baldwin announces Quarterly dividend of $0.19.  Payable on 12/5/2019. 3.11% Yield.  https://www.marketbeat.com/d/121089 $ALEX\\nAlexander &amp; Baldwin to release earnings after the market closes on Wednesday.  $ALEX https://www.marketbeat.com/p/431959\\n$ALEX - Earnings call this week. 59 percent chance to slide below $24 in 30 days http://dlvr.it/RH7Y4d\\n$ALEX announced a dividend (Alexander &amp; Baldwin Inc (REIT)) https://www.dividendinvestor.com/dn/1573493\\n$ALEX Alexander &amp; Baldwin declares $0.19 dividend: Alexander &amp; Baldwin declares $0.19/share quarterly dividend, in line with previous. Forward yield 3.09% Payable Dec. 5; for shareholders of record Nov. 12; ex-div Nov. 8. See ALEX Dividend Scorecard,.. https://newsfilter.io/articles/alexander--baldwin-declares-019-dividend-2b21f00a19296cae39b346097af829bf\\n$ALEX 11.4m ago: Alexander and Baldwin Fourth Quarter 2019 Dividend Authorized https://www.prnewswire.com:443/news-releases/alexander--baldwin-fourth-quarter-2019-dividend-authorized-300944614.html\\n$ALEX Alexander &amp; Baldwin Fourth Quarter 2019 Dividend Authorized: The Board of Directors of Alexander &amp; Baldwin approved a fourth quarter 2019 dividend of $0.19 per share. The dividend is payable on December 5, 2019 to shareholders of record as of t.. https://newsfilter.io/articles/alexander--baldwin-fourth-quarter-2019-dividend-authorized-093ba77eb5544f6ac75b1a0147cf9c0f\\n$ALEX: Press Release published article on October 24, 16:05:00: Alexander &amp;amp; Baldwin Fourth Quarter 2019 Dividend Authorized https://s.flashalert.me/UErcUG\\n$ALEX: Press Release published article on October 23, 16:05:00: Alexander &amp;amp; Baldwin Announces Third Quarter 2019 Earnings Release and  https://s.flashalert.me/F22Bc\\n$ALEX 8.3m ago: Alexander and Baldwin Announces Third Quarter 2019 Earnings Release and Webcast Date https://www.prnewswire.com:443/news-releases/alexander--baldwin-announces-third-quarter-2019-earnings-release-and-webcast-date-300944084.html\\n$ALEX - Alexander Baldwin vs. Essential Properties ($EPRT). http://dlvr.it/RGhknb #portfolio_prospective #better_portfolio #diversify\\n$ALEX - Compare Alexander Baldwin vs. Apollo Commercial ($ARI)… http://dlvr.it/RGYLvq #portfolio_prospective #better_portfolio #diversify\\nAlexander &amp; Baldwin Director Stanley Kuriyama Sells $153,531.00 in $ALEX https://www.marketbeat.com/i/359726\\nInsider KURIYAMA STANLEY M reports selling 6,300 shares of $ALEX for a total cost of $153,531.00 \\n[CLICK  FOR PREDICTIVE ANALYTICS]  https://fintel.io/n/kuriyama-stanley-m?utm_source=stocktwits.com&amp;utm_medium=Social&amp;utm_campaign=insider\\n$ALEX new insider selling: 6300 shares. http://insiderbuyingselling.com/?t=ALEX'"
      ]
     },
     "execution_count": 42,
     "metadata": {},
     "output_type": "execute_result"
    }
   ],
   "source": [
    "results = requests.post(\"https://api.stocktwits.com/api/2/streams/symbol/{}.json\".format(ticker))\n",
    "results = json.loads(results.text)\n",
    "results\n",
    "bodies = \"\\n\".join([m[\"body\"] for m in results[\"messages\"]])\n",
    "bodies"
   ]
  },
  {
   "cell_type": "code",
   "execution_count": 43,
   "metadata": {},
   "outputs": [],
   "source": [
    "# from src.sentiment_analysis import SentimentAnalysis as SA"
   ]
  },
  {
   "cell_type": "code",
   "execution_count": 44,
   "metadata": {},
   "outputs": [],
   "source": [
    "# sa = SA(n_indicators, bodies).get_sentiments()"
   ]
  },
  {
   "cell_type": "code",
   "execution_count": 45,
   "metadata": {},
   "outputs": [],
   "source": [
    "def get_sentiment(text):\n",
    "    \"\"\"Given a text block, return a sentiment score based.\n",
    "\n",
    "    :param text:\n",
    "    :return:\n",
    "    \"\"\"\n",
    "    text_polarity   = sid.polarity_scores(text)\n",
    "    print(text_polarity)\n",
    "\n",
    "    if text_polarity[\"compound\"] > 0.50:\n",
    "        sentiment   = \"positive\"\n",
    "\n",
    "    else:\n",
    "        sentiment   = \"negative\"\n",
    "\n",
    "    return sentiment"
   ]
  },
  {
   "cell_type": "code",
   "execution_count": 46,
   "metadata": {},
   "outputs": [
    {
     "name": "stdout",
     "output_type": "stream",
     "text": [
      "{'neg': 0.01, 'neu': 0.934, 'pos': 0.056, 'compound': 0.9753}\n"
     ]
    }
   ],
   "source": [
    "sentiment = get_sentiment(bodies)"
   ]
  },
  {
   "cell_type": "code",
   "execution_count": 47,
   "metadata": {},
   "outputs": [
    {
     "data": {
      "text/plain": [
       "'positive'"
      ]
     },
     "execution_count": 47,
     "metadata": {},
     "output_type": "execute_result"
    }
   ],
   "source": [
    "sentiment"
   ]
  },
  {
   "cell_type": "markdown",
   "metadata": {},
   "source": [
    "And now for some fundamentals"
   ]
  },
  {
   "cell_type": "code",
   "execution_count": 48,
   "metadata": {},
   "outputs": [],
   "source": [
    "tenquant_data = requests.get(\"https://api.tenquant.io/data?key={}&ticker={}\".format(tq_key, ticker))"
   ]
  },
  {
   "cell_type": "code",
   "execution_count": 49,
   "metadata": {},
   "outputs": [
    {
     "data": {
      "text/plain": [
       "{'assets': 2121700000.0,\n",
       " 'balancesheetdate': '2019-09-30',\n",
       " 'commitmentsandcontingencies': 0,\n",
       " 'comprehensiveincome': -46500000.0,\n",
       " 'comprehensiveincomeattributabletononcontrollinginterest': -1800000.0,\n",
       " 'comprehensiveincomeattributabletoparent': -44700000.0,\n",
       " 'costofrevenue': 655200000.0,\n",
       " 'costsandexpenses': 354800000.0,\n",
       " 'currentassets': 0,\n",
       " 'currentliabilities': 0,\n",
       " 'documentfiscalperiodfocus': 'Q3',\n",
       " 'documentfiscalyearfocus': '2019',\n",
       " 'documenttype': '10-Q',\n",
       " 'duration': 3,\n",
       " 'entitycentralindexkey': '0001545654',\n",
       " 'entityfilercategory': 'Large Accelerated Filer',\n",
       " 'entityregistrantname': 'ALEXANDER & BALDWIN, INC.',\n",
       " 'equity': 1128400000.0,\n",
       " 'equityattributabletononcontrollinginterest': 3600000.0,\n",
       " 'equityattributabletoparent': 1124800000.0,\n",
       " 'exchangegainslosses': 0,\n",
       " 'extraordaryitemsgainloss': 0,\n",
       " 'grossprofit': 327600000.0,\n",
       " 'incomebeforeequitymethodinvestments': -49800000.0,\n",
       " 'incomefromcontinuingoperationsaftertax': -42600000.0,\n",
       " 'incomefromcontinuingoperationsbeforetax': -43700000.0,\n",
       " 'incomefromdiscontinuedoperations': -800000.0,\n",
       " 'incomefromequitymethodinvestments': 6100000.0,\n",
       " 'incometaxexpensebenefit': -1100000.0,\n",
       " 'interestanddebtexpense': 25400000.0,\n",
       " 'liabilities': 985400000.0,\n",
       " 'liabilitiesandequity': 2121700000.0,\n",
       " 'marketcap': 1714956000,\n",
       " 'netcashflow': -227500000.0,\n",
       " 'netcashflowscontinuing': -227500000.0,\n",
       " 'netcashflowsdiscontinued': 0,\n",
       " 'netcashflowsfinancing': -93200000.0,\n",
       " 'netcashflowsfinancingcontinuing': -93200000.0,\n",
       " 'netcashflowsfinancingdiscontinued': 0,\n",
       " 'netcashflowsinvesting': -238300000.0,\n",
       " 'netcashflowsinvestingcontinuing': -238300000.0,\n",
       " 'netcashflowsinvestingdiscontinued': 0,\n",
       " 'netcashflowsoperating': 104000000.0,\n",
       " 'netcashflowsoperatingcontinuing': 104000000.0,\n",
       " 'netcashflowsoperatingdiscontinued': 0,\n",
       " 'netincomeattributabletononcontrollinginterest': 0,\n",
       " 'netincomeattributabletoparent': -41600000.0,\n",
       " 'netincomeavailabletocommonstockholdersbasic': -41600000.0,\n",
       " 'netincomeloss': -49800000.0,\n",
       " 'noncurrentassets': 0,\n",
       " 'noncurrentliabilities': 0,\n",
       " 'nonoperatingincomeloss': 0,\n",
       " 'nonoperatingincomelossplusinterestanddebtexpense': 25400000.0,\n",
       " 'nonoperatingincomeplusinterestanddebtexpenseplusincomefromequitymethodinvestments': -10400000.0,\n",
       " 'operatingexpenses': -300400000.0,\n",
       " 'operatingincomeloss': -50800000.0,\n",
       " 'othercomprehensiveincome': -3100000.0,\n",
       " 'otheroperatingincome': -655200000.0,\n",
       " 'preferredstock': 0,\n",
       " 'preferredstockdividendsandotheradjustments': 0.0,\n",
       " 'revenues': 89100000.0,\n",
       " 'roa': -0.02045529528208512,\n",
       " 'roe': -0.038461538461538464,\n",
       " 'ros': -0.13247863247863248,\n",
       " 'sector': 'Real Estate',\n",
       " 'temporaryequity': 0,\n",
       " 'tradingsymbol': 'ALEX'}"
      ]
     },
     "execution_count": 49,
     "metadata": {},
     "output_type": "execute_result"
    }
   ],
   "source": [
    "tenquant_data = json.loads(tenquant_data.text)\n",
    "tenquant_data"
   ]
  },
  {
   "cell_type": "code",
   "execution_count": 68,
   "metadata": {},
   "outputs": [],
   "source": [
    "backdate = time_formatter(time.time() - (604800 * 13))"
   ]
  },
  {
   "cell_type": "code",
   "execution_count": 69,
   "metadata": {
    "pycharm": {
     "name": "#%%\n"
    }
   },
   "outputs": [],
   "source": [
    "day_bars = sa.get_barset(ticker, \"day\", backdate)\n",
    "day_bars = sa.extract_bar_data(day_bars, ticker)"
   ]
  },
  {
   "cell_type": "code",
   "execution_count": 70,
   "metadata": {
    "pycharm": {
     "name": "#%%\n"
    }
   },
   "outputs": [],
   "source": [
    "minute_bars = sa.get_barset(ticker, \"minute\", backdate)\n",
    "minute_bars = sa.extract_bar_data(minute_bars, ticker)\n",
    "f, (ax1, ax2, ax3, ax4) = plt.subplots(1, 4, sharex=True, sharey=False, figsize=(10,6))\n",
    "ax1.set_title('K Means - macd/close')\n",
    "ax1.scatter(n_indicators[\"macd\"], n_indicators[\"close\"], c=kmeans.labels_, cmap=\"rainbow\")\n",
    "ax2.set_title(\"K Means - signal/close\")\n",
    "ax2.scatter(n_indicators[\"signal\"], n_indicators[\"close\"], c=kmeans.labels_, cmap=\"rainbow\")\n",
    "ax3.set_title(\"Original\")\n",
    "ax3.scatter(n_indicators[\"macd\"], n_indicators[\"close\"], c=n_indicators[\"macd\"], cmap=\"rainbow\")\n",
    "ax4.set_title(\"Original\")\n",
    "ax4.scatter(n_indicators[\"signal\"], n_indicators[\"close\"], c=n_indicators[\"signal\"], cmap=\"rainbow\")"
   ]
  },
  {
   "cell_type": "code",
   "execution_count": 78,
   "metadata": {
    "pycharm": {
     "name": "#%%"
    }
   },
   "outputs": [
    {
     "data": {
      "text/html": [
       "<div>\n",
       "<style scoped>\n",
       "    .dataframe tbody tr th:only-of-type {\n",
       "        vertical-align: middle;\n",
       "    }\n",
       "\n",
       "    .dataframe tbody tr th {\n",
       "        vertical-align: top;\n",
       "    }\n",
       "\n",
       "    .dataframe thead th {\n",
       "        text-align: right;\n",
       "    }\n",
       "</style>\n",
       "<table border=\"1\" class=\"dataframe\">\n",
       "  <thead>\n",
       "    <tr style=\"text-align: right;\">\n",
       "      <th></th>\n",
       "      <th>time</th>\n",
       "      <th>open</th>\n",
       "      <th>high</th>\n",
       "      <th>low</th>\n",
       "      <th>close</th>\n",
       "      <th>volume</th>\n",
       "    </tr>\n",
       "  </thead>\n",
       "  <tbody>\n",
       "    <tr>\n",
       "      <td>3431</td>\n",
       "      <td>2019-10-31 15:54:00-04:00</td>\n",
       "      <td>23.470</td>\n",
       "      <td>23.490</td>\n",
       "      <td>23.470</td>\n",
       "      <td>23.490</td>\n",
       "      <td>107</td>\n",
       "    </tr>\n",
       "    <tr>\n",
       "      <td>3432</td>\n",
       "      <td>2019-10-31 15:55:00-04:00</td>\n",
       "      <td>23.485</td>\n",
       "      <td>23.490</td>\n",
       "      <td>23.485</td>\n",
       "      <td>23.490</td>\n",
       "      <td>202</td>\n",
       "    </tr>\n",
       "    <tr>\n",
       "      <td>3433</td>\n",
       "      <td>2019-10-31 15:56:00-04:00</td>\n",
       "      <td>23.490</td>\n",
       "      <td>23.505</td>\n",
       "      <td>23.490</td>\n",
       "      <td>23.505</td>\n",
       "      <td>200</td>\n",
       "    </tr>\n",
       "    <tr>\n",
       "      <td>3434</td>\n",
       "      <td>2019-10-31 15:58:00-04:00</td>\n",
       "      <td>23.510</td>\n",
       "      <td>23.515</td>\n",
       "      <td>23.510</td>\n",
       "      <td>23.515</td>\n",
       "      <td>106</td>\n",
       "    </tr>\n",
       "    <tr>\n",
       "      <td>3435</td>\n",
       "      <td>2019-10-31 15:59:00-04:00</td>\n",
       "      <td>23.515</td>\n",
       "      <td>23.530</td>\n",
       "      <td>23.500</td>\n",
       "      <td>23.500</td>\n",
       "      <td>396</td>\n",
       "    </tr>\n",
       "    <tr>\n",
       "      <td>...</td>\n",
       "      <td>...</td>\n",
       "      <td>...</td>\n",
       "      <td>...</td>\n",
       "      <td>...</td>\n",
       "      <td>...</td>\n",
       "      <td>...</td>\n",
       "    </tr>\n",
       "    <tr>\n",
       "      <td>3526</td>\n",
       "      <td>2019-11-01 15:54:00-04:00</td>\n",
       "      <td>23.675</td>\n",
       "      <td>23.675</td>\n",
       "      <td>23.675</td>\n",
       "      <td>23.675</td>\n",
       "      <td>300</td>\n",
       "    </tr>\n",
       "    <tr>\n",
       "      <td>3527</td>\n",
       "      <td>2019-11-01 15:55:00-04:00</td>\n",
       "      <td>23.675</td>\n",
       "      <td>23.710</td>\n",
       "      <td>23.675</td>\n",
       "      <td>23.710</td>\n",
       "      <td>200</td>\n",
       "    </tr>\n",
       "    <tr>\n",
       "      <td>3528</td>\n",
       "      <td>2019-11-01 15:57:00-04:00</td>\n",
       "      <td>23.720</td>\n",
       "      <td>23.720</td>\n",
       "      <td>23.715</td>\n",
       "      <td>23.715</td>\n",
       "      <td>300</td>\n",
       "    </tr>\n",
       "    <tr>\n",
       "      <td>3529</td>\n",
       "      <td>2019-11-01 15:58:00-04:00</td>\n",
       "      <td>23.690</td>\n",
       "      <td>23.700</td>\n",
       "      <td>23.690</td>\n",
       "      <td>23.700</td>\n",
       "      <td>103</td>\n",
       "    </tr>\n",
       "    <tr>\n",
       "      <td>3530</td>\n",
       "      <td>2019-11-01 15:59:00-04:00</td>\n",
       "      <td>23.695</td>\n",
       "      <td>23.695</td>\n",
       "      <td>23.695</td>\n",
       "      <td>23.695</td>\n",
       "      <td>100</td>\n",
       "    </tr>\n",
       "  </tbody>\n",
       "</table>\n",
       "<p>100 rows × 6 columns</p>\n",
       "</div>"
      ],
      "text/plain": [
       "                          time    open    high     low   close  volume\n",
       "3431 2019-10-31 15:54:00-04:00  23.470  23.490  23.470  23.490     107\n",
       "3432 2019-10-31 15:55:00-04:00  23.485  23.490  23.485  23.490     202\n",
       "3433 2019-10-31 15:56:00-04:00  23.490  23.505  23.490  23.505     200\n",
       "3434 2019-10-31 15:58:00-04:00  23.510  23.515  23.510  23.515     106\n",
       "3435 2019-10-31 15:59:00-04:00  23.515  23.530  23.500  23.500     396\n",
       "...                        ...     ...     ...     ...     ...     ...\n",
       "3526 2019-11-01 15:54:00-04:00  23.675  23.675  23.675  23.675     300\n",
       "3527 2019-11-01 15:55:00-04:00  23.675  23.710  23.675  23.710     200\n",
       "3528 2019-11-01 15:57:00-04:00  23.720  23.720  23.715  23.715     300\n",
       "3529 2019-11-01 15:58:00-04:00  23.690  23.700  23.690  23.700     103\n",
       "3530 2019-11-01 15:59:00-04:00  23.695  23.695  23.695  23.695     100\n",
       "\n",
       "[100 rows x 6 columns]"
      ]
     },
     "execution_count": 78,
     "metadata": {},
     "output_type": "execute_result"
    }
   ],
   "source": [
    "minute_bars.tail(100)"
   ]
  },
  {
   "cell_type": "code",
   "execution_count": 79,
   "metadata": {},
   "outputs": [
    {
     "data": {
      "text/plain": [
       "[Trade({   'condition1': 12,\n",
       "     'condition2': 37,\n",
       "     'condition3': 0,\n",
       "     'condition4': 0,\n",
       "     'exchange': '12',\n",
       "     'price': 24.2,\n",
       "     'size': 24,\n",
       "     'timestamp': 1570714198312}), Trade({   'condition1': 10,\n",
       "     'condition2': 41,\n",
       "     'condition3': 0,\n",
       "     'condition4': 0,\n",
       "     'exchange': '4',\n",
       "     'price': 24.28,\n",
       "     'size': 349,\n",
       "     'timestamp': 1570714200361}), Trade({   'condition1': 17,\n",
       "     'condition2': 41,\n",
       "     'condition3': 0,\n",
       "     'condition4': 0,\n",
       "     'exchange': '10',\n",
       "     'price': 24.28,\n",
       "     'size': 1916,\n",
       "     'timestamp': 1570714200361}), Trade({   'condition1': 37,\n",
       "     'condition2': 0,\n",
       "     'condition3': 0,\n",
       "     'condition4': 0,\n",
       "     'exchange': '15',\n",
       "     'price': 24.45,\n",
       "     'size': 1,\n",
       "     'timestamp': 1570714202214}), Trade({   'condition1': 14,\n",
       "     'condition2': 37,\n",
       "     'condition3': 41,\n",
       "     'condition4': 0,\n",
       "     'exchange': '10',\n",
       "     'price': 24.23,\n",
       "     'size': 54,\n",
       "     'timestamp': 1570714229201}), Trade({   'condition1': 37,\n",
       "     'condition2': 0,\n",
       "     'condition3': 0,\n",
       "     'condition4': 0,\n",
       "     'exchange': '10',\n",
       "     'price': 24.22,\n",
       "     'size': 91,\n",
       "     'timestamp': 1570714435352}), Trade({   'condition1': 37,\n",
       "     'condition2': 0,\n",
       "     'condition3': 0,\n",
       "     'condition4': 0,\n",
       "     'exchange': '10',\n",
       "     'price': 24.21,\n",
       "     'size': 1,\n",
       "     'timestamp': 1570714435668}), Trade({   'condition1': 37,\n",
       "     'condition2': 0,\n",
       "     'condition3': 0,\n",
       "     'condition4': 0,\n",
       "     'exchange': '12',\n",
       "     'price': 24.21,\n",
       "     'size': 33,\n",
       "     'timestamp': 1570714435669}), Trade({   'condition1': 37,\n",
       "     'condition2': 0,\n",
       "     'condition3': 0,\n",
       "     'condition4': 0,\n",
       "     'exchange': '12',\n",
       "     'price': 24.21,\n",
       "     'size': 10,\n",
       "     'timestamp': 1570714435669}), Trade({   'condition1': 16,\n",
       "     'condition2': 0,\n",
       "     'condition3': 0,\n",
       "     'condition4': 0,\n",
       "     'exchange': '12',\n",
       "     'price': 24.21,\n",
       "     'size': 33,\n",
       "     'timestamp': 1570714435669})]"
      ]
     },
     "execution_count": 79,
     "metadata": {},
     "output_type": "execute_result"
    }
   ],
   "source": [
    "alpaca_api.polygon.historic_trades(ticker, '2019-10-10', limit=10)"
   ]
  },
  {
   "cell_type": "code",
   "execution_count": 82,
   "metadata": {},
   "outputs": [
    {
     "data": {
      "text/plain": [
       "[News({   'keywords': ['alex'],\n",
       "     'source': 'finance yahoo',\n",
       "     'summary': 'Q2 2019 Alexander & Baldwin Inc Earnings Call',\n",
       "     'symbols': ['ALEX'],\n",
       "     'timestamp': '2019-08-02T20:38:24.000Z',\n",
       "     'title': 'Edited Transcript of ALEX earnings conference call or '\n",
       "              'presentation 1-Aug-19 9:00pm GMT',\n",
       "     'url': 'https://finance.yahoo.com/news/edited-transcript-alex-earnings-conference-203824896.html'}),\n",
       " News({   'image': 'https://s.yimg.com/uu/api/res/1.2/A8Du5.6Ly4B5n_w5qGj5LQ--~B/aD02MTg7dz01ODA7c209MTthcHBpZD15dGFjaHlvbg--/http://media.zenfs.com/en-US/homerun/motleyfool.com/62a1dc3478a5ad39fe4a591d8100819f',\n",
       "     'keywords': ['alex'],\n",
       "     'source': 'finance yahoo',\n",
       "     'summary': 'ALEX earnings call for the period ending June 30, 2019.',\n",
       "     'symbols': ['ALEX'],\n",
       "     'timestamp': '2019-08-02T13:24:31.000Z',\n",
       "     'title': 'Alexander & Baldwin (ALEX) Q2 2019 Earnings Call Transcript',\n",
       "     'url': 'https://finance.yahoo.com/news/alexander-baldwin-alex-q2-2019-132431204.html'}),\n",
       " News({   'image': 'https://s.yimg.com/uu/api/res/1.2/5D1YTrdfxbnZGA6t2WByRw--~B/aD05NjM7dz0xNDQwO3NtPTE7YXBwaWQ9eXRhY2h5b24-/https://media.zenfs.com/en-us/bizjournals.com/f8f598a455195f4accbf77b7602c94a6',\n",
       "     'keywords': ['alex'],\n",
       "     'source': 'finance yahoo',\n",
       "     'summary': 'Honolulu-based Alexander & Baldwin (NYSE: ALEX) noted that '\n",
       "                'earnings from its core commercial real estate segment improved '\n",
       "                'and attributed the loss to a “poor performance” of its '\n",
       "                'road-paving subsidiary Grace Pacific.',\n",
       "     'symbols': ['ALEX'],\n",
       "     'timestamp': '2019-08-02T00:21:07.000Z',\n",
       "     'title': 'Alexander & Baldwin reports Q2 loss, mulls sale of Grace Pacific',\n",
       "     'url': 'https://www.bizjournals.com/pacific/news/2019/08/01/alexander-baldwin-reports-q2-loss-mulls-sale-of.html?ana=yahoo&yptr=yahoo'}),\n",
       " News({   'image': 'https://s.yimg.com/uu/api/res/1.2/2pr58tJPbOjSdkHWfiC6ew--~B/dz0wO3NtPTE7YXBwaWQ9eXRhY2h5b24-/http://globalfinance.zenfs.com/en_us/Finance/US_AFTP_PRNEWSWIRE_LIVE/Alexander__Baldwin_Inc_Reports-27d70a378b019b69a2270908c01d8bbd',\n",
       "     'keywords': ['alex'],\n",
       "     'source': 'finance yahoo',\n",
       "     'summary': 'Commercial real estate business achieves 20.4% increase in '\n",
       "                'cash NOI HONOLULU , Aug. 1, 2019 /PRNewswire/ -- Alexander & '\n",
       "                'Baldwin, Inc. (NYSE: ALEX) (\"A&B\" or \"Company\") today '\n",
       "                'announced ...',\n",
       "     'symbols': ['ALEX'],\n",
       "     'timestamp': '2019-08-01T20:05:00.000Z',\n",
       "     'title': 'Alexander & Baldwin, Inc. Reports Second Quarter 2019 Results',\n",
       "     'url': 'https://finance.yahoo.com/news/alexander-baldwin-inc-reports-second-200500480.html'}),\n",
       " News({   'image': 'https://s.yimg.com/uu/api/res/1.2/5Y74Jy3ZGhXD8DfCydbWGw--~B/aD0yNjc7dz00MDA7c209MTthcHBpZD15dGFjaHlvbg--/http://globalfinance.zenfs.com/en_us/Finance/US_AFTP_PRNEWSWIRE_LIVE/Alexander__Baldwin_Announces_15-27d70a378b019b69a2270908c01d8bbd',\n",
       "     'keywords': ['alex'],\n",
       "     'source': 'finance yahoo',\n",
       "     'summary': 'HONOLULU , Aug. 1, 2019 /PRNewswire/ --\\xa0The Board of '\n",
       "                'Directors of Alexander & Baldwin, Inc. (NYSE:ALEX) approved a '\n",
       "                'third quarter dividend of $0.19 ( nineteen cents ) per share. '\n",
       "                'The dividend is payable ...',\n",
       "     'symbols': ['ALEX'],\n",
       "     'timestamp': '2019-08-01T20:05:00.000Z',\n",
       "     'title': 'Alexander & Baldwin Announces 15% Increase in Common Stock '\n",
       "              'Dividend',\n",
       "     'url': 'https://finance.yahoo.com/news/alexander-baldwin-announces-15-increase-200500827.html'}),\n",
       " News({   'image': 'https://s.yimg.com/uu/api/res/1.2/cc_2CFXi1S5uzOCFz73boQ--~B/aD0yMjU7dz00MDA7c209MTthcHBpZD15dGFjaHlvbg--/http://globalfinance.zenfs.com/en_us/Finance/US_AFTP_PRNEWSWIRE_LIVE/Alexander__Baldwin_to_renovate-8ddc55b0961874955c6323afc7cb5388',\n",
       "     'keywords': ['alex'],\n",
       "     'source': 'finance yahoo',\n",
       "     'summary': 'HONOLULU, Aug. 1, 2019 /PRNewswire/ -- Alexander & Baldwin '\n",
       "                '(A&B) (ALEX)\\xa0today announced it is undertaking a renovation '\n",
       "                'and refresh of the Aikahi Park Shopping Center, with the goal '\n",
       "                'of providing a more comfortable and inviting experience for '\n",
       "                'its customers, in an environmentally-friendly manner, at the',\n",
       "     'symbols': ['ALEX'],\n",
       "     'timestamp': '2019-08-01T19:30:00.000Z',\n",
       "     'title': 'Alexander & Baldwin to renovate Aikahi Park Shopping Center',\n",
       "     'url': 'https://finance.yahoo.com/news/alexander-baldwin-renovate-aikahi-park-193000215.html'}),\n",
       " News({   'image': 'https://s.yimg.com/uu/api/res/1.2/yIAltI8wn4gednx8s_GkaA--~B/aD0yNjc7dz00MDA7c209MTthcHBpZD15dGFjaHlvbg--/http://globalfinance.zenfs.com/en_us/Finance/US_AFTP_PRNEWSWIRE_LIVE/Alexander__Baldwin_Announces_Second-27d70a378b019b69a2270908c01d8bbd',\n",
       "     'keywords': ['alex'],\n",
       "     'source': 'finance yahoo',\n",
       "     'summary': 'HONOLULU, July 24, 2019 /PRNewswire/ --\\xa0Alexander & '\n",
       "                'Baldwin, Inc. (ALEX)\\xa0(A&B)\\xa0will report results for the '\n",
       "                'second quarter 2019 at 4:05 p.m. ET on Thursday, August 1, '\n",
       "                '2019. \\xa0In connection with this announcement, A&B will host '\n",
       "                'a live webcast of its conference call with financial analysts '\n",
       "                'and professional',\n",
       "     'symbols': ['ALEX'],\n",
       "     'timestamp': '2019-07-24T20:05:00.000Z',\n",
       "     'title': 'Alexander & Baldwin Announces Second Quarter 2019 Earnings '\n",
       "              'Release and Webcast Date',\n",
       "     'url': 'https://finance.yahoo.com/news/alexander-baldwin-announces-second-quarter-200500363.html'}),\n",
       " News({   'image': 'https://s.yimg.com/uu/api/res/1.2/zJ6biAH6Fa7UPODUatrj5Q--~B/aD0yNjc7dz00MDA7c209MTthcHBpZD15dGFjaHlvbg--/http://globalfinance.zenfs.com/en_us/Finance/US_AFTP_PRNEWSWIRE_LIVE/Alexander__Baldwin_to_Attend-27d70a378b019b69a2270908c01d8bbd',\n",
       "     'keywords': ['alex'],\n",
       "     'source': 'finance yahoo',\n",
       "     'summary': 'HONOLULU , June 26, 2019 /PRNewswire/ -- Alexander & Baldwin, '\n",
       "                'Inc. (NYSE: ALEX) announced today that Chris Benjamin , '\n",
       "                'president and chief executive officer, will attend the 2019 '\n",
       "                'JMP Securities Boston Real ...',\n",
       "     'symbols': ['ALEX'],\n",
       "     'timestamp': '2019-06-27T03:22:00.000Z',\n",
       "     'title': 'Alexander & Baldwin to Attend the 2019 JMP Securities Conference',\n",
       "     'url': 'https://finance.yahoo.com/news/alexander-baldwin-attend-2019-jmp-032200295.html'}),\n",
       " News({   'image': 'https://s.yimg.com/uu/api/res/1.2/WKAPAk_rSyakyzvmUDsg4g--~B/dz0xNTA7c209MTthcHBpZD15dGFjaHlvbg--/https://media.zenfs.com/en/markit_77/7b64331492333034b26c37ea4ef74983',\n",
       "     'keywords': ['alex'],\n",
       "     'source': 'finance yahoo',\n",
       "     'summary': 'Alexander & Baldwin Inc NYSE:ALEXView full report here! '\n",
       "                'Summary  * ETFs holding this stock have seen outflows over the '\n",
       "                'last one-month   * Bearish sentiment is low Bearish '\n",
       "                'sentimentShort interest | PositiveShort interest is extremely '\n",
       "                'low for ALEX with fewer than 1% of shares on loan. This could '\n",
       "                'indicate',\n",
       "     'symbols': ['ALEX'],\n",
       "     'timestamp': '2019-06-11T12:02:27.000Z',\n",
       "     'title': 'See what the IHS Markit Score report has to say about Alexander '\n",
       "              '& Baldwin Inc.',\n",
       "     'url': 'https://finance.yahoo.com/news/see-ihs-markit-score-report-120227905.html'}),\n",
       " News({   'image': 'https://s.yimg.com/uu/api/res/1.2/WKAPAk_rSyakyzvmUDsg4g--~B/dz0xNTA7c209MTthcHBpZD15dGFjaHlvbg--/https://media.zenfs.com/en/markit_77/7b64331492333034b26c37ea4ef74983',\n",
       "     'keywords': ['alex'],\n",
       "     'source': 'finance yahoo',\n",
       "     'summary': 'Alexander & Baldwin Inc NYSE:ALEXView full report here! '\n",
       "                'Summary  * ETFs holding this stock are seeing positive inflows '\n",
       "                'but are weakening   * Bearish sentiment is low Bearish '\n",
       "                'sentimentShort interest | PositiveShort interest is extremely '\n",
       "                'low for ALEX with fewer than 1% of shares on loan. This could '\n",
       "                'indicate',\n",
       "     'symbols': ['ALEX'],\n",
       "     'timestamp': '2019-06-08T12:02:41.000Z',\n",
       "     'title': 'See what the IHS Markit Score report has to say about Alexander '\n",
       "              '& Baldwin Inc.',\n",
       "     'url': 'https://finance.yahoo.com/news/see-ihs-markit-score-report-120241531.html'}),\n",
       " News({   'image': 'https://s.yimg.com/uu/api/res/1.2/WKAPAk_rSyakyzvmUDsg4g--~B/dz0xNTA7c209MTthcHBpZD15dGFjaHlvbg--/https://media.zenfs.com/en/markit_77/7b64331492333034b26c37ea4ef74983',\n",
       "     'keywords': ['alex'],\n",
       "     'source': 'finance yahoo',\n",
       "     'summary': 'Alexander & Baldwin Inc NYSE:ALEXView full report here! '\n",
       "                'Summary  * Bearish sentiment is low Bearish sentimentShort '\n",
       "                'interest | PositiveShort interest is extremely low for ALEX '\n",
       "                'with fewer than 1% of shares on loan. This could indicate that '\n",
       "                'investors who seek to profit from falling equity prices are '\n",
       "                'not',\n",
       "     'symbols': ['ALEX'],\n",
       "     'timestamp': '2019-06-06T12:03:05.000Z',\n",
       "     'title': 'See what the IHS Markit Score report has to say about Alexander '\n",
       "              '& Baldwin Inc.',\n",
       "     'url': 'https://finance.yahoo.com/news/see-ihs-markit-score-report-120305593.html'}),\n",
       " News({   'image': 'https://s.yimg.com/uu/api/res/1.2/0vpZVdHEIRkNhIqyJ_OchQ--~B/aD05NjE7dz0xNDQwO3NtPTE7YXBwaWQ9eXRhY2h5b24-/https://media.zenfs.com/en-us/bizjournals.com/b3d9b5a30feb66a7aa03acece9b15050',\n",
       "     'keywords': ['alex'],\n",
       "     'source': 'finance yahoo',\n",
       "     'summary': 'Waikoloa Land Co., which built the 135,000-square-foot resort '\n",
       "                'retail center in 2007, was the seller in the off-market '\n",
       "                'transaction.',\n",
       "     'symbols': ['ALEX'],\n",
       "     'timestamp': '2019-05-22T21:38:29.000Z',\n",
       "     'title': \"A&B's $90M acquisition in Waikoloa completes 1031 reinvestment\",\n",
       "     'url': 'https://www.bizjournals.com/pacific/news/2019/05/22/a-bs-90m-acquisition-in-waikoloa-completes-1031.html?ana=yahoo&yptr=yahoo'}),\n",
       " News({   'image': 'https://s.yimg.com/uu/api/res/1.2/kyomkRuNuckaA0lr_iailQ--~B/aD0yNjc7dz00MDA7c209MTthcHBpZD15dGFjaHlvbg--/http://globalfinance.zenfs.com/en_us/Finance/US_AFTP_PRNEWSWIRE_LIVE/AB_expands_commercial_real_estate-27d70a378b019b69a2270908c01d8bbd',\n",
       "     'keywords': ['alex'],\n",
       "     'source': 'finance yahoo',\n",
       "     'summary': 'HONOLULU, May 22, 2019 /PRNewswire/ --\\xa0Alexander & Baldwin '\n",
       "                '(A&B) (ALEX) recently deepened its investment in Hawaii '\n",
       "                'through a series of off-market acquisitions of commercial real '\n",
       "                'estate properties, further establishing the company as the '\n",
       "                \"state's foremost owner of grocery-anchored shopping centers\",\n",
       "     'symbols': ['ALEX'],\n",
       "     'timestamp': '2019-05-22T20:30:00.000Z',\n",
       "     'title': 'A&B expands commercial real estate portfolio through '\n",
       "              'reinvestment of Maui agricultural land sale proceeds',\n",
       "     'url': 'https://finance.yahoo.com/news/b-expands-commercial-real-estate-203000349.html'}),\n",
       " News({   'image': 'https://s.yimg.com/uu/api/res/1.2/ogsY8FrbIY3TXx1hhCpBjQ--~B/aD0yNjc7dz00MDA7c209MTthcHBpZD15dGFjaHlvbg--/http://globalfinance.zenfs.com/en_us/Finance/US_AFTP_PRNEWSWIRE_LIVE/AB_completes_90_million_acquisition-27d70a378b019b69a2270908c01d8bbd',\n",
       "     'keywords': ['alex'],\n",
       "     'source': 'finance yahoo',\n",
       "     'summary': 'HONOLULU, May 22, 2019 /PRNewswire/ --\\xa0Alexander & Baldwin '\n",
       "                '(A&B) (ALEX) today completed the $90 million off-market '\n",
       "                \"acquisition of the Queens' MarketPlace, an iconic \"\n",
       "                'grocery-anchored resort retail center in the Waikoloa Beach '\n",
       "                'Resort on the island of Hawaii.  Developed by the Waikoloa '\n",
       "                'Land Company',\n",
       "     'symbols': ['ALEX'],\n",
       "     'timestamp': '2019-05-22T20:23:00.000Z',\n",
       "     'title': \"A&B completes $90 million acquisition of iconic Queens' \"\n",
       "              'MarketPlace retail center',\n",
       "     'url': 'https://finance.yahoo.com/news/b-completes-90-million-acquisition-202300525.html'}),\n",
       " News({   'image': 'https://s.yimg.com/uu/api/res/1.2/XkA_G.0zYNtMQkf9D6AMiQ--~B/aD03Njg7dz0xMTUyO3NtPTE7YXBwaWQ9eXRhY2h5b24-/https://media.zenfs.com/en-us/bizjournals.com/d65acf82265a53e5a4122b8f70d4cc2c',\n",
       "     'keywords': ['alex'],\n",
       "     'source': 'finance yahoo',\n",
       "     'summary': 'A&B; spokesman Darren Pai told Pacific Business News he could '\n",
       "                'not comment on unannounced transactions.',\n",
       "     'symbols': ['ALEX'],\n",
       "     'timestamp': '2019-05-21T17:22:25.000Z',\n",
       "     'title': \"Business name hints at location of A&B's next shopping center \"\n",
       "              'purchase',\n",
       "     'url': 'https://www.bizjournals.com/pacific/news/2019/05/21/business-name-hints-at-location-of-a-bs-next.html?ana=yahoo&yptr=yahoo'}),\n",
       " News({   'image': 'https://s.yimg.com/uu/api/res/1.2/NPfz6bPYgYq0sE9vOs9VyQ--~B/aD05NTc7dz0xNDQwO3NtPTE7YXBwaWQ9eXRhY2h5b24-/https://media.zenfs.com/en-us/bizjournals.com/2372de62303d3f1d870ee2f5b6cb9b22',\n",
       "     'keywords': ['alex'],\n",
       "     'source': 'finance yahoo',\n",
       "     'summary': 'The 56,600-square-foot shopping center on Kuhio Highway in '\n",
       "                'Kapaa is anchored by a 30,600-square-foot Foodland '\n",
       "                'supermarket, along with such national tenants as McDonald’s, '\n",
       "                'AutoZone and Sherwin Williams.',\n",
       "     'symbols': ['ALEX'],\n",
       "     'timestamp': '2019-05-16T23:01:00.000Z',\n",
       "     'title': 'A&B buys Foodland-anchored shopping center on Kauai',\n",
       "     'url': 'https://www.bizjournals.com/pacific/news/2019/05/16/a-b-buys-foodland-anchored-shopping-center-on.html?ana=yahoo&yptr=yahoo'}),\n",
       " News({   'image': 'https://s.yimg.com/uu/api/res/1.2/aHyI3mQ4dtzfLGBkmgPmQA--~B/aD0yNjc7dz00MDA7c209MTthcHBpZD15dGFjaHlvbg--/http://globalfinance.zenfs.com/en_us/Finance/US_AFTP_PRNEWSWIRE_LIVE/AB_expands_groceryanchored_shopping_center-27d70a378b019b69a2270908c01d8bbd',\n",
       "     'keywords': ['alex'],\n",
       "     'source': 'finance yahoo',\n",
       "     'summary': 'HONOLULU , May 16, 2019 /PRNewswire/ --\\xa0Alexander & Baldwin '\n",
       "                \"(A&B) (NYSE: ALEX) today further cemented its role as Hawaii's \"\n",
       "                'foremost owner of grocery-anchored retail centers by '\n",
       "                'completing the $17.75 million ...',\n",
       "     'symbols': ['ALEX'],\n",
       "     'timestamp': '2019-05-16T20:13:00.000Z',\n",
       "     'title': 'A&B expands grocery-anchored shopping center portfolio with '\n",
       "              '$17.75 million purchase of Waipouli Town Center',\n",
       "     'url': 'https://finance.yahoo.com/news/b-expands-grocery-anchored-shopping-201300480.html'}),\n",
       " News({   'keywords': ['alex'],\n",
       "     'source': 'finance yahoo',\n",
       "     'summary': 'Q1 2019 Alexander & Baldwin Inc Earnings Call',\n",
       "     'symbols': ['ALEX'],\n",
       "     'timestamp': '2019-05-06T23:36:52.000Z',\n",
       "     'title': 'Edited Transcript of ALEX earnings conference call or '\n",
       "              'presentation 2-May-19 9:00pm GMT',\n",
       "     'url': 'https://finance.yahoo.com/news/edited-transcript-alex-earnings-conference-035034088.html'}),\n",
       " News({   'image': 'https://s.yimg.com/uu/api/res/1.2/5D1YTrdfxbnZGA6t2WByRw--~B/aD05NjM7dz0xNDQwO3NtPTE7YXBwaWQ9eXRhY2h5b24-/https://media.zenfs.com/en-us/bizjournals.com/f8f598a455195f4accbf77b7602c94a6',\n",
       "     'keywords': ['alex'],\n",
       "     'source': 'finance yahoo',\n",
       "     'summary': 'Honolulu-based Alexander & Baldwin unveiled the renderings for '\n",
       "                'the upgraded shopping center at the \"I Love Kailua\" event over '\n",
       "                'the weekend.',\n",
       "     'symbols': ['ALEX'],\n",
       "     'timestamp': '2019-05-03T03:19:19.000Z',\n",
       "     'title': 'A&B readies $15M renovation of Safeway-anchored shopping center '\n",
       "              'in Kailua',\n",
       "     'url': 'https://www.bizjournals.com/pacific/news/2019/05/02/a-b-readies-15m-renovation-of-safeway-anchored.html?ana=yahoo&yptr=yahoo'}),\n",
       " News({   'image': 'https://s.yimg.com/uu/api/res/1.2/zSNTQPsTkkKApAVjBdR1Ng--~B/aD05NjA7dz0xNDQwO3NtPTE7YXBwaWQ9eXRhY2h5b24-/https://media.zenfs.com/en-us/bizjournals.com/ada934a774eb2ba6f651af3fd1f6fbc3',\n",
       "     'keywords': ['alex'],\n",
       "     'source': 'finance yahoo',\n",
       "     'summary': 'Honolulu-based Alexander & Baldwin (NYSE: ALEX) reported total '\n",
       "                'operative revenue of $129.4 million, compared to $113.3 '\n",
       "                'million in the first quarter of 2018.',\n",
       "     'symbols': ['ALEX'],\n",
       "     'timestamp': '2019-05-03T00:55:11.000Z',\n",
       "     'title': 'A&B reports $8.7M in net income, 11.5% gain in commercial real '\n",
       "              'estate profit',\n",
       "     'url': 'https://www.bizjournals.com/pacific/news/2019/05/02/a-b-reports-8-7m-in-net-income-11-5-gain-in.html?ana=yahoo&yptr=yahoo'}),\n",
       " News({   'image': 'https://s.yimg.com/uu/api/res/1.2/EEqWrawAAes1Zva.Tg6Q9Q--~B/aD0yNjc7dz00MDA7c209MTthcHBpZD15dGFjaHlvbg--/http://globalfinance.zenfs.com/en_us/Finance/US_AFTP_PRNEWSWIRE_LIVE/Alexander__Baldwin_Inc_Reports-27d70a378b019b69a2270908c01d8bbd',\n",
       "     'keywords': ['alex'],\n",
       "     'source': 'finance yahoo',\n",
       "     'summary': 'HONOLULU , May\\xa02, 2019 /PRNewswire/ -- Alexander & Baldwin, '\n",
       "                'Inc. (NYSE: ALEX) (\"A&B\" or \"Company\") today announced '\n",
       "                'financial results for the first quarter of 2019. Chris '\n",
       "                'Benjamin , ...',\n",
       "     'symbols': ['ALEX'],\n",
       "     'timestamp': '2019-05-02T20:37:00.000Z',\n",
       "     'title': 'Alexander & Baldwin, Inc. Reports First Quarter 2019 Results',\n",
       "     'url': 'https://finance.yahoo.com/news/alexander-baldwin-inc-reports-first-203700271.html'}),\n",
       " News({   'image': 'https://s.yimg.com/uu/api/res/1.2/UjxnHIBMKrS8CZbwJ8tJ1Q--~B/aD02MDA7dz00NTA7c209MTthcHBpZD15dGFjaHlvbg--/https://media.zenfs.com/en-us/insidermonkey.com/516b816f2741c287e0455c7424098a3c',\n",
       "     'keywords': ['alex'],\n",
       "     'source': 'finance yahoo',\n",
       "     'summary': 'There are several ways to beat the market, and investing in '\n",
       "                'small cap stocks has historically been one of them. We like to '\n",
       "                'improve the odds of beating the market further by examining '\n",
       "                'what famous hedge fund operators such as Jeff Ubben, George '\n",
       "                'Soros and Carl Icahn think. Those hedge fund operators make',\n",
       "     'symbols': ['ALEX'],\n",
       "     'timestamp': '2019-05-02T18:21:19.000Z',\n",
       "     'title': 'Were Hedge Funds Right About Flocking Into Alexander & Baldwin '\n",
       "              'Inc (ALEX)?',\n",
       "     'url': 'https://finance.yahoo.com/news/were-hedge-funds-flocking-alexander-182119834.html'}),\n",
       " News({   'image': 'https://s.yimg.com/uu/api/res/1.2/2BF2XEh_4bqDGILThamfsQ--~B/aD02MDA7dz05MDA7c209MTthcHBpZD15dGFjaHlvbg--/https://media.zenfs.com/en-us/bizjournals.com/2d3a07d2b7f637ab69dfa22fc1c510bd',\n",
       "     'keywords': ['alex'],\n",
       "     'source': 'finance yahoo',\n",
       "     'summary': 'The parcel, which is located along Kalaeloa Boulevard adjacent '\n",
       "                'to the Kapolei Business Park West, is zoned for I-2 industrial '\n",
       "                'use and is licensed to the City and County of Honolulu through '\n",
       "                '2025 for the rail project.',\n",
       "     'symbols': ['ALEX'],\n",
       "     'timestamp': '2019-05-01T23:57:03.000Z',\n",
       "     'title': 'A&B buys Honolulu rail precast yard for $41M',\n",
       "     'url': 'https://www.bizjournals.com/pacific/news/2019/05/01/a-b-buys-honolulu-rail-precast-yard-for-41m.html?ana=yahoo&yptr=yahoo'}),\n",
       " News({   'image': 'https://s.yimg.com/uu/api/res/1.2/sRaCFNEHTNkRZHaB_vlVMw--~B/aD0yNjc7dz00MDA7c209MTthcHBpZD15dGFjaHlvbg--/http://globalfinance.zenfs.com/en_us/Finance/US_AFTP_PRNEWSWIRE_LIVE/41_million_industrial_acquisition_in-27d70a378b019b69a2270908c01d8bbd',\n",
       "     'keywords': ['alex'],\n",
       "     'source': 'finance yahoo',\n",
       "     'summary': 'HONOLULU, May 1, 2019 /PRNewswire/ -- Alexander & Baldwin '\n",
       "                '(A&B) (ALEX) today completed the $41 million off-market '\n",
       "                'acquisition of the ground lease interest in Kapolei Business '\n",
       "                'Park West Lot 31, commonly known as the Honolulu Authority of '\n",
       "                'Rapid Transportation (HART) precast yard, adding another '\n",
       "                'quality',\n",
       "     'symbols': ['ALEX'],\n",
       "     'timestamp': '2019-05-01T20:05:00.000Z',\n",
       "     'title': \"$41 million industrial acquisition in Kapolei broadens A&B's \"\n",
       "              'commercial real estate portfolio',\n",
       "     'url': 'https://finance.yahoo.com/news/41-million-industrial-acquisition-kapolei-200500069.html'}),\n",
       " News({   'image': 'https://s.yimg.com/uu/api/res/1.2/nF5MR4HEa9I677dZzHrSiA--~B/aD0yNjc7dz00MDA7c209MTthcHBpZD15dGFjaHlvbg--/http://globalfinance.zenfs.com/en_us/Finance/US_AFTP_PRNEWSWIRE_LIVE/Alexander__Baldwin_names_Jerrod-673c168836e2e9e13cef58527fa25f69',\n",
       "     'keywords': ['alex'],\n",
       "     'source': 'finance yahoo',\n",
       "     'summary': 'HONOLULU, April 29, 2019 /PRNewswire/ --\\xa0Alexander & '\n",
       "                'Baldwin (A&B) (ALEX) has named Jerrod Schreck president of '\n",
       "                \"Grace Pacific, LLC., an A&B subsidiary and Hawaii's largest \"\n",
       "                'construction materials company and paving contractor.  Schreck '\n",
       "                'succeeds Pike Riegert, who resigned from the position to '\n",
       "                'pursue',\n",
       "     'symbols': ['ALEX'],\n",
       "     'timestamp': '2019-04-29T20:28:00.000Z',\n",
       "     'title': 'Alexander & Baldwin names Jerrod Schreck president of Grace '\n",
       "              'Pacific',\n",
       "     'url': 'https://finance.yahoo.com/news/alexander-baldwin-names-jerrod-schreck-202800968.html'}),\n",
       " News({   'image': 'https://s.yimg.com/uu/api/res/1.2/4tg7vzsRfjVKLgMtEVqYrg--~B/aD0yNjc7dz00MDA7c209MTthcHBpZD15dGFjaHlvbg--/http://globalfinance.zenfs.com/en_us/Finance/US_AFTP_PRNEWSWIRE_LIVE/Alexander__Baldwin_Second_Quarter-27d70a378b019b69a2270908c01d8bbd',\n",
       "     'keywords': ['alex'],\n",
       "     'source': 'finance yahoo',\n",
       "     'summary': 'HONOLULU , April 26, 2019 /PRNewswire/ --\\xa0The Board of '\n",
       "                'Directors of Alexander & Baldwin, Inc. (NYSE: ALEX) approved a '\n",
       "                'second quarter 2019 dividend of $0.165 (sixteen and one-half '\n",
       "                'cents) per share. The ...',\n",
       "     'symbols': ['ALEX'],\n",
       "     'timestamp': '2019-04-26T23:14:00.000Z',\n",
       "     'title': 'Alexander & Baldwin Second Quarter 2019 Dividend Authorized',\n",
       "     'url': 'https://finance.yahoo.com/news/alexander-baldwin-second-quarter-2019-231400733.html'}),\n",
       " News({   'image': 'https://s.yimg.com/uu/api/res/1.2/ug3orop_x5fjauen441Q3Q--~B/aD0yNjc7dz00MDA7c209MTthcHBpZD15dGFjaHlvbg--/http://globalfinance.zenfs.com/en_us/Finance/US_AFTP_PRNEWSWIRE_LIVE/Alexander__Baldwin_Announces_First-27d70a378b019b69a2270908c01d8bbd',\n",
       "     'keywords': ['alex'],\n",
       "     'source': 'finance yahoo',\n",
       "     'summary': 'HONOLULU, April 24, 2019 /PRNewswire/ --\\xa0Alexander & '\n",
       "                'Baldwin, Inc. (ALEX)\\xa0(A&B)\\xa0will report results for the '\n",
       "                'first quarter 2019 at 4 p.m. ET on Thursday, May 2, 2019.  In '\n",
       "                'connection with this announcement, A&B will host a live '\n",
       "                'webcast of its conference call with financial analysts and '\n",
       "                'professional investors',\n",
       "     'symbols': ['ALEX'],\n",
       "     'timestamp': '2019-04-24T21:24:00.000Z',\n",
       "     'title': 'Alexander & Baldwin Announces First Quarter 2019 Earnings '\n",
       "              'Release and Webcast',\n",
       "     'url': 'https://finance.yahoo.com/news/alexander-baldwin-announces-first-quarter-212400919.html'}),\n",
       " News({   'image': 'https://s.yimg.com/uu/api/res/1.2/TffQSPJ5G503WNqvAD2Y3w--~B/aD05NTk7dz0xNDQwO3NtPTE7YXBwaWQ9eXRhY2h5b24-/https://media.zenfs.com/en-us/bizjournals.com/29d256a7f7f9fdf60ebb6b8e6aaf4b45',\n",
       "     'keywords': ['alex'],\n",
       "     'source': 'finance yahoo',\n",
       "     'summary': \"Alexander & Baldwin Inc. has purchased Avalon Development's \"\n",
       "                'brand-new 93,000-square-foot Class A warehouse in Kapolei that '\n",
       "                'is leased to Best Buy Co. Inc. and Hawaii Transfer Co. Ltd. '\n",
       "                'for $26.5 million.  The Kapolei Enterprise Center was an '\n",
       "                'off-market acquisition —\\xa0Alexander & Baldwin (NYSE: ALEX) '\n",
       "                'had approached Avalon about buying the building, which was '\n",
       "                'completed last month, before it went on the market.  “We were '\n",
       "                'going to go to market, we were waiting for the Hawaii transfer '\n",
       "                'lease to be signed,” said Guy Kidder, senior vice president of '\n",
       "                'industrial services for Colliers International Hawaii, which '\n",
       "                'represented the seller, Avalon, in the transaction.',\n",
       "     'symbols': ['ALEX'],\n",
       "     'timestamp': '2019-04-08T22:59:42.000Z',\n",
       "     'title': \"A&B buys Avalon's new warehouse building for $26.5M\",\n",
       "     'url': 'https://www.bizjournals.com/pacific/news/2019/04/08/a-b-buys-avalons-new-warehouse-building-for-26-5.html?ana=yahoo&yptr=yahoo'}),\n",
       " News({   'keywords': ['alex', 'nyse0001', 'real estate', 'rei10428', 'reitdive'],\n",
       "     'source': 'SeekingAlpha',\n",
       "     'summary': 'Alexander &amp; Baldwin (NYSE: ALEX ) closes on the off-market '\n",
       "                'acquisition of the leased-fee interest in the land under the '\n",
       "                'Home Depot store in the Iwilei submarket of Honolulu. More '\n",
       "                'news on: Alexander &amp; Baldwin, Inc., Financial stocks news, '\n",
       "                'Read more …',\n",
       "     'symbols': ['ALEX'],\n",
       "     'timestamp': '2019-03-25T20:09:54.000Z',\n",
       "     'title': 'Alexander & Baldwin closes on Home Depot Honolulu ground lease',\n",
       "     'url': 'https://seekingalpha.com/news/3445495-alexander-and-baldwin-closes-home-depot-honolulu-ground-lease?source=quotemedia_read_more'}),\n",
       " News({   'image': 'https://mma.prnewswire.com/media/602237/Alexander_Baldwin_Logo.jpg?p=facebook',\n",
       "     'keywords': [   'alexander & baldwin',\n",
       "                     'inc.',\n",
       "                     'banking & financial services',\n",
       "                     'real estate',\n",
       "                     'commercial real estate',\n",
       "                     'real estate transactions'],\n",
       "     'source': 'PR Newswire',\n",
       "     'summary': 'HONOLULU, March 25, 2019 /PRNewswire/ -- Alexander & Baldwin '\n",
       "                '(A&B) (NYSE: ALEX) today closed on the off-market acquisition '\n",
       "                'of the leased-fee interest in the...',\n",
       "     'symbols': ['ALEX'],\n",
       "     'timestamp': '2019-03-25T19:39:00.000Z',\n",
       "     'title': 'A&B adds Home Depot Honolulu ground lease to commercial real '\n",
       "              'estate portfolio',\n",
       "     'url': 'https://www.prnewswire.com/news-releases/ab-adds-home-depot-honolulu-ground-lease-to-commercial-real-estate-portfolio-300817997.html'}),\n",
       " News({   'image': 'https://s.yimg.com/uu/api/res/1.2/WKAPAk_rSyakyzvmUDsg4g--~B/dz0xNTA7c209MTthcHBpZD15dGFjaHlvbg--/https://media.zenfs.com/en/markit_77/7b64331492333034b26c37ea4ef74983',\n",
       "     'keywords': ['alex'],\n",
       "     'source': 'finance yahoo',\n",
       "     'summary': 'Alexander & Baldwin Inc NYSE:ALEXView full report here! '\n",
       "                'Summary  * Bearish sentiment is low Bearish sentimentShort '\n",
       "                'interest | PositiveShort interest is low for ALEX with fewer '\n",
       "                'than 5% of shares on loan. The last change in the short '\n",
       "                'interest score occurred more than 1 month ago and implies that '\n",
       "                'there',\n",
       "     'symbols': ['ALEX'],\n",
       "     'timestamp': '2019-03-05T13:02:28.000Z',\n",
       "     'title': 'See what the IHS Markit Score report has to say about Alexander '\n",
       "              '& Baldwin Inc.',\n",
       "     'url': 'https://finance.yahoo.com/news/see-ihs-markit-score-report-130228988.html'}),\n",
       " News({   'keywords': ['alex'],\n",
       "     'source': 'finance yahoo',\n",
       "     'summary': 'Q4 2018 Alexander & Baldwin Inc Earnings Call',\n",
       "     'symbols': ['ALEX'],\n",
       "     'timestamp': '2019-03-04T08:17:48.000Z',\n",
       "     'title': 'Edited Transcript of ALEX earnings conference call or '\n",
       "              'presentation 27-Feb-19 10:00pm GMT',\n",
       "     'url': 'https://finance.yahoo.com/news/edited-transcript-alex-earnings-conference-075759235.html'}),\n",
       " News({   'image': 'https://s.yimg.com/uu/api/res/1.2/494ACMoWTVMRCPXzB0d41Q--~B/aD01MzM7dz01MDA7c209MTthcHBpZD15dGFjaHlvbg--/http://media.zenfs.com/en-US/homerun/motleyfool.com/dc86750bf0cb5176f23ff2268794fb5f',\n",
       "     'keywords': ['alex'],\n",
       "     'source': 'finance yahoo',\n",
       "     'summary': 'ALEX earnings call for the period ending December 31, 2018.',\n",
       "     'symbols': ['ALEX'],\n",
       "     'timestamp': '2019-02-28T20:04:37.000Z',\n",
       "     'title': 'Alexander & Baldwin (ALEX) Q4 2018 Earnings Conference Call '\n",
       "              'Transcript',\n",
       "     'url': 'https://finance.yahoo.com/news/alexander-baldwin-alex-q4-2018-200437497.html'}),\n",
       " News({   'keywords': [   'alex',\n",
       "                     'earnings',\n",
       "                     'financial',\n",
       "                     'investment opinion',\n",
       "                     'real estate',\n",
       "                     'rei10428',\n",
       "                     'reitdive'],\n",
       "     'source': 'SeekingAlpha',\n",
       "     'summary': 'Alexander &amp; Baldwin, Inc. (ALEX) Q4 2018 Results Earnings '\n",
       "                'Conference Call February 27, 2019, 05:00 PM ET Company '\n",
       "                'Participants Kenneth Kan - VP of Capital Markets Chris '\n",
       "                'Benjamin - President and CEO Diana Laing - Interim CFO Lance '\n",
       "                'Parker - Chief Real Estate Officer Clayton …',\n",
       "     'symbols': ['ALEX'],\n",
       "     'timestamp': '2019-02-28T02:58:05.000Z',\n",
       "     'title': 'Alexander & Baldwin, Inc. (ALEX) CEO Chris Benjamin on Q4 2018 '\n",
       "              'Results - Earnings Call Transcript',\n",
       "     'url': 'https://seekingalpha.com/article/4245029-alexander-and-baldwin-inc-alex-ceo-chris-benjamin-q4-2018-results-earnings-call-transcript?'}),\n",
       " News({   'image': 'https://s.yimg.com/uu/api/res/1.2/zSNTQPsTkkKApAVjBdR1Ng--~B/aD05NjA7dz0xNDQwO3NtPTE7YXBwaWQ9eXRhY2h5b24-/https://media.zenfs.com/en-us/bizjournals.com/ada934a774eb2ba6f651af3fd1f6fbc3',\n",
       "     'keywords': ['alex'],\n",
       "     'source': 'finance yahoo',\n",
       "     'summary': 'The company said the loss was driven by non-cash impairments '\n",
       "                'and noted that its 2017 income included an income tax benefit '\n",
       "                'of $218.2 million.',\n",
       "     'symbols': ['ALEX'],\n",
       "     'timestamp': '2019-02-28T00:03:45.000Z',\n",
       "     'title': 'Alexander & Baldwin posts $72M loss for 2018',\n",
       "     'url': 'https://www.bizjournals.com/pacific/news/2019/02/27/alexander-baldwin-posts-72m-loss-for-2018.html?ana=yahoo&yptr=yahoo'}),\n",
       " News({   'image': 'https://static1.seekingalpha.com/uploads/sa_presentations/382/39382/slides/1.jpg?1551308356',\n",
       "     'keywords': ['alex', 'real estate', 'rei10428', 'reitdive'],\n",
       "     'source': 'SeekingAlpha',\n",
       "     'summary': 'The following slide deck was published by Alexander & Baldwin, '\n",
       "                'Inc. in conjunction with their 2018 Q4 earnings call.',\n",
       "     'symbols': ['ALEX'],\n",
       "     'timestamp': '2019-02-27T23:05:10.000Z',\n",
       "     'title': 'Alexander & Baldwin, Inc. 2018 Q4 - Results - Earnings Call '\n",
       "              'Slides',\n",
       "     'url': 'https://seekingalpha.com/article/4244964-alexander-and-baldwin-inc-2018-q4-results-earnings-call-slides'}),\n",
       " News({   'keywords': ['alex', 'nyse0001', 'real estate', 'rei10428', 'reitdive'],\n",
       "     'source': 'SeekingAlpha',\n",
       "     'summary': 'Alexander &amp; Baldwin (NYSE: ALEX ): Q4 EPS of -$1.89 may '\n",
       "                'not be comparable to consensus of $0.30. More news on: '\n",
       "                'Alexander &amp; Baldwin, Inc., Earnings news and commentary, '\n",
       "                'Consumer stocks news, Read more …',\n",
       "     'symbols': ['ALEX'],\n",
       "     'timestamp': '2019-02-27T21:35:53.000Z',\n",
       "     'title': 'Alexander & Baldwin EPS of -$1.89',\n",
       "     'url': 'https://seekingalpha.com/news/3438142-alexander-and-baldwin-eps-1_89?source=quotemedia_read_more'}),\n",
       " News({   'image': 'https://mma.prnewswire.com/media/602237/Alexander_Baldwin_Logo.jpg?p=facebook',\n",
       "     'keywords': [   'alexander & baldwin',\n",
       "                     'inc.',\n",
       "                     'banking & financial services',\n",
       "                     'commercial real estate',\n",
       "                     'real estate',\n",
       "                     'earnings'],\n",
       "     'source': 'PR Newswire',\n",
       "     'summary': 'HONOLULU, Feb. 27, 2019 /PRNewswire/ -- Alexander & Baldwin, '\n",
       "                'Inc. (NYSE: ALEX) (\"A&B\" or \"Company\") today announced '\n",
       "                'financial results for the fourth quarter...',\n",
       "     'symbols': ['ALEX'],\n",
       "     'timestamp': '2019-02-27T21:31:00.000Z',\n",
       "     'title': 'Alexander & Baldwin, Inc. Reports Fourth Quarter and Full Year '\n",
       "              '2018 Results',\n",
       "     'url': 'https://www.prnewswire.com/news-releases/alexander--baldwin-inc-reports-fourth-quarter-and-full-year-2018-results-300803632.html'}),\n",
       " News({   'image': 'https://s.yimg.com/uu/api/res/1.2/EEqWrawAAes1Zva.Tg6Q9Q--~B/aD0yNjc7dz00MDA7c209MTthcHBpZD15dGFjaHlvbg--/http://globalfinance.zenfs.com/en_us/Finance/US_AFTP_PRNEWSWIRE_LIVE/Alexander__Baldwin_Inc_Reports-27d70a378b019b69a2270908c01d8bbd',\n",
       "     'keywords': ['alex'],\n",
       "     'source': 'finance yahoo',\n",
       "     'summary': 'HONOLULU , Feb. 27, 2019 /PRNewswire/ --\\xa0 Alexander & '\n",
       "                'Baldwin, Inc. (NYSE: ALEX) (\"A&B\" or \"Company\") today '\n",
       "                'announced financial results for the fourth quarter and full '\n",
       "                'year of 2018. ...',\n",
       "     'symbols': ['ALEX'],\n",
       "     'timestamp': '2019-02-27T21:31:00.000Z',\n",
       "     'title': 'Alexander & Baldwin, Inc. Reports Fourth Quarter and Full Year '\n",
       "              '2018 Results',\n",
       "     'url': 'https://finance.yahoo.com/news/alexander-baldwin-inc-reports-fourth-213100422.html'}),\n",
       " News({   'image': 'https://mma.prnewswire.com/media/602237/Alexander_Baldwin_Logo.jpg?p=facebook',\n",
       "     'keywords': [   'alexander & baldwin',\n",
       "                     'inc.',\n",
       "                     'banking & financial services',\n",
       "                     'real estate',\n",
       "                     'commercial real estate',\n",
       "                     'dividends'],\n",
       "     'source': 'PR Newswire',\n",
       "     'summary': 'HONOLULU, Feb. 26, 2019 /PRNewswire/ -- The Board of Directors '\n",
       "                'of Alexander & Baldwin, Inc. (NYSE:ALEX) approved a first '\n",
       "                'quarter 2019 dividend of $0.145...',\n",
       "     'symbols': ['ALEX'],\n",
       "     'timestamp': '2019-02-26T22:26:00.000Z',\n",
       "     'title': 'Alexander & Baldwin First Quarter 2019 Dividend Authorized',\n",
       "     'url': 'https://www.prnewswire.com/news-releases/alexander--baldwin-first-quarter-2019-dividend-authorized-300802738.html'}),\n",
       " News({   'image': 'https://s.yimg.com/uu/api/res/1.2/nbVHozqGc0CTU2sRXjD45A--~B/aD0yNjc7dz00MDA7c209MTthcHBpZD15dGFjaHlvbg--/http://globalfinance.zenfs.com/en_us/Finance/US_AFTP_PRNEWSWIRE_LIVE/Alexander__Baldwin_First_Quarter-27d70a378b019b69a2270908c01d8bbd',\n",
       "     'keywords': ['alex'],\n",
       "     'source': 'finance yahoo',\n",
       "     'summary': 'HONOLULU , Feb. 26, 2019 /PRNewswire/ --\\xa0The Board of '\n",
       "                'Directors of Alexander & Baldwin, Inc. (NYSE:ALEX) approved a '\n",
       "                'first quarter 2019 dividend of $0.145 (fourteen and one-half '\n",
       "                'cents) per share. The dividend ...',\n",
       "     'symbols': ['ALEX'],\n",
       "     'timestamp': '2019-02-26T22:26:00.000Z',\n",
       "     'title': 'Alexander & Baldwin First Quarter 2019 Dividend Authorized',\n",
       "     'url': 'https://finance.yahoo.com/news/alexander-baldwin-first-quarter-2019-222600926.html'}),\n",
       " News({   'image': 'https://mma.prnewswire.com/media/602237/Alexander_Baldwin_Logo.jpg?p=facebook',\n",
       "     'keywords': [   'alexander & baldwin',\n",
       "                     'inc.',\n",
       "                     'banking & financial services',\n",
       "                     'commercial real estate',\n",
       "                     'real estate',\n",
       "                     'conference call announcements',\n",
       "                     'broadcast feed annoucement'],\n",
       "     'source': 'PR Newswire',\n",
       "     'summary': 'HONOLULU, Feb. 19, 2019 /PRNewswire/ -- Alexander & Baldwin, '\n",
       "                'Inc. (NYSE:ALEX) (A&B) will report results for the fourth '\n",
       "                'quarter and full-year 2018 at 4 p.m. ET...',\n",
       "     'symbols': ['ALEX'],\n",
       "     'timestamp': '2019-02-19T13:45:00.000Z',\n",
       "     'title': '&#xAD;Alexander & Baldwin Announces Fourth Quarter & Full-year '\n",
       "              '2018 Earnings Release and Webcast',\n",
       "     'url': 'https://www.prnewswire.com/news-releases/alexander--baldwin-announces-fourth-quarter--full-year-2018-earnings-release-and-webcast-300796968.html'}),\n",
       " News({   'image': 'https://s.yimg.com/uu/api/res/1.2/qdwV8Vone86UCegmECd4gA--~B/aD0yNjc7dz00MDA7c209MTthcHBpZD15dGFjaHlvbg--/http://globalfinance.zenfs.com/en_us/Finance/US_AFTP_PRNEWSWIRE_LIVE/Alexander__Baldwin_Announces_Fourth-27d70a378b019b69a2270908c01d8bbd',\n",
       "     'keywords': ['alex'],\n",
       "     'source': 'finance yahoo',\n",
       "     'summary': 'HONOLULU, Feb. 19, 2019 /PRNewswire/ --\\xa0Alexander & '\n",
       "                'Baldwin, Inc. (ALEX) (A&B)\\xa0will report results for the '\n",
       "                'fourth quarter and full-year 2018 at 4 p.m. ET on Wednesday, '\n",
       "                'February 27, 2019.  In connection with this announcement, A&B '\n",
       "                'will host a live webcast of its conference call with financial '\n",
       "                'analysts',\n",
       "     'symbols': ['ALEX'],\n",
       "     'timestamp': '2019-02-19T13:45:00.000Z',\n",
       "     'title': '\\xadAlexander & Baldwin Announces Fourth Quarter & Full-year '\n",
       "              '2018 Earnings Release and Webcast',\n",
       "     'url': 'https://finance.yahoo.com/news/alexander-baldwin-announces-fourth-quarter-134500362.html'}),\n",
       " News({   'image': 'https://s.yimg.com/uu/api/res/1.2/WKAPAk_rSyakyzvmUDsg4g--~B/dz0xNTA7c209MTthcHBpZD15dGFjaHlvbg--/https://media.zenfs.com/en/markit_77/7b64331492333034b26c37ea4ef74983',\n",
       "     'keywords': ['alex'],\n",
       "     'source': 'finance yahoo',\n",
       "     'summary': 'Alexander & Baldwin Inc NYSE:ALEXView full report here! '\n",
       "                'Summary  * ETFs holding this stock have seen outflows over the '\n",
       "                'last one-month   * Bearish sentiment is low Bearish '\n",
       "                'sentimentShort interest | PositiveShort interest is low for '\n",
       "                'ALEX with fewer than 5% of shares on loan. The last change in '\n",
       "                'the short',\n",
       "     'symbols': ['ALEX'],\n",
       "     'timestamp': '2019-02-08T13:05:30.000Z',\n",
       "     'title': 'See what the IHS Markit Score report has to say about Alexander '\n",
       "              '& Baldwin Inc.',\n",
       "     'url': 'https://finance.yahoo.com/news/see-ihs-markit-score-report-130530979.html'}),\n",
       " News({   'image': 'https://mma.prnewswire.com/media/602237/Alexander_Baldwin_Logo.jpg?p=facebook',\n",
       "     'keywords': [   'alexander & baldwin',\n",
       "                     'banking & financial services',\n",
       "                     'real estate',\n",
       "                     'commercial real estate',\n",
       "                     'acquisitions',\n",
       "                     'mergers and takeovers'],\n",
       "     'source': 'PR Newswire',\n",
       "     'summary': 'HONOLULU, Jan. 15, 2019 /PRNewswire/ -- Alexander & Baldwin '\n",
       "                '(A&B) (NYSE: ALEX) recently completed the off-market '\n",
       "                'acquisition of two Class A warehouse buildings ...',\n",
       "     'symbols': ['ALEX'],\n",
       "     'timestamp': '2019-01-15T22:43:00.000Z',\n",
       "     'title': 'A&B expands commercial real estate portfolio with Kapolei '\n",
       "              'warehouses',\n",
       "     'url': 'https://www.prnewswire.com/news-releases/ab-expands-commercial-real-estate-portfolio-with-kapolei-warehouses-300778972.html'}),\n",
       " News({   'image': 'https://s.yimg.com/uu/api/res/1.2/kyomkRuNuckaA0lr_iailQ--~B/aD0yNjc7dz00MDA7c209MTthcHBpZD15dGFjaHlvbg--/http://globalfinance.zenfs.com/en_us/Finance/US_AFTP_PRNEWSWIRE_LIVE/AB_expands_commercial_real_estate-27d70a378b019b69a2270908c01d8bbd',\n",
       "     'keywords': ['alex'],\n",
       "     'source': 'finance yahoo',\n",
       "     'summary': 'HONOLULU, Jan. 15, 2019 /PRNewswire/ --\\xa0Alexander & Baldwin '\n",
       "                '(A&B) (ALEX) recently completed the off-market acquisition of '\n",
       "                'two Class A warehouse buildings located in Kapolei, '\n",
       "                'representing 150,000 square feet of prime industrial space.  '\n",
       "                'The $40 million purchase closed on Dec. 28, 2018 and was '\n",
       "                'financed',\n",
       "     'symbols': ['ALEX'],\n",
       "     'timestamp': '2019-01-15T22:43:00.000Z',\n",
       "     'title': 'A&B expands commercial real estate portfolio with Kapolei '\n",
       "              'warehouses',\n",
       "     'url': 'https://finance.yahoo.com/news/b-expands-commercial-real-estate-224300715.html'}),\n",
       " News({   'image': 'https://s.yimg.com/uu/api/res/1.2/WKAPAk_rSyakyzvmUDsg4g--~B/dz0xNTA7c209MTthcHBpZD15dGFjaHlvbg--/https://media.zenfs.com/en/markit_77/7b64331492333034b26c37ea4ef74983',\n",
       "     'keywords': ['alex'],\n",
       "     'source': 'finance yahoo',\n",
       "     'summary': '# Alexander & Baldwin Inc### NYSE:ALEXView full report here!## '\n",
       "                'Summary  * Bearish sentiment is low   * Economic output in '\n",
       "                \"this company's sector is expanding## Bearish sentimentShort \"\n",
       "                'interest | PositiveShort interest is low for ALEX with fewer '\n",
       "                'than 5% of shares on loan. The last change in the short',\n",
       "     'symbols': ['ALEX'],\n",
       "     'timestamp': '2019-01-15T13:04:39.000Z',\n",
       "     'title': 'See what the IHS Markit Score report has to say about Alexander '\n",
       "              '& Baldwin Inc.',\n",
       "     'url': 'https://finance.yahoo.com/news/see-ihs-markit-score-report-130439407.html'}),\n",
       " News({   'image': 'https://s.yimg.com/uu/api/res/1.2/i8L66VpfGqyD0DgxtyPHzQ--~B/aD0xNjAwO3c9MTA2NztzbT0xO2FwcGlkPXl0YWNoeW9u/https://media.zenfs.com/en-us/bizjournals.com/06fd9fcfce89a829779bcef74443b746',\n",
       "     'keywords': ['alex'],\n",
       "     'source': 'finance yahoo',\n",
       "     'summary': 'Jenai S. Wall joined the A&B; board in 2015, taking the spot '\n",
       "                'held by Jeff Watanabe, a retired Honolulu attorney who stepped '\n",
       "                'down after 12 years on the board.',\n",
       "     'symbols': ['ALEX'],\n",
       "     'timestamp': '2019-01-14T22:56:03.000Z',\n",
       "     'title': 'Foodland CEO to step down from A&B board',\n",
       "     'url': 'https://www.bizjournals.com/pacific/news/2019/01/14/foodland-ceo-to-step-down-from-a-b-board.html?ana=yahoo&yptr=yahoo'}),\n",
       " News({   'image': 'https://s.yimg.com/uu/api/res/1.2/CFSfa5Me.X8YnUYBI9b38Q--~B/aD05NTk7dz0xNDQwO3NtPTE7YXBwaWQ9eXRhY2h5b24-/https://media.zenfs.com/en-us/bizjournals.com/91d1dbd5baba486a56680fe1be786cb6',\n",
       "     'keywords': ['alex'],\n",
       "     'source': 'finance yahoo',\n",
       "     'summary': 'The new solar-plus-storage facility will be capable of '\n",
       "                \"delivering up to 11 percent of Kauai's energy needs.\",\n",
       "     'symbols': ['ALEX'],\n",
       "     'timestamp': '2019-01-09T00:52:54.000Z',\n",
       "     'title': 'New solar-plus-storage facility gets KIUC past 50% renewable '\n",
       "              'generation',\n",
       "     'url': 'https://www.bizjournals.com/pacific/news/2019/01/08/new-solar-plus-storage-facility-gets-kiuc-past-50.html?ana=yahoo&yptr=yahoo'}),\n",
       " News({   'image': 'https://s.yimg.com/uu/api/res/1.2/yrBC3gLcU8luoQ0X7x5qpw--~B/aD05NTg7dz0xNDQwO3NtPTE7YXBwaWQ9eXRhY2h5b24-/https://media.zenfs.com/en-us/bizjournals.com/2219a7868880b5c26f67ff9b5cb5171f',\n",
       "     'keywords': ['alex'],\n",
       "     'source': 'finance yahoo',\n",
       "     'summary': 'Tsutsui, who stepped down from Gov. David Ige’s administration '\n",
       "                'nearly a year ago to take a job on Maui with the lobbying firm '\n",
       "                'Strategies 360, will lead Mahi Pono’s farming venture on Maui, '\n",
       "                'the company said in a release on Sunday.',\n",
       "     'symbols': ['ALEX'],\n",
       "     'timestamp': '2019-01-07T15:01:50.000Z',\n",
       "     'title': 'Former Hawaii Lt. Gov. joins group farming former A&B lands on '\n",
       "              'Maui',\n",
       "     'url': 'https://www.bizjournals.com/pacific/news/2019/01/07/former-hawaii-lt-gov-joins-group-farming-former-a.html?ana=yahoo&yptr=yahoo'})]"
      ]
     },
     "execution_count": 82,
     "metadata": {},
     "output_type": "execute_result"
    }
   ],
   "source": [
    "alpaca_api.polygon.news(ticker)"
   ]
  },
  {
   "cell_type": "code",
   "execution_count": 83,
   "metadata": {},
   "outputs": [
    {
     "data": {
      "text/plain": [
       "Trade({'exchange': 10, 'price': 23.72, 'size': 31606, 'timestamp': 1572647400001})"
      ]
     },
     "execution_count": 83,
     "metadata": {},
     "output_type": "execute_result"
    }
   ],
   "source": [
    "alpaca_api.polygon.last_trade(ticker)"
   ]
  },
  {
   "cell_type": "code",
   "execution_count": 84,
   "metadata": {},
   "outputs": [
    {
     "data": {
      "text/plain": [
       "Quote({   'askexchange': 8,\n",
       "    'askprice': 27.51,\n",
       "    'asksize': 1,\n",
       "    'bidexchange': 8,\n",
       "    'bidprice': 0,\n",
       "    'bidsize': 0,\n",
       "    'timestamp': 1572638460072})"
      ]
     },
     "execution_count": 84,
     "metadata": {},
     "output_type": "execute_result"
    }
   ],
   "source": [
    "alpaca_api.polygon.last_quote(ticker)"
   ]
  },
  {
   "cell_type": "code",
   "execution_count": 85,
   "metadata": {},
   "outputs": [
    {
     "data": {
      "text/plain": [
       "Company({   'active': True,\n",
       "    'bloomberg': 'EQ0000000059366045',\n",
       "    'ceo': 'Christopher J. Benjamin',\n",
       "    'cik': '1545654',\n",
       "    'country': 'usa',\n",
       "    'description': 'Alexander & Baldwin Inc is primarily a real estate '\n",
       "                   'company. It operates through three segments namely '\n",
       "                   'Commercial real estate, land operations and materials and '\n",
       "                   'construction. Most of its revenue is derived from managing '\n",
       "                   'retail and office properties.',\n",
       "    'employees': 836,\n",
       "    'exchange': 'New York Stock Exchange',\n",
       "    'exchangeSymbol': 'NYE',\n",
       "    'figi': None,\n",
       "    'hq_address': '822 Bishop Street Honolulu HI, 96801',\n",
       "    'hq_country': 'USA',\n",
       "    'hq_state': 'HI',\n",
       "    'industry': 'REITs',\n",
       "    'lei': '549300OI5H3Y0I9I4I12',\n",
       "    'listdate': '1990-01-02',\n",
       "    'logo': 'https://s3.polygon.io/logos/alex/logo.png',\n",
       "    'marketcap': 1493121970,\n",
       "    'name': 'Alexander & Baldwin Inc. REIT Holding Company',\n",
       "    'phone': '+1 808 525-6611',\n",
       "    'sector': 'Real Estate',\n",
       "    'sic': 6798,\n",
       "    'similar': ['SSW', 'DAC', 'GNK'],\n",
       "    'symbol': 'ALEX',\n",
       "    'tags': ['Real Estate', 'REIT - Diversified', 'REITs'],\n",
       "    'type': 'CS',\n",
       "    'updated': '11/16/2018',\n",
       "    'url': 'http://www.alexanderbaldwin.com'})"
      ]
     },
     "execution_count": 85,
     "metadata": {},
     "output_type": "execute_result"
    }
   ],
   "source": [
    "alpaca_api.polygon.company(ticker)"
   ]
  },
  {
   "cell_type": "code",
   "execution_count": 86,
   "metadata": {},
   "outputs": [
    {
     "data": {
      "text/plain": [
       "[Dividend({   'amount': 15.92,\n",
       "     'declaredDate': '11/16/2017',\n",
       "     'exDate': '11/28/2017',\n",
       "     'paymentDate': '01/23/2018',\n",
       "     'qualified': 'N',\n",
       "     'recordDate': '11/29/2017',\n",
       "     'symbol': 'ALEX',\n",
       "     'type': 'D'}), Dividend({   'amount': 15.92,\n",
       "     'declaredDate': '11/16/2017',\n",
       "     'exDate': '11/28/2017',\n",
       "     'paymentDate': '01/23/2018',\n",
       "     'qualified': 'N',\n",
       "     'recordDate': '11/29/2017',\n",
       "     'symbol': 'ALEX',\n",
       "     'type': 'D'}), Dividend({   'amount': 0.07,\n",
       "     'declaredDate': '07/25/2017',\n",
       "     'exDate': '08/03/2017',\n",
       "     'indicated': 0.07,\n",
       "     'paymentDate': '09/07/2017',\n",
       "     'qualified': 'Q',\n",
       "     'recordDate': '08/07/2017',\n",
       "     'symbol': 'ALEX',\n",
       "     'type': 'D'}), Dividend({   'amount': 0.07,\n",
       "     'declaredDate': '04/25/2017',\n",
       "     'exDate': '05/04/2017',\n",
       "     'indicated': 0.07,\n",
       "     'paymentDate': '06/01/2017',\n",
       "     'qualified': 'Q',\n",
       "     'recordDate': '05/08/2017',\n",
       "     'symbol': 'ALEX',\n",
       "     'type': 'D'}), Dividend({   'amount': 0.07,\n",
       "     'declaredDate': '01/25/2017',\n",
       "     'exDate': '02/02/2017',\n",
       "     'indicated': 0.07,\n",
       "     'paymentDate': '03/02/2017',\n",
       "     'qualified': 'Q',\n",
       "     'recordDate': '02/06/2017',\n",
       "     'symbol': 'ALEX',\n",
       "     'type': 'D'}), Dividend({   'amount': 0.07,\n",
       "     'declaredDate': '10/25/2016',\n",
       "     'exDate': '11/03/2016',\n",
       "     'indicated': 0.07,\n",
       "     'paymentDate': '12/01/2016',\n",
       "     'qualified': 'Q',\n",
       "     'recordDate': '11/07/2016',\n",
       "     'symbol': 'ALEX',\n",
       "     'type': 'D'}), Dividend({   'amount': 0.06,\n",
       "     'declaredDate': '07/25/2016',\n",
       "     'exDate': '08/04/2016',\n",
       "     'indicated': 0.06,\n",
       "     'paymentDate': '09/01/2016',\n",
       "     'qualified': 'Q',\n",
       "     'recordDate': '08/08/2016',\n",
       "     'symbol': 'ALEX',\n",
       "     'type': 'D'}), Dividend({   'amount': 0.06,\n",
       "     'declaredDate': '04/25/2016',\n",
       "     'exDate': '05/05/2016',\n",
       "     'indicated': 0.06,\n",
       "     'paymentDate': '06/02/2016',\n",
       "     'qualified': 'Q',\n",
       "     'recordDate': '05/09/2016',\n",
       "     'symbol': 'ALEX',\n",
       "     'type': 'D'}), Dividend({   'amount': 0.06,\n",
       "     'declaredDate': '01/26/2016',\n",
       "     'exDate': '02/04/2016',\n",
       "     'indicated': 0.06,\n",
       "     'paymentDate': '03/03/2016',\n",
       "     'qualified': 'Q',\n",
       "     'recordDate': '02/08/2016',\n",
       "     'symbol': 'ALEX',\n",
       "     'type': 'D'}), Dividend({   'amount': 0.06,\n",
       "     'declaredDate': '10/27/2015',\n",
       "     'exDate': '11/05/2015',\n",
       "     'indicated': 0.06,\n",
       "     'paymentDate': '12/03/2015',\n",
       "     'qualified': 'Q',\n",
       "     'recordDate': '11/09/2015',\n",
       "     'symbol': 'ALEX',\n",
       "     'type': 'D'}), Dividend({   'amount': 0.05,\n",
       "     'declaredDate': '07/28/2015',\n",
       "     'exDate': '08/06/2015',\n",
       "     'indicated': 0.05,\n",
       "     'paymentDate': '09/03/2015',\n",
       "     'qualified': 'Q',\n",
       "     'recordDate': '08/10/2015',\n",
       "     'symbol': 'ALEX',\n",
       "     'type': 'D'}), Dividend({   'amount': 0.05,\n",
       "     'declaredDate': '04/28/2015',\n",
       "     'exDate': '05/07/2015',\n",
       "     'indicated': 0.05,\n",
       "     'paymentDate': '06/04/2015',\n",
       "     'qualified': 'Q',\n",
       "     'recordDate': '05/11/2015',\n",
       "     'symbol': 'ALEX',\n",
       "     'type': 'D'}), Dividend({   'amount': 0.05,\n",
       "     'declaredDate': '01/27/2015',\n",
       "     'exDate': '02/05/2015',\n",
       "     'indicated': 0.05,\n",
       "     'paymentDate': '03/05/2015',\n",
       "     'qualified': 'Q',\n",
       "     'recordDate': '02/09/2015',\n",
       "     'symbol': 'ALEX',\n",
       "     'type': 'D'}), Dividend({   'amount': 0.05,\n",
       "     'declaredDate': '10/28/2014',\n",
       "     'exDate': '11/06/2014',\n",
       "     'indicated': 0.05,\n",
       "     'paymentDate': '12/04/2014',\n",
       "     'qualified': 'Q',\n",
       "     'recordDate': '11/10/2014',\n",
       "     'symbol': 'ALEX',\n",
       "     'type': 'D'}), Dividend({   'amount': 0.04,\n",
       "     'declaredDate': '07/29/2014',\n",
       "     'exDate': '08/07/2014',\n",
       "     'indicated': 0.04,\n",
       "     'paymentDate': '09/04/2014',\n",
       "     'qualified': 'Q',\n",
       "     'recordDate': '08/11/2014',\n",
       "     'symbol': 'ALEX',\n",
       "     'type': 'D'}), Dividend({   'amount': 0.04,\n",
       "     'declaredDate': '04/30/2014',\n",
       "     'exDate': '05/13/2014',\n",
       "     'indicated': 0.04,\n",
       "     'paymentDate': '06/05/2014',\n",
       "     'qualified': 'Q',\n",
       "     'recordDate': '05/15/2014',\n",
       "     'symbol': 'ALEX',\n",
       "     'type': 'D'}), Dividend({   'amount': 0.04,\n",
       "     'declaredDate': '01/28/2014',\n",
       "     'exDate': '02/06/2014',\n",
       "     'indicated': 0.04,\n",
       "     'paymentDate': '03/06/2014',\n",
       "     'qualified': 'Q',\n",
       "     'recordDate': '02/10/2014',\n",
       "     'symbol': 'ALEX',\n",
       "     'type': 'D'}), Dividend({   'amount': 0.04,\n",
       "     'declaredDate': '10/01/2013',\n",
       "     'exDate': '11/05/2013',\n",
       "     'indicated': 0.04,\n",
       "     'paymentDate': '12/05/2013',\n",
       "     'recordDate': '11/07/2013',\n",
       "     'symbol': 'ALEX',\n",
       "     'type': 'D'})]"
      ]
     },
     "execution_count": 86,
     "metadata": {},
     "output_type": "execute_result"
    }
   ],
   "source": [
    "alpaca_api.polygon.dividends(ticker)"
   ]
  },
  {
   "cell_type": "code",
   "execution_count": 87,
   "metadata": {},
   "outputs": [
    {
     "data": {
      "text/plain": [
       "[Financial({   'cashChange': -2000000,\n",
       "     'cashFlow': 10900000,\n",
       "     'costOfRevenue': 87100000,\n",
       "     'currentAssets': 174600000,\n",
       "     'currentCash': 7700000,\n",
       "     'currentDebt': 37100000,\n",
       "     'grossProfit': 32300000,\n",
       "     'netIncome': 14800000,\n",
       "     'operatingExpense': 700000,\n",
       "     'operatingGainsLosses': -9400000,\n",
       "     'operatingIncome': 31600000,\n",
       "     'operatingRevenue': 119400000,\n",
       "     'reportDate': '2018-09-30T00:00:00.000Z',\n",
       "     'reportDateStr': '2018-09-30',\n",
       "     'researchAndDevelopment': None,\n",
       "     'shareholderEquity': 1343300000,\n",
       "     'symbol': 'ALEX',\n",
       "     'totalAssets': 2276200000,\n",
       "     'totalCash': 7500000,\n",
       "     'totalDebt': 778400000,\n",
       "     'totalLiabilities': None,\n",
       "     'totalRevenue': 119400000}), Financial({   'cashChange': -33900000,\n",
       "     'cashFlow': 18300000,\n",
       "     'costOfRevenue': 89100000,\n",
       "     'currentAssets': 167100000,\n",
       "     'currentCash': 9700000,\n",
       "     'currentDebt': 35800000,\n",
       "     'grossProfit': 23000000,\n",
       "     'netIncome': 2500000,\n",
       "     'operatingExpense': 800000,\n",
       "     'operatingGainsLosses': -700000,\n",
       "     'operatingIncome': 22200000,\n",
       "     'operatingRevenue': 112100000,\n",
       "     'reportDate': '2018-06-30T00:00:00.000Z',\n",
       "     'reportDateStr': '2018-06-30',\n",
       "     'researchAndDevelopment': None,\n",
       "     'shareholderEquity': 1325400000,\n",
       "     'symbol': 'ALEX',\n",
       "     'totalAssets': 2272200000,\n",
       "     'totalCash': 9500000,\n",
       "     'totalDebt': 790800000,\n",
       "     'totalLiabilities': None,\n",
       "     'totalRevenue': 112100000}), Financial({   'cashChange': -59600000,\n",
       "     'cashFlow': 8500000,\n",
       "     'costOfRevenue': 91300000,\n",
       "     'currentAssets': 178500000,\n",
       "     'currentCash': 43600000,\n",
       "     'currentDebt': 42800000,\n",
       "     'grossProfit': 22000000,\n",
       "     'netIncome': 47300000,\n",
       "     'operatingExpense': 700000,\n",
       "     'operatingGainsLosses': -50000000,\n",
       "     'operatingIncome': 21300000,\n",
       "     'operatingRevenue': 113300000,\n",
       "     'reportDate': '2018-03-31T00:00:00.000Z',\n",
       "     'reportDateStr': '2018-03-31',\n",
       "     'researchAndDevelopment': None,\n",
       "     'shareholderEquity': 1320600000,\n",
       "     'symbol': 'ALEX',\n",
       "     'totalAssets': 2310700000,\n",
       "     'totalCash': 26500000,\n",
       "     'totalDebt': 838600000,\n",
       "     'totalLiabilities': None,\n",
       "     'totalRevenue': 113300000}), Financial({   'cashChange': 86400000,\n",
       "     'cashFlow': 43900000,\n",
       "     'costOfRevenue': 90900000,\n",
       "     'currentAssets': 274800000,\n",
       "     'currentCash': 103200000,\n",
       "     'currentDebt': 46000000,\n",
       "     'grossProfit': 31800000,\n",
       "     'netIncome': 211600000,\n",
       "     'operatingExpense': 3300000,\n",
       "     'operatingGainsLosses': 6300000,\n",
       "     'operatingIncome': 28500000,\n",
       "     'operatingRevenue': 122700000,\n",
       "     'reportDate': '2017-12-31T00:00:00.000Z',\n",
       "     'reportDateStr': '2017-12-31',\n",
       "     'researchAndDevelopment': None,\n",
       "     'shareholderEquity': 646400000,\n",
       "     'symbol': 'ALEX',\n",
       "     'totalAssets': 2231200000,\n",
       "     'totalCash': 68900000,\n",
       "     'totalDebt': 631200000,\n",
       "     'totalLiabilities': None,\n",
       "     'totalRevenue': 122700000}), Financial({   'cashChange': 7700000,\n",
       "     'cashFlow': -28600000,\n",
       "     'costOfRevenue': 75200000,\n",
       "     'currentAssets': 239800000,\n",
       "     'currentCash': 13300000,\n",
       "     'currentDebt': 41600000,\n",
       "     'grossProfit': 36300000,\n",
       "     'netIncome': 6100000,\n",
       "     'operatingExpense': 24500000,\n",
       "     'operatingGainsLosses': -10100000,\n",
       "     'operatingIncome': 11800000,\n",
       "     'operatingRevenue': 111500000,\n",
       "     'reportDate': '2017-09-30T00:00:00.000Z',\n",
       "     'reportDateStr': '2017-09-30',\n",
       "     'researchAndDevelopment': None,\n",
       "     'shareholderEquity': 1218900000,\n",
       "     'symbol': 'ALEX',\n",
       "     'totalAssets': 2208300000,\n",
       "     'totalCash': 13300000,\n",
       "     'totalDebt': 625800000,\n",
       "     'totalLiabilities': None,\n",
       "     'totalRevenue': 111500000}), Financial({   'cashChange': -4300000,\n",
       "     'cashFlow': -6000000,\n",
       "     'costOfRevenue': 69600000,\n",
       "     'currentAssets': 159000000,\n",
       "     'currentCash': 11000000,\n",
       "     'currentDebt': 44100000,\n",
       "     'grossProfit': 28500000,\n",
       "     'netIncome': 4300000,\n",
       "     'operatingExpense': 17700000,\n",
       "     'operatingGainsLosses': None,\n",
       "     'operatingIncome': 10800000,\n",
       "     'operatingRevenue': 98100000,\n",
       "     'reportDate': '2017-06-30T00:00:00.000Z',\n",
       "     'reportDateStr': '2017-06-30',\n",
       "     'researchAndDevelopment': None,\n",
       "     'shareholderEquity': 1213400000,\n",
       "     'symbol': 'ALEX',\n",
       "     'totalAssets': 2177000000,\n",
       "     'totalCash': 11000000,\n",
       "     'totalDebt': 574900000,\n",
       "     'totalLiabilities': 963600000,\n",
       "     'totalRevenue': 98100000}), Financial({   'cashChange': 13100000,\n",
       "     'cashFlow': -10600000,\n",
       "     'costOfRevenue': 66300000,\n",
       "     'currentAssets': 130600000,\n",
       "     'currentCash': 15300000,\n",
       "     'currentDebt': 48800000,\n",
       "     'grossProfit': 26900000,\n",
       "     'netIncome': 6300000,\n",
       "     'operatingExpense': 20200000,\n",
       "     'operatingGainsLosses': None,\n",
       "     'operatingIncome': 6700000,\n",
       "     'operatingRevenue': 93200000,\n",
       "     'reportDate': '2017-03-31T00:00:00.000Z',\n",
       "     'reportDateStr': '2017-03-31',\n",
       "     'researchAndDevelopment': None,\n",
       "     'shareholderEquity': 1210600000,\n",
       "     'symbol': 'ALEX',\n",
       "     'totalAssets': 2160600000,\n",
       "     'totalCash': 15300000,\n",
       "     'totalDebt': 560000000,\n",
       "     'totalLiabilities': 950000000,\n",
       "     'totalRevenue': 93200000})]"
      ]
     },
     "execution_count": 87,
     "metadata": {},
     "output_type": "execute_result"
    }
   ],
   "source": [
    "alpaca_api.polygon.financials(ticker)"
   ]
  },
  {
   "cell_type": "code",
   "execution_count": null,
   "metadata": {},
   "outputs": [],
   "source": []
  },
  {
   "cell_type": "code",
   "execution_count": null,
   "metadata": {},
   "outputs": [],
   "source": []
  },
  {
   "cell_type": "code",
   "execution_count": null,
   "metadata": {},
   "outputs": [],
   "source": []
  }
 ],
 "metadata": {
  "kernelspec": {
   "display_name": "Python 3",
   "language": "python",
   "name": "python3"
  },
  "language_info": {
   "codemirror_mode": {
    "name": "ipython",
    "version": 3
   },
   "file_extension": ".py",
   "mimetype": "text/x-python",
   "name": "python",
   "nbconvert_exporter": "python",
   "pygments_lexer": "ipython3",
   "version": "3.7.4"
  },
  "pycharm": {
   "stem_cell": {
    "cell_type": "raw",
    "source": [],
    "metadata": {
     "collapsed": false
    }
   }
  }
 },
 "nbformat": 4,
 "nbformat_minor": 1
}