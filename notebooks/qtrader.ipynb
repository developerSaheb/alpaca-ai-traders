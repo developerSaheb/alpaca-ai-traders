{
 "cells": [
  {
   "cell_type": "code",
   "execution_count": null,
   "metadata": {
    "colab": {},
    "colab_type": "code",
    "id": "V0wFsSuO3BVT",
    "pycharm": {
     "is_executing": true
    }
   },
   "outputs": [
    {
     "name": "stdout",
     "output_type": "stream",
     "text": [
      "Collecting tensorflow-gpu==2.0.0.alpha0\r\n",
      "\u001b[?25l  Downloading https://files.pythonhosted.org/packages/6a/37/04e98bf98d055a177d5b4ab342133276011656686743a00dcdf27824a46f/tensorflow_gpu-2.0.0a0-cp37-cp37m-manylinux1_x86_64.whl (332.5MB)\r\n",
      "\u001b[K     |███████████████████████▋        | 245.1MB 6.9MB/s eta 0:00:133    |█████▊                          | 59.8MB 16.4MB/s eta 0:00:17     |██████▏                         | 63.7MB 16.4MB/s eta 0:00:17"
     ]
    }
   ],
   "source": [
    "# !pip install tensorflow-gpu==2.0.0.alpha0 tensorflow==2.0.0 pandas-datareader"
   ]
  },
  {
   "cell_type": "code",
   "execution_count": 1,
   "metadata": {
    "colab": {},
    "colab_type": "code",
    "id": "dXPW-T8boCSx",
    "pycharm": {
     "is_executing": true
    }
   },
   "outputs": [
    {
     "data": {
      "text/plain": [
       "'2.0.0'"
      ]
     },
     "execution_count": 1,
     "metadata": {},
     "output_type": "execute_result"
    }
   ],
   "source": [
    "from nltk.sentiment.vader import SentimentIntensityAnalyzer\n",
    "from empyrical import roll_max_drawdown, alpha, beta\n",
    "from sklearn.preprocessing import MinMaxScaler\n",
    "from src.asset_selector import AssetSelector\n",
    "from src.indicator_collection import IndicatorCollection as Indicators\n",
    "from util import time_formatter, df2csv\n",
    "from src.predictor import Predictor\n",
    "from sklearn.cluster import KMeans\n",
    "from tqdm import tqdm_notebook, tqdm\n",
    "from collections import deque\n",
    "import pandas_datareader as data_reader\n",
    "import alpaca_trade_api as tradeapi\n",
    "import matplotlib.pyplot as plt\n",
    "import plotly.graph_objs as go\n",
    "import plotly.offline as py\n",
    "import tensorflow as tf\n",
    "import pandas as pd\n",
    "import numpy as np\n",
    "import configparser\n",
    "import requests\n",
    "import random\n",
    "import json\n",
    "import time\n",
    "import sys\n",
    "import os\n",
    "import math\n",
    "\n",
    "tf.__version__"
   ]
  },
  {
   "cell_type": "code",
   "execution_count": 7,
   "metadata": {
    "colab": {},
    "colab_type": "code",
    "id": "nuXoyumcoOMk",
    "pycharm": {
     "is_executing": true
    }
   },
   "outputs": [
    {
     "name": "stderr",
     "output_type": "stream",
     "text": [
      "sleep 3 seconds and retrying https://data.alpaca.markets/v1/bars/1D 3 more time(s)...\n"
     ]
    },
    {
     "name": "stdout",
     "output_type": "stream",
     "text": [
      "[Debug] Backdate debug get_ticker_indicators\n"
     ]
    },
    {
     "name": "stderr",
     "output_type": "stream",
     "text": [
      "/home/ben/anaconda3/envs/u-nectix/lib/python3.7/site-packages/finta/finta.py:263: FutureWarning:\n",
      "\n",
      "Currently, 'apply' passes the values as ndarrays to the applied function. In the future, this will change to passing it as Series objects. You need to specify 'raw=True' to keep the current behaviour, and you can pass 'raw=False' to silence this warning\n",
      "\n"
     ]
    }
   ],
   "source": [
    "# start here by entering a ticker symbol\n",
    "ticker = \"ACOR\"\n",
    "# number of weeks to look back\n",
    "weeks = 54\n",
    "# and watch the magic happen below...\n",
    "\n",
    "backdate = time_formatter(time.time() - (604800 * weeks), time_format=\"%Y-%m-%d\")\n",
    "config = configparser.ConfigParser()\n",
    "try:\n",
    "    config.read(os.path.relpath(\"../config.ini\"))\n",
    "except FileExistsError as e:\n",
    "    print(\"FileExistsError: {}\".format(e))\n",
    "    sys.exit(1)\n",
    "alpaca_api = tradeapi.REST(\n",
    "    base_url    = config[\"alpaca\"][\"APCA_API_BASE_URL\"],\n",
    "    key_id      = config[\"alpaca\"][\"APCA_API_KEY_ID\"],\n",
    "    secret_key  = config[\"alpaca\"][\"APCA_API_SECRET_KEY\"],\n",
    "    api_version = config[\"alpaca\"][\"VERSION\"]\n",
    ")\n",
    "trading_account = alpaca_api.get_account()\n",
    "\n",
    "selector            = AssetSelector(alpaca_api, edgar_token=None)\n",
    "indicators          = Indicators(alpaca_api)\n",
    "scaler              = MinMaxScaler()\n",
    "day_bars            = selector.get_barset(ticker, \"day\", backdate)\n",
    "day_bars            = selector.extract_bar_data(day_bars, ticker)\n",
    "minute_bars         = selector.get_barset(ticker, \"minute\", backdate)\n",
    "minute_bars         = selector.extract_bar_data(minute_bars, ticker)\n",
    "day_spy_bars        = selector.get_barset(\"SPY\", \"1D\", backdate)\n",
    "day_spy_bars        = selector.extract_bar_data(day_spy_bars, \"SPY\")\n",
    "minute_spy_bars     = selector.get_barset(\"SPY\", \"minute\", backdate)\n",
    "minute_spy_bars     = selector.extract_bar_data(minute_spy_bars, \"SPY\")\n",
    "ticker_cluster      = indicators.get_ticker_indicators(ticker)\n",
    "ticker_cluster[\"spy_day_close\"] = day_spy_bars[\"close\"]"
   ]
  },
  {
   "cell_type": "code",
   "execution_count": 8,
   "metadata": {
    "colab": {
     "base_uri": "https://localhost:8080/",
     "height": 33
    },
    "colab_type": "code",
    "id": "5tTk1DXzoPLc",
    "outputId": "96770012-a509-449f-a0f7-cbb1771944b7",
    "pycharm": {
     "is_executing": true
    }
   },
   "outputs": [
    {
     "data": {
      "text/plain": [
       "2019-09-06 00:00:00-04:00    2.80\n",
       "2019-09-09 00:00:00-04:00    3.15\n",
       "2019-09-10 00:00:00-04:00    4.01\n",
       "2019-09-11 00:00:00-04:00    4.01\n",
       "2019-09-12 00:00:00-04:00    3.85\n",
       "Name: close, dtype: float64"
      ]
     },
     "execution_count": 8,
     "metadata": {},
     "output_type": "execute_result"
    }
   ],
   "source": [
    "ticker_cluster[\"close\"].head()"
   ]
  },
  {
   "cell_type": "code",
   "execution_count": 9,
   "metadata": {
    "colab": {},
    "colab_type": "code",
    "id": "-l9m-3dB0Wwe",
    "pycharm": {
     "is_executing": true
    }
   },
   "outputs": [],
   "source": [
    "def sigmoid(num):\n",
    "  \"\"\"Return the sigmoid value of num.\n",
    "  \n",
    "  :return: sigmoid value\n",
    "  \"\"\"\n",
    "  return 1 / (1 + math.exp(-num))\n",
    "\n",
    "def price_format(num): \n",
    "    \"\"\"Print the price with proper decimal, positive and negative formatting.  \n",
    "    \n",
    "    :return: formatted stock price\n",
    "    \"\"\"\n",
    "    if num < 0:\n",
    "        return \"- ${0:2f}\".format(abs(num))\n",
    "    else:\n",
    "        return \"${0:2f}\".format(abs(num))\n",
    "\n",
    "def load_dataset(ticker, start):\n",
    "  \"\"\"Load the dataset for a given ticker symbol.\n",
    "  \n",
    "  :param ticker: a stock ticker symbol\n",
    "  :param start: \n",
    "  :return close: return the most recent closing price in the time series\n",
    "  \"\"\"\n",
    "  dataset = data_reader.DataReader(ticker, start=start, data_source=\"yahoo\")\n",
    "  start_date = str(dataset.index[0]).split()[0]\n",
    "  end_date = str(dataset.index[-1]).split()[0]\n",
    "  close = dataset[\"Close\"]\n",
    "  return close\n",
    "\n",
    "def create_state(data, step, window_size):\n",
    "  \"\"\"Create state (duh).\n",
    "\n",
    "  :param data:\n",
    "  :param step:\n",
    "  :param window_size:\n",
    "  :return :\n",
    "  \"\"\"\n",
    "  starting_id = step - window_size + 1\n",
    "\n",
    "  if starting_id >= 0:\n",
    "    windowed_data = data[starting_id:step+1]\n",
    "  else:\n",
    "    windowed_data =  -starting_id * [data[0]] + list(data[0:step+1])\n",
    "\n",
    "  state = []\n",
    "  for i in range(window_size - 1):\n",
    "    state.append(sigmoid(windowed_data[i+1] - windowed_data[i]))\n",
    "  return np.array([state])"
   ]
  },
  {
   "cell_type": "code",
   "execution_count": 10,
   "metadata": {
    "colab": {},
    "colab_type": "code",
    "id": "SrmPrMy6oSvl",
    "pycharm": {
     "is_executing": true
    }
   },
   "outputs": [],
   "source": [
    "class Qtrader():\n",
    "\n",
    "  def __init__(self, state_size, action_space=3, model_name=\"Qtrader\"):\n",
    "    \"\"\"Initialize the AI trader class.\n",
    "    \n",
    "    :param state_size:\n",
    "    :param action_space: stay in position, buy, sell\n",
    "    :param model_name:\n",
    "    \"\"\"\n",
    "    self.state_size = state_size\n",
    "    self.action_space = action_space\n",
    "    self.memory = deque(maxlen=2000)\n",
    "    self.inventory = []\n",
    "    self.model_name = model_name \n",
    "\n",
    "    # maximize current reward over long term rewards\n",
    "    self.gamma = 0.95\n",
    "\n",
    "    # should we use a random action or let the model choose?\n",
    "    # in beginning, this will be random and will taper off as the system learns\n",
    "    self.epsilon = 1.0\n",
    "    \n",
    "    # when epison == this, stop decresing \n",
    "    self.epsilon_final = 0.01\n",
    "    \n",
    "    # how fast should the epsilon decrease?\n",
    "    self.epsilon_decay = 0.995\n",
    "\n",
    "    # initialize the model\n",
    "    self.model = self.model_builder()\n",
    "\n",
    "  def model_builder(self):\n",
    "    \"\"\"Build our model.\"\"\"\n",
    "\n",
    "    model = tf.keras.models.Sequential()\n",
    "\n",
    "    # first dense layer\n",
    "    model.add(tf.keras.layers.Dense(units=32, activation=\"relu\", input_dim=self.state_size))\n",
    "\n",
    "    # second layer\n",
    "    model.add(tf.keras.layers.Dense(units=64, activation=\"relu\"))\n",
    "\n",
    "    # third layer\n",
    "    model.add(tf.keras.layers.Dense(units=128, activation=\"relu\"))\n",
    "\n",
    "    # output layer\n",
    "    model.add(tf.keras.layers.Dense(units=self.action_space, activation=\"linear\"))\n",
    "\n",
    "    # compile the model\n",
    "    model.compile(loss=\"mse\", optimizer=tf.keras.optimizers.Adam(lr=0.001))\n",
    "\n",
    "    return model\n",
    "  \n",
    "  def trade(self, state):\n",
    "    \"\"\"Determine if action should be random or from the model and trade.\n",
    "    \n",
    "    :param state: \n",
    "    :return: \n",
    "    \"\"\"\n",
    "    # if the random number is less than the epsilon value, act randomly\n",
    "    if random.random() <= self.epsilon:\n",
    "      return random.randrange(self.action_space)\n",
    "\n",
    "    # make a prediction given a state argument\n",
    "    actions = self.model.predict(state)\n",
    "    return np.argmax(actions[0])\n",
    "\n",
    "  def batch_trade(self, batch_size):\n",
    "    \"\"\"Loop through and execute all trades in a batch.\n",
    "\n",
    "    :param batch_size: the number of trades to make\n",
    "    \"\"\"\n",
    "    batch = []\n",
    "\n",
    "    # iterate through deque memory\n",
    "    for i in range(len(self.memory) - batch_size + 1, len(self.memory)):\n",
    "      # append value from the end\n",
    "      batch.append(self.memory[i])\n",
    "    \n",
    "    # train the model\n",
    "    for state, action, reward, next_state, done in batch:\n",
    "      # state, action, reward, next_state, done\n",
    "      reward = reward\n",
    "\n",
    "      # terminal (done) state?\n",
    "      if not done:\n",
    "        # calculate reward\n",
    "        reward = reward + self.gamma * np.amax(self.model.predict(next_state)[0])\n",
    "      \n",
    "      # set a target variable\n",
    "      target = self.model.predict(state)\n",
    "\n",
    "      target[0][action] = reward\n",
    "\n",
    "      # fit the model now that we have target and state\n",
    "      self.model.fit(state,target,epochs=1,verbose=0)\n",
    "\n",
    "    # decrease epsilon by epsilon_decay value\n",
    "    if self.epsilon > self.epsilon_final:\n",
    "      self.epsilon *= self.epsilon_decay\n"
   ]
  },
  {
   "cell_type": "code",
   "execution_count": 11,
   "metadata": {
    "colab": {
     "base_uri": "https://localhost:8080/",
     "height": 131
    },
    "colab_type": "code",
    "id": "YHf23B5RoTKu",
    "outputId": "d2b8fc6f-f8b5-499a-c2ad-9aac47e6eb30",
    "pycharm": {
     "is_executing": true
    }
   },
   "outputs": [
    {
     "data": {
      "text/plain": [
       "Date\n",
       "2018-11-23    19.049999\n",
       "2018-11-26    20.280001\n",
       "2018-11-27    19.870001\n",
       "2018-11-28    20.809999\n",
       "2018-11-29    20.129999\n",
       "Name: Close, dtype: float64"
      ]
     },
     "execution_count": 11,
     "metadata": {},
     "output_type": "execute_result"
    }
   ],
   "source": [
    "# ticker = \"AAPL\"\n",
    "data = load_dataset(ticker, backdate)\n",
    "# data = ticker_cluster[\"close\"]\n",
    "data.head()"
   ]
  },
  {
   "cell_type": "code",
   "execution_count": 15,
   "metadata": {
    "colab": {},
    "colab_type": "code",
    "id": "mQOf7uyszNUA",
    "pycharm": {
     "is_executing": true
    }
   },
   "outputs": [],
   "source": [
    "# Some hyperparameters to play with\n",
    "window_size = 10\n",
    "episodes = 100\n",
    "batch_size = 32\n",
    "data_samples = len(data) - 1"
   ]
  },
  {
   "cell_type": "code",
   "execution_count": 16,
   "metadata": {
    "colab": {},
    "colab_type": "code",
    "id": "jwTNZ5XWzNgg",
    "pycharm": {
     "is_executing": true
    }
   },
   "outputs": [],
   "source": [
    "trader = Qtrader(window_size)"
   ]
  },
  {
   "cell_type": "code",
   "execution_count": 17,
   "metadata": {
    "colab": {
     "base_uri": "https://localhost:8080/",
     "height": 277
    },
    "colab_type": "code",
    "id": "FGgFKMrJzNjE",
    "outputId": "b337f784-6b7b-48b0-9c24-74d64528c518",
    "pycharm": {
     "is_executing": true
    }
   },
   "outputs": [
    {
     "name": "stdout",
     "output_type": "stream",
     "text": [
      "Model: \"sequential_1\"\n",
      "_________________________________________________________________\n",
      "Layer (type)                 Output Shape              Param #   \n",
      "=================================================================\n",
      "dense_4 (Dense)              (None, 32)                352       \n",
      "_________________________________________________________________\n",
      "dense_5 (Dense)              (None, 64)                2112      \n",
      "_________________________________________________________________\n",
      "dense_6 (Dense)              (None, 128)               8320      \n",
      "_________________________________________________________________\n",
      "dense_7 (Dense)              (None, 3)                 387       \n",
      "=================================================================\n",
      "Total params: 11,171\n",
      "Trainable params: 11,171\n",
      "Non-trainable params: 0\n",
      "_________________________________________________________________\n"
     ]
    }
   ],
   "source": [
    "trader.model.summary()"
   ]
  },
  {
   "cell_type": "code",
   "execution_count": 18,
   "metadata": {
    "colab": {},
    "colab_type": "code",
    "id": "lIEuhTTDzNnn",
    "pycharm": {
     "is_executing": true
    }
   },
   "outputs": [],
   "source": [
    "def run():\n",
    "  # do the thang\n",
    "  for episode in range(episodes + 1):\n",
    "    print(\"Episode\\t {}/{}\".format(episode, episodes))\n",
    "    state = create_state(data, 0, window_size+1)\n",
    "    total_profit = 0\n",
    "    trader.inventory = []\n",
    "    for t in tqdm(range(data_samples)):\n",
    "      action = trader.trade(state)\n",
    "      next_state = create_state(data, t+1, window_size+1)\n",
    "      reward = 0\n",
    "\n",
    "      if action == 1:     # buy\n",
    "        trader.inventory.append(data[t])\n",
    "      \n",
    "      elif action == 2 and len(trader.inventory) > 0:   # sell\n",
    "        buy_price = trader.inventory.pop(0)\n",
    "        reward = max(data[t] - buy_price, 0)\n",
    "        total_profit += data[t] - buy_price\n",
    "\n",
    "      if t == data_samples - 1:\n",
    "        done = True\n",
    "      else:\n",
    "        done = False\n",
    "\n",
    "      trader.memory.append([state, action, reward, next_state, done])\n",
    "      state = next_state\n",
    "\n",
    "      if done:\n",
    "        print(\"Total profit:\\t\".ljust(10), str(total_profit))\n",
    "      \n",
    "      if len(trader.memory) > batch_size:\n",
    "        trader.batch_trade(batch_size)\n",
    "    if episode %10 == 0:\n",
    "      trader.model.save(\"Qtrader_{}.h5\".format(episode))"
   ]
  },
  {
   "cell_type": "code",
   "execution_count": 1,
   "metadata": {
    "colab": {
     "base_uri": "https://localhost:8080/",
     "height": 328
    },
    "colab_type": "code",
    "id": "DlETxqsW9yAA",
    "outputId": "0d8189a5-1c8f-4a23-a6a4-62c7a8f14ed8",
    "pycharm": {
     "is_executing": true
    }
   },
   "outputs": [
    {
     "name": "stderr",
     "output_type": "stream",
     "text": [
      "ERROR:root:File `'().py'` not found.\n"
     ]
    }
   ],
   "source": [
    "run()"
   ]
  },
  {
   "cell_type": "code",
   "execution_count": null,
   "metadata": {
    "pycharm": {
     "is_executing": true
    }
   },
   "outputs": [],
   "source": []
  }
 ],
 "metadata": {
  "accelerator": "GPU",
  "colab": {
   "collapsed_sections": [],
   "machine_shape": "hm",
   "name": "qtrader.ipynb",
   "provenance": []
  },
  "kernelspec": {
   "display_name": "Python 3",
   "language": "python",
   "name": "python3"
  },
  "language_info": {
   "codemirror_mode": {
    "name": "ipython",
    "version": 3
   },
   "file_extension": ".py",
   "mimetype": "text/x-python",
   "name": "python",
   "nbconvert_exporter": "python",
   "pygments_lexer": "ipython3",
   "version": "3.7.5"
  },
  "pycharm": {
   "stem_cell": {
    "cell_type": "raw",
    "metadata": {
     "collapsed": false
    },
    "source": []
   }
  }
 },
 "nbformat": 4,
 "nbformat_minor": 1
}
